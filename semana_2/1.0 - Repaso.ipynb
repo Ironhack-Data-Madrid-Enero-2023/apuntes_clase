{
 "cells": [
  {
   "cell_type": "markdown",
   "id": "c0857a3f",
   "metadata": {},
   "source": [
    "# 1.0 - Repaso"
   ]
  },
  {
   "cell_type": "markdown",
   "id": "c56ec37b",
   "metadata": {},
   "source": [
    "### 1. ¿Por qué el -1 en las longitudes?"
   ]
  },
  {
   "cell_type": "code",
   "execution_count": 1,
   "id": "72cad521",
   "metadata": {},
   "outputs": [
    {
     "data": {
      "text/plain": [
       "[10, 9, 8, 7, 6]"
      ]
     },
     "execution_count": 1,
     "metadata": {},
     "output_type": "execute_result"
    }
   ],
   "source": [
    "lst = [10, 9, 8, 7, 6]\n",
    "\n",
    "lst"
   ]
  },
  {
   "cell_type": "code",
   "execution_count": 2,
   "id": "1876a90c",
   "metadata": {},
   "outputs": [
    {
     "data": {
      "text/plain": [
       "5"
      ]
     },
     "execution_count": 2,
     "metadata": {},
     "output_type": "execute_result"
    }
   ],
   "source": [
    "len(lst)"
   ]
  },
  {
   "cell_type": "code",
   "execution_count": 3,
   "id": "99b6dcb1",
   "metadata": {},
   "outputs": [
    {
     "ename": "IndexError",
     "evalue": "list index out of range",
     "output_type": "error",
     "traceback": [
      "\u001b[0;31m---------------------------------------------------------------------------\u001b[0m",
      "\u001b[0;31mIndexError\u001b[0m                                Traceback (most recent call last)",
      "Cell \u001b[0;32mIn[3], line 1\u001b[0m\n\u001b[0;32m----> 1\u001b[0m \u001b[43mlst\u001b[49m\u001b[43m[\u001b[49m\u001b[38;5;28;43mlen\u001b[39;49m\u001b[43m(\u001b[49m\u001b[43mlst\u001b[49m\u001b[43m)\u001b[49m\u001b[43m]\u001b[49m\n",
      "\u001b[0;31mIndexError\u001b[0m: list index out of range"
     ]
    }
   ],
   "source": [
    "lst[len(lst)]   # esta es la razon del -1, los indices empiezan en 0"
   ]
  },
  {
   "cell_type": "code",
   "execution_count": 7,
   "id": "1112ec54",
   "metadata": {},
   "outputs": [
    {
     "data": {
      "text/plain": [
       "6"
      ]
     },
     "execution_count": 7,
     "metadata": {},
     "output_type": "execute_result"
    }
   ],
   "source": [
    "lst[len(lst) - 1]"
   ]
  },
  {
   "cell_type": "code",
   "execution_count": 19,
   "id": "8ddc467f",
   "metadata": {},
   "outputs": [
    {
     "data": {
      "text/plain": [
       "10"
      ]
     },
     "execution_count": 19,
     "metadata": {},
     "output_type": "execute_result"
    }
   ],
   "source": [
    "lst[-len(lst)]"
   ]
  },
  {
   "cell_type": "code",
   "execution_count": 15,
   "id": "7cef4781",
   "metadata": {},
   "outputs": [
    {
     "data": {
      "text/plain": [
       "-5"
      ]
     },
     "execution_count": 15,
     "metadata": {},
     "output_type": "execute_result"
    }
   ],
   "source": [
    "-len(lst)"
   ]
  },
  {
   "cell_type": "code",
   "execution_count": 18,
   "id": "b3fbc5b5",
   "metadata": {},
   "outputs": [
    {
     "data": {
      "text/plain": [
       "10"
      ]
     },
     "execution_count": 18,
     "metadata": {},
     "output_type": "execute_result"
    }
   ],
   "source": [
    "lst[-5]"
   ]
  },
  {
   "cell_type": "code",
   "execution_count": 23,
   "id": "95f2f8d6",
   "metadata": {},
   "outputs": [
    {
     "name": "stdout",
     "output_type": "stream",
     "text": [
      "0\n",
      "1\n",
      "2\n",
      "3\n"
     ]
    }
   ],
   "source": [
    "for i in range(0, len(lst)-1, 1):\n",
    "    print(i)"
   ]
  },
  {
   "cell_type": "markdown",
   "id": "78a07f29",
   "metadata": {},
   "source": [
    "### 2. Diccionarios"
   ]
  },
  {
   "cell_type": "code",
   "execution_count": 24,
   "id": "d3320861",
   "metadata": {},
   "outputs": [
    {
     "data": {
      "text/plain": [
       "[1, 2, 3, 4]"
      ]
     },
     "execution_count": 24,
     "metadata": {},
     "output_type": "execute_result"
    }
   ],
   "source": [
    "lst = [1, 2, 3, 4]\n",
    "\n",
    "lst"
   ]
  },
  {
   "cell_type": "code",
   "execution_count": 25,
   "id": "51fffb0c",
   "metadata": {},
   "outputs": [
    {
     "data": {
      "text/plain": [
       "1"
      ]
     },
     "execution_count": 25,
     "metadata": {},
     "output_type": "execute_result"
    }
   ],
   "source": [
    "lst[0]"
   ]
  },
  {
   "cell_type": "code",
   "execution_count": 28,
   "id": "ae33503b",
   "metadata": {},
   "outputs": [
    {
     "data": {
      "text/plain": [
       "{'clave': 'valor',\n",
       " 'key': 'value',\n",
       " 1: True,\n",
       " 'data': [4, 5, 6, 7],\n",
       " 'd': {'hola': 'adios'}}"
      ]
     },
     "execution_count": 28,
     "metadata": {},
     "output_type": "execute_result"
    }
   ],
   "source": [
    "dictio = {'clave': 'valor', \n",
    "          'key': 'value', \n",
    "          1: True, \n",
    "          'data': [4, 5, 6, 7], \n",
    "          'd': {'hola': 'adios'}}\n",
    "\n",
    "dictio"
   ]
  },
  {
   "cell_type": "code",
   "execution_count": 29,
   "id": "87bffb67",
   "metadata": {},
   "outputs": [
    {
     "ename": "KeyError",
     "evalue": "0",
     "output_type": "error",
     "traceback": [
      "\u001b[0;31m---------------------------------------------------------------------------\u001b[0m",
      "\u001b[0;31mKeyError\u001b[0m                                  Traceback (most recent call last)",
      "Cell \u001b[0;32mIn[29], line 1\u001b[0m\n\u001b[0;32m----> 1\u001b[0m \u001b[43mdictio\u001b[49m\u001b[43m[\u001b[49m\u001b[38;5;241;43m0\u001b[39;49m\u001b[43m]\u001b[49m\n",
      "\u001b[0;31mKeyError\u001b[0m: 0"
     ]
    }
   ],
   "source": [
    "dictio[0]"
   ]
  },
  {
   "cell_type": "code",
   "execution_count": 30,
   "id": "743e992c",
   "metadata": {},
   "outputs": [
    {
     "data": {
      "text/plain": [
       "True"
      ]
     },
     "execution_count": 30,
     "metadata": {},
     "output_type": "execute_result"
    }
   ],
   "source": [
    "dictio[1]"
   ]
  },
  {
   "cell_type": "code",
   "execution_count": 33,
   "id": "8e531e0d",
   "metadata": {},
   "outputs": [
    {
     "name": "stdout",
     "output_type": "stream",
     "text": [
      "None\n"
     ]
    }
   ],
   "source": [
    "print(dictio.get(0))"
   ]
  },
  {
   "cell_type": "code",
   "execution_count": 34,
   "id": "a7c5c8d6",
   "metadata": {},
   "outputs": [
    {
     "data": {
      "text/plain": [
       "'hola'"
      ]
     },
     "execution_count": 34,
     "metadata": {},
     "output_type": "execute_result"
    }
   ],
   "source": [
    "dictio.get(0, 'hola')   # dictio.get('key', 'valor_por defecto_si_la_key_no_existe')"
   ]
  },
  {
   "cell_type": "code",
   "execution_count": 36,
   "id": "84e863be",
   "metadata": {},
   "outputs": [
    {
     "data": {
      "text/plain": [
       "'hola'"
      ]
     },
     "execution_count": 36,
     "metadata": {},
     "output_type": "execute_result"
    }
   ],
   "source": [
    "dictio.get(100, 'hola')"
   ]
  },
  {
   "cell_type": "code",
   "execution_count": 38,
   "id": "ff5b4061",
   "metadata": {},
   "outputs": [
    {
     "name": "stdout",
     "output_type": "stream",
     "text": [
      "hola\n"
     ]
    }
   ],
   "source": [
    "var=dictio.get(100, 'hola')\n",
    "\n",
    "print(var)"
   ]
  },
  {
   "cell_type": "code",
   "execution_count": 39,
   "id": "cc9bf90e",
   "metadata": {},
   "outputs": [
    {
     "data": {
      "text/plain": [
       "{'clave': 'valor',\n",
       " 'key': 'value',\n",
       " 1: True,\n",
       " 'data': [4, 5, 6, 7],\n",
       " 'd': {'hola': 'adios'}}"
      ]
     },
     "execution_count": 39,
     "metadata": {},
     "output_type": "execute_result"
    }
   ],
   "source": [
    "dictio"
   ]
  },
  {
   "cell_type": "code",
   "execution_count": 43,
   "id": "cebdaad4",
   "metadata": {},
   "outputs": [
    {
     "data": {
      "text/plain": [
       "'valor'"
      ]
     },
     "execution_count": 43,
     "metadata": {},
     "output_type": "execute_result"
    }
   ],
   "source": [
    "dictio.get('clave', 1000)"
   ]
  },
  {
   "cell_type": "code",
   "execution_count": 42,
   "id": "6ef84ccf",
   "metadata": {},
   "outputs": [
    {
     "data": {
      "text/plain": [
       "1000"
      ]
     },
     "execution_count": 42,
     "metadata": {},
     "output_type": "execute_result"
    }
   ],
   "source": [
    "dictio.get('clave2', 1000)"
   ]
  },
  {
   "cell_type": "code",
   "execution_count": 44,
   "id": "475450a4",
   "metadata": {},
   "outputs": [
    {
     "name": "stdout",
     "output_type": "stream",
     "text": [
      "clave\n",
      "key\n",
      "1\n",
      "data\n",
      "d\n"
     ]
    }
   ],
   "source": [
    "for e in dictio:\n",
    "    print(e)"
   ]
  },
  {
   "cell_type": "code",
   "execution_count": 45,
   "id": "ffcbbc58",
   "metadata": {},
   "outputs": [
    {
     "name": "stdout",
     "output_type": "stream",
     "text": [
      "clave\n",
      "key\n",
      "1\n",
      "data\n",
      "d\n"
     ]
    }
   ],
   "source": [
    "for e in dictio.keys():\n",
    "    print(e)"
   ]
  },
  {
   "cell_type": "code",
   "execution_count": 46,
   "id": "6c6ca03d",
   "metadata": {},
   "outputs": [
    {
     "name": "stdout",
     "output_type": "stream",
     "text": [
      "Clave: clave\n",
      "Valor:  valor\n",
      "Clave: key\n",
      "Valor:  value\n",
      "Clave: 1\n",
      "Valor:  True\n",
      "Clave: data\n",
      "Valor:  [4, 5, 6, 7]\n",
      "Clave: d\n",
      "Valor:  {'hola': 'adios'}\n"
     ]
    }
   ],
   "source": [
    "for k,v in dictio.items():\n",
    "    print('Clave:', k)\n",
    "    print('Valor: ', v)"
   ]
  },
  {
   "cell_type": "code",
   "execution_count": 47,
   "id": "ddbcece5",
   "metadata": {},
   "outputs": [
    {
     "name": "stdout",
     "output_type": "stream",
     "text": [
      "Clave: key\n",
      "Valor:  value\n"
     ]
    }
   ],
   "source": [
    "for k,v in dictio.items():\n",
    "    \n",
    "    if v=='value':\n",
    "        print('Clave:', k)\n",
    "        print('Valor: ', v)"
   ]
  },
  {
   "cell_type": "code",
   "execution_count": 48,
   "id": "2f54ec99",
   "metadata": {},
   "outputs": [],
   "source": [
    "dictio['key2']='value'"
   ]
  },
  {
   "cell_type": "code",
   "execution_count": 49,
   "id": "39d0be82",
   "metadata": {},
   "outputs": [
    {
     "data": {
      "text/plain": [
       "{'clave': 'valor',\n",
       " 'key': 'value',\n",
       " 1: True,\n",
       " 'data': [4, 5, 6, 7],\n",
       " 'd': {'hola': 'adios'},\n",
       " 'key2': 'value'}"
      ]
     },
     "execution_count": 49,
     "metadata": {},
     "output_type": "execute_result"
    }
   ],
   "source": [
    "dictio"
   ]
  },
  {
   "cell_type": "code",
   "execution_count": 50,
   "id": "41a2fbd9",
   "metadata": {},
   "outputs": [
    {
     "name": "stdout",
     "output_type": "stream",
     "text": [
      "Clave: key\n",
      "Valor:  value\n",
      "Clave: key2\n",
      "Valor:  value\n"
     ]
    }
   ],
   "source": [
    "for k,v in dictio.items():\n",
    "    \n",
    "    if v=='value':\n",
    "        print('Clave:', k)\n",
    "        print('Valor: ', v)"
   ]
  },
  {
   "cell_type": "markdown",
   "id": "1077c8b7",
   "metadata": {},
   "source": [
    "### 3. Dicts desde listas"
   ]
  },
  {
   "cell_type": "code",
   "execution_count": 51,
   "id": "1f79f3f9",
   "metadata": {},
   "outputs": [
    {
     "data": {
      "text/plain": [
       "dict_items([('clave', 'valor'), ('key', 'value'), (1, True), ('data', [4, 5, 6, 7]), ('d', {'hola': 'adios'}), ('key2', 'value')])"
      ]
     },
     "execution_count": 51,
     "metadata": {},
     "output_type": "execute_result"
    }
   ],
   "source": [
    "dictio.items()"
   ]
  },
  {
   "cell_type": "code",
   "execution_count": 52,
   "id": "79d2fb97",
   "metadata": {},
   "outputs": [],
   "source": [
    "lst_keys = ['a', 'b', 'c']\n",
    "\n",
    "lst_values = [1, 2, 3, 4]"
   ]
  },
  {
   "cell_type": "code",
   "execution_count": 54,
   "id": "4fc3eca1",
   "metadata": {},
   "outputs": [
    {
     "data": {
      "text/plain": [
       "[('a', 1), ('b', 2), ('c', 3)]"
      ]
     },
     "execution_count": 54,
     "metadata": {},
     "output_type": "execute_result"
    }
   ],
   "source": [
    "list(zip(lst_keys, lst_values))"
   ]
  },
  {
   "cell_type": "code",
   "execution_count": 55,
   "id": "6f8e0da9",
   "metadata": {},
   "outputs": [
    {
     "data": {
      "text/plain": [
       "{'a': 1, 'b': 2, 'c': 3}"
      ]
     },
     "execution_count": 55,
     "metadata": {},
     "output_type": "execute_result"
    }
   ],
   "source": [
    "dict(zip(lst_keys, lst_values))"
   ]
  },
  {
   "cell_type": "code",
   "execution_count": 57,
   "id": "ec5bb4da",
   "metadata": {},
   "outputs": [
    {
     "data": {
      "text/plain": [
       "['clave',\n",
       " 'valor',\n",
       " 'key',\n",
       " 'value',\n",
       " 1,\n",
       " True,\n",
       " 'data',\n",
       " [4, 5, 6, 7],\n",
       " 'd',\n",
       " {'hola': 'adios'},\n",
       " 'key2',\n",
       " 'value']"
      ]
     },
     "execution_count": 57,
     "metadata": {},
     "output_type": "execute_result"
    }
   ],
   "source": [
    "res=[]\n",
    "\n",
    "for k,v in dictio.items():\n",
    "    res.append(k)\n",
    "    res.append(v)\n",
    "    \n",
    "res"
   ]
  },
  {
   "cell_type": "code",
   "execution_count": 59,
   "id": "3fd5a4c6",
   "metadata": {},
   "outputs": [
    {
     "name": "stdout",
     "output_type": "stream",
     "text": [
      "A:  a\n",
      "B:  1\n",
      "A:  b\n",
      "B:  2\n",
      "A:  c\n",
      "B:  3\n"
     ]
    }
   ],
   "source": [
    "for a,b in list(zip(lst_keys, lst_values)):\n",
    "    \n",
    "    print('A: ', a)\n",
    "    print('B: ', b)"
   ]
  },
  {
   "cell_type": "code",
   "execution_count": 60,
   "id": "1279f9db",
   "metadata": {},
   "outputs": [
    {
     "name": "stdout",
     "output_type": "stream",
     "text": [
      "A:  a\n",
      "B:  1\n",
      "C:  True\n",
      "A:  b\n",
      "B:  2\n",
      "C:  False\n",
      "A:  c\n",
      "B:  3\n",
      "C:  True\n"
     ]
    }
   ],
   "source": [
    "lst_1 = ['a', 'b', 'c']\n",
    "\n",
    "lst_2 = [1, 2, 3]\n",
    "\n",
    "lst_3 = [True, False, True]\n",
    "\n",
    "\n",
    "for a,b,c in list(zip(lst_1, lst_2, lst_3)):\n",
    "    \n",
    "    print('A: ', a)\n",
    "    print('B: ', b)\n",
    "    print('C: ', c)"
   ]
  },
  {
   "cell_type": "code",
   "execution_count": 66,
   "id": "9ed35d1b",
   "metadata": {},
   "outputs": [
    {
     "data": {
      "text/plain": [
       "[('a', 1, True), ('b', 2, False), ('c', 3, True)]"
      ]
     },
     "execution_count": 66,
     "metadata": {},
     "output_type": "execute_result"
    }
   ],
   "source": [
    "list(zip(lst_1, lst_2, lst_3))"
   ]
  },
  {
   "cell_type": "code",
   "execution_count": 65,
   "id": "025dbaf6",
   "metadata": {},
   "outputs": [
    {
     "ename": "ValueError",
     "evalue": "not enough values to unpack (expected 3, got 2)",
     "output_type": "error",
     "traceback": [
      "\u001b[0;31m---------------------------------------------------------------------------\u001b[0m",
      "\u001b[0;31mValueError\u001b[0m                                Traceback (most recent call last)",
      "Cell \u001b[0;32mIn[65], line 1\u001b[0m\n\u001b[0;32m----> 1\u001b[0m a, b, c \u001b[38;5;241m=\u001b[39m \u001b[38;5;241m10\u001b[39m, \u001b[38;5;241m200\u001b[39m\n\u001b[1;32m      3\u001b[0m a\n",
      "\u001b[0;31mValueError\u001b[0m: not enough values to unpack (expected 3, got 2)"
     ]
    }
   ],
   "source": [
    "a, b, c = 10, 200\n",
    "\n",
    "a"
   ]
  },
  {
   "cell_type": "code",
   "execution_count": 62,
   "id": "fe65440e",
   "metadata": {},
   "outputs": [
    {
     "data": {
      "text/plain": [
       "200"
      ]
     },
     "execution_count": 62,
     "metadata": {},
     "output_type": "execute_result"
    }
   ],
   "source": [
    "b"
   ]
  },
  {
   "cell_type": "code",
   "execution_count": 67,
   "id": "6a680081",
   "metadata": {},
   "outputs": [
    {
     "data": {
      "text/plain": [
       "500"
      ]
     },
     "execution_count": 67,
     "metadata": {},
     "output_type": "execute_result"
    }
   ],
   "source": [
    "c"
   ]
  },
  {
   "cell_type": "markdown",
   "id": "d28e5162",
   "metadata": {},
   "source": [
    "### 5. bag of words"
   ]
  },
  {
   "cell_type": "code",
   "execution_count": 68,
   "id": "5cf11dc2",
   "metadata": {},
   "outputs": [
    {
     "data": {
      "text/plain": [
       "['ironhack is cool', 'i love ironhack', 'i am a student at ironhack']"
      ]
     },
     "execution_count": 68,
     "metadata": {},
     "output_type": "execute_result"
    }
   ],
   "source": [
    "corpus=['ironhack is cool', 'i love ironhack', 'i am a student at ironhack']\n",
    "\n",
    "corpus"
   ]
  },
  {
   "cell_type": "code",
   "execution_count": 69,
   "id": "f7dcef29",
   "metadata": {},
   "outputs": [],
   "source": [
    "bag_of_words = []\n",
    "\n",
    "# Write your code here\n",
    "for e in corpus:\n",
    "    f=e.split(' ')\n",
    "    for g in f:\n",
    "        if g not in bag_of_words : bag_of_words.append(g)"
   ]
  },
  {
   "cell_type": "code",
   "execution_count": 70,
   "id": "34580448",
   "metadata": {},
   "outputs": [
    {
     "data": {
      "text/plain": [
       "['ironhack', 'is', 'cool', 'i', 'love', 'am', 'a', 'student', 'at']"
      ]
     },
     "execution_count": 70,
     "metadata": {},
     "output_type": "execute_result"
    }
   ],
   "source": [
    "bag_of_words"
   ]
  },
  {
   "cell_type": "code",
   "execution_count": 73,
   "id": "ac8e7f43",
   "metadata": {},
   "outputs": [
    {
     "data": {
      "text/plain": [
       "['ironhack is cool', 'i love ironhack', 'i am a student at ironhack']"
      ]
     },
     "execution_count": 73,
     "metadata": {},
     "output_type": "execute_result"
    }
   ],
   "source": [
    "corpus"
   ]
  },
  {
   "cell_type": "code",
   "execution_count": 74,
   "id": "04dc7a2a",
   "metadata": {},
   "outputs": [
    {
     "name": "stdout",
     "output_type": "stream",
     "text": [
      "['ironhack', 'is', 'cool']\n",
      "['i', 'love', 'ironhack']\n",
      "['i', 'am', 'a', 'student', 'at', 'ironhack']\n"
     ]
    }
   ],
   "source": [
    "term_freq = []\n",
    "\n",
    "# Write your code here\n",
    "for e in corpus:    # para cada frase\n",
    "    lista=[]\n",
    "    e=e.split()\n",
    "    print(e)\n",
    "    for f in bag_of_words:  # para cada palabra\n",
    "        \n",
    "        if f in e:\n",
    "            lista.append(1)\n",
    "        else:\n",
    "            lista.append(0)\n",
    "            \n",
    "    term_freq.append(lista)"
   ]
  },
  {
   "cell_type": "code",
   "execution_count": 72,
   "id": "c600f6f5",
   "metadata": {},
   "outputs": [
    {
     "data": {
      "text/plain": [
       "[[1, 1, 1, 0, 0, 0, 0, 0, 0],\n",
       " [1, 0, 0, 1, 1, 0, 0, 0, 0],\n",
       " [1, 0, 0, 1, 0, 1, 1, 1, 1]]"
      ]
     },
     "execution_count": 72,
     "metadata": {},
     "output_type": "execute_result"
    }
   ],
   "source": [
    "term_freq"
   ]
  },
  {
   "cell_type": "code",
   "execution_count": 75,
   "id": "fed0ee7b",
   "metadata": {},
   "outputs": [
    {
     "data": {
      "text/plain": [
       "True"
      ]
     },
     "execution_count": 75,
     "metadata": {},
     "output_type": "execute_result"
    }
   ],
   "source": [
    "'a' in 'ironhack'"
   ]
  },
  {
   "cell_type": "code",
   "execution_count": 76,
   "id": "10fb1b04",
   "metadata": {},
   "outputs": [
    {
     "data": {
      "text/plain": [
       "False"
      ]
     },
     "execution_count": 76,
     "metadata": {},
     "output_type": "execute_result"
    }
   ],
   "source": [
    "'a' in ['ironhack', 'hola']"
   ]
  },
  {
   "cell_type": "code",
   "execution_count": 78,
   "id": "41ab52f2",
   "metadata": {},
   "outputs": [
    {
     "data": {
      "text/plain": [
       "[[1, 1, 1, 0, 0, 0, 0, 0, 0],\n",
       " [1, 0, 0, 1, 1, 0, 0, 0, 0],\n",
       " [1, 0, 0, 1, 0, 1, 1, 1, 1]]"
      ]
     },
     "execution_count": 78,
     "metadata": {},
     "output_type": "execute_result"
    }
   ],
   "source": [
    "term_freq = []\n",
    "\n",
    "# Write your code here\n",
    "for e in corpus:    # para cada frase\n",
    "    \n",
    "    lista=[]\n",
    "    e=e.split()\n",
    "\n",
    "    for f in bag_of_words:  # para cada palabra\n",
    "        \n",
    "        if f not in e:\n",
    "            lista.append(0)\n",
    "        else:\n",
    "            lista.append(1)\n",
    "            \n",
    "    term_freq.append(lista)\n",
    "    \n",
    "    \n",
    "term_freq"
   ]
  },
  {
   "cell_type": "code",
   "execution_count": 77,
   "id": "669372cc",
   "metadata": {},
   "outputs": [
    {
     "data": {
      "text/plain": [
       "[1, 0, 0, 1, 0, 1, 1, 1, 1]"
      ]
     },
     "execution_count": 77,
     "metadata": {},
     "output_type": "execute_result"
    }
   ],
   "source": [
    "lista=[1 if f in e else 0 for f in bag_of_words]\n",
    "\n",
    "lista"
   ]
  },
  {
   "cell_type": "markdown",
   "id": "ad06b784",
   "metadata": {},
   "source": [
    "### 6. bucle While"
   ]
  },
  {
   "cell_type": "code",
   "execution_count": 80,
   "id": "dcdf3e73",
   "metadata": {},
   "outputs": [
    {
     "name": "stdout",
     "output_type": "stream",
     "text": [
      "0\n",
      "1\n",
      "2\n",
      "3\n",
      "4\n",
      "5\n",
      "6\n",
      "7\n",
      "8\n",
      "9\n",
      "False, fuera del bucle while\n"
     ]
    }
   ],
   "source": [
    "# mientras verdad: \n",
    "\n",
    "\n",
    "contador=0\n",
    "\n",
    "while contador<10:\n",
    "    print(contador)\n",
    "    contador+=1\n",
    "    \n",
    "print('False, fuera del bucle while')"
   ]
  },
  {
   "cell_type": "code",
   "execution_count": 82,
   "id": "8b0ee6dd",
   "metadata": {},
   "outputs": [
    {
     "name": "stdout",
     "output_type": "stream",
     "text": [
      "0\n",
      "1\n",
      "2\n",
      "3\n",
      "4\n",
      "5\n",
      "6\n",
      "7\n",
      "8\n",
      "9\n",
      "10\n",
      "Acabe\n"
     ]
    }
   ],
   "source": [
    "contador=0\n",
    "\n",
    "\n",
    "while 1:  # bucle infinito\n",
    "    print(contador)\n",
    "    contador +=1\n",
    "    \n",
    "    if contador >10:\n",
    "        break\n",
    "        \n",
    "print('Acabe')"
   ]
  },
  {
   "cell_type": "code",
   "execution_count": null,
   "id": "12c5c662",
   "metadata": {},
   "outputs": [],
   "source": [
    "while 1:   # todo el rato escuchando\n",
    "    \n",
    "    input='mi palabra'\n",
    "    \n",
    "    if 'alexa' in input:\n",
    "        \n",
    "        while True:   # bucle para hacer la accion requerida\n",
    "            \n",
    "            hacer accion ....\n",
    "            accion realizada: break\n",
    "            \n",
    "    print('seguimos')"
   ]
  },
  {
   "cell_type": "markdown",
   "id": "aba79e4b",
   "metadata": {},
   "source": [
    "### 7. Try Except"
   ]
  },
  {
   "cell_type": "code",
   "execution_count": 105,
   "id": "161cf59e",
   "metadata": {},
   "outputs": [
    {
     "name": "stdout",
     "output_type": "stream",
     "text": [
      "10\n"
     ]
    }
   ],
   "source": [
    "a='hola'\n",
    "\n",
    "b=10\n",
    "\n",
    "if a!=0 and type(a)!=str:\n",
    "    print(b/a)\n",
    "    \n",
    "else:\n",
    "    print(b)"
   ]
  },
  {
   "cell_type": "code",
   "execution_count": 106,
   "id": "d2222f43",
   "metadata": {},
   "outputs": [
    {
     "name": "stdout",
     "output_type": "stream",
     "text": [
      "type error\n"
     ]
    },
    {
     "ename": "ValueError",
     "evalue": "invalid literal for int() with base 10: 'hola'",
     "output_type": "error",
     "traceback": [
      "\u001b[0;31m---------------------------------------------------------------------------\u001b[0m",
      "\u001b[0;31mTypeError\u001b[0m                                 Traceback (most recent call last)",
      "Cell \u001b[0;32mIn[106], line 2\u001b[0m\n\u001b[1;32m      1\u001b[0m \u001b[38;5;28;01mtry\u001b[39;00m:\n\u001b[0;32m----> 2\u001b[0m     \u001b[38;5;28mprint\u001b[39m(\u001b[43mb\u001b[49m\u001b[38;5;241;43m/\u001b[39;49m\u001b[43ma\u001b[49m)\n\u001b[1;32m      4\u001b[0m \u001b[38;5;28;01mexcept\u001b[39;00m \u001b[38;5;167;01mZeroDivisionError\u001b[39;00m:\n",
      "\u001b[0;31mTypeError\u001b[0m: unsupported operand type(s) for /: 'int' and 'str'",
      "\nDuring handling of the above exception, another exception occurred:\n",
      "\u001b[0;31mValueError\u001b[0m                                Traceback (most recent call last)",
      "Cell \u001b[0;32mIn[106], line 10\u001b[0m\n\u001b[1;32m      8\u001b[0m \u001b[38;5;28;01mexcept\u001b[39;00m \u001b[38;5;167;01mTypeError\u001b[39;00m:\n\u001b[1;32m      9\u001b[0m     \u001b[38;5;28mprint\u001b[39m(\u001b[38;5;124m'\u001b[39m\u001b[38;5;124mtype error\u001b[39m\u001b[38;5;124m'\u001b[39m)\n\u001b[0;32m---> 10\u001b[0m     a\u001b[38;5;241m=\u001b[39m\u001b[38;5;28;43mint\u001b[39;49m\u001b[43m(\u001b[49m\u001b[43ma\u001b[49m\u001b[43m)\u001b[49m\n\u001b[1;32m     11\u001b[0m     \u001b[38;5;28mprint\u001b[39m(b\u001b[38;5;241m/\u001b[39ma)\n",
      "\u001b[0;31mValueError\u001b[0m: invalid literal for int() with base 10: 'hola'"
     ]
    }
   ],
   "source": [
    "try:\n",
    "    print(b/a)\n",
    "    \n",
    "except ZeroDivisionError:\n",
    "    print('zero error')\n",
    "    print(b)\n",
    "    \n",
    "except TypeError:\n",
    "    print('type error')\n",
    "    a=int(a)\n",
    "    print(b/a)"
   ]
  },
  {
   "cell_type": "markdown",
   "id": "81b1626e",
   "metadata": {},
   "source": [
    "### 8. One Liner"
   ]
  },
  {
   "cell_type": "code",
   "execution_count": 108,
   "id": "a583b38e",
   "metadata": {},
   "outputs": [
    {
     "data": {
      "text/plain": [
       "[0, 1, 2, 3, 4]"
      ]
     },
     "execution_count": 108,
     "metadata": {},
     "output_type": "execute_result"
    }
   ],
   "source": [
    "lst=[]\n",
    "\n",
    "for i in range(1000):\n",
    "    lst.append(i)\n",
    "    \n",
    "lst[:5]"
   ]
  },
  {
   "cell_type": "code",
   "execution_count": 109,
   "id": "46ce774a",
   "metadata": {},
   "outputs": [
    {
     "data": {
      "text/plain": [
       "1000"
      ]
     },
     "execution_count": 109,
     "metadata": {},
     "output_type": "execute_result"
    }
   ],
   "source": [
    "len(lst)"
   ]
  },
  {
   "cell_type": "code",
   "execution_count": 113,
   "id": "173a80b4",
   "metadata": {},
   "outputs": [
    {
     "data": {
      "text/plain": [
       "1000"
      ]
     },
     "execution_count": 113,
     "metadata": {},
     "output_type": "execute_result"
    }
   ],
   "source": [
    "lst=[x for x in range(1000)]\n",
    "\n",
    "len(lst)"
   ]
  },
  {
   "cell_type": "code",
   "execution_count": 115,
   "id": "fd7a52a2",
   "metadata": {},
   "outputs": [
    {
     "data": {
      "text/plain": [
       "[-10, -9, -6, -1, 6]"
      ]
     },
     "execution_count": 115,
     "metadata": {},
     "output_type": "execute_result"
    }
   ],
   "source": [
    "lst2=[e**2-10 for e in lst]\n",
    "\n",
    "lst2[:5]"
   ]
  },
  {
   "cell_type": "code",
   "execution_count": 117,
   "id": "afd7f417",
   "metadata": {},
   "outputs": [
    {
     "name": "stdout",
     "output_type": "stream",
     "text": [
      "[[0, 1, 2, 3, 4], [1, 2, 3, 4, 5], [2, 3, 4, 5, 6]]\n"
     ]
    }
   ],
   "source": [
    "resultado=[]\n",
    "\n",
    "for i in range(3):\n",
    "    \n",
    "    tmp=[]\n",
    "    \n",
    "    for j in range(5):\n",
    "        \n",
    "        tmp.append(j+i)\n",
    "        \n",
    "    resultado.append(tmp)\n",
    " \n",
    "\n",
    "print(resultado)"
   ]
  },
  {
   "cell_type": "code",
   "execution_count": 118,
   "id": "1f38c8b4",
   "metadata": {},
   "outputs": [
    {
     "data": {
      "text/plain": [
       "[[0, 1, 2, 3, 4], [1, 2, 3, 4, 5], [2, 3, 4, 5, 6]]"
      ]
     },
     "execution_count": 118,
     "metadata": {},
     "output_type": "execute_result"
    }
   ],
   "source": [
    "resultado=[[j+i for j in range(5)] for i in range(3)]\n",
    "\n",
    "resultado"
   ]
  },
  {
   "cell_type": "code",
   "execution_count": 121,
   "id": "4f4a7962",
   "metadata": {},
   "outputs": [
    {
     "name": "stdout",
     "output_type": "stream",
     "text": [
      "[['a', 1, 'a', 3, 'a'], ['a', 2, 'a', 4, 'a'], ['a', 3, 'a', 5, 'a']]\n"
     ]
    }
   ],
   "source": [
    "resultado=[]\n",
    "\n",
    "for i in range(3):\n",
    "    \n",
    "    tmp=[]\n",
    "    \n",
    "    for j in range(5):\n",
    "        \n",
    "        if j%2:\n",
    "            tmp.append(j+i)\n",
    "        else:\n",
    "            tmp.append('a')\n",
    "        \n",
    "    resultado.append(tmp)\n",
    " \n",
    "\n",
    "print(resultado)"
   ]
  },
  {
   "cell_type": "code",
   "execution_count": 122,
   "id": "0b99501f",
   "metadata": {},
   "outputs": [
    {
     "data": {
      "text/plain": [
       "[['a', 1, 'a', 3, 'a'], ['a', 2, 'a', 4, 'a'], ['a', 3, 'a', 5, 'a']]"
      ]
     },
     "execution_count": 122,
     "metadata": {},
     "output_type": "execute_result"
    }
   ],
   "source": [
    "resultado=[[j+i if j%2 else 'a' for j in range(5)] for i in range(3)]\n",
    "\n",
    "resultado"
   ]
  },
  {
   "cell_type": "code",
   "execution_count": 129,
   "id": "6d7235a4",
   "metadata": {},
   "outputs": [
    {
     "data": {
      "text/plain": [
       "9"
      ]
     },
     "execution_count": 129,
     "metadata": {},
     "output_type": "execute_result"
    }
   ],
   "source": [
    "b=9\n",
    "\n",
    "b"
   ]
  },
  {
   "cell_type": "code",
   "execution_count": 130,
   "id": "67dda2d7",
   "metadata": {},
   "outputs": [
    {
     "data": {
      "text/plain": [
       "0"
      ]
     },
     "execution_count": 130,
     "metadata": {},
     "output_type": "execute_result"
    }
   ],
   "source": [
    "variable = 0 if b%2 else 5\n",
    "\n",
    "variable"
   ]
  },
  {
   "cell_type": "code",
   "execution_count": null,
   "id": "3a79a31c",
   "metadata": {},
   "outputs": [],
   "source": []
  }
 ],
 "metadata": {
  "kernelspec": {
   "display_name": "clase",
   "language": "python",
   "name": "clase"
  },
  "language_info": {
   "codemirror_mode": {
    "name": "ipython",
    "version": 3
   },
   "file_extension": ".py",
   "mimetype": "text/x-python",
   "name": "python",
   "nbconvert_exporter": "python",
   "pygments_lexer": "ipython3",
   "version": "3.9.12"
  }
 },
 "nbformat": 4,
 "nbformat_minor": 5
}
