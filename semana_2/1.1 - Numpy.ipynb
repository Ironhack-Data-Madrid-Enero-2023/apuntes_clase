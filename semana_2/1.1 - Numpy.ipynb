{
 "cells": [
  {
   "cell_type": "markdown",
   "metadata": {},
   "source": [
    "# 1.1 - Numpy  (Numerical Python)\n",
    "\n",
    "**[Documentación](https://numpy.org/doc/stable/)**\n",
    "\n",
    "**[Código fuente](https://github.com/numpy/numpy)**\n",
    "\n",
    "\n",
    "![numpy](images/numpy.png)"
   ]
  },
  {
   "cell_type": "markdown",
   "metadata": {},
   "source": [
    "NumPy es el paquete fundamental para computación cientifíca en python. Es una librería de python nos permite manejar vectores, matrices, [tensores](https://es.wikipedia.org/wiki/C%C3%A1lculo_tensorial) (arrays multidimensionales) y además realizar todas las operaciones matemáticas y lógicas de los mismos, como la manipulación de la dimensión, ordenado, selección, I/O, operaciones estadísticas, transformadas de Fourier, simulación aleatoria y un largo etcétera. Constituye la herramienta de álgebra lineal."
   ]
  },
  {
   "cell_type": "markdown",
   "metadata": {},
   "source": [
    "## Recordatorio de álgebra\n",
    "\n",
    "+ Contenidos:\n",
    "\n",
    "    + Concepto de tensor\n",
    "    + Operaciones con vectores\n",
    "        + Concepto de espacio vectorial y base\n",
    "        + Suma de vectores\n",
    "        + Producto escalar\n",
    "        + Producto vectorial\n",
    "    + Operaciones con matrices\n",
    "        + Suma de matrices\n",
    "        + Producto matricial\n",
    "        + Matriz Identidad\n",
    "        + Matriz Traspuesta (Hermítica)\n",
    "        + Matriz Inversa \n",
    "        + Determinate"
   ]
  },
  {
   "cell_type": "markdown",
   "metadata": {},
   "source": [
    "### Tensor\n",
    "\n",
    "La palabra ['tensor'](https://es.wikipedia.org/wiki/C%C3%A1lculo_tensorial) se utiliza a menudo como abreviatura de campo tensorial, que es un valor tensorial definido en cada punto en una variedad. El primero en utilizar esta palabra fue William Rowan Hamilton en 1846, empleándola para lo que actualmente se conoce como módulo y fue Woldemar Voigt en 1899 quien la empleó en su acepción actual. La palabra tensor proviene del latín tensus, participio pasado de tendere 'estirar, extender'. El nombre se extendió porque la teoría de la elasticidad fue una de las primeras aplicaciones físicas donde se usaron tensores. Gregorio Ricci-Curbastro en 1890 desarrolló la notación actual con el nombre de geometría diferencial absoluta, y se popularizó con la publicación de Cálculo Diferencial Absoluto de Tullio Levi-Civita en 1900. Con la introducción de la teoría de la relatividad general por parte de Albert Einstein alrededor de 1915 se encontró su aplicación más pragmática. La Relatividad General es netamente tensorial. Einstein había aprendido del mismo Levi-Civita el uso de tensores con gran dificultad.\n",
    "\n",
    "Podemos pensar en un tensor como la generalización del ente algebraico. Con un ejemplo se verá más claro.\n",
    "\n",
    "Un **número**, cualquier número, $2$, $3.6$, $\\pi$, $\\phi$, $\\sqrt{2}$, es un **tensor de rango $0$**.\n",
    "\n",
    "Un **vector**, cualquier vector, sea como sea su longitud, $(1, 2, 3)$, $(0, 5, 2, 1, 5)$, $(9,2)$, es un **tensor de rango $1$**.\n",
    "\n",
    "Una **matriz**, cualquier matriz, sean cuales sean sus dimensiones, es un **tensor de rango $2$**.\n",
    "\n",
    "Un **cubo de Rubik** por ejemplo es un **tensor de rango $3$**.\n",
    "\n",
    "Pensar en dimensiones superiores es complicado por no decir imposible, pero se pueden interpretar a través del contenido. Una **bolsa llena de cubos de Rubik** es un **tensor de rango $4$**.\n",
    "\n",
    "Una **caja llena de bolsas que están llenas de cubos de Rubik es un tensor de rango $5$**.\n",
    "\n",
    "Y así sucesivamente."
   ]
  },
  {
   "cell_type": "markdown",
   "metadata": {},
   "source": [
    "### Operaciones con vectores\n",
    "\n",
    "**Espacio vectorial**\n",
    "\n",
    "La definición matemática de [espacio vectorial](https://es.wikipedia.org/wiki/Espacio_vectorial) implica los conceptos de conjunto, ley de composición(operación) interna y ley de composición externa, definida sobre un segundo conjunto. Resumiendo, un espacio vectorial es una estructura creada sobre un conjunto no vacío con ambas leyes de composición. A los elementos de un espacio vectorial se les llama vectores.\n",
    "\n",
    "Veamos un ejemplo:\n",
    "\n",
    "Un espacio vectorial es el espacio tridimensional ${\\Bbb R}^{3}$. Los elementos de ${\\Bbb R}^{3}$ son vectores, por lo que la ley de composición interna es la suma de vectores. Para la ley de composición externa se necesita otro conjunto, que en esta caso son los números reales ${\\Bbb R}$, y queda definida como el producto por escalares, multiplicar un vector por un número.\n",
    "\n",
    "\n",
    "\n",
    "**Base vectorial**\n",
    "\n",
    "Una [base](https://es.wikipedia.org/wiki/Base_(%C3%A1lgebra)) es un conjunto de vectores {$v_{1}, v_{2}, v_{3}, ... ,v_{n}$} que cumplen las siguientes propiedades:\n",
    "\n",
    "+ Todos los elementos de la base pertenecen al mismo espacio vectorial.\n",
    "+ Los elementos de la base forman un sistema linealmente independiente (ninguno es combinación lineal de los demás).\n",
    "+ Cualquier elemento del espacio vectorial se puede escribir como combinación lineal de los elementos de la base (es lo que se llama sistema generador del espacio vectorial).\n",
    "\n",
    "Ejemplo:\n",
    "\n",
    "En ${\\Bbb R}^{3}$, la base principal (llamada canónica) es {$(1,0,0), (0,1,0), (0,0,1)$}. Todos esos vectores pertenecen a ${\\Bbb R}^{3}$, son linealmente independientes(ninguno puede ser una suma de los otros) y cualquier otro vector en ${\\Bbb R}^{3}$ se puede representar como una suma de esos tres, una combinación lineal. No es única, otra base de ${\\Bbb R}^{3}$ podría ser {$(1,1,1), (1,1,0), (1,0,0)$}\n",
    "\n",
    "\n",
    "\n",
    "**Suma de vectores**\n",
    "\n",
    "Los vectores se suman por componentes, lo que implica que ambos tienen la misma longitud. Por ejemplo en ${\\Bbb R}^{3}$:\n",
    "\n",
    "$$\\vec{A}=A_{x}\\vec{i}+A_{y}\\vec{j}+A_{z}\\vec{k}$$\n",
    "\n",
    "$$\\vec{B}=B_{x}\\vec{i}+B_{y}\\vec{j}+B_{z}\\vec{k}$$\n",
    "\n",
    "$$\\vec{A}+\\vec{B}=(B_{x}+A_{x})\\vec{i}+(B_{y}+A_{y})\\vec{j}+(B_{z}+A_{z})\\vec{k}$$\n",
    "\n",
    "$$$$\n",
    "\n",
    "$$\\vec{A}=(1,8,9)$$\n",
    "\n",
    "$$\\vec{B}=(4,3,0)$$\n",
    "\n",
    "$$\\vec{A}+\\vec{B}=(5,11,9)$$\n",
    "\n",
    "\n",
    "\n",
    "**Producto escalar**\n",
    "\n",
    "Hay que diferenciar entre producto por escalares, un número por un vector resultando un vector, y el productor escalar donde se multiplican dos vectores resultando un número, un escalar.\n",
    "\n",
    "+ Producto por escalares:\n",
    "\n",
    "Se realiza elemento a elemento la multiplicación por el número:\n",
    "\n",
    "$$\\vec{A}=(1,8,9)$$\n",
    "\n",
    "$$2*\\vec{A}=(2,16,18)$$\n",
    "\n",
    "+ Productos escalar:\n",
    "\n",
    "Se realiza multiplicando elemento un vector fila por un vector columna y sumando los resultados. Hay que tener en cuenta, igual que en la suma, que ambos vectores tienen el mismo número de elementos. También se le llama producto punto (dot product) o producto interno (inner product).\n",
    "\n",
    "$$\\vec{A}\\cdot\\vec{B}=(1, 8, 9)\\cdot\\begin{pmatrix}4\\\\3\\\\0\\end{pmatrix} = 1·4+8·3+9·0 = 4+24+0 = 28$$\n",
    "\n",
    "\n",
    "\n",
    "**Producto vectorial**\n",
    "\n",
    "En este caso, se multiplican dos vectores resultando otro vector. La manera más fácil de hacerlo es a través de un determinante:\n",
    "\n",
    "\n",
    "$$\\vec{A}\\times \\vec{B} = \\begin{vmatrix}\n",
    "\\hat{\\imath}&\\hat{\\jmath}&\\hat{k}\\\\\n",
    "1 & 8 & 9 \\\\\n",
    "4 & 3 & 0\n",
    "\\end{vmatrix} = \\begin{vmatrix}\n",
    "8 & 9 \\\\\n",
    "3 & 0\n",
    "\\end{vmatrix}·\\hat{\\imath} - \n",
    "\\begin{vmatrix}\n",
    "1 & 9 \\\\\n",
    "4 & 0\n",
    "\\end{vmatrix}·\\hat{\\jmath} +\n",
    "\\begin{vmatrix}\n",
    "1 & 8 \\\\\n",
    "4 & 3\n",
    "\\end{vmatrix}·\\hat{k} = (8·0-9·3)·\\hat{\\imath}-(1·0-9·4)·\\hat{\\jmath}+(1·3-8·4)·\\hat{k}$$\n",
    "\n",
    "$$\\vec{A}\\times \\vec{B} = (-27, 36, -29)$$"
   ]
  },
  {
   "cell_type": "markdown",
   "metadata": {},
   "source": [
    "### Operaciones con matrices\n",
    "\n",
    "\n",
    "**Suma de matrices**\n",
    "\n",
    "Las matrices tienen definidas sus dimensiones sugún el número de filas($m$) y de columnas($n$), y se representan como $A_{mxn}$. Para sumar matrices las dimensiones tienen que ser las mismas, igual que ocurría con los vectores, y se realiza elemento a elemento (element wise):\n",
    "\n",
    "\n",
    "$$\\begin{pmatrix}\n",
    "5 & 7 & 1 \\\\\n",
    "4 & 0 & 2 \n",
    "\\end{pmatrix}+\\begin{pmatrix}\n",
    "0 & 0 & 3 \\\\\n",
    "2 & 2 & 7 \n",
    "\\end{pmatrix}=\\begin{pmatrix}\n",
    "5 & 7 & 4 \\\\\n",
    "6 & 2 & 9 \n",
    "\\end{pmatrix}$$\n",
    "\n",
    "\n",
    "\n",
    "**Producto matricial**\n",
    "\n",
    "Para multiplicar matrices tenemos que tener en cuenta las dimensiones, porque el producto matricial no es conmutativo e incluso a veces no se puede realizar. El número de columnas de la primera matriz tiene que ser igual que el número de filas de la segunda y el resultado tendrá el número de filas de la primera y el número de columnas de la segunda. Es decir:\n",
    "\n",
    "$$A_{rxn}\\cdot B_{nxq} = C_{rxq}$$\n",
    "\n",
    "\n",
    "$$\\begin{pmatrix}\n",
    "5 & 7 & 1 \\\\\n",
    "4 & 0 & 2 \n",
    "\\end{pmatrix}\\cdot\\begin{pmatrix}\n",
    "0 & 0 \\\\\n",
    "2 & 3 \\\\\n",
    "2 & 7 \n",
    "\\end{pmatrix}=\\begin{pmatrix}\n",
    "5·0+7·2+1·2 & 5·0+7·3+1·7 \\\\\n",
    "4·0+0·2+2·2 & 4·0+0·3+2·7\n",
    "\\end{pmatrix}=\\begin{pmatrix}\n",
    "18 & 28 \\\\\n",
    "4 & 14\n",
    "\\end{pmatrix}$$\n",
    "\n",
    "\n",
    "\n",
    "**Matriz Identidad**\n",
    "\n",
    "Elemento neutro de la multiplicación, solo $1_s$ en la diagonal:\n",
    "\n",
    "$$I = \\begin{pmatrix}\n",
    "1&0&\\cdots&0&0\\\\\n",
    "0&1&\\cdots&0&0\\\\\n",
    "\\vdots&\\vdots&\\ddots&\\vdots&\\vdots\\\\\n",
    "0&\\cdots&\\cdots&\\cdots&0\\\\\n",
    "0&0&\\cdots&1&0\\\\\n",
    "0&0&\\cdots&0&1\\\\\n",
    "\\end{pmatrix}$$\n",
    "\n",
    "\n",
    "\n",
    "**Matriz traspuesta  (hermítica)**\n",
    "\n",
    "La traspuesta $A^{T}$ de una matriz $A$ puede ser obtenida reflejando los elementos a lo largo de su diagonal.\n",
    "\n",
    "$$A=\\begin{pmatrix}\n",
    "5 & 7 & 9 \\\\\n",
    "4 & 0 & 7 \\\\\n",
    "1 & 2 & 2\n",
    "\\end{pmatrix}$$\n",
    "\n",
    "$$A^{T}=\\begin{pmatrix}\n",
    "5 & 4 & 1 \\\\\n",
    "7 & 0 & 2 \\\\\n",
    "9 & 7 & 2\n",
    "\\end{pmatrix}$$\n",
    "\n",
    "\n",
    "Se le dice hermítica si los elementos son números complejos, es la traspuesta conjugada (el conjugado de $x+iy$ es $x-iy$).\n",
    "\n",
    "\n",
    "**Matriz Inversa**\n",
    "\n",
    "¿Como se dividen las matrices? Se multiplica por la inversa. El cálculo de la matriz inversa es:\n",
    "\n",
    "$$A= \\begin{pmatrix}\n",
    "       a_{11} & a_{12} \\\\ \n",
    "       a_{21} & a_{22}\n",
    "    \\end{pmatrix}$$\n",
    "    \n",
    "    \n",
    "$$A^{-1}=\\begin{pmatrix}\n",
    "a_{11} & a_{12} \\\\ \n",
    "a_{21} & a_{22}\n",
    "\\end{pmatrix}^{-1}\n",
    "=\\frac{1}{\\lvert A\\rvert}\n",
    "\\begin{pmatrix}\n",
    "a_{22} & -a_{12} \\\\ \n",
    "-a_{21} &  a_{11}\n",
    "\\end{pmatrix}$$\n",
    "\n",
    "\n",
    "**Determinante**\n",
    "\n",
    "$$A=\\begin{pmatrix}\n",
    "    1 & 3 & 2 & -6 \\\\ \n",
    "    0 & -1 & -4 & 1 \\\\ \n",
    "    0 & -2 & -6 & 3 \\\\ \n",
    "    0 & -2 & -10 & 3\n",
    "  \\end{pmatrix}$$\n",
    "  \n",
    "\n",
    "$$$$\n",
    "\n",
    "\n",
    "$$det(A)=\\begin{vmatrix}\n",
    "    1 & 3 & 2 & -6 \\\\ \n",
    "    0 & -1 & -4 & 1 \\\\ \n",
    "    0 & -2 & -6 & 3 \\\\ \n",
    "    0 & -2 & -10 & 3\n",
    "  \\end{vmatrix}=\\begin{vmatrix}\n",
    "    1 & 0 & 0 \\\\ \n",
    "    -2 & 1 & 0 \\\\ \n",
    "    -2 & 0 & 1\n",
    "  \\end{vmatrix}\\cdot\n",
    "  \\begin{vmatrix}\n",
    "    1 & 4 & 1 \\\\ \n",
    "    2 & 6 & 3 \\\\ \n",
    "    2 & 10 & 3\n",
    "  \\end{vmatrix}=\\begin{vmatrix}\n",
    "    1 & 4 & 1 \\\\ \n",
    "    0 & -2 & 1 \\\\ \n",
    "    0 & 2 & 1\n",
    "  \\end{vmatrix}\n",
    "  =\n",
    "  \\begin{vmatrix}\n",
    "    -2 & 1 \\\\ \n",
    "    2 & 1\n",
    "  \\end{vmatrix}\n",
    "  =-4$$\n",
    "  \n",
    "  "
   ]
  },
  {
   "cell_type": "markdown",
   "metadata": {},
   "source": [
    "**Veamos algo de todo esto en python:**\n",
    "\n",
    "\n",
    "**Arrays**"
   ]
  },
  {
   "cell_type": "code",
   "execution_count": null,
   "metadata": {},
   "outputs": [],
   "source": [
    "%pip install numpy"
   ]
  },
  {
   "cell_type": "code",
   "execution_count": 1,
   "metadata": {},
   "outputs": [],
   "source": [
    "import numpy as np"
   ]
  },
  {
   "cell_type": "code",
   "execution_count": 4,
   "metadata": {},
   "outputs": [
    {
     "data": {
      "text/plain": [
       "array([0.20308632])"
      ]
     },
     "execution_count": 4,
     "metadata": {},
     "output_type": "execute_result"
    }
   ],
   "source": [
    "# numero aleatorio\n",
    "\n",
    "np.random.random(1)"
   ]
  },
  {
   "cell_type": "code",
   "execution_count": 5,
   "metadata": {},
   "outputs": [
    {
     "data": {
      "text/plain": [
       "numpy.ndarray"
      ]
     },
     "execution_count": 5,
     "metadata": {},
     "output_type": "execute_result"
    }
   ],
   "source": [
    "type(np.random.random(1))"
   ]
  },
  {
   "cell_type": "code",
   "execution_count": 6,
   "metadata": {},
   "outputs": [
    {
     "data": {
      "text/plain": [
       "numpy.float64"
      ]
     },
     "execution_count": 6,
     "metadata": {},
     "output_type": "execute_result"
    }
   ],
   "source": [
    "type(np.random.random(1)[0])"
   ]
  },
  {
   "cell_type": "code",
   "execution_count": 7,
   "metadata": {},
   "outputs": [
    {
     "data": {
      "text/plain": [
       "array([0.81060223, 0.91988858, 0.36979717, 0.16939637, 0.87781095])"
      ]
     },
     "execution_count": 7,
     "metadata": {},
     "output_type": "execute_result"
    }
   ],
   "source": [
    "# vector\n",
    "\n",
    "vector=np.random.random(5) # nos alea uniformente distribuidos\n",
    "\n",
    "vector"
   ]
  },
  {
   "cell_type": "code",
   "execution_count": 8,
   "metadata": {},
   "outputs": [
    {
     "data": {
      "text/plain": [
       "numpy.ndarray"
      ]
     },
     "execution_count": 8,
     "metadata": {},
     "output_type": "execute_result"
    }
   ],
   "source": [
    "type(vector)"
   ]
  },
  {
   "cell_type": "code",
   "execution_count": 9,
   "metadata": {},
   "outputs": [
    {
     "data": {
      "text/plain": [
       "[1, 2, 3, 4, 1, 2, 3, 4]"
      ]
     },
     "execution_count": 9,
     "metadata": {},
     "output_type": "execute_result"
    }
   ],
   "source": [
    "2 * [1, 2, 3, 4]"
   ]
  },
  {
   "cell_type": "code",
   "execution_count": 10,
   "metadata": {},
   "outputs": [
    {
     "data": {
      "text/plain": [
       "array([1.62120446, 1.83977715, 0.73959434, 0.33879273, 1.7556219 ])"
      ]
     },
     "execution_count": 10,
     "metadata": {},
     "output_type": "execute_result"
    }
   ],
   "source": [
    "2 * vector"
   ]
  },
  {
   "cell_type": "code",
   "execution_count": 11,
   "metadata": {},
   "outputs": [
    {
     "data": {
      "text/plain": [
       "array([[0.67108836, 0.83223544, 0.39910752, 0.55372198],\n",
       "       [0.74482533, 0.70431418, 0.93221089, 0.56182305],\n",
       "       [0.94392432, 0.20267215, 0.40349934, 0.24882548],\n",
       "       [0.97608931, 0.9816517 , 0.4894994 , 0.38994704],\n",
       "       [0.13424101, 0.42038386, 0.9930686 , 0.63143588],\n",
       "       [0.58181592, 0.15719967, 0.87917542, 0.46704289],\n",
       "       [0.1172305 , 0.62713614, 0.12767335, 0.50871652],\n",
       "       [0.09094126, 0.69631714, 0.84889418, 0.156248  ],\n",
       "       [0.68068845, 0.20785685, 0.93109451, 0.40937168],\n",
       "       [0.12951992, 0.99502984, 0.96540049, 0.05178053]])"
      ]
     },
     "execution_count": 11,
     "metadata": {},
     "output_type": "execute_result"
    }
   ],
   "source": [
    "# matriz\n",
    "\n",
    "matriz=np.random.random((10, 4))\n",
    "\n",
    "matriz"
   ]
  },
  {
   "cell_type": "code",
   "execution_count": 12,
   "metadata": {},
   "outputs": [
    {
     "data": {
      "text/plain": [
       "numpy.ndarray"
      ]
     },
     "execution_count": 12,
     "metadata": {},
     "output_type": "execute_result"
    }
   ],
   "source": [
    "type(matriz)"
   ]
  },
  {
   "cell_type": "code",
   "execution_count": 13,
   "metadata": {},
   "outputs": [
    {
     "data": {
      "text/plain": [
       "(10, 4)"
      ]
     },
     "execution_count": 13,
     "metadata": {},
     "output_type": "execute_result"
    }
   ],
   "source": [
    "matriz.shape"
   ]
  },
  {
   "cell_type": "code",
   "execution_count": 14,
   "metadata": {},
   "outputs": [
    {
     "data": {
      "text/plain": [
       "40"
      ]
     },
     "execution_count": 14,
     "metadata": {},
     "output_type": "execute_result"
    }
   ],
   "source": [
    "matriz.size"
   ]
  },
  {
   "cell_type": "code",
   "execution_count": 15,
   "metadata": {},
   "outputs": [
    {
     "data": {
      "text/plain": [
       "10"
      ]
     },
     "execution_count": 15,
     "metadata": {},
     "output_type": "execute_result"
    }
   ],
   "source": [
    "len(matriz)"
   ]
  },
  {
   "cell_type": "code",
   "execution_count": 16,
   "metadata": {},
   "outputs": [
    {
     "data": {
      "text/plain": [
       "array([0.67108836, 0.83223544, 0.39910752, 0.55372198])"
      ]
     },
     "execution_count": 16,
     "metadata": {},
     "output_type": "execute_result"
    }
   ],
   "source": [
    "matriz[0]   # 1a fila"
   ]
  },
  {
   "cell_type": "code",
   "execution_count": 17,
   "metadata": {},
   "outputs": [
    {
     "data": {
      "text/plain": [
       "0.5537219809872116"
      ]
     },
     "execution_count": 17,
     "metadata": {},
     "output_type": "execute_result"
    }
   ],
   "source": [
    "matriz[0][-1]"
   ]
  },
  {
   "cell_type": "markdown",
   "metadata": {},
   "source": [
    "**slicing**\n",
    "\n",
    "los `:` signican todo, es decir, todas las filas. Luego, separado por coma, el 0, primer elemento de cada fila, es decir, la primera columna"
   ]
  },
  {
   "cell_type": "code",
   "execution_count": 18,
   "metadata": {},
   "outputs": [
    {
     "data": {
      "text/plain": [
       "array([0.67108836, 0.74482533, 0.94392432, 0.97608931, 0.13424101,\n",
       "       0.58181592, 0.1172305 , 0.09094126, 0.68068845, 0.12951992])"
      ]
     },
     "execution_count": 18,
     "metadata": {},
     "output_type": "execute_result"
    }
   ],
   "source": [
    "matriz[:, 0]    #1ª columna"
   ]
  },
  {
   "cell_type": "code",
   "execution_count": 27,
   "metadata": {},
   "outputs": [
    {
     "data": {
      "text/plain": [
       "0.6710883647632545"
      ]
     },
     "execution_count": 27,
     "metadata": {},
     "output_type": "execute_result"
    }
   ],
   "source": [
    "matriz[0, 0]"
   ]
  },
  {
   "cell_type": "code",
   "execution_count": 28,
   "metadata": {
    "scrolled": false
   },
   "outputs": [
    {
     "data": {
      "text/plain": [
       "0.6710883647632545"
      ]
     },
     "execution_count": 28,
     "metadata": {},
     "output_type": "execute_result"
    }
   ],
   "source": [
    "matriz[0][0]"
   ]
  },
  {
   "cell_type": "code",
   "execution_count": 30,
   "metadata": {},
   "outputs": [
    {
     "data": {
      "text/plain": [
       "list"
      ]
     },
     "execution_count": 30,
     "metadata": {},
     "output_type": "execute_result"
    }
   ],
   "source": [
    "lst=[1, 2, 3]\n",
    "\n",
    "type(lst)"
   ]
  },
  {
   "cell_type": "code",
   "execution_count": 32,
   "metadata": {},
   "outputs": [
    {
     "data": {
      "text/plain": [
       "numpy.ndarray"
      ]
     },
     "execution_count": 32,
     "metadata": {},
     "output_type": "execute_result"
    }
   ],
   "source": [
    "array=np.array(lst)\n",
    "\n",
    "type(array)"
   ]
  },
  {
   "cell_type": "code",
   "execution_count": 34,
   "metadata": {},
   "outputs": [
    {
     "data": {
      "text/plain": [
       "list"
      ]
     },
     "execution_count": 34,
     "metadata": {},
     "output_type": "execute_result"
    }
   ],
   "source": [
    "type(list(array))"
   ]
  },
  {
   "cell_type": "code",
   "execution_count": 35,
   "metadata": {},
   "outputs": [
    {
     "data": {
      "text/plain": [
       "(3,)"
      ]
     },
     "execution_count": 35,
     "metadata": {},
     "output_type": "execute_result"
    }
   ],
   "source": [
    "array.shape"
   ]
  },
  {
   "cell_type": "code",
   "execution_count": 36,
   "metadata": {},
   "outputs": [
    {
     "ename": "AttributeError",
     "evalue": "'list' object has no attribute 'shape'",
     "output_type": "error",
     "traceback": [
      "\u001b[0;31m---------------------------------------------------------------------------\u001b[0m",
      "\u001b[0;31mAttributeError\u001b[0m                            Traceback (most recent call last)",
      "Cell \u001b[0;32mIn[36], line 1\u001b[0m\n\u001b[0;32m----> 1\u001b[0m \u001b[43mlst\u001b[49m\u001b[38;5;241;43m.\u001b[39;49m\u001b[43mshape\u001b[49m\n",
      "\u001b[0;31mAttributeError\u001b[0m: 'list' object has no attribute 'shape'"
     ]
    }
   ],
   "source": [
    "lst.shape"
   ]
  },
  {
   "cell_type": "code",
   "execution_count": 37,
   "metadata": {},
   "outputs": [
    {
     "data": {
      "text/plain": [
       "array([[[0.38507137, 0.64248629],\n",
       "        [0.48886305, 0.49377587],\n",
       "        [0.69475905, 0.17570461]],\n",
       "\n",
       "       [[0.72646955, 0.79592108],\n",
       "        [0.63578205, 0.64669807],\n",
       "        [0.82205294, 0.68606036]],\n",
       "\n",
       "       [[0.22182401, 0.72536283],\n",
       "        [0.45043871, 0.38724335],\n",
       "        [0.28955605, 0.49188233]]])"
      ]
     },
     "execution_count": 37,
     "metadata": {},
     "output_type": "execute_result"
    }
   ],
   "source": [
    "# cubo, tensor rango 3\n",
    "\n",
    "cubo=np.random.random((3, 3, 2))\n",
    "\n",
    "cubo"
   ]
  },
  {
   "cell_type": "code",
   "execution_count": 38,
   "metadata": {},
   "outputs": [
    {
     "data": {
      "text/plain": [
       "array([[[[0.35700363, 0.89639529, 0.72477893, 0.50784429, 0.5506571 ],\n",
       "         [0.92771667, 0.68615431, 0.18815974, 0.13626944, 0.44737688],\n",
       "         [0.10628556, 0.9064643 , 0.60107731, 0.83414082, 0.77787244],\n",
       "         [0.35950104, 0.84728246, 0.12514512, 0.63769762, 0.67548121]],\n",
       "\n",
       "        [[0.08544549, 0.95394797, 0.67474024, 0.36753434, 0.28523505],\n",
       "         [0.98826022, 0.58279836, 0.12949686, 0.28889753, 0.72335644],\n",
       "         [0.68611407, 0.11007274, 0.03103654, 0.53099602, 0.59990664],\n",
       "         [0.29909617, 0.21123029, 0.35352779, 0.41324766, 0.95725172]],\n",
       "\n",
       "        [[0.95965395, 0.88368236, 0.53399358, 0.37504624, 0.72800509],\n",
       "         [0.31639682, 0.56358699, 0.69486456, 0.18363711, 0.91791705],\n",
       "         [0.72607909, 0.22492814, 0.91455962, 0.92643896, 0.82061895],\n",
       "         [0.6202061 , 0.76676841, 0.22047068, 0.07591395, 0.43743846]]],\n",
       "\n",
       "\n",
       "       [[[0.34386014, 0.74861374, 0.8644777 , 0.51650139, 0.81558569],\n",
       "         [0.78016125, 0.74744011, 0.38295871, 0.31545155, 0.0400425 ],\n",
       "         [0.58241889, 0.54118526, 0.90302073, 0.48963632, 0.17393946],\n",
       "         [0.30543758, 0.5792499 , 0.30467804, 0.23795299, 0.71431037]],\n",
       "\n",
       "        [[0.97220088, 0.76192789, 0.330716  , 0.59803679, 0.22949729],\n",
       "         [0.87282582, 0.50987516, 0.63151495, 0.1663321 , 0.50546905],\n",
       "         [0.73896642, 0.78048797, 0.68408803, 0.21659262, 0.0982478 ],\n",
       "         [0.714019  , 0.60388459, 0.68995269, 0.68292821, 0.58560981]],\n",
       "\n",
       "        [[0.64125433, 0.88921993, 0.96064306, 0.38656655, 0.28114315],\n",
       "         [0.57022556, 0.7470492 , 0.17496437, 0.03725715, 0.30514752],\n",
       "         [0.23891278, 0.61533563, 0.14009767, 0.04576382, 0.11568874],\n",
       "         [0.93541243, 0.17287032, 0.28027445, 0.56886209, 0.16921754]]]])"
      ]
     },
     "execution_count": 38,
     "metadata": {},
     "output_type": "execute_result"
    }
   ],
   "source": [
    "# tensor rango 4\n",
    "\n",
    "tensor=np.random.random((2, 3, 4, 5))\n",
    "\n",
    "tensor"
   ]
  },
  {
   "cell_type": "code",
   "execution_count": 39,
   "metadata": {},
   "outputs": [
    {
     "data": {
      "text/plain": [
       "(2, 3, 4, 5)"
      ]
     },
     "execution_count": 39,
     "metadata": {},
     "output_type": "execute_result"
    }
   ],
   "source": [
    "tensor.shape"
   ]
  },
  {
   "cell_type": "code",
   "execution_count": 43,
   "metadata": {},
   "outputs": [
    {
     "data": {
      "text/plain": [
       "0.3595010439209314"
      ]
     },
     "execution_count": 43,
     "metadata": {},
     "output_type": "execute_result"
    }
   ],
   "source": [
    "tensor[0][0][:, 0][-1]"
   ]
  },
  {
   "cell_type": "markdown",
   "metadata": {},
   "source": [
    "**Operaciones matemáticas**"
   ]
  },
  {
   "cell_type": "code",
   "execution_count": 44,
   "metadata": {},
   "outputs": [
    {
     "data": {
      "text/plain": [
       "array([[0.67108836, 0.83223544, 0.39910752, 0.55372198],\n",
       "       [0.74482533, 0.70431418, 0.93221089, 0.56182305],\n",
       "       [0.94392432, 0.20267215, 0.40349934, 0.24882548],\n",
       "       [0.97608931, 0.9816517 , 0.4894994 , 0.38994704],\n",
       "       [0.13424101, 0.42038386, 0.9930686 , 0.63143588],\n",
       "       [0.58181592, 0.15719967, 0.87917542, 0.46704289],\n",
       "       [0.1172305 , 0.62713614, 0.12767335, 0.50871652],\n",
       "       [0.09094126, 0.69631714, 0.84889418, 0.156248  ],\n",
       "       [0.68068845, 0.20785685, 0.93109451, 0.40937168],\n",
       "       [0.12951992, 0.99502984, 0.96540049, 0.05178053]])"
      ]
     },
     "execution_count": 44,
     "metadata": {},
     "output_type": "execute_result"
    }
   ],
   "source": [
    "matriz"
   ]
  },
  {
   "cell_type": "code",
   "execution_count": 45,
   "metadata": {},
   "outputs": [
    {
     "data": {
      "text/plain": [
       "21.843698090883414"
      ]
     },
     "execution_count": 45,
     "metadata": {},
     "output_type": "execute_result"
    }
   ],
   "source": [
    "matriz.sum()"
   ]
  },
  {
   "cell_type": "code",
   "execution_count": 46,
   "metadata": {},
   "outputs": [
    {
     "data": {
      "text/plain": [
       "array([5.07036438, 5.82479696, 6.9696237 , 3.97891305])"
      ]
     },
     "execution_count": 46,
     "metadata": {},
     "output_type": "execute_result"
    }
   ],
   "source": [
    "matriz.sum(axis=0)    # suma por columnas"
   ]
  },
  {
   "cell_type": "code",
   "execution_count": 47,
   "metadata": {},
   "outputs": [
    {
     "data": {
      "text/plain": [
       "array([2.4561533 , 2.94317345, 1.79892129, 2.83718745, 2.17912935,\n",
       "       2.08523389, 1.38075651, 1.79240058, 2.2290115 , 2.14173078])"
      ]
     },
     "execution_count": 47,
     "metadata": {},
     "output_type": "execute_result"
    }
   ],
   "source": [
    "matriz.sum(axis=1)    # suma por filas"
   ]
  },
  {
   "cell_type": "code",
   "execution_count": 48,
   "metadata": {},
   "outputs": [
    {
     "ename": "AxisError",
     "evalue": "axis 2 is out of bounds for array of dimension 2",
     "output_type": "error",
     "traceback": [
      "\u001b[0;31m---------------------------------------------------------------------------\u001b[0m",
      "\u001b[0;31mAxisError\u001b[0m                                 Traceback (most recent call last)",
      "Cell \u001b[0;32mIn[48], line 1\u001b[0m\n\u001b[0;32m----> 1\u001b[0m \u001b[43mmatriz\u001b[49m\u001b[38;5;241;43m.\u001b[39;49m\u001b[43msum\u001b[49m\u001b[43m(\u001b[49m\u001b[43maxis\u001b[49m\u001b[38;5;241;43m=\u001b[39;49m\u001b[38;5;241;43m2\u001b[39;49m\u001b[43m)\u001b[49m\n",
      "File \u001b[0;32m/opt/homebrew/Caskroom/miniconda/base/envs/clase/lib/python3.9/site-packages/numpy/core/_methods.py:48\u001b[0m, in \u001b[0;36m_sum\u001b[0;34m(a, axis, dtype, out, keepdims, initial, where)\u001b[0m\n\u001b[1;32m     46\u001b[0m \u001b[38;5;28;01mdef\u001b[39;00m \u001b[38;5;21m_sum\u001b[39m(a, axis\u001b[38;5;241m=\u001b[39m\u001b[38;5;28;01mNone\u001b[39;00m, dtype\u001b[38;5;241m=\u001b[39m\u001b[38;5;28;01mNone\u001b[39;00m, out\u001b[38;5;241m=\u001b[39m\u001b[38;5;28;01mNone\u001b[39;00m, keepdims\u001b[38;5;241m=\u001b[39m\u001b[38;5;28;01mFalse\u001b[39;00m,\n\u001b[1;32m     47\u001b[0m          initial\u001b[38;5;241m=\u001b[39m_NoValue, where\u001b[38;5;241m=\u001b[39m\u001b[38;5;28;01mTrue\u001b[39;00m):\n\u001b[0;32m---> 48\u001b[0m     \u001b[38;5;28;01mreturn\u001b[39;00m \u001b[43mumr_sum\u001b[49m\u001b[43m(\u001b[49m\u001b[43ma\u001b[49m\u001b[43m,\u001b[49m\u001b[43m \u001b[49m\u001b[43maxis\u001b[49m\u001b[43m,\u001b[49m\u001b[43m \u001b[49m\u001b[43mdtype\u001b[49m\u001b[43m,\u001b[49m\u001b[43m \u001b[49m\u001b[43mout\u001b[49m\u001b[43m,\u001b[49m\u001b[43m \u001b[49m\u001b[43mkeepdims\u001b[49m\u001b[43m,\u001b[49m\u001b[43m \u001b[49m\u001b[43minitial\u001b[49m\u001b[43m,\u001b[49m\u001b[43m \u001b[49m\u001b[43mwhere\u001b[49m\u001b[43m)\u001b[49m\n",
      "\u001b[0;31mAxisError\u001b[0m: axis 2 is out of bounds for array of dimension 2"
     ]
    }
   ],
   "source": [
    "matriz.sum(axis=2)"
   ]
  },
  {
   "cell_type": "code",
   "execution_count": 49,
   "metadata": {},
   "outputs": [
    {
     "data": {
      "text/plain": [
       "array([[1.02755766, 0.98263891, 0.87046366],\n",
       "       [1.52239063, 1.28248012, 1.5081133 ],\n",
       "       [0.94718684, 0.83768206, 0.78143838]])"
      ]
     },
     "execution_count": 49,
     "metadata": {},
     "output_type": "execute_result"
    }
   ],
   "source": [
    "cubo.sum(axis=2)"
   ]
  },
  {
   "cell_type": "code",
   "execution_count": 54,
   "metadata": {},
   "outputs": [
    {
     "data": {
      "text/plain": [
       "6.969623704921776"
      ]
     },
     "execution_count": 54,
     "metadata": {},
     "output_type": "execute_result"
    }
   ],
   "source": [
    "matriz[:, 2].sum()"
   ]
  },
  {
   "cell_type": "code",
   "execution_count": 55,
   "metadata": {},
   "outputs": [
    {
     "data": {
      "text/plain": [
       "6.969623704921776"
      ]
     },
     "execution_count": 55,
     "metadata": {},
     "output_type": "execute_result"
    }
   ],
   "source": [
    "sum(matriz[:, 2])"
   ]
  },
  {
   "cell_type": "code",
   "execution_count": 56,
   "metadata": {},
   "outputs": [
    {
     "data": {
      "text/plain": [
       "2.4561533031435445"
      ]
     },
     "execution_count": 56,
     "metadata": {},
     "output_type": "execute_result"
    }
   ],
   "source": [
    "matriz[0].sum()"
   ]
  },
  {
   "cell_type": "code",
   "execution_count": 57,
   "metadata": {},
   "outputs": [
    {
     "data": {
      "text/plain": [
       "(2, 3, 4, 5)"
      ]
     },
     "execution_count": 57,
     "metadata": {},
     "output_type": "execute_result"
    }
   ],
   "source": [
    "tensor.shape"
   ]
  },
  {
   "cell_type": "code",
   "execution_count": 58,
   "metadata": {},
   "outputs": [
    {
     "data": {
      "text/plain": [
       "(3, 4, 5)"
      ]
     },
     "execution_count": 58,
     "metadata": {},
     "output_type": "execute_result"
    }
   ],
   "source": [
    "tensor.sum(axis=0).shape     # suma por cubos"
   ]
  },
  {
   "cell_type": "code",
   "execution_count": 59,
   "metadata": {},
   "outputs": [
    {
     "data": {
      "text/plain": [
       "(2, 4, 5)"
      ]
     },
     "execution_count": 59,
     "metadata": {},
     "output_type": "execute_result"
    }
   ],
   "source": [
    "tensor.sum(axis=1).shape     # suma por capas del cubo"
   ]
  },
  {
   "cell_type": "code",
   "execution_count": 60,
   "metadata": {},
   "outputs": [
    {
     "data": {
      "text/plain": [
       "(2, 3, 5)"
      ]
     },
     "execution_count": 60,
     "metadata": {},
     "output_type": "execute_result"
    }
   ],
   "source": [
    "tensor.sum(axis=2).shape     # suma por filas"
   ]
  },
  {
   "cell_type": "code",
   "execution_count": 61,
   "metadata": {},
   "outputs": [
    {
     "data": {
      "text/plain": [
       "(2, 3, 4)"
      ]
     },
     "execution_count": 61,
     "metadata": {},
     "output_type": "execute_result"
    }
   ],
   "source": [
    "tensor.sum(axis=3).shape     # suma por columnas"
   ]
  },
  {
   "cell_type": "code",
   "execution_count": 63,
   "metadata": {},
   "outputs": [
    {
     "data": {
      "text/plain": [
       "0.05178053102045055"
      ]
     },
     "execution_count": 63,
     "metadata": {},
     "output_type": "execute_result"
    }
   ],
   "source": [
    "matriz.min()"
   ]
  },
  {
   "cell_type": "code",
   "execution_count": 64,
   "metadata": {},
   "outputs": [
    {
     "data": {
      "text/plain": [
       "0.9950298379525435"
      ]
     },
     "execution_count": 64,
     "metadata": {},
     "output_type": "execute_result"
    }
   ],
   "source": [
    "matriz.max()"
   ]
  },
  {
   "cell_type": "code",
   "execution_count": 67,
   "metadata": {},
   "outputs": [
    {
     "data": {
      "text/plain": [
       "0.8322354366848776"
      ]
     },
     "execution_count": 67,
     "metadata": {},
     "output_type": "execute_result"
    }
   ],
   "source": [
    "matriz[0:2, 0:2].max()"
   ]
  },
  {
   "cell_type": "code",
   "execution_count": 68,
   "metadata": {},
   "outputs": [
    {
     "data": {
      "text/plain": [
       "array([0.83223544, 0.93221089, 0.94392432, 0.9816517 , 0.9930686 ,\n",
       "       0.87917542, 0.62713614, 0.84889418, 0.93109451, 0.99502984])"
      ]
     },
     "execution_count": 68,
     "metadata": {},
     "output_type": "execute_result"
    }
   ],
   "source": [
    "matriz.max(axis=1)"
   ]
  },
  {
   "cell_type": "code",
   "execution_count": 70,
   "metadata": {},
   "outputs": [
    {
     "data": {
      "text/plain": [
       "1"
      ]
     },
     "execution_count": 70,
     "metadata": {},
     "output_type": "execute_result"
    }
   ],
   "source": [
    "lst.index(2)"
   ]
  },
  {
   "cell_type": "code",
   "execution_count": 72,
   "metadata": {},
   "outputs": [],
   "source": [
    "#help(np.where)"
   ]
  },
  {
   "cell_type": "code",
   "execution_count": 74,
   "metadata": {},
   "outputs": [
    {
     "data": {
      "text/plain": [
       "0.5460924522720854"
      ]
     },
     "execution_count": 74,
     "metadata": {},
     "output_type": "execute_result"
    }
   ],
   "source": [
    "matriz.mean()"
   ]
  },
  {
   "cell_type": "code",
   "execution_count": 75,
   "metadata": {},
   "outputs": [
    {
     "data": {
      "text/plain": [
       "array([0.50703644, 0.5824797 , 0.69696237, 0.3978913 ])"
      ]
     },
     "execution_count": 75,
     "metadata": {},
     "output_type": "execute_result"
    }
   ],
   "source": [
    "matriz.mean(axis=0)"
   ]
  },
  {
   "cell_type": "code",
   "execution_count": 78,
   "metadata": {},
   "outputs": [
    {
     "data": {
      "text/plain": [
       "array([0.15866474, 0.13221009, 0.29485823, 0.27186881, 0.31324454,\n",
       "       0.25848108, 0.22666802, 0.32976798, 0.27337719, 0.44575398])"
      ]
     },
     "execution_count": 78,
     "metadata": {},
     "output_type": "execute_result"
    }
   ],
   "source": [
    "matriz.std(axis=1)"
   ]
  },
  {
   "cell_type": "code",
   "execution_count": 80,
   "metadata": {},
   "outputs": [
    {
     "data": {
      "text/plain": [
       "0.3048512510200767"
      ]
     },
     "execution_count": 80,
     "metadata": {},
     "output_type": "execute_result"
    }
   ],
   "source": [
    "matriz.std()"
   ]
  },
  {
   "cell_type": "code",
   "execution_count": 81,
   "metadata": {},
   "outputs": [
    {
     "data": {
      "text/plain": [
       "0.3048512510200767"
      ]
     },
     "execution_count": 81,
     "metadata": {},
     "output_type": "execute_result"
    }
   ],
   "source": [
    "matriz.var() ** 0.5"
   ]
  },
  {
   "cell_type": "code",
   "execution_count": 77,
   "metadata": {},
   "outputs": [
    {
     "data": {
      "text/plain": [
       "0.09293428524850582"
      ]
     },
     "execution_count": 77,
     "metadata": {},
     "output_type": "execute_result"
    }
   ],
   "source": [
    "matriz.var()"
   ]
  },
  {
   "cell_type": "code",
   "execution_count": 79,
   "metadata": {},
   "outputs": [
    {
     "data": {
      "text/plain": [
       "array([[0.67108836, 0.83223544],\n",
       "       [0.94392432, 0.20267215],\n",
       "       [0.13424101, 0.42038386]])"
      ]
     },
     "execution_count": 79,
     "metadata": {},
     "output_type": "execute_result"
    }
   ],
   "source": [
    "matriz[0:5:2, 0:2]"
   ]
  },
  {
   "cell_type": "code",
   "execution_count": 82,
   "metadata": {},
   "outputs": [
    {
     "data": {
      "text/plain": [
       "array([1.4159137 , 1.53654961, 1.33131841, 1.11554503])"
      ]
     },
     "execution_count": 82,
     "metadata": {},
     "output_type": "execute_result"
    }
   ],
   "source": [
    "np.add(matriz[0], matriz[1])  # suma de vectores"
   ]
  },
  {
   "cell_type": "code",
   "execution_count": 83,
   "metadata": {},
   "outputs": [
    {
     "data": {
      "text/plain": [
       "array([-0.07373697,  0.12792126, -0.53310337, -0.00810107])"
      ]
     },
     "execution_count": 83,
     "metadata": {},
     "output_type": "execute_result"
    }
   ],
   "source": [
    "np.subtract(matriz[0], matriz[1])  # restar de vectores"
   ]
  },
  {
   "cell_type": "code",
   "execution_count": 84,
   "metadata": {},
   "outputs": [
    {
     "data": {
      "text/plain": [
       "2.2060266591255914e-15"
      ]
     },
     "execution_count": 84,
     "metadata": {},
     "output_type": "execute_result"
    }
   ],
   "source": [
    "np.prod(matriz)   # productorio"
   ]
  },
  {
   "cell_type": "code",
   "execution_count": 85,
   "metadata": {},
   "outputs": [
    {
     "data": {
      "text/plain": [
       "100.0"
      ]
     },
     "execution_count": 85,
     "metadata": {},
     "output_type": "execute_result"
    }
   ],
   "source": [
    "1e2   # notacion cientifica"
   ]
  },
  {
   "cell_type": "code",
   "execution_count": 86,
   "metadata": {},
   "outputs": [
    {
     "data": {
      "text/plain": [
       "0.001"
      ]
     },
     "execution_count": 86,
     "metadata": {},
     "output_type": "execute_result"
    }
   ],
   "source": [
    "1e-3"
   ]
  },
  {
   "cell_type": "code",
   "execution_count": 87,
   "metadata": {},
   "outputs": [
    {
     "data": {
      "text/plain": [
       "array([0.49984361, 0.58615522, 0.37205238, 0.31109377])"
      ]
     },
     "execution_count": 87,
     "metadata": {},
     "output_type": "execute_result"
    }
   ],
   "source": [
    "np.multiply(matriz[0], matriz[1])  # producto elemento a elemento"
   ]
  },
  {
   "cell_type": "code",
   "execution_count": 88,
   "metadata": {},
   "outputs": [
    {
     "data": {
      "text/plain": [
       "array([0.67108836, 0.83223544, 0.39910752, 0.55372198])"
      ]
     },
     "execution_count": 88,
     "metadata": {},
     "output_type": "execute_result"
    }
   ],
   "source": [
    "matriz[0]"
   ]
  },
  {
   "cell_type": "code",
   "execution_count": 89,
   "metadata": {},
   "outputs": [
    {
     "data": {
      "text/plain": [
       "array([0.74482533, 0.70431418, 0.93221089, 0.56182305])"
      ]
     },
     "execution_count": 89,
     "metadata": {},
     "output_type": "execute_result"
    }
   ],
   "source": [
    "matriz[1]"
   ]
  },
  {
   "cell_type": "code",
   "execution_count": 90,
   "metadata": {},
   "outputs": [
    {
     "data": {
      "text/plain": [
       "1.7691449782741815"
      ]
     },
     "execution_count": 90,
     "metadata": {},
     "output_type": "execute_result"
    }
   ],
   "source": [
    "np.dot(matriz[0], matriz[1])  # producto escalar"
   ]
  },
  {
   "cell_type": "code",
   "execution_count": 91,
   "metadata": {},
   "outputs": [
    {
     "ename": "ValueError",
     "evalue": "shapes (10,4) and (10,4) not aligned: 4 (dim 1) != 10 (dim 0)",
     "output_type": "error",
     "traceback": [
      "\u001b[0;31m---------------------------------------------------------------------------\u001b[0m",
      "\u001b[0;31mValueError\u001b[0m                                Traceback (most recent call last)",
      "Cell \u001b[0;32mIn[91], line 1\u001b[0m\n\u001b[0;32m----> 1\u001b[0m \u001b[43mnp\u001b[49m\u001b[38;5;241;43m.\u001b[39;49m\u001b[43mdot\u001b[49m\u001b[43m(\u001b[49m\u001b[43mmatriz\u001b[49m\u001b[43m,\u001b[49m\u001b[43m \u001b[49m\u001b[43mmatriz\u001b[49m\u001b[43m)\u001b[49m\n",
      "File \u001b[0;32m<__array_function__ internals>:180\u001b[0m, in \u001b[0;36mdot\u001b[0;34m(*args, **kwargs)\u001b[0m\n",
      "\u001b[0;31mValueError\u001b[0m: shapes (10,4) and (10,4) not aligned: 4 (dim 1) != 10 (dim 0)"
     ]
    }
   ],
   "source": [
    "np.dot(matriz, matriz)"
   ]
  },
  {
   "cell_type": "code",
   "execution_count": 94,
   "metadata": {},
   "outputs": [
    {
     "data": {
      "text/plain": [
       "(10, 4)"
      ]
     },
     "execution_count": 94,
     "metadata": {},
     "output_type": "execute_result"
    }
   ],
   "source": [
    "matriz.shape"
   ]
  },
  {
   "cell_type": "code",
   "execution_count": 93,
   "metadata": {},
   "outputs": [
    {
     "data": {
      "text/plain": [
       "(4, 10)"
      ]
     },
     "execution_count": 93,
     "metadata": {},
     "output_type": "execute_result"
    }
   ],
   "source": [
    "matriz.T.shape"
   ]
  },
  {
   "cell_type": "code",
   "execution_count": 95,
   "metadata": {},
   "outputs": [
    {
     "data": {
      "text/plain": [
       "(4, 10)"
      ]
     },
     "execution_count": 95,
     "metadata": {},
     "output_type": "execute_result"
    }
   ],
   "source": [
    "matriz.transpose().shape"
   ]
  },
  {
   "cell_type": "code",
   "execution_count": 97,
   "metadata": {},
   "outputs": [
    {
     "data": {
      "text/plain": [
       "(10, 10)"
      ]
     },
     "execution_count": 97,
     "metadata": {},
     "output_type": "execute_result"
    }
   ],
   "source": [
    "np.dot(matriz, matriz.T).shape"
   ]
  },
  {
   "cell_type": "code",
   "execution_count": 100,
   "metadata": {},
   "outputs": [
    {
     "data": {
      "text/plain": [
       "(4, 4)"
      ]
     },
     "execution_count": 100,
     "metadata": {},
     "output_type": "execute_result"
    }
   ],
   "source": [
    "np.matmul(matriz.T, matriz).shape"
   ]
  },
  {
   "cell_type": "code",
   "execution_count": 102,
   "metadata": {},
   "outputs": [
    {
     "data": {
      "text/plain": [
       "1.7691449782741815"
      ]
     },
     "execution_count": 102,
     "metadata": {},
     "output_type": "execute_result"
    }
   ],
   "source": [
    "np.matmul(matriz[0], matriz[1])"
   ]
  },
  {
   "cell_type": "code",
   "execution_count": 103,
   "metadata": {},
   "outputs": [
    {
     "data": {
      "text/plain": [
       "array([ 0.49472185, -0.32833049, -0.14721299])"
      ]
     },
     "execution_count": 103,
     "metadata": {},
     "output_type": "execute_result"
    }
   ],
   "source": [
    "np.cross(matriz[0][:3], matriz[1][:3])  # producto vectorial"
   ]
  },
  {
   "cell_type": "code",
   "execution_count": 105,
   "metadata": {},
   "outputs": [
    {
     "data": {
      "text/plain": [
       "array([0.67108836, 0.83223544, 0.39910752])"
      ]
     },
     "execution_count": 105,
     "metadata": {},
     "output_type": "execute_result"
    }
   ],
   "source": [
    "matriz[0][:3]"
   ]
  },
  {
   "cell_type": "code",
   "execution_count": 106,
   "metadata": {},
   "outputs": [
    {
     "data": {
      "text/plain": [
       "array([ 0.67108836,  1.5033238 ,  1.90243132,  2.4561533 ,  3.20097864,\n",
       "        3.90529281,  4.8375037 ,  5.39932675,  6.34325106,  6.54592322,\n",
       "        6.94942256,  7.19824804,  8.17433735,  9.15598904,  9.64548845,\n",
       "       10.03543549, 10.1696765 , 10.59006036, 11.58312896, 12.21456484,\n",
       "       12.79638076, 12.95358043, 13.83275585, 14.29979873, 14.41702924,\n",
       "       15.04416537, 15.17183872, 15.68055524, 15.7714965 , 16.46781364,\n",
       "       17.31670782, 17.47295582, 18.15364427, 18.36150112, 19.29259564,\n",
       "       19.70196731, 19.83148723, 20.82651707, 21.79191756, 21.84369809])"
      ]
     },
     "execution_count": 106,
     "metadata": {},
     "output_type": "execute_result"
    }
   ],
   "source": [
    "matriz.cumsum()"
   ]
  },
  {
   "cell_type": "code",
   "execution_count": 107,
   "metadata": {},
   "outputs": [
    {
     "data": {
      "text/plain": [
       "array(15.64605007)"
      ]
     },
     "execution_count": 107,
     "metadata": {},
     "output_type": "execute_result"
    }
   ],
   "source": [
    "np.tensordot(matriz, matriz)"
   ]
  },
  {
   "cell_type": "code",
   "execution_count": 108,
   "metadata": {},
   "outputs": [
    {
     "data": {
      "text/plain": [
       "array([6.71088365e-01, 5.58503518e-01, 2.22902954e-01, 1.23426266e-01,\n",
       "       9.19310092e-02, 6.47483130e-02, 6.03590824e-02, 3.39111237e-02,\n",
       "       3.20095342e-02, 6.48744124e-03, 2.61767828e-03, 6.51345048e-04,\n",
       "       6.35770937e-04, 6.24105619e-04, 3.05499329e-04, 1.19128560e-04,\n",
       "       1.59919383e-05, 6.72275275e-06, 6.67615464e-06, 4.21556361e-06,\n",
       "       2.45268200e-06, 3.85560798e-07, 3.38975576e-07, 1.58316132e-07,\n",
       "       1.85594797e-08, 1.16393204e-08, 1.48603099e-09, 7.55968515e-10,\n",
       "       6.87487295e-11, 4.78709188e-11, 4.06373444e-11, 6.34950365e-12,\n",
       "       4.32203380e-12, 8.98364344e-13, 8.36462113e-13, 3.42423898e-13,\n",
       "       4.43507163e-14, 4.41302861e-14, 4.26033997e-14, 2.20602666e-15])"
      ]
     },
     "execution_count": 108,
     "metadata": {},
     "output_type": "execute_result"
    }
   ],
   "source": [
    "matriz.cumprod()"
   ]
  },
  {
   "cell_type": "code",
   "execution_count": 109,
   "metadata": {},
   "outputs": [
    {
     "data": {
      "text/plain": [
       "nan"
      ]
     },
     "execution_count": 109,
     "metadata": {},
     "output_type": "execute_result"
    }
   ],
   "source": [
    "np.nan"
   ]
  },
  {
   "cell_type": "code",
   "execution_count": 110,
   "metadata": {},
   "outputs": [
    {
     "data": {
      "text/plain": [
       "float"
      ]
     },
     "execution_count": 110,
     "metadata": {},
     "output_type": "execute_result"
    }
   ],
   "source": [
    "type(np.nan)"
   ]
  },
  {
   "cell_type": "code",
   "execution_count": 111,
   "metadata": {},
   "outputs": [
    {
     "data": {
      "text/plain": [
       "NoneType"
      ]
     },
     "execution_count": 111,
     "metadata": {},
     "output_type": "execute_result"
    }
   ],
   "source": [
    "type(None)"
   ]
  },
  {
   "cell_type": "code",
   "execution_count": 112,
   "metadata": {},
   "outputs": [
    {
     "data": {
      "text/plain": [
       "inf"
      ]
     },
     "execution_count": 112,
     "metadata": {},
     "output_type": "execute_result"
    }
   ],
   "source": [
    "np.inf"
   ]
  },
  {
   "cell_type": "code",
   "execution_count": 113,
   "metadata": {},
   "outputs": [
    {
     "data": {
      "text/plain": [
       "float"
      ]
     },
     "execution_count": 113,
     "metadata": {},
     "output_type": "execute_result"
    }
   ],
   "source": [
    "type(np.inf)"
   ]
  },
  {
   "cell_type": "code",
   "execution_count": 114,
   "metadata": {},
   "outputs": [
    {
     "data": {
      "text/plain": [
       "3.141592653589793"
      ]
     },
     "execution_count": 114,
     "metadata": {},
     "output_type": "execute_result"
    }
   ],
   "source": [
    "np.pi"
   ]
  },
  {
   "cell_type": "markdown",
   "metadata": {},
   "source": [
    "**Dimensiones**"
   ]
  },
  {
   "cell_type": "code",
   "execution_count": 115,
   "metadata": {},
   "outputs": [
    {
     "data": {
      "text/plain": [
       "(10, 4)"
      ]
     },
     "execution_count": 115,
     "metadata": {},
     "output_type": "execute_result"
    }
   ],
   "source": [
    "matriz.shape"
   ]
  },
  {
   "cell_type": "code",
   "execution_count": 117,
   "metadata": {},
   "outputs": [
    {
     "data": {
      "text/plain": [
       "array([[0.67108836, 0.83223544, 0.39910752, 0.55372198],\n",
       "       [0.74482533, 0.70431418, 0.93221089, 0.56182305],\n",
       "       [0.94392432, 0.20267215, 0.40349934, 0.24882548],\n",
       "       [0.97608931, 0.9816517 , 0.4894994 , 0.38994704],\n",
       "       [0.13424101, 0.42038386, 0.9930686 , 0.63143588],\n",
       "       [0.58181592, 0.15719967, 0.87917542, 0.46704289],\n",
       "       [0.1172305 , 0.62713614, 0.12767335, 0.50871652],\n",
       "       [0.09094126, 0.69631714, 0.84889418, 0.156248  ],\n",
       "       [0.68068845, 0.20785685, 0.93109451, 0.40937168],\n",
       "       [0.12951992, 0.99502984, 0.96540049, 0.05178053]])"
      ]
     },
     "execution_count": 117,
     "metadata": {},
     "output_type": "execute_result"
    }
   ],
   "source": [
    "matriz"
   ]
  },
  {
   "cell_type": "code",
   "execution_count": 116,
   "metadata": {},
   "outputs": [
    {
     "data": {
      "text/plain": [
       "array([[0.67108836, 0.83223544, 0.39910752, 0.55372198, 0.74482533,\n",
       "        0.70431418, 0.93221089, 0.56182305],\n",
       "       [0.94392432, 0.20267215, 0.40349934, 0.24882548, 0.97608931,\n",
       "        0.9816517 , 0.4894994 , 0.38994704],\n",
       "       [0.13424101, 0.42038386, 0.9930686 , 0.63143588, 0.58181592,\n",
       "        0.15719967, 0.87917542, 0.46704289],\n",
       "       [0.1172305 , 0.62713614, 0.12767335, 0.50871652, 0.09094126,\n",
       "        0.69631714, 0.84889418, 0.156248  ],\n",
       "       [0.68068845, 0.20785685, 0.93109451, 0.40937168, 0.12951992,\n",
       "        0.99502984, 0.96540049, 0.05178053]])"
      ]
     },
     "execution_count": 116,
     "metadata": {},
     "output_type": "execute_result"
    }
   ],
   "source": [
    "matriz.reshape((5, 8))"
   ]
  },
  {
   "cell_type": "code",
   "execution_count": 119,
   "metadata": {},
   "outputs": [
    {
     "data": {
      "text/plain": [
       "(40,)"
      ]
     },
     "execution_count": 119,
     "metadata": {},
     "output_type": "execute_result"
    }
   ],
   "source": [
    "matriz.flatten().shape"
   ]
  },
  {
   "cell_type": "code",
   "execution_count": 121,
   "metadata": {},
   "outputs": [
    {
     "data": {
      "text/plain": [
       "array([[0.67108836, 0.83223544, 0.39910752, 0.55372198],\n",
       "       [0.74482533, 0.70431418, 0.93221089, 0.56182305],\n",
       "       [0.94392432, 0.20267215, 0.40349934, 0.24882548],\n",
       "       [0.97608931, 0.9816517 , 0.4894994 , 0.38994704],\n",
       "       [0.13424101, 0.42038386, 0.9930686 , 0.63143588],\n",
       "       [0.58181592, 0.15719967, 0.87917542, 0.46704289],\n",
       "       [0.1172305 , 0.62713614, 0.12767335, 0.50871652],\n",
       "       [0.09094126, 0.69631714, 0.84889418, 0.156248  ],\n",
       "       [0.68068845, 0.20785685, 0.93109451, 0.40937168],\n",
       "       [0.12951992, 0.99502984, 0.96540049, 0.05178053]])"
      ]
     },
     "execution_count": 121,
     "metadata": {},
     "output_type": "execute_result"
    }
   ],
   "source": [
    "matriz"
   ]
  },
  {
   "cell_type": "code",
   "execution_count": 120,
   "metadata": {},
   "outputs": [
    {
     "data": {
      "text/plain": [
       "array([[1.67108836, 2.83223544, 3.39910752, 4.55372198],\n",
       "       [1.74482533, 2.70431418, 3.93221089, 4.56182305],\n",
       "       [1.94392432, 2.20267215, 3.40349934, 4.24882548],\n",
       "       [1.97608931, 2.9816517 , 3.4894994 , 4.38994704],\n",
       "       [1.13424101, 2.42038386, 3.9930686 , 4.63143588],\n",
       "       [1.58181592, 2.15719967, 3.87917542, 4.46704289],\n",
       "       [1.1172305 , 2.62713614, 3.12767335, 4.50871652],\n",
       "       [1.09094126, 2.69631714, 3.84889418, 4.156248  ],\n",
       "       [1.68068845, 2.20785685, 3.93109451, 4.40937168],\n",
       "       [1.12951992, 2.99502984, 3.96540049, 4.05178053]])"
      ]
     },
     "execution_count": 120,
     "metadata": {},
     "output_type": "execute_result"
    }
   ],
   "source": [
    "matriz + np.array([1, 2, 3, 4])"
   ]
  },
  {
   "cell_type": "code",
   "execution_count": 122,
   "metadata": {},
   "outputs": [
    {
     "data": {
      "text/plain": [
       "array([[1.67108836, 2.83223544, 3.39910752, 4.55372198],\n",
       "       [1.74482533, 2.70431418, 3.93221089, 4.56182305],\n",
       "       [1.94392432, 2.20267215, 3.40349934, 4.24882548],\n",
       "       [1.97608931, 2.9816517 , 3.4894994 , 4.38994704],\n",
       "       [1.13424101, 2.42038386, 3.9930686 , 4.63143588],\n",
       "       [1.58181592, 2.15719967, 3.87917542, 4.46704289],\n",
       "       [1.1172305 , 2.62713614, 3.12767335, 4.50871652],\n",
       "       [1.09094126, 2.69631714, 3.84889418, 4.156248  ],\n",
       "       [1.68068845, 2.20785685, 3.93109451, 4.40937168],\n",
       "       [1.12951992, 2.99502984, 3.96540049, 4.05178053]])"
      ]
     },
     "execution_count": 122,
     "metadata": {},
     "output_type": "execute_result"
    }
   ],
   "source": [
    "matriz + [1, 2, 3, 4]"
   ]
  },
  {
   "cell_type": "code",
   "execution_count": 123,
   "metadata": {},
   "outputs": [
    {
     "data": {
      "text/plain": [
       "array([10.81060223, 10.91988858, 10.36979717, 10.16939637, 10.87781095])"
      ]
     },
     "execution_count": 123,
     "metadata": {},
     "output_type": "execute_result"
    }
   ],
   "source": [
    "vector + 10"
   ]
  },
  {
   "cell_type": "code",
   "execution_count": 124,
   "metadata": {},
   "outputs": [
    {
     "data": {
      "text/plain": [
       "array([0.81060223, 0.91988858, 0.36979717, 0.16939637, 0.87781095])"
      ]
     },
     "execution_count": 124,
     "metadata": {},
     "output_type": "execute_result"
    }
   ],
   "source": [
    "vector"
   ]
  },
  {
   "cell_type": "code",
   "execution_count": 127,
   "metadata": {},
   "outputs": [
    {
     "data": {
      "text/plain": [
       "array([[1, 1, 0, 1],\n",
       "       [1, 1, 1, 1],\n",
       "       [1, 0, 0, 0],\n",
       "       [1, 1, 0, 0],\n",
       "       [0, 0, 1, 1],\n",
       "       [1, 0, 1, 0],\n",
       "       [0, 1, 0, 1],\n",
       "       [0, 1, 1, 0],\n",
       "       [1, 0, 1, 0],\n",
       "       [0, 1, 1, 0]])"
      ]
     },
     "execution_count": 127,
     "metadata": {},
     "output_type": "execute_result"
    }
   ],
   "source": [
    "np.where(matriz > 0.5, 1, 0)"
   ]
  },
  {
   "cell_type": "code",
   "execution_count": 128,
   "metadata": {},
   "outputs": [
    {
     "data": {
      "text/plain": [
       "dtype('float64')"
      ]
     },
     "execution_count": 128,
     "metadata": {},
     "output_type": "execute_result"
    }
   ],
   "source": [
    "vector.dtype"
   ]
  },
  {
   "cell_type": "code",
   "execution_count": 129,
   "metadata": {},
   "outputs": [
    {
     "data": {
      "text/plain": [
       "dtype('<U21')"
      ]
     },
     "execution_count": 129,
     "metadata": {},
     "output_type": "execute_result"
    }
   ],
   "source": [
    "a=np.where(matriz > 0.5, 'hola', 0)\n",
    "\n",
    "a.dtype"
   ]
  },
  {
   "cell_type": "code",
   "execution_count": 130,
   "metadata": {},
   "outputs": [
    {
     "data": {
      "text/plain": [
       "dtype('<U5')"
      ]
     },
     "execution_count": 130,
     "metadata": {},
     "output_type": "execute_result"
    }
   ],
   "source": [
    "np.array(['hola', 'adios']).dtype"
   ]
  },
  {
   "cell_type": "code",
   "execution_count": null,
   "metadata": {},
   "outputs": [],
   "source": []
  },
  {
   "cell_type": "code",
   "execution_count": null,
   "metadata": {},
   "outputs": [],
   "source": []
  },
  {
   "cell_type": "code",
   "execution_count": null,
   "metadata": {},
   "outputs": [],
   "source": []
  }
 ],
 "metadata": {
  "kernelspec": {
   "display_name": "clase",
   "language": "python",
   "name": "clase"
  },
  "language_info": {
   "codemirror_mode": {
    "name": "ipython",
    "version": 3
   },
   "file_extension": ".py",
   "mimetype": "text/x-python",
   "name": "python",
   "nbconvert_exporter": "python",
   "pygments_lexer": "ipython3",
   "version": "3.9.12"
  },
  "varInspector": {
   "cols": {
    "lenName": 16,
    "lenType": 16,
    "lenVar": 40
   },
   "kernels_config": {
    "python": {
     "delete_cmd_postfix": "",
     "delete_cmd_prefix": "del ",
     "library": "var_list.py",
     "varRefreshCmd": "print(var_dic_list())"
    },
    "r": {
     "delete_cmd_postfix": ") ",
     "delete_cmd_prefix": "rm(",
     "library": "var_list.r",
     "varRefreshCmd": "cat(var_dic_list()) "
    }
   },
   "types_to_exclude": [
    "module",
    "function",
    "builtin_function_or_method",
    "instance",
    "_Feature"
   ],
   "window_display": false
  }
 },
 "nbformat": 4,
 "nbformat_minor": 4
}
