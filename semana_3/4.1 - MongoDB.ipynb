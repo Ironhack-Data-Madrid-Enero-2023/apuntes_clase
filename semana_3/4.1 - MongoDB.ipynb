{
 "cells": [
  {
   "cell_type": "markdown",
   "id": "296c3fa2",
   "metadata": {},
   "source": [
    "# 4.1 - MongoDB\n",
    "\n",
    "![mongo](images/mongodb.jpeg)\n",
    "\n",
    "https://docs.mongodb.com/manual/administration/install-community/\n",
    "\n",
    "https://docs.mongodb.com/compass/current/install/\n",
    "\n",
    "MongoDB es una base de datos orientada a documentos. Esto quiere decir que en lugar de guardar los datos en registros, guarda los datos en documentos. Estos documentos son almacenados en BSON, que es una representación binaria de JSON.\n",
    "\n",
    "Una de las diferencias más importantes con respecto a las bases de datos relacionales, es que no es necesario seguir un esquema. Los documentos de una misma colección, concepto similar a una tabla de una base de datos relacional, pueden tener esquemas diferentes.\n"
   ]
  },
  {
   "cell_type": "code",
   "execution_count": 1,
   "id": "d686b82b",
   "metadata": {},
   "outputs": [
    {
     "name": "stdout",
     "output_type": "stream",
     "text": [
      "Requirement already satisfied: pymongo in /opt/homebrew/Caskroom/miniconda/base/envs/clase/lib/python3.9/site-packages (4.3.3)\n",
      "Requirement already satisfied: dnspython<3.0.0,>=1.16.0 in /opt/homebrew/Caskroom/miniconda/base/envs/clase/lib/python3.9/site-packages (from pymongo) (2.2.1)\n",
      "\u001b[33mWARNING: Error parsing requirements for pyarrow: [Errno 21] Is a directory: '/opt/homebrew/Caskroom/miniconda/base/envs/clase/lib/python3.9/site-packages/pyarrow-10.0.1.dist-info/METADATA'\u001b[0m\u001b[33m\n",
      "\u001b[0mNote: you may need to restart the kernel to use updated packages.\n"
     ]
    }
   ],
   "source": [
    "%pip install pymongo"
   ]
  },
  {
   "cell_type": "code",
   "execution_count": 2,
   "id": "b53f90eb",
   "metadata": {},
   "outputs": [],
   "source": [
    "from pymongo import MongoClient"
   ]
  },
  {
   "cell_type": "code",
   "execution_count": 3,
   "id": "87c2662e",
   "metadata": {},
   "outputs": [
    {
     "data": {
      "text/plain": [
       "MongoClient(host=['localhost:27017'], document_class=dict, tz_aware=False, connect=True)"
      ]
     },
     "execution_count": 3,
     "metadata": {},
     "output_type": "execute_result"
    }
   ],
   "source": [
    "cursor=MongoClient()\n",
    "\n",
    "cursor"
   ]
  },
  {
   "cell_type": "code",
   "execution_count": 4,
   "id": "0eff5667",
   "metadata": {},
   "outputs": [
    {
     "data": {
      "text/plain": [
       "MongoClient(host=['localhost:27017'], document_class=dict, tz_aware=False, connect=True)"
      ]
     },
     "execution_count": 4,
     "metadata": {},
     "output_type": "execute_result"
    }
   ],
   "source": [
    "str_conn='mongodb://localhost:27017'\n",
    "\n",
    "cursor=MongoClient(str_conn)\n",
    "\n",
    "cursor"
   ]
  },
  {
   "cell_type": "code",
   "execution_count": 5,
   "id": "882a8427",
   "metadata": {},
   "outputs": [
    {
     "data": {
      "text/plain": [
       "['admin', 'companies', 'config', 'ironcomes', 'local']"
      ]
     },
     "execution_count": 5,
     "metadata": {},
     "output_type": "execute_result"
    }
   ],
   "source": [
    "cursor.list_database_names()  # lista de bases de datos"
   ]
  },
  {
   "cell_type": "code",
   "execution_count": 6,
   "id": "ae026dc9",
   "metadata": {},
   "outputs": [],
   "source": [
    "db=cursor.nueva_db   # crea una bade de datos vacia"
   ]
  },
  {
   "cell_type": "code",
   "execution_count": 7,
   "id": "af4151db",
   "metadata": {},
   "outputs": [
    {
     "data": {
      "text/plain": [
       "['admin', 'companies', 'config', 'ironcomes', 'local']"
      ]
     },
     "execution_count": 7,
     "metadata": {},
     "output_type": "execute_result"
    }
   ],
   "source": [
    "cursor.list_database_names()"
   ]
  },
  {
   "cell_type": "code",
   "execution_count": 8,
   "id": "bc989056",
   "metadata": {},
   "outputs": [],
   "source": [
    "colec=db.n_colec    # nueva coleccion"
   ]
  },
  {
   "cell_type": "code",
   "execution_count": 9,
   "id": "85c8002d",
   "metadata": {},
   "outputs": [
    {
     "data": {
      "text/plain": [
       "[]"
      ]
     },
     "execution_count": 9,
     "metadata": {},
     "output_type": "execute_result"
    }
   ],
   "source": [
    "db.list_collection_names()"
   ]
  },
  {
   "cell_type": "code",
   "execution_count": 11,
   "id": "6afb0b69",
   "metadata": {},
   "outputs": [
    {
     "data": {
      "text/plain": [
       "<pymongo.results.InsertOneResult at 0x1081af220>"
      ]
     },
     "execution_count": 11,
     "metadata": {},
     "output_type": "execute_result"
    }
   ],
   "source": [
    "dictio={'nombre': 'Pepe', 'edad': 43, '4': [0, 1, 2, 3]}\n",
    "\n",
    "colec.insert_one(dictio)"
   ]
  },
  {
   "cell_type": "code",
   "execution_count": 12,
   "id": "f4320811",
   "metadata": {},
   "outputs": [
    {
     "data": {
      "text/plain": [
       "['admin', 'companies', 'config', 'ironcomes', 'local', 'nueva_db']"
      ]
     },
     "execution_count": 12,
     "metadata": {},
     "output_type": "execute_result"
    }
   ],
   "source": [
    "cursor.list_database_names()"
   ]
  },
  {
   "cell_type": "code",
   "execution_count": 13,
   "id": "812407c3",
   "metadata": {},
   "outputs": [
    {
     "data": {
      "text/plain": [
       "['n_colec']"
      ]
     },
     "execution_count": 13,
     "metadata": {},
     "output_type": "execute_result"
    }
   ],
   "source": [
    "db.list_collection_names()"
   ]
  },
  {
   "cell_type": "code",
   "execution_count": 17,
   "id": "e54fc648",
   "metadata": {},
   "outputs": [
    {
     "data": {
      "text/plain": [
       "<pymongo.results.InsertManyResult at 0x108951700>"
      ]
     },
     "execution_count": 17,
     "metadata": {},
     "output_type": "execute_result"
    }
   ],
   "source": [
    "# insertar varios\n",
    "\n",
    "# Equivalente SQL\n",
    "\n",
    "# insert into colec (columnas) values (valores);\n",
    "\n",
    "json=[{'nombre': 'yo', 'edad': 38},\n",
    "      {'_id': 1, 'actividad': 'natacion', 'lugar': 'aqui'}]\n",
    "\n",
    "\n",
    "colec.insert_many(json)"
   ]
  },
  {
   "cell_type": "code",
   "execution_count": 18,
   "id": "0dcf515f",
   "metadata": {},
   "outputs": [
    {
     "data": {
      "text/plain": [
       "<pymongo.cursor.Cursor at 0x108951610>"
      ]
     },
     "execution_count": 18,
     "metadata": {},
     "output_type": "execute_result"
    }
   ],
   "source": [
    "# select * from colec;\n",
    "\n",
    "colec.find()"
   ]
  },
  {
   "cell_type": "code",
   "execution_count": 19,
   "id": "51f1daf9",
   "metadata": {},
   "outputs": [
    {
     "data": {
      "text/plain": [
       "[{'_id': ObjectId('63db829ef40f08f7223f8277'),\n",
       "  'nombre': 'Pepe',\n",
       "  'edad': 43,\n",
       "  '4': [0, 1, 2, 3]},\n",
       " {'_id': ObjectId('63db835df40f08f7223f8278'), 'nombre': 'yo', 'edad': 38},\n",
       " {'_id': 0, 'actividad': 'natacion', 'lugar': 'aqui'},\n",
       " {'_id': ObjectId('63db83d6f40f08f7223f8279'), 'nombre': 'yo', 'edad': 38},\n",
       " {'_id': ObjectId('63db83e1f40f08f7223f827a'), 'nombre': 'yo', 'edad': 38},\n",
       " {'_id': 1, 'actividad': 'natacion', 'lugar': 'aqui'}]"
      ]
     },
     "execution_count": 19,
     "metadata": {},
     "output_type": "execute_result"
    }
   ],
   "source": [
    "list(colec.find())"
   ]
  },
  {
   "cell_type": "code",
   "execution_count": 20,
   "id": "45b50423",
   "metadata": {},
   "outputs": [],
   "source": [
    "res=list(colec.find())"
   ]
  },
  {
   "cell_type": "code",
   "execution_count": 21,
   "id": "20e41237",
   "metadata": {},
   "outputs": [
    {
     "data": {
      "text/plain": [
       "{'_id': ObjectId('63db829ef40f08f7223f8277'),\n",
       " 'nombre': 'Pepe',\n",
       " 'edad': 43,\n",
       " '4': [0, 1, 2, 3]}"
      ]
     },
     "execution_count": 21,
     "metadata": {},
     "output_type": "execute_result"
    }
   ],
   "source": [
    "res[0]"
   ]
  },
  {
   "cell_type": "code",
   "execution_count": 23,
   "id": "db7dc826",
   "metadata": {},
   "outputs": [
    {
     "data": {
      "text/plain": [
       "list"
      ]
     },
     "execution_count": 23,
     "metadata": {},
     "output_type": "execute_result"
    }
   ],
   "source": [
    "type(res[0]['4'])"
   ]
  },
  {
   "cell_type": "code",
   "execution_count": 26,
   "id": "27d96a93",
   "metadata": {},
   "outputs": [
    {
     "data": {
      "text/plain": [
       "<pymongo.results.InsertManyResult at 0x10848ea60>"
      ]
     },
     "execution_count": 26,
     "metadata": {},
     "output_type": "execute_result"
    }
   ],
   "source": [
    "json=[{'nombre': 'Alex', 'edad': 28},\n",
    "      {'_id': 25, 'actividad': 'natacion', 'hora': '22:00', 'lugar': 'jultayu'}]\n",
    "\n",
    "\n",
    "colec.insert_many(json)"
   ]
  },
  {
   "cell_type": "markdown",
   "id": "5cec891a",
   "metadata": {},
   "source": [
    "### Queries"
   ]
  },
  {
   "cell_type": "code",
   "execution_count": 27,
   "id": "308bdc0f",
   "metadata": {},
   "outputs": [
    {
     "data": {
      "text/plain": [
       "[{'_id': ObjectId('63db829ef40f08f7223f8277'),\n",
       "  'nombre': 'Pepe',\n",
       "  'edad': 43,\n",
       "  '4': [0, 1, 2, 3]},\n",
       " {'_id': ObjectId('63db835df40f08f7223f8278'), 'nombre': 'yo', 'edad': 38},\n",
       " {'_id': 0, 'actividad': 'natacion', 'lugar': 'aqui'},\n",
       " {'_id': ObjectId('63db83d6f40f08f7223f8279'), 'nombre': 'yo', 'edad': 38},\n",
       " {'_id': ObjectId('63db83e1f40f08f7223f827a'), 'nombre': 'yo', 'edad': 38},\n",
       " {'_id': 1, 'actividad': 'natacion', 'lugar': 'aqui'},\n",
       " {'_id': ObjectId('63db855ef40f08f7223f827b'), 'nombre': 'Ana', 'edad': 24},\n",
       " {'_id': 24, 'actividad': 'natacion', 'hora': '22:00', 'lugar': 'aculla'},\n",
       " {'_id': ObjectId('63db8571f40f08f7223f827c'), 'nombre': 'Alex', 'edad': 28},\n",
       " {'_id': 25, 'actividad': 'natacion', 'hora': '22:00', 'lugar': 'jultayu'}]"
      ]
     },
     "execution_count": 27,
     "metadata": {},
     "output_type": "execute_result"
    }
   ],
   "source": [
    "# select * from colec;\n",
    "\n",
    "list(colec.find())"
   ]
  },
  {
   "cell_type": "code",
   "execution_count": 28,
   "id": "52107153",
   "metadata": {},
   "outputs": [
    {
     "data": {
      "text/plain": [
       "[{'_id': ObjectId('63db855ef40f08f7223f827b'), 'nombre': 'Ana', 'edad': 24}]"
      ]
     },
     "execution_count": 28,
     "metadata": {},
     "output_type": "execute_result"
    }
   ],
   "source": [
    "# select * from colec where edad=24;\n",
    "\n",
    "list(colec.find({'edad': 24}))"
   ]
  },
  {
   "cell_type": "code",
   "execution_count": 29,
   "id": "dbfc33db",
   "metadata": {},
   "outputs": [
    {
     "data": {
      "text/plain": [
       "[{'_id': ObjectId('63db835df40f08f7223f8278'), 'nombre': 'yo', 'edad': 38},\n",
       " {'_id': ObjectId('63db83d6f40f08f7223f8279'), 'nombre': 'yo', 'edad': 38},\n",
       " {'_id': ObjectId('63db83e1f40f08f7223f827a'), 'nombre': 'yo', 'edad': 38}]"
      ]
     },
     "execution_count": 29,
     "metadata": {},
     "output_type": "execute_result"
    }
   ],
   "source": [
    "# select * from colec where nombre=yo;\n",
    "\n",
    "list(colec.find({'nombre': 'yo'}))"
   ]
  },
  {
   "cell_type": "code",
   "execution_count": 30,
   "id": "b2294eb5",
   "metadata": {},
   "outputs": [
    {
     "data": {
      "text/plain": [
       "[{'_id': ObjectId('63db829ef40f08f7223f8277'),\n",
       "  'nombre': 'Pepe',\n",
       "  'edad': 43,\n",
       "  '4': [0, 1, 2, 3]},\n",
       " {'_id': ObjectId('63db835df40f08f7223f8278'), 'nombre': 'yo', 'edad': 38},\n",
       " {'_id': ObjectId('63db83d6f40f08f7223f8279'), 'nombre': 'yo', 'edad': 38},\n",
       " {'_id': ObjectId('63db83e1f40f08f7223f827a'), 'nombre': 'yo', 'edad': 38},\n",
       " {'_id': ObjectId('63db8571f40f08f7223f827c'), 'nombre': 'Alex', 'edad': 28}]"
      ]
     },
     "execution_count": 30,
     "metadata": {},
     "output_type": "execute_result"
    }
   ],
   "source": [
    "# select * from colec where edad>24;\n",
    "\n",
    "list(colec.find({'edad': {'$gt': 24}}))"
   ]
  },
  {
   "cell_type": "code",
   "execution_count": 31,
   "id": "347ac0ff",
   "metadata": {},
   "outputs": [
    {
     "data": {
      "text/plain": [
       "[{'_id': ObjectId('63db829ef40f08f7223f8277'),\n",
       "  'nombre': 'Pepe',\n",
       "  'edad': 43,\n",
       "  '4': [0, 1, 2, 3]},\n",
       " {'_id': ObjectId('63db835df40f08f7223f8278'), 'nombre': 'yo', 'edad': 38},\n",
       " {'_id': ObjectId('63db83d6f40f08f7223f8279'), 'nombre': 'yo', 'edad': 38},\n",
       " {'_id': ObjectId('63db83e1f40f08f7223f827a'), 'nombre': 'yo', 'edad': 38},\n",
       " {'_id': ObjectId('63db855ef40f08f7223f827b'), 'nombre': 'Ana', 'edad': 24},\n",
       " {'_id': ObjectId('63db8571f40f08f7223f827c'), 'nombre': 'Alex', 'edad': 28}]"
      ]
     },
     "execution_count": 31,
     "metadata": {},
     "output_type": "execute_result"
    }
   ],
   "source": [
    "# select * from colec where edad>=24;\n",
    "\n",
    "list(colec.find({'edad': {'$gte': 24}}))"
   ]
  },
  {
   "cell_type": "code",
   "execution_count": 33,
   "id": "18f2b6d7",
   "metadata": {},
   "outputs": [
    {
     "data": {
      "text/plain": [
       "[{'_id': ObjectId('63db855ef40f08f7223f827b'), 'nombre': 'Ana', 'edad': 24},\n",
       " {'_id': ObjectId('63db8571f40f08f7223f827c'), 'nombre': 'Alex', 'edad': 28}]"
      ]
     },
     "execution_count": 33,
     "metadata": {},
     "output_type": "execute_result"
    }
   ],
   "source": [
    "# select * from colec where edad<38;\n",
    "\n",
    "list(colec.find({'edad': {'$lt': 38}}))"
   ]
  },
  {
   "cell_type": "code",
   "execution_count": 34,
   "id": "834043b6",
   "metadata": {},
   "outputs": [
    {
     "data": {
      "text/plain": [
       "[{'_id': ObjectId('63db835df40f08f7223f8278'), 'nombre': 'yo', 'edad': 38},\n",
       " {'_id': ObjectId('63db83d6f40f08f7223f8279'), 'nombre': 'yo', 'edad': 38},\n",
       " {'_id': ObjectId('63db83e1f40f08f7223f827a'), 'nombre': 'yo', 'edad': 38},\n",
       " {'_id': ObjectId('63db855ef40f08f7223f827b'), 'nombre': 'Ana', 'edad': 24},\n",
       " {'_id': ObjectId('63db8571f40f08f7223f827c'), 'nombre': 'Alex', 'edad': 28}]"
      ]
     },
     "execution_count": 34,
     "metadata": {},
     "output_type": "execute_result"
    }
   ],
   "source": [
    "# select * from colec where edad<=38;\n",
    "\n",
    "list(colec.find({'edad': {'$lte': 38}}))"
   ]
  },
  {
   "cell_type": "code",
   "execution_count": 35,
   "id": "27846ebb",
   "metadata": {},
   "outputs": [
    {
     "data": {
      "text/plain": [
       "[{'_id': ObjectId('63db829ef40f08f7223f8277'),\n",
       "  'nombre': 'Pepe',\n",
       "  'edad': 43,\n",
       "  '4': [0, 1, 2, 3]},\n",
       " {'_id': 0, 'actividad': 'natacion', 'lugar': 'aqui'},\n",
       " {'_id': 1, 'actividad': 'natacion', 'lugar': 'aqui'},\n",
       " {'_id': ObjectId('63db855ef40f08f7223f827b'), 'nombre': 'Ana', 'edad': 24},\n",
       " {'_id': 24, 'actividad': 'natacion', 'hora': '22:00', 'lugar': 'aculla'},\n",
       " {'_id': ObjectId('63db8571f40f08f7223f827c'), 'nombre': 'Alex', 'edad': 28},\n",
       " {'_id': 25, 'actividad': 'natacion', 'hora': '22:00', 'lugar': 'jultayu'}]"
      ]
     },
     "execution_count": 35,
     "metadata": {},
     "output_type": "execute_result"
    }
   ],
   "source": [
    "# select * from colec where edad!=38;\n",
    "\n",
    "list(colec.find({'edad': {'$ne': 38}}))"
   ]
  },
  {
   "cell_type": "code",
   "execution_count": 36,
   "id": "0442338a",
   "metadata": {},
   "outputs": [
    {
     "data": {
      "text/plain": [
       "[{'_id': ObjectId('63db855ef40f08f7223f827b'), 'nombre': 'Ana', 'edad': 24}]"
      ]
     },
     "execution_count": 36,
     "metadata": {},
     "output_type": "execute_result"
    }
   ],
   "source": [
    "# select * from colec where edad!=38 and nombre=Ana;\n",
    "\n",
    "query={'$and': [{'edad': {'$ne': 38}},\n",
    "                {'nombre': 'Ana'}]}\n",
    "\n",
    "list(colec.find(query))"
   ]
  },
  {
   "cell_type": "code",
   "execution_count": 37,
   "id": "dce6127a",
   "metadata": {},
   "outputs": [
    {
     "data": {
      "text/plain": [
       "[{'_id': ObjectId('63db8571f40f08f7223f827c'), 'nombre': 'Alex', 'edad': 28}]"
      ]
     },
     "execution_count": 37,
     "metadata": {},
     "output_type": "execute_result"
    }
   ],
   "source": [
    "# select * from colec where edad<38 and edad>24;\n",
    "# select * from colec where edad between (38, 24);\n",
    "\n",
    "query={'$and': [{'edad': {'$lt': 38}},\n",
    "                {'edad': {'$gt': 24}}]}\n",
    "\n",
    "list(colec.find(query))"
   ]
  },
  {
   "cell_type": "code",
   "execution_count": 39,
   "id": "cb1b6794",
   "metadata": {},
   "outputs": [
    {
     "data": {
      "text/plain": [
       "[{'_id': ObjectId('63db829ef40f08f7223f8277'),\n",
       "  'nombre': 'Pepe',\n",
       "  'edad': 43,\n",
       "  '4': [0, 1, 2, 3]},\n",
       " {'_id': 0, 'actividad': 'natacion', 'lugar': 'aqui'}]"
      ]
     },
     "execution_count": 39,
     "metadata": {},
     "output_type": "execute_result"
    }
   ],
   "source": [
    "# select * from colec where edad!=38 limit 2;\n",
    "\n",
    "query={'edad': {'$ne': 38}}\n",
    "\n",
    "list(colec.find(query).limit(2))"
   ]
  },
  {
   "cell_type": "code",
   "execution_count": 43,
   "id": "bd5b3f2d",
   "metadata": {},
   "outputs": [
    {
     "data": {
      "text/plain": [
       "[{'_id': ObjectId('63db829ef40f08f7223f8277'),\n",
       "  'nombre': 'Pepe',\n",
       "  'edad': 43,\n",
       "  '4': [0, 1, 2, 3]},\n",
       " {'_id': ObjectId('63db8571f40f08f7223f827c'), 'nombre': 'Alex', 'edad': 28},\n",
       " {'_id': ObjectId('63db855ef40f08f7223f827b'), 'nombre': 'Ana', 'edad': 24}]"
      ]
     },
     "execution_count": 43,
     "metadata": {},
     "output_type": "execute_result"
    }
   ],
   "source": [
    "# select * from colec where edad!=38 order by edad desc limit 3;\n",
    "\n",
    "query={'edad': {'$ne': 38}}\n",
    "\n",
    "list(colec.find(query).sort('edad', -1).limit(3))   # sort 1 asc, sort -1 desc"
   ]
  },
  {
   "cell_type": "code",
   "execution_count": 44,
   "id": "509215c5",
   "metadata": {},
   "outputs": [
    {
     "data": {
      "text/plain": [
       "<pymongo.results.UpdateResult at 0x108951be0>"
      ]
     },
     "execution_count": 44,
     "metadata": {},
     "output_type": "execute_result"
    }
   ],
   "source": [
    "colec.update_one({'_id': 1}, {'$set': {'lugar': 'Madrid'}})"
   ]
  },
  {
   "cell_type": "code",
   "execution_count": 46,
   "id": "9209da96",
   "metadata": {},
   "outputs": [
    {
     "data": {
      "text/plain": [
       "<pymongo.results.UpdateResult at 0x108d9cf70>"
      ]
     },
     "execution_count": 46,
     "metadata": {},
     "output_type": "execute_result"
    }
   ],
   "source": [
    "colec.update_one({'_id': 1}, {'$set': {'edad': 23}})"
   ]
  },
  {
   "cell_type": "code",
   "execution_count": 47,
   "id": "3596c61e",
   "metadata": {},
   "outputs": [
    {
     "data": {
      "text/plain": [
       "[{'_id': 1, 'actividad': 'natacion', 'lugar': 'Madrid', 'edad': 23}]"
      ]
     },
     "execution_count": 47,
     "metadata": {},
     "output_type": "execute_result"
    }
   ],
   "source": [
    "list(colec.find({'_id': 1}))"
   ]
  },
  {
   "cell_type": "code",
   "execution_count": 48,
   "id": "d3462603",
   "metadata": {},
   "outputs": [
    {
     "data": {
      "text/plain": [
       "<pymongo.results.UpdateResult at 0x108d9c7c0>"
      ]
     },
     "execution_count": 48,
     "metadata": {},
     "output_type": "execute_result"
    }
   ],
   "source": [
    "colec.update_many({'edad': 38}, {'$set': {'nombre': 42}})"
   ]
  },
  {
   "cell_type": "code",
   "execution_count": 49,
   "id": "bb1ec1ca",
   "metadata": {
    "scrolled": false
   },
   "outputs": [
    {
     "data": {
      "text/plain": [
       "[{'_id': ObjectId('63db835df40f08f7223f8278'), 'nombre': 42, 'edad': 38},\n",
       " {'_id': ObjectId('63db83d6f40f08f7223f8279'), 'nombre': 42, 'edad': 38},\n",
       " {'_id': ObjectId('63db83e1f40f08f7223f827a'), 'nombre': 42, 'edad': 38}]"
      ]
     },
     "execution_count": 49,
     "metadata": {},
     "output_type": "execute_result"
    }
   ],
   "source": [
    "query={'edad': 38}\n",
    "\n",
    "list(colec.find(query))"
   ]
  },
  {
   "cell_type": "code",
   "execution_count": 56,
   "id": "5acb8754",
   "metadata": {},
   "outputs": [
    {
     "data": {
      "text/plain": [
       "[{'nombre': 42}, {'nombre': 42}, {'nombre': 42}]"
      ]
     },
     "execution_count": 56,
     "metadata": {},
     "output_type": "execute_result"
    }
   ],
   "source": [
    "# select edad from colec;\n",
    "\n",
    "query={'edad': 38}  # es para registros\n",
    "\n",
    "select={'_id':0, 'nombre':1}   # 0 es que no venga, 1 es que venga, es para columnas\n",
    "\n",
    "list(colec.find(query, select))"
   ]
  },
  {
   "cell_type": "code",
   "execution_count": 57,
   "id": "5e8b0e07",
   "metadata": {},
   "outputs": [
    {
     "data": {
      "text/plain": [
       "<pymongo.results.DeleteResult at 0x108951fd0>"
      ]
     },
     "execution_count": 57,
     "metadata": {},
     "output_type": "execute_result"
    }
   ],
   "source": [
    "# delete from colec where _id=0;\n",
    "\n",
    "colec.delete_one({'_id': 0})"
   ]
  },
  {
   "cell_type": "code",
   "execution_count": 58,
   "id": "0d184896",
   "metadata": {},
   "outputs": [
    {
     "data": {
      "text/plain": [
       "[]"
      ]
     },
     "execution_count": 58,
     "metadata": {},
     "output_type": "execute_result"
    }
   ],
   "source": [
    "list(colec.find({'_id': 0}))"
   ]
  },
  {
   "cell_type": "code",
   "execution_count": 59,
   "id": "d2e6184f",
   "metadata": {},
   "outputs": [
    {
     "data": {
      "text/plain": [
       "<pymongo.results.DeleteResult at 0x108951ee0>"
      ]
     },
     "execution_count": 59,
     "metadata": {},
     "output_type": "execute_result"
    }
   ],
   "source": [
    "# delete from colec where nombre=42;\n",
    "\n",
    "colec.delete_one({'nombre': 42})"
   ]
  },
  {
   "cell_type": "code",
   "execution_count": 60,
   "id": "0993fa7f",
   "metadata": {},
   "outputs": [
    {
     "data": {
      "text/plain": [
       "[{'_id': ObjectId('63db83d6f40f08f7223f8279'), 'nombre': 42, 'edad': 38},\n",
       " {'_id': ObjectId('63db83e1f40f08f7223f827a'), 'nombre': 42, 'edad': 38}]"
      ]
     },
     "execution_count": 60,
     "metadata": {},
     "output_type": "execute_result"
    }
   ],
   "source": [
    "list(colec.find({'nombre': 42}))"
   ]
  },
  {
   "cell_type": "code",
   "execution_count": 61,
   "id": "c1af28f0",
   "metadata": {},
   "outputs": [
    {
     "data": {
      "text/plain": [
       "<pymongo.results.DeleteResult at 0x108976640>"
      ]
     },
     "execution_count": 61,
     "metadata": {},
     "output_type": "execute_result"
    }
   ],
   "source": [
    "# delete from colec where nombre=42;\n",
    "\n",
    "colec.delete_many({'nombre': 42})"
   ]
  },
  {
   "cell_type": "code",
   "execution_count": 63,
   "id": "15718481",
   "metadata": {},
   "outputs": [
    {
     "data": {
      "text/plain": [
       "[{'_id': ObjectId('63db829ef40f08f7223f8277'),\n",
       "  'nombre': 'Pepe',\n",
       "  'edad': 43,\n",
       "  '4': [0, 1, 2, 3]},\n",
       " {'_id': 1, 'actividad': 'natacion', 'lugar': 'Madrid', 'edad': 23},\n",
       " {'_id': ObjectId('63db855ef40f08f7223f827b'), 'nombre': 'Ana', 'edad': 24},\n",
       " {'_id': 24, 'actividad': 'natacion', 'hora': '22:00', 'lugar': 'aculla'},\n",
       " {'_id': ObjectId('63db8571f40f08f7223f827c'), 'nombre': 'Alex', 'edad': 28},\n",
       " {'_id': 25, 'actividad': 'natacion', 'hora': '22:00', 'lugar': 'jultayu'}]"
      ]
     },
     "execution_count": 63,
     "metadata": {},
     "output_type": "execute_result"
    }
   ],
   "source": [
    "list(colec.find())"
   ]
  },
  {
   "cell_type": "code",
   "execution_count": 64,
   "id": "cd8c08ae",
   "metadata": {},
   "outputs": [
    {
     "data": {
      "text/plain": [
       "[{'_id': '', 'count': 6}]"
      ]
     },
     "execution_count": 64,
     "metadata": {},
     "output_type": "execute_result"
    }
   ],
   "source": [
    "# select count(*) from colec group by _id;     #por cada id suma 1\n",
    "\n",
    "list(colec.aggregate([{'$group': {'_id': '', 'count': {'$sum': 1}}}]))"
   ]
  },
  {
   "cell_type": "code",
   "execution_count": 65,
   "id": "eeb6041b",
   "metadata": {},
   "outputs": [],
   "source": [
    "colec.drop()     # borrar coleccion"
   ]
  },
  {
   "cell_type": "code",
   "execution_count": 66,
   "id": "39bf8b20",
   "metadata": {},
   "outputs": [
    {
     "data": {
      "text/plain": [
       "[]"
      ]
     },
     "execution_count": 66,
     "metadata": {},
     "output_type": "execute_result"
    }
   ],
   "source": [
    "db.list_collection_names()"
   ]
  },
  {
   "cell_type": "code",
   "execution_count": 67,
   "id": "f0b25eb5",
   "metadata": {},
   "outputs": [
    {
     "data": {
      "text/plain": [
       "['admin', 'companies', 'config', 'ironcomes', 'local']"
      ]
     },
     "execution_count": 67,
     "metadata": {},
     "output_type": "execute_result"
    }
   ],
   "source": [
    "cursor.list_database_names()"
   ]
  },
  {
   "cell_type": "markdown",
   "id": "be3cedee",
   "metadata": {},
   "source": [
    "### DB Companies"
   ]
  },
  {
   "cell_type": "code",
   "execution_count": null,
   "id": "501d1ab6",
   "metadata": {},
   "outputs": [],
   "source": []
  },
  {
   "cell_type": "code",
   "execution_count": null,
   "id": "03fe7510",
   "metadata": {},
   "outputs": [],
   "source": []
  },
  {
   "cell_type": "code",
   "execution_count": null,
   "id": "96a82439",
   "metadata": {
    "scrolled": false
   },
   "outputs": [],
   "source": []
  },
  {
   "cell_type": "code",
   "execution_count": null,
   "id": "d163257f",
   "metadata": {},
   "outputs": [],
   "source": []
  },
  {
   "cell_type": "code",
   "execution_count": null,
   "id": "39053424",
   "metadata": {},
   "outputs": [],
   "source": []
  },
  {
   "cell_type": "code",
   "execution_count": null,
   "id": "2e4f4e5c",
   "metadata": {},
   "outputs": [],
   "source": []
  },
  {
   "cell_type": "code",
   "execution_count": null,
   "id": "fabc68ba",
   "metadata": {},
   "outputs": [],
   "source": []
  },
  {
   "cell_type": "code",
   "execution_count": null,
   "id": "e457d14d",
   "metadata": {},
   "outputs": [],
   "source": []
  },
  {
   "cell_type": "code",
   "execution_count": null,
   "id": "05ce38fe",
   "metadata": {},
   "outputs": [],
   "source": []
  },
  {
   "cell_type": "code",
   "execution_count": null,
   "id": "9163322b",
   "metadata": {},
   "outputs": [],
   "source": []
  },
  {
   "cell_type": "markdown",
   "id": "3a5a081e",
   "metadata": {},
   "source": [
    "### Geoqueries"
   ]
  },
  {
   "cell_type": "code",
   "execution_count": null,
   "id": "fc1ac2f4",
   "metadata": {},
   "outputs": [],
   "source": []
  },
  {
   "cell_type": "code",
   "execution_count": null,
   "id": "fda7a05e",
   "metadata": {},
   "outputs": [],
   "source": []
  },
  {
   "cell_type": "code",
   "execution_count": null,
   "id": "4b6ea2d9",
   "metadata": {},
   "outputs": [],
   "source": []
  },
  {
   "cell_type": "code",
   "execution_count": null,
   "id": "ca153d3d",
   "metadata": {},
   "outputs": [],
   "source": []
  },
  {
   "cell_type": "code",
   "execution_count": null,
   "id": "79428353",
   "metadata": {},
   "outputs": [],
   "source": []
  },
  {
   "cell_type": "code",
   "execution_count": null,
   "id": "479d9e52",
   "metadata": {},
   "outputs": [],
   "source": []
  },
  {
   "cell_type": "code",
   "execution_count": null,
   "id": "06e2a013",
   "metadata": {},
   "outputs": [],
   "source": []
  },
  {
   "cell_type": "code",
   "execution_count": null,
   "id": "7908dfad",
   "metadata": {},
   "outputs": [],
   "source": []
  },
  {
   "cell_type": "code",
   "execution_count": null,
   "id": "958eb501",
   "metadata": {},
   "outputs": [],
   "source": []
  },
  {
   "cell_type": "code",
   "execution_count": null,
   "id": "0f5f4495",
   "metadata": {},
   "outputs": [],
   "source": []
  },
  {
   "cell_type": "code",
   "execution_count": null,
   "id": "5f12b4ea",
   "metadata": {},
   "outputs": [],
   "source": []
  },
  {
   "cell_type": "code",
   "execution_count": null,
   "id": "f92ce8fc",
   "metadata": {},
   "outputs": [],
   "source": []
  },
  {
   "cell_type": "code",
   "execution_count": null,
   "id": "0ffffeb3",
   "metadata": {},
   "outputs": [],
   "source": []
  },
  {
   "cell_type": "code",
   "execution_count": null,
   "id": "9dbd8672",
   "metadata": {},
   "outputs": [],
   "source": []
  }
 ],
 "metadata": {
  "kernelspec": {
   "display_name": "clase",
   "language": "python",
   "name": "clase"
  },
  "language_info": {
   "codemirror_mode": {
    "name": "ipython",
    "version": 3
   },
   "file_extension": ".py",
   "mimetype": "text/x-python",
   "name": "python",
   "nbconvert_exporter": "python",
   "pygments_lexer": "ipython3",
   "version": "3.9.12"
  },
  "varInspector": {
   "cols": {
    "lenName": 16,
    "lenType": 16,
    "lenVar": 40
   },
   "kernels_config": {
    "python": {
     "delete_cmd_postfix": "",
     "delete_cmd_prefix": "del ",
     "library": "var_list.py",
     "varRefreshCmd": "print(var_dic_list())"
    },
    "r": {
     "delete_cmd_postfix": ") ",
     "delete_cmd_prefix": "rm(",
     "library": "var_list.r",
     "varRefreshCmd": "cat(var_dic_list()) "
    }
   },
   "types_to_exclude": [
    "module",
    "function",
    "builtin_function_or_method",
    "instance",
    "_Feature"
   ],
   "window_display": false
  }
 },
 "nbformat": 4,
 "nbformat_minor": 5
}
