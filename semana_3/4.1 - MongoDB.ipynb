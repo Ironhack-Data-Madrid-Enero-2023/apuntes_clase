{
 "cells": [
  {
   "cell_type": "markdown",
   "id": "296c3fa2",
   "metadata": {},
   "source": [
    "# 4.1 - MongoDB\n",
    "\n",
    "![mongo](images/mongodb.jpeg)\n",
    "\n",
    "https://docs.mongodb.com/manual/administration/install-community/\n",
    "\n",
    "https://docs.mongodb.com/compass/current/install/\n",
    "\n",
    "MongoDB es una base de datos orientada a documentos. Esto quiere decir que en lugar de guardar los datos en registros, guarda los datos en documentos. Estos documentos son almacenados en BSON, que es una representación binaria de JSON.\n",
    "\n",
    "Una de las diferencias más importantes con respecto a las bases de datos relacionales, es que no es necesario seguir un esquema. Los documentos de una misma colección, concepto similar a una tabla de una base de datos relacional, pueden tener esquemas diferentes.\n"
   ]
  },
  {
   "cell_type": "code",
   "execution_count": 1,
   "id": "d686b82b",
   "metadata": {},
   "outputs": [
    {
     "name": "stdout",
     "output_type": "stream",
     "text": [
      "Requirement already satisfied: pymongo in /opt/homebrew/Caskroom/miniconda/base/envs/clase/lib/python3.9/site-packages (4.3.3)\n",
      "Requirement already satisfied: dnspython<3.0.0,>=1.16.0 in /opt/homebrew/Caskroom/miniconda/base/envs/clase/lib/python3.9/site-packages (from pymongo) (2.2.1)\n",
      "\u001b[33mWARNING: Error parsing requirements for pyarrow: [Errno 21] Is a directory: '/opt/homebrew/Caskroom/miniconda/base/envs/clase/lib/python3.9/site-packages/pyarrow-10.0.1.dist-info/METADATA'\u001b[0m\u001b[33m\n",
      "\u001b[0mNote: you may need to restart the kernel to use updated packages.\n"
     ]
    }
   ],
   "source": [
    "%pip install pymongo"
   ]
  },
  {
   "cell_type": "code",
   "execution_count": 2,
   "id": "b53f90eb",
   "metadata": {},
   "outputs": [],
   "source": [
    "from pymongo import MongoClient"
   ]
  },
  {
   "cell_type": "code",
   "execution_count": 3,
   "id": "87c2662e",
   "metadata": {},
   "outputs": [
    {
     "data": {
      "text/plain": [
       "MongoClient(host=['localhost:27017'], document_class=dict, tz_aware=False, connect=True)"
      ]
     },
     "execution_count": 3,
     "metadata": {},
     "output_type": "execute_result"
    }
   ],
   "source": [
    "cursor=MongoClient()\n",
    "\n",
    "cursor"
   ]
  },
  {
   "cell_type": "code",
   "execution_count": 4,
   "id": "0eff5667",
   "metadata": {},
   "outputs": [
    {
     "data": {
      "text/plain": [
       "MongoClient(host=['localhost:27017'], document_class=dict, tz_aware=False, connect=True)"
      ]
     },
     "execution_count": 4,
     "metadata": {},
     "output_type": "execute_result"
    }
   ],
   "source": [
    "str_conn='mongodb://localhost:27017'\n",
    "\n",
    "cursor=MongoClient(str_conn)\n",
    "\n",
    "cursor"
   ]
  },
  {
   "cell_type": "code",
   "execution_count": 5,
   "id": "882a8427",
   "metadata": {},
   "outputs": [
    {
     "data": {
      "text/plain": [
       "['admin', 'companies', 'config', 'ironcomes', 'local']"
      ]
     },
     "execution_count": 5,
     "metadata": {},
     "output_type": "execute_result"
    }
   ],
   "source": [
    "cursor.list_database_names()  # lista de bases de datos"
   ]
  },
  {
   "cell_type": "code",
   "execution_count": 6,
   "id": "ae026dc9",
   "metadata": {},
   "outputs": [],
   "source": [
    "db=cursor.nueva_db   # crea una bade de datos vacia"
   ]
  },
  {
   "cell_type": "code",
   "execution_count": 7,
   "id": "af4151db",
   "metadata": {},
   "outputs": [
    {
     "data": {
      "text/plain": [
       "['admin', 'companies', 'config', 'ironcomes', 'local']"
      ]
     },
     "execution_count": 7,
     "metadata": {},
     "output_type": "execute_result"
    }
   ],
   "source": [
    "cursor.list_database_names()"
   ]
  },
  {
   "cell_type": "code",
   "execution_count": 8,
   "id": "bc989056",
   "metadata": {},
   "outputs": [],
   "source": [
    "colec=db.n_colec    # nueva coleccion"
   ]
  },
  {
   "cell_type": "code",
   "execution_count": 9,
   "id": "85c8002d",
   "metadata": {},
   "outputs": [
    {
     "data": {
      "text/plain": [
       "[]"
      ]
     },
     "execution_count": 9,
     "metadata": {},
     "output_type": "execute_result"
    }
   ],
   "source": [
    "db.list_collection_names()"
   ]
  },
  {
   "cell_type": "code",
   "execution_count": 11,
   "id": "6afb0b69",
   "metadata": {},
   "outputs": [
    {
     "data": {
      "text/plain": [
       "<pymongo.results.InsertOneResult at 0x1081af220>"
      ]
     },
     "execution_count": 11,
     "metadata": {},
     "output_type": "execute_result"
    }
   ],
   "source": [
    "dictio={'nombre': 'Pepe', 'edad': 43, '4': [0, 1, 2, 3]}\n",
    "\n",
    "colec.insert_one(dictio)"
   ]
  },
  {
   "cell_type": "code",
   "execution_count": 12,
   "id": "f4320811",
   "metadata": {},
   "outputs": [
    {
     "data": {
      "text/plain": [
       "['admin', 'companies', 'config', 'ironcomes', 'local', 'nueva_db']"
      ]
     },
     "execution_count": 12,
     "metadata": {},
     "output_type": "execute_result"
    }
   ],
   "source": [
    "cursor.list_database_names()"
   ]
  },
  {
   "cell_type": "code",
   "execution_count": 13,
   "id": "812407c3",
   "metadata": {},
   "outputs": [
    {
     "data": {
      "text/plain": [
       "['n_colec']"
      ]
     },
     "execution_count": 13,
     "metadata": {},
     "output_type": "execute_result"
    }
   ],
   "source": [
    "db.list_collection_names()"
   ]
  },
  {
   "cell_type": "code",
   "execution_count": 17,
   "id": "e54fc648",
   "metadata": {},
   "outputs": [
    {
     "data": {
      "text/plain": [
       "<pymongo.results.InsertManyResult at 0x108951700>"
      ]
     },
     "execution_count": 17,
     "metadata": {},
     "output_type": "execute_result"
    }
   ],
   "source": [
    "# insertar varios\n",
    "\n",
    "# Equivalente SQL\n",
    "\n",
    "# insert into colec (columnas) values (valores);\n",
    "\n",
    "json=[{'nombre': 'yo', 'edad': 38},\n",
    "      {'_id': 1, 'actividad': 'natacion', 'lugar': 'aqui'}]\n",
    "\n",
    "\n",
    "colec.insert_many(json)"
   ]
  },
  {
   "cell_type": "code",
   "execution_count": 18,
   "id": "0dcf515f",
   "metadata": {},
   "outputs": [
    {
     "data": {
      "text/plain": [
       "<pymongo.cursor.Cursor at 0x108951610>"
      ]
     },
     "execution_count": 18,
     "metadata": {},
     "output_type": "execute_result"
    }
   ],
   "source": [
    "# select * from colec;\n",
    "\n",
    "colec.find()"
   ]
  },
  {
   "cell_type": "code",
   "execution_count": 19,
   "id": "51f1daf9",
   "metadata": {},
   "outputs": [
    {
     "data": {
      "text/plain": [
       "[{'_id': ObjectId('63db829ef40f08f7223f8277'),\n",
       "  'nombre': 'Pepe',\n",
       "  'edad': 43,\n",
       "  '4': [0, 1, 2, 3]},\n",
       " {'_id': ObjectId('63db835df40f08f7223f8278'), 'nombre': 'yo', 'edad': 38},\n",
       " {'_id': 0, 'actividad': 'natacion', 'lugar': 'aqui'},\n",
       " {'_id': ObjectId('63db83d6f40f08f7223f8279'), 'nombre': 'yo', 'edad': 38},\n",
       " {'_id': ObjectId('63db83e1f40f08f7223f827a'), 'nombre': 'yo', 'edad': 38},\n",
       " {'_id': 1, 'actividad': 'natacion', 'lugar': 'aqui'}]"
      ]
     },
     "execution_count": 19,
     "metadata": {},
     "output_type": "execute_result"
    }
   ],
   "source": [
    "list(colec.find())"
   ]
  },
  {
   "cell_type": "code",
   "execution_count": 20,
   "id": "45b50423",
   "metadata": {},
   "outputs": [],
   "source": [
    "res=list(colec.find())"
   ]
  },
  {
   "cell_type": "code",
   "execution_count": 21,
   "id": "20e41237",
   "metadata": {},
   "outputs": [
    {
     "data": {
      "text/plain": [
       "{'_id': ObjectId('63db829ef40f08f7223f8277'),\n",
       " 'nombre': 'Pepe',\n",
       " 'edad': 43,\n",
       " '4': [0, 1, 2, 3]}"
      ]
     },
     "execution_count": 21,
     "metadata": {},
     "output_type": "execute_result"
    }
   ],
   "source": [
    "res[0]"
   ]
  },
  {
   "cell_type": "code",
   "execution_count": 23,
   "id": "db7dc826",
   "metadata": {},
   "outputs": [
    {
     "data": {
      "text/plain": [
       "list"
      ]
     },
     "execution_count": 23,
     "metadata": {},
     "output_type": "execute_result"
    }
   ],
   "source": [
    "type(res[0]['4'])"
   ]
  },
  {
   "cell_type": "code",
   "execution_count": 26,
   "id": "ea05c168",
   "metadata": {},
   "outputs": [
    {
     "data": {
      "text/plain": [
       "<pymongo.results.InsertManyResult at 0x10848ea60>"
      ]
     },
     "execution_count": 26,
     "metadata": {},
     "output_type": "execute_result"
    }
   ],
   "source": [
    "json=[{'nombre': 'Alex', 'edad': 28},\n",
    "      {'_id': 25, 'actividad': 'natacion', 'hora': '22:00', 'lugar': 'jultayu'}]\n",
    "\n",
    "\n",
    "colec.insert_many(json)"
   ]
  },
  {
   "cell_type": "markdown",
   "id": "5cec891a",
   "metadata": {},
   "source": [
    "### Queries"
   ]
  },
  {
   "cell_type": "code",
   "execution_count": 27,
   "id": "308bdc0f",
   "metadata": {},
   "outputs": [
    {
     "data": {
      "text/plain": [
       "[{'_id': ObjectId('63db829ef40f08f7223f8277'),\n",
       "  'nombre': 'Pepe',\n",
       "  'edad': 43,\n",
       "  '4': [0, 1, 2, 3]},\n",
       " {'_id': ObjectId('63db835df40f08f7223f8278'), 'nombre': 'yo', 'edad': 38},\n",
       " {'_id': 0, 'actividad': 'natacion', 'lugar': 'aqui'},\n",
       " {'_id': ObjectId('63db83d6f40f08f7223f8279'), 'nombre': 'yo', 'edad': 38},\n",
       " {'_id': ObjectId('63db83e1f40f08f7223f827a'), 'nombre': 'yo', 'edad': 38},\n",
       " {'_id': 1, 'actividad': 'natacion', 'lugar': 'aqui'},\n",
       " {'_id': ObjectId('63db855ef40f08f7223f827b'), 'nombre': 'Ana', 'edad': 24},\n",
       " {'_id': 24, 'actividad': 'natacion', 'hora': '22:00', 'lugar': 'aculla'},\n",
       " {'_id': ObjectId('63db8571f40f08f7223f827c'), 'nombre': 'Alex', 'edad': 28},\n",
       " {'_id': 25, 'actividad': 'natacion', 'hora': '22:00', 'lugar': 'jultayu'}]"
      ]
     },
     "execution_count": 27,
     "metadata": {},
     "output_type": "execute_result"
    }
   ],
   "source": [
    "# select * from colec;\n",
    "\n",
    "list(colec.find())"
   ]
  },
  {
   "cell_type": "code",
   "execution_count": 28,
   "id": "52107153",
   "metadata": {},
   "outputs": [
    {
     "data": {
      "text/plain": [
       "[{'_id': ObjectId('63db855ef40f08f7223f827b'), 'nombre': 'Ana', 'edad': 24}]"
      ]
     },
     "execution_count": 28,
     "metadata": {},
     "output_type": "execute_result"
    }
   ],
   "source": [
    "# select * from colec where edad=24;\n",
    "\n",
    "list(colec.find({'edad': 24}))"
   ]
  },
  {
   "cell_type": "code",
   "execution_count": 29,
   "id": "dbfc33db",
   "metadata": {},
   "outputs": [
    {
     "data": {
      "text/plain": [
       "[{'_id': ObjectId('63db835df40f08f7223f8278'), 'nombre': 'yo', 'edad': 38},\n",
       " {'_id': ObjectId('63db83d6f40f08f7223f8279'), 'nombre': 'yo', 'edad': 38},\n",
       " {'_id': ObjectId('63db83e1f40f08f7223f827a'), 'nombre': 'yo', 'edad': 38}]"
      ]
     },
     "execution_count": 29,
     "metadata": {},
     "output_type": "execute_result"
    }
   ],
   "source": [
    "# select * from colec where nombre=yo;\n",
    "\n",
    "list(colec.find({'nombre': 'yo'}))"
   ]
  },
  {
   "cell_type": "code",
   "execution_count": 30,
   "id": "b2294eb5",
   "metadata": {},
   "outputs": [
    {
     "data": {
      "text/plain": [
       "[{'_id': ObjectId('63db829ef40f08f7223f8277'),\n",
       "  'nombre': 'Pepe',\n",
       "  'edad': 43,\n",
       "  '4': [0, 1, 2, 3]},\n",
       " {'_id': ObjectId('63db835df40f08f7223f8278'), 'nombre': 'yo', 'edad': 38},\n",
       " {'_id': ObjectId('63db83d6f40f08f7223f8279'), 'nombre': 'yo', 'edad': 38},\n",
       " {'_id': ObjectId('63db83e1f40f08f7223f827a'), 'nombre': 'yo', 'edad': 38},\n",
       " {'_id': ObjectId('63db8571f40f08f7223f827c'), 'nombre': 'Alex', 'edad': 28}]"
      ]
     },
     "execution_count": 30,
     "metadata": {},
     "output_type": "execute_result"
    }
   ],
   "source": [
    "# select * from colec where edad>24;\n",
    "\n",
    "list(colec.find({'edad': {'$gt': 24}}))"
   ]
  },
  {
   "cell_type": "code",
   "execution_count": 31,
   "id": "347ac0ff",
   "metadata": {},
   "outputs": [
    {
     "data": {
      "text/plain": [
       "[{'_id': ObjectId('63db829ef40f08f7223f8277'),\n",
       "  'nombre': 'Pepe',\n",
       "  'edad': 43,\n",
       "  '4': [0, 1, 2, 3]},\n",
       " {'_id': ObjectId('63db835df40f08f7223f8278'), 'nombre': 'yo', 'edad': 38},\n",
       " {'_id': ObjectId('63db83d6f40f08f7223f8279'), 'nombre': 'yo', 'edad': 38},\n",
       " {'_id': ObjectId('63db83e1f40f08f7223f827a'), 'nombre': 'yo', 'edad': 38},\n",
       " {'_id': ObjectId('63db855ef40f08f7223f827b'), 'nombre': 'Ana', 'edad': 24},\n",
       " {'_id': ObjectId('63db8571f40f08f7223f827c'), 'nombre': 'Alex', 'edad': 28}]"
      ]
     },
     "execution_count": 31,
     "metadata": {},
     "output_type": "execute_result"
    }
   ],
   "source": [
    "# select * from colec where edad>=24;\n",
    "\n",
    "list(colec.find({'edad': {'$gte': 24}}))"
   ]
  },
  {
   "cell_type": "code",
   "execution_count": 33,
   "id": "18f2b6d7",
   "metadata": {},
   "outputs": [
    {
     "data": {
      "text/plain": [
       "[{'_id': ObjectId('63db855ef40f08f7223f827b'), 'nombre': 'Ana', 'edad': 24},\n",
       " {'_id': ObjectId('63db8571f40f08f7223f827c'), 'nombre': 'Alex', 'edad': 28}]"
      ]
     },
     "execution_count": 33,
     "metadata": {},
     "output_type": "execute_result"
    }
   ],
   "source": [
    "# select * from colec where edad<38;\n",
    "\n",
    "list(colec.find({'edad': {'$lt': 38}}))"
   ]
  },
  {
   "cell_type": "code",
   "execution_count": 34,
   "id": "834043b6",
   "metadata": {},
   "outputs": [
    {
     "data": {
      "text/plain": [
       "[{'_id': ObjectId('63db835df40f08f7223f8278'), 'nombre': 'yo', 'edad': 38},\n",
       " {'_id': ObjectId('63db83d6f40f08f7223f8279'), 'nombre': 'yo', 'edad': 38},\n",
       " {'_id': ObjectId('63db83e1f40f08f7223f827a'), 'nombre': 'yo', 'edad': 38},\n",
       " {'_id': ObjectId('63db855ef40f08f7223f827b'), 'nombre': 'Ana', 'edad': 24},\n",
       " {'_id': ObjectId('63db8571f40f08f7223f827c'), 'nombre': 'Alex', 'edad': 28}]"
      ]
     },
     "execution_count": 34,
     "metadata": {},
     "output_type": "execute_result"
    }
   ],
   "source": [
    "# select * from colec where edad<=38;\n",
    "\n",
    "list(colec.find({'edad': {'$lte': 38}}))"
   ]
  },
  {
   "cell_type": "code",
   "execution_count": 35,
   "id": "27846ebb",
   "metadata": {},
   "outputs": [
    {
     "data": {
      "text/plain": [
       "[{'_id': ObjectId('63db829ef40f08f7223f8277'),\n",
       "  'nombre': 'Pepe',\n",
       "  'edad': 43,\n",
       "  '4': [0, 1, 2, 3]},\n",
       " {'_id': 0, 'actividad': 'natacion', 'lugar': 'aqui'},\n",
       " {'_id': 1, 'actividad': 'natacion', 'lugar': 'aqui'},\n",
       " {'_id': ObjectId('63db855ef40f08f7223f827b'), 'nombre': 'Ana', 'edad': 24},\n",
       " {'_id': 24, 'actividad': 'natacion', 'hora': '22:00', 'lugar': 'aculla'},\n",
       " {'_id': ObjectId('63db8571f40f08f7223f827c'), 'nombre': 'Alex', 'edad': 28},\n",
       " {'_id': 25, 'actividad': 'natacion', 'hora': '22:00', 'lugar': 'jultayu'}]"
      ]
     },
     "execution_count": 35,
     "metadata": {},
     "output_type": "execute_result"
    }
   ],
   "source": [
    "# select * from colec where edad!=38;\n",
    "\n",
    "list(colec.find({'edad': {'$ne': 38}}))"
   ]
  },
  {
   "cell_type": "code",
   "execution_count": 36,
   "id": "0442338a",
   "metadata": {},
   "outputs": [
    {
     "data": {
      "text/plain": [
       "[{'_id': ObjectId('63db855ef40f08f7223f827b'), 'nombre': 'Ana', 'edad': 24}]"
      ]
     },
     "execution_count": 36,
     "metadata": {},
     "output_type": "execute_result"
    }
   ],
   "source": [
    "# select * from colec where edad!=38 and nombre=Ana;\n",
    "\n",
    "query={'$and': [{'edad': {'$ne': 38}},\n",
    "                {'nombre': 'Ana'}]}\n",
    "\n",
    "list(colec.find(query))"
   ]
  },
  {
   "cell_type": "code",
   "execution_count": 37,
   "id": "dce6127a",
   "metadata": {},
   "outputs": [
    {
     "data": {
      "text/plain": [
       "[{'_id': ObjectId('63db8571f40f08f7223f827c'), 'nombre': 'Alex', 'edad': 28}]"
      ]
     },
     "execution_count": 37,
     "metadata": {},
     "output_type": "execute_result"
    }
   ],
   "source": [
    "# select * from colec where edad<38 and edad>24;\n",
    "# select * from colec where edad between (38, 24);\n",
    "\n",
    "query={'$and': [{'edad': {'$lt': 38}},\n",
    "                {'edad': {'$gt': 24}}]}\n",
    "\n",
    "list(colec.find(query))"
   ]
  },
  {
   "cell_type": "code",
   "execution_count": 39,
   "id": "cb1b6794",
   "metadata": {},
   "outputs": [
    {
     "data": {
      "text/plain": [
       "[{'_id': ObjectId('63db829ef40f08f7223f8277'),\n",
       "  'nombre': 'Pepe',\n",
       "  'edad': 43,\n",
       "  '4': [0, 1, 2, 3]},\n",
       " {'_id': 0, 'actividad': 'natacion', 'lugar': 'aqui'}]"
      ]
     },
     "execution_count": 39,
     "metadata": {},
     "output_type": "execute_result"
    }
   ],
   "source": [
    "# select * from colec where edad!=38 limit 2;\n",
    "\n",
    "query={'edad': {'$ne': 38}}\n",
    "\n",
    "list(colec.find(query).limit(2))"
   ]
  },
  {
   "cell_type": "code",
   "execution_count": 43,
   "id": "bd5b3f2d",
   "metadata": {},
   "outputs": [
    {
     "data": {
      "text/plain": [
       "[{'_id': ObjectId('63db829ef40f08f7223f8277'),\n",
       "  'nombre': 'Pepe',\n",
       "  'edad': 43,\n",
       "  '4': [0, 1, 2, 3]},\n",
       " {'_id': ObjectId('63db8571f40f08f7223f827c'), 'nombre': 'Alex', 'edad': 28},\n",
       " {'_id': ObjectId('63db855ef40f08f7223f827b'), 'nombre': 'Ana', 'edad': 24}]"
      ]
     },
     "execution_count": 43,
     "metadata": {},
     "output_type": "execute_result"
    }
   ],
   "source": [
    "# select * from colec where edad!=38 order by edad desc limit 3;\n",
    "\n",
    "query={'edad': {'$ne': 38}}\n",
    "\n",
    "list(colec.find(query).sort('edad', -1).limit(3))   # sort 1 asc, sort -1 desc"
   ]
  },
  {
   "cell_type": "code",
   "execution_count": 44,
   "id": "509215c5",
   "metadata": {},
   "outputs": [
    {
     "data": {
      "text/plain": [
       "<pymongo.results.UpdateResult at 0x108951be0>"
      ]
     },
     "execution_count": 44,
     "metadata": {},
     "output_type": "execute_result"
    }
   ],
   "source": [
    "colec.update_one({'_id': 1}, {'$set': {'lugar': 'Madrid'}})"
   ]
  },
  {
   "cell_type": "code",
   "execution_count": 46,
   "id": "e1e5d4a9",
   "metadata": {},
   "outputs": [
    {
     "data": {
      "text/plain": [
       "<pymongo.results.UpdateResult at 0x108d9cf70>"
      ]
     },
     "execution_count": 46,
     "metadata": {},
     "output_type": "execute_result"
    }
   ],
   "source": [
    "colec.update_one({'_id': 1}, {'$set': {'edad': 23}})"
   ]
  },
  {
   "cell_type": "code",
   "execution_count": 47,
   "id": "3596c61e",
   "metadata": {},
   "outputs": [
    {
     "data": {
      "text/plain": [
       "[{'_id': 1, 'actividad': 'natacion', 'lugar': 'Madrid', 'edad': 23}]"
      ]
     },
     "execution_count": 47,
     "metadata": {},
     "output_type": "execute_result"
    }
   ],
   "source": [
    "list(colec.find({'_id': 1}))"
   ]
  },
  {
   "cell_type": "code",
   "execution_count": 48,
   "id": "d3462603",
   "metadata": {},
   "outputs": [
    {
     "data": {
      "text/plain": [
       "<pymongo.results.UpdateResult at 0x108d9c7c0>"
      ]
     },
     "execution_count": 48,
     "metadata": {},
     "output_type": "execute_result"
    }
   ],
   "source": [
    "colec.update_many({'edad': 38}, {'$set': {'nombre': 42}})"
   ]
  },
  {
   "cell_type": "code",
   "execution_count": 49,
   "id": "bb1ec1ca",
   "metadata": {
    "scrolled": false
   },
   "outputs": [
    {
     "data": {
      "text/plain": [
       "[{'_id': ObjectId('63db835df40f08f7223f8278'), 'nombre': 42, 'edad': 38},\n",
       " {'_id': ObjectId('63db83d6f40f08f7223f8279'), 'nombre': 42, 'edad': 38},\n",
       " {'_id': ObjectId('63db83e1f40f08f7223f827a'), 'nombre': 42, 'edad': 38}]"
      ]
     },
     "execution_count": 49,
     "metadata": {},
     "output_type": "execute_result"
    }
   ],
   "source": [
    "query={'edad': 38}\n",
    "\n",
    "list(colec.find(query))"
   ]
  },
  {
   "cell_type": "code",
   "execution_count": 56,
   "id": "5acb8754",
   "metadata": {},
   "outputs": [
    {
     "data": {
      "text/plain": [
       "[{'nombre': 42}, {'nombre': 42}, {'nombre': 42}]"
      ]
     },
     "execution_count": 56,
     "metadata": {},
     "output_type": "execute_result"
    }
   ],
   "source": [
    "# select edad from colec;\n",
    "\n",
    "query={'edad': 38}  # es para registros\n",
    "\n",
    "select={'_id':0, 'nombre':1}   # 0 es que no venga, 1 es que venga, es para columnas\n",
    "\n",
    "list(colec.find(query, select))"
   ]
  },
  {
   "cell_type": "code",
   "execution_count": 57,
   "id": "5e8b0e07",
   "metadata": {},
   "outputs": [
    {
     "data": {
      "text/plain": [
       "<pymongo.results.DeleteResult at 0x108951fd0>"
      ]
     },
     "execution_count": 57,
     "metadata": {},
     "output_type": "execute_result"
    }
   ],
   "source": [
    "# delete from colec where _id=0;\n",
    "\n",
    "colec.delete_one({'_id': 0})"
   ]
  },
  {
   "cell_type": "code",
   "execution_count": 58,
   "id": "0d184896",
   "metadata": {},
   "outputs": [
    {
     "data": {
      "text/plain": [
       "[]"
      ]
     },
     "execution_count": 58,
     "metadata": {},
     "output_type": "execute_result"
    }
   ],
   "source": [
    "list(colec.find({'_id': 0}))"
   ]
  },
  {
   "cell_type": "code",
   "execution_count": 59,
   "id": "d2e6184f",
   "metadata": {},
   "outputs": [
    {
     "data": {
      "text/plain": [
       "<pymongo.results.DeleteResult at 0x108951ee0>"
      ]
     },
     "execution_count": 59,
     "metadata": {},
     "output_type": "execute_result"
    }
   ],
   "source": [
    "# delete from colec where nombre=42;\n",
    "\n",
    "colec.delete_one({'nombre': 42})"
   ]
  },
  {
   "cell_type": "code",
   "execution_count": 60,
   "id": "0993fa7f",
   "metadata": {},
   "outputs": [
    {
     "data": {
      "text/plain": [
       "[{'_id': ObjectId('63db83d6f40f08f7223f8279'), 'nombre': 42, 'edad': 38},\n",
       " {'_id': ObjectId('63db83e1f40f08f7223f827a'), 'nombre': 42, 'edad': 38}]"
      ]
     },
     "execution_count": 60,
     "metadata": {},
     "output_type": "execute_result"
    }
   ],
   "source": [
    "list(colec.find({'nombre': 42}))"
   ]
  },
  {
   "cell_type": "code",
   "execution_count": 61,
   "id": "c1af28f0",
   "metadata": {},
   "outputs": [
    {
     "data": {
      "text/plain": [
       "<pymongo.results.DeleteResult at 0x108976640>"
      ]
     },
     "execution_count": 61,
     "metadata": {},
     "output_type": "execute_result"
    }
   ],
   "source": [
    "# delete from colec where nombre=42;\n",
    "\n",
    "colec.delete_many({'nombre': 42})"
   ]
  },
  {
   "cell_type": "code",
   "execution_count": 63,
   "id": "15718481",
   "metadata": {},
   "outputs": [
    {
     "data": {
      "text/plain": [
       "[{'_id': ObjectId('63db829ef40f08f7223f8277'),\n",
       "  'nombre': 'Pepe',\n",
       "  'edad': 43,\n",
       "  '4': [0, 1, 2, 3]},\n",
       " {'_id': 1, 'actividad': 'natacion', 'lugar': 'Madrid', 'edad': 23},\n",
       " {'_id': ObjectId('63db855ef40f08f7223f827b'), 'nombre': 'Ana', 'edad': 24},\n",
       " {'_id': 24, 'actividad': 'natacion', 'hora': '22:00', 'lugar': 'aculla'},\n",
       " {'_id': ObjectId('63db8571f40f08f7223f827c'), 'nombre': 'Alex', 'edad': 28},\n",
       " {'_id': 25, 'actividad': 'natacion', 'hora': '22:00', 'lugar': 'jultayu'}]"
      ]
     },
     "execution_count": 63,
     "metadata": {},
     "output_type": "execute_result"
    }
   ],
   "source": [
    "list(colec.find())"
   ]
  },
  {
   "cell_type": "code",
   "execution_count": 64,
   "id": "35374c44",
   "metadata": {},
   "outputs": [
    {
     "data": {
      "text/plain": [
       "[{'_id': '', 'count': 6}]"
      ]
     },
     "execution_count": 64,
     "metadata": {},
     "output_type": "execute_result"
    }
   ],
   "source": [
    "# select count(*) from colec group by _id;     #por cada id suma 1\n",
    "\n",
    "list(colec.aggregate([{'$group': {'_id': '', 'count': {'$sum': 1}}}]))"
   ]
  },
  {
   "cell_type": "code",
   "execution_count": 65,
   "id": "5a4da47d",
   "metadata": {},
   "outputs": [],
   "source": [
    "colec.drop()     # borrar coleccion"
   ]
  },
  {
   "cell_type": "code",
   "execution_count": 66,
   "id": "d696ddd0",
   "metadata": {},
   "outputs": [
    {
     "data": {
      "text/plain": [
       "[]"
      ]
     },
     "execution_count": 66,
     "metadata": {},
     "output_type": "execute_result"
    }
   ],
   "source": [
    "db.list_collection_names()"
   ]
  },
  {
   "cell_type": "code",
   "execution_count": 67,
   "id": "6786eac4",
   "metadata": {},
   "outputs": [
    {
     "data": {
      "text/plain": [
       "['admin', 'companies', 'config', 'ironcomes', 'local']"
      ]
     },
     "execution_count": 67,
     "metadata": {},
     "output_type": "execute_result"
    }
   ],
   "source": [
    "cursor.list_database_names()"
   ]
  },
  {
   "cell_type": "markdown",
   "id": "be3cedee",
   "metadata": {},
   "source": [
    "### DB Companies"
   ]
  },
  {
   "cell_type": "code",
   "execution_count": 68,
   "id": "501d1ab6",
   "metadata": {},
   "outputs": [],
   "source": [
    "db=cursor.companies"
   ]
  },
  {
   "cell_type": "code",
   "execution_count": 69,
   "id": "03fe7510",
   "metadata": {},
   "outputs": [],
   "source": [
    "colec=db.companies"
   ]
  },
  {
   "cell_type": "code",
   "execution_count": 72,
   "id": "96a82439",
   "metadata": {
    "scrolled": false
   },
   "outputs": [
    {
     "data": {
      "text/plain": [
       "dict_keys(['_id', 'name', 'permalink', 'crunchbase_url', 'homepage_url', 'blog_url', 'blog_feed_url', 'twitter_username', 'category_code', 'number_of_employees', 'founded_year', 'founded_month', 'founded_day', 'deadpooled_year', 'tag_list', 'alias_list', 'email_address', 'phone_number', 'description', 'created_at', 'updated_at', 'overview', 'image', 'products', 'relationships', 'competitions', 'providerships', 'total_money_raised', 'funding_rounds', 'investments', 'acquisition', 'acquisitions', 'offices', 'milestones', 'video_embeds', 'screenshots', 'external_links', 'partners'])"
      ]
     },
     "execution_count": 72,
     "metadata": {},
     "output_type": "execute_result"
    }
   ],
   "source": [
    "list(colec.find().limit(1))[0].keys()"
   ]
  },
  {
   "cell_type": "code",
   "execution_count": 78,
   "id": "d163257f",
   "metadata": {},
   "outputs": [
    {
     "data": {
      "text/plain": [
       "[{'name': 'Wetpaint', 'category_code': 'web'},\n",
       " {'name': 'Postini', 'category_code': 'web'},\n",
       " {'name': 'Geni', 'category_code': 'web'},\n",
       " {'name': 'Fox Interactive Media', 'category_code': 'web'},\n",
       " {'name': 'StumbleUpon', 'category_code': 'web'},\n",
       " {'name': 'Gizmoz', 'category_code': 'web'},\n",
       " {'name': 'eBay', 'category_code': 'web'},\n",
       " {'name': 'Viacom', 'category_code': 'web'},\n",
       " {'name': 'Plaxo', 'category_code': 'web'},\n",
       " {'name': 'Yahoo!', 'category_code': 'web'},\n",
       " {'name': 'Mahalo', 'category_code': 'web'},\n",
       " {'name': 'Gannett', 'category_code': 'web'},\n",
       " {'name': 'Thoof', 'category_code': 'web'},\n",
       " {'name': 'Info', 'category_code': 'web'},\n",
       " {'name': 'JotSpot', 'category_code': 'web'},\n",
       " {'name': 'Meetup', 'category_code': 'web'},\n",
       " {'name': 'Mercora', 'category_code': 'web'},\n",
       " {'name': 'NetRatings', 'category_code': 'web'},\n",
       " {'name': 'Wesabe', 'category_code': 'web'},\n",
       " {'name': 'Jangl SMS', 'category_code': 'web'},\n",
       " {'name': 'Ikan', 'category_code': 'web'},\n",
       " {'name': 'delicious', 'category_code': 'web'},\n",
       " {'name': 'Topix', 'category_code': 'web'},\n",
       " {'name': 'Pownce', 'category_code': 'web'},\n",
       " {'name': 'AllPeers', 'category_code': 'web'},\n",
       " {'name': 'CriticalMetrics', 'category_code': 'web'},\n",
       " {'name': 'Wize', 'category_code': 'ecommerce'},\n",
       " {'name': 'SodaHead', 'category_code': 'web'},\n",
       " {'name': 'Steorn', 'category_code': 'web'},\n",
       " {'name': 'ClipBlast!', 'category_code': 'web'}]"
      ]
     },
     "execution_count": 78,
     "metadata": {},
     "output_type": "execute_result"
    }
   ],
   "source": [
    "# select name, category_code from colec where category_code in ('web', 'ecommerce') limit 10;\n",
    "\n",
    "# por \"filas\", dame los registros con estos category_code\n",
    "query={'$or': [{'category_code': 'web'},\n",
    "               {'category_code': 'ecommerce'}]}\n",
    "\n",
    "\n",
    "# por columnas, dame solo lass dos columnas\n",
    "filtro={'name': True, 'category_code': True, '_id': False}\n",
    "\n",
    "\n",
    "\n",
    "list(colec.find(query, filtro).limit(30))\n"
   ]
  },
  {
   "cell_type": "code",
   "execution_count": 80,
   "id": "39053424",
   "metadata": {},
   "outputs": [
    {
     "data": {
      "text/plain": [
       "[{'name': 'Postini', 'category_code': 'web', 'founded_year': 1999},\n",
       " {'name': 'Fox Interactive Media',\n",
       "  'category_code': 'web',\n",
       "  'founded_year': 1979},\n",
       " {'name': 'StumbleUpon', 'category_code': 'web', 'founded_year': 2002},\n",
       " {'name': 'eBay', 'category_code': 'web', 'founded_year': 1995},\n",
       " {'name': 'Viacom', 'category_code': 'web', 'founded_year': 1971},\n",
       " {'name': 'Plaxo', 'category_code': 'web', 'founded_year': 2002},\n",
       " {'name': 'Yahoo!', 'category_code': 'web', 'founded_year': 1994},\n",
       " {'name': 'Meetup', 'category_code': 'web', 'founded_year': 2002},\n",
       " {'name': 'Topix', 'category_code': 'web', 'founded_year': 2002},\n",
       " {'name': 'Steorn', 'category_code': 'web', 'founded_year': 2000}]"
      ]
     },
     "execution_count": 80,
     "metadata": {},
     "output_type": "execute_result"
    }
   ],
   "source": [
    "# select founded_year, name \n",
    "# from colec where category_code=web and founded_year<=2002 limit 10;\n",
    "\n",
    "\n",
    "# por \"filas\", dame los registros con estos category_code\n",
    "query={'$and': [{'category_code': 'web'},\n",
    "                {'founded_year': {'$lte': 2002}}]}\n",
    "\n",
    "\n",
    "# por columnas, dame solo lass dos columnas\n",
    "filtro={'name': True, 'founded_year': True, 'category_code': True, '_id': False}\n",
    "\n",
    "\n",
    "\n",
    "list(colec.find(query, filtro).limit(10))"
   ]
  },
  {
   "cell_type": "code",
   "execution_count": 81,
   "id": "2e4f4e5c",
   "metadata": {},
   "outputs": [
    {
     "data": {
      "text/html": [
       "<div>\n",
       "<style scoped>\n",
       "    .dataframe tbody tr th:only-of-type {\n",
       "        vertical-align: middle;\n",
       "    }\n",
       "\n",
       "    .dataframe tbody tr th {\n",
       "        vertical-align: top;\n",
       "    }\n",
       "\n",
       "    .dataframe thead th {\n",
       "        text-align: right;\n",
       "    }\n",
       "</style>\n",
       "<table border=\"1\" class=\"dataframe\">\n",
       "  <thead>\n",
       "    <tr style=\"text-align: right;\">\n",
       "      <th></th>\n",
       "      <th>name</th>\n",
       "      <th>category_code</th>\n",
       "      <th>founded_year</th>\n",
       "    </tr>\n",
       "  </thead>\n",
       "  <tbody>\n",
       "    <tr>\n",
       "      <th>0</th>\n",
       "      <td>Postini</td>\n",
       "      <td>web</td>\n",
       "      <td>1999</td>\n",
       "    </tr>\n",
       "    <tr>\n",
       "      <th>1</th>\n",
       "      <td>Fox Interactive Media</td>\n",
       "      <td>web</td>\n",
       "      <td>1979</td>\n",
       "    </tr>\n",
       "    <tr>\n",
       "      <th>2</th>\n",
       "      <td>StumbleUpon</td>\n",
       "      <td>web</td>\n",
       "      <td>2002</td>\n",
       "    </tr>\n",
       "    <tr>\n",
       "      <th>3</th>\n",
       "      <td>eBay</td>\n",
       "      <td>web</td>\n",
       "      <td>1995</td>\n",
       "    </tr>\n",
       "    <tr>\n",
       "      <th>4</th>\n",
       "      <td>Viacom</td>\n",
       "      <td>web</td>\n",
       "      <td>1971</td>\n",
       "    </tr>\n",
       "  </tbody>\n",
       "</table>\n",
       "</div>"
      ],
      "text/plain": [
       "                    name category_code  founded_year\n",
       "0                Postini           web          1999\n",
       "1  Fox Interactive Media           web          1979\n",
       "2            StumbleUpon           web          2002\n",
       "3                   eBay           web          1995\n",
       "4                 Viacom           web          1971"
      ]
     },
     "execution_count": 81,
     "metadata": {},
     "output_type": "execute_result"
    }
   ],
   "source": [
    "import pandas as pd\n",
    "\n",
    "df=pd.DataFrame(colec.find(query, filtro))\n",
    "\n",
    "df.head()"
   ]
  },
  {
   "cell_type": "code",
   "execution_count": 82,
   "id": "fabc68ba",
   "metadata": {},
   "outputs": [
    {
     "data": {
      "text/plain": [
       "(457, 3)"
      ]
     },
     "execution_count": 82,
     "metadata": {},
     "output_type": "execute_result"
    }
   ],
   "source": [
    "df.shape"
   ]
  },
  {
   "cell_type": "code",
   "execution_count": 83,
   "id": "e457d14d",
   "metadata": {},
   "outputs": [
    {
     "name": "stdout",
     "output_type": "stream",
     "text": [
      "<class 'pandas.core.frame.DataFrame'>\n",
      "RangeIndex: 457 entries, 0 to 456\n",
      "Data columns (total 3 columns):\n",
      " #   Column         Non-Null Count  Dtype \n",
      "---  ------         --------------  ----- \n",
      " 0   name           457 non-null    object\n",
      " 1   category_code  457 non-null    object\n",
      " 2   founded_year   457 non-null    int64 \n",
      "dtypes: int64(1), object(2)\n",
      "memory usage: 10.8+ KB\n"
     ]
    }
   ],
   "source": [
    "df.info()"
   ]
  },
  {
   "cell_type": "code",
   "execution_count": 86,
   "id": "1a1c4741",
   "metadata": {},
   "outputs": [],
   "source": [
    "def stats(df):\n",
    "    \n",
    "    print('Dimensiones de df')\n",
    "    print(df.shape)\n",
    "    print()\n",
    "    print('Info')\n",
    "    display(df.info())\n",
    "    print()\n",
    "    print('Descripcion')\n",
    "    display(df.describe())"
   ]
  },
  {
   "cell_type": "code",
   "execution_count": 87,
   "id": "7af1ecd7",
   "metadata": {},
   "outputs": [
    {
     "name": "stdout",
     "output_type": "stream",
     "text": [
      "Dimensiones de df\n",
      "(457, 3)\n",
      "\n",
      "Info\n",
      "<class 'pandas.core.frame.DataFrame'>\n",
      "RangeIndex: 457 entries, 0 to 456\n",
      "Data columns (total 3 columns):\n",
      " #   Column         Non-Null Count  Dtype \n",
      "---  ------         --------------  ----- \n",
      " 0   name           457 non-null    object\n",
      " 1   category_code  457 non-null    object\n",
      " 2   founded_year   457 non-null    int64 \n",
      "dtypes: int64(1), object(2)\n",
      "memory usage: 10.8+ KB\n"
     ]
    },
    {
     "data": {
      "text/plain": [
       "None"
      ]
     },
     "metadata": {},
     "output_type": "display_data"
    },
    {
     "name": "stdout",
     "output_type": "stream",
     "text": [
      "\n",
      "Descripcion\n"
     ]
    },
    {
     "data": {
      "text/html": [
       "<div>\n",
       "<style scoped>\n",
       "    .dataframe tbody tr th:only-of-type {\n",
       "        vertical-align: middle;\n",
       "    }\n",
       "\n",
       "    .dataframe tbody tr th {\n",
       "        vertical-align: top;\n",
       "    }\n",
       "\n",
       "    .dataframe thead th {\n",
       "        text-align: right;\n",
       "    }\n",
       "</style>\n",
       "<table border=\"1\" class=\"dataframe\">\n",
       "  <thead>\n",
       "    <tr style=\"text-align: right;\">\n",
       "      <th></th>\n",
       "      <th>founded_year</th>\n",
       "    </tr>\n",
       "  </thead>\n",
       "  <tbody>\n",
       "    <tr>\n",
       "      <th>count</th>\n",
       "      <td>457.000000</td>\n",
       "    </tr>\n",
       "    <tr>\n",
       "      <th>mean</th>\n",
       "      <td>1994.111597</td>\n",
       "    </tr>\n",
       "    <tr>\n",
       "      <th>std</th>\n",
       "      <td>19.821645</td>\n",
       "    </tr>\n",
       "    <tr>\n",
       "      <th>min</th>\n",
       "      <td>1800.000000</td>\n",
       "    </tr>\n",
       "    <tr>\n",
       "      <th>25%</th>\n",
       "      <td>1996.000000</td>\n",
       "    </tr>\n",
       "    <tr>\n",
       "      <th>50%</th>\n",
       "      <td>1999.000000</td>\n",
       "    </tr>\n",
       "    <tr>\n",
       "      <th>75%</th>\n",
       "      <td>2000.000000</td>\n",
       "    </tr>\n",
       "    <tr>\n",
       "      <th>max</th>\n",
       "      <td>2002.000000</td>\n",
       "    </tr>\n",
       "  </tbody>\n",
       "</table>\n",
       "</div>"
      ],
      "text/plain": [
       "       founded_year\n",
       "count    457.000000\n",
       "mean    1994.111597\n",
       "std       19.821645\n",
       "min     1800.000000\n",
       "25%     1996.000000\n",
       "50%     1999.000000\n",
       "75%     2000.000000\n",
       "max     2002.000000"
      ]
     },
     "metadata": {},
     "output_type": "display_data"
    }
   ],
   "source": [
    "stats(df)"
   ]
  },
  {
   "cell_type": "code",
   "execution_count": 88,
   "id": "05ce38fe",
   "metadata": {},
   "outputs": [
    {
     "data": {
      "text/plain": [
       "[{'name': 'Facebook', 'category_code': 'social', 'founded_year': 2004},\n",
       " {'name': 'WeGame', 'category_code': 'web', 'founded_year': 1840}]"
      ]
     },
     "execution_count": 88,
     "metadata": {},
     "output_type": "execute_result"
    }
   ],
   "source": [
    "# select name, category_code, founded_year \n",
    "# from colec where name in ('WeGame', 'Facebook');\n",
    "\n",
    "query = {'name': {'$in': ['WeGame', 'Facebook']}}\n",
    "\n",
    "# por columnas, dame solo lass dos columnas\n",
    "filtro={'name': True, 'founded_year': True, 'category_code': True, '_id': False}\n",
    "\n",
    "\n",
    "\n",
    "list(colec.find(query, filtro).limit(10))"
   ]
  },
  {
   "cell_type": "code",
   "execution_count": 89,
   "id": "9163322b",
   "metadata": {},
   "outputs": [
    {
     "data": {
      "text/plain": [
       "[{'name': 'Facebook', 'category_code': 'social', 'founded_year': 2004},\n",
       " {'name': 'FaceTec', 'category_code': 'software', 'founded_year': 2002},\n",
       " {'name': 'Face Your Manga', 'category_code': 'web', 'founded_year': None},\n",
       " {'name': 'Facebookster',\n",
       "  'category_code': 'public_relations',\n",
       "  'founded_year': 2003},\n",
       " {'name': 'Facebook Causes Application',\n",
       "  'category_code': None,\n",
       "  'founded_year': None},\n",
       " {'name': 'FaceKoo', 'category_code': 'network_hosting', 'founded_year': 2008},\n",
       " {'name': 'FacebookLicious!',\n",
       "  'category_code': 'games_video',\n",
       "  'founded_year': 2007},\n",
       " {'name': 'FaceTime Strategy',\n",
       "  'category_code': 'public_relations',\n",
       "  'founded_year': None}]"
      ]
     },
     "execution_count": 89,
     "metadata": {},
     "output_type": "execute_result"
    }
   ],
   "source": [
    "# select name, category_code, founded_year from colec where name like 'Face%'; \n",
    "\n",
    "\n",
    "query = {'name': {'$regex': '^Face'}}\n",
    "\n",
    "# por columnas, dame solo lass dos columnas\n",
    "filtro={'name': True, 'founded_year': True, 'category_code': True, '_id': False}\n",
    "\n",
    "\n",
    "\n",
    "list(colec.find(query, filtro).limit(10))"
   ]
  },
  {
   "cell_type": "markdown",
   "id": "3a5a081e",
   "metadata": {},
   "source": [
    "### Geoqueries"
   ]
  },
  {
   "cell_type": "code",
   "execution_count": 105,
   "id": "fc1ac2f4",
   "metadata": {},
   "outputs": [],
   "source": [
    "# documentos que contengan oficinas, devuelve solo el nombre y el array de oficinas\n",
    "\n",
    "query={'offices': {'$not': {'$size': 0}}}\n",
    "\n",
    "filtro={'_id': 0, 'name': 1, 'offices': 1}\n",
    "\n",
    "ofi=colec.find(query, filtro)"
   ]
  },
  {
   "cell_type": "code",
   "execution_count": 106,
   "id": "fda7a05e",
   "metadata": {},
   "outputs": [
    {
     "data": {
      "text/html": [
       "<div>\n",
       "<style scoped>\n",
       "    .dataframe tbody tr th:only-of-type {\n",
       "        vertical-align: middle;\n",
       "    }\n",
       "\n",
       "    .dataframe tbody tr th {\n",
       "        vertical-align: top;\n",
       "    }\n",
       "\n",
       "    .dataframe thead th {\n",
       "        text-align: right;\n",
       "    }\n",
       "</style>\n",
       "<table border=\"1\" class=\"dataframe\">\n",
       "  <thead>\n",
       "    <tr style=\"text-align: right;\">\n",
       "      <th></th>\n",
       "      <th>name</th>\n",
       "      <th>offices</th>\n",
       "    </tr>\n",
       "  </thead>\n",
       "  <tbody>\n",
       "    <tr>\n",
       "      <th>0</th>\n",
       "      <td>Wetpaint</td>\n",
       "      <td>[{'description': '', 'address1': '710 - 2nd Av...</td>\n",
       "    </tr>\n",
       "    <tr>\n",
       "      <th>1</th>\n",
       "      <td>AdventNet</td>\n",
       "      <td>[{'description': 'Headquarters', 'address1': '...</td>\n",
       "    </tr>\n",
       "    <tr>\n",
       "      <th>2</th>\n",
       "      <td>Zoho</td>\n",
       "      <td>[{'description': 'Headquarters', 'address1': '...</td>\n",
       "    </tr>\n",
       "    <tr>\n",
       "      <th>3</th>\n",
       "      <td>Digg</td>\n",
       "      <td>[{'description': None, 'address1': '135 Missis...</td>\n",
       "    </tr>\n",
       "    <tr>\n",
       "      <th>4</th>\n",
       "      <td>Facebook</td>\n",
       "      <td>[{'description': 'Headquarters', 'address1': '...</td>\n",
       "    </tr>\n",
       "  </tbody>\n",
       "</table>\n",
       "</div>"
      ],
      "text/plain": [
       "        name                                            offices\n",
       "0   Wetpaint  [{'description': '', 'address1': '710 - 2nd Av...\n",
       "1  AdventNet  [{'description': 'Headquarters', 'address1': '...\n",
       "2       Zoho  [{'description': 'Headquarters', 'address1': '...\n",
       "3       Digg  [{'description': None, 'address1': '135 Missis...\n",
       "4   Facebook  [{'description': 'Headquarters', 'address1': '..."
      ]
     },
     "execution_count": 106,
     "metadata": {},
     "output_type": "execute_result"
    }
   ],
   "source": [
    "df=pd.DataFrame(ofi)\n",
    "\n",
    "df=df.dropna()\n",
    "\n",
    "df.head()"
   ]
  },
  {
   "cell_type": "code",
   "execution_count": 107,
   "id": "4b6ea2d9",
   "metadata": {},
   "outputs": [
    {
     "data": {
      "text/plain": [
       "[{'description': '',\n",
       "  'address1': '710 - 2nd Avenue',\n",
       "  'address2': 'Suite 1100',\n",
       "  'zip_code': '98104',\n",
       "  'city': 'Seattle',\n",
       "  'state_code': 'WA',\n",
       "  'country_code': 'USA',\n",
       "  'latitude': 47.603122,\n",
       "  'longitude': -122.333253},\n",
       " {'description': '',\n",
       "  'address1': '270 Lafayette Street',\n",
       "  'address2': 'Suite 505',\n",
       "  'zip_code': '10012',\n",
       "  'city': 'New York',\n",
       "  'state_code': 'NY',\n",
       "  'country_code': 'USA',\n",
       "  'latitude': 40.7237306,\n",
       "  'longitude': -73.9964312}]"
      ]
     },
     "execution_count": 107,
     "metadata": {},
     "output_type": "execute_result"
    }
   ],
   "source": [
    "df.offices[0]"
   ]
  },
  {
   "cell_type": "code",
   "execution_count": 108,
   "id": "ca153d3d",
   "metadata": {},
   "outputs": [],
   "source": [
    "# extraer la primera oficina y crear geopunto\n",
    "\n",
    "\n",
    "def get_first(data):\n",
    "    \n",
    "    data=data.offices\n",
    "    \n",
    "    principal=None\n",
    "    \n",
    "    if data[0]['latitude'] and data[0]['longitude']:\n",
    "        \n",
    "        principal = {'type': 'Point',\n",
    "                     'coordinates': [data[0]['longitude'],\n",
    "                                     data[0]['latitude']]}\n",
    "\n",
    "\n",
    "    return {'total_offices': len(data),\n",
    "            'lat': data[0]['latitude'],\n",
    "            'lng': data[0]['longitude'],\n",
    "            'principal': principal}"
   ]
  },
  {
   "cell_type": "code",
   "execution_count": 109,
   "id": "79428353",
   "metadata": {},
   "outputs": [
    {
     "data": {
      "text/html": [
       "<div>\n",
       "<style scoped>\n",
       "    .dataframe tbody tr th:only-of-type {\n",
       "        vertical-align: middle;\n",
       "    }\n",
       "\n",
       "    .dataframe tbody tr th {\n",
       "        vertical-align: top;\n",
       "    }\n",
       "\n",
       "    .dataframe thead th {\n",
       "        text-align: right;\n",
       "    }\n",
       "</style>\n",
       "<table border=\"1\" class=\"dataframe\">\n",
       "  <thead>\n",
       "    <tr style=\"text-align: right;\">\n",
       "      <th></th>\n",
       "      <th>total_offices</th>\n",
       "      <th>lat</th>\n",
       "      <th>lng</th>\n",
       "      <th>principal</th>\n",
       "    </tr>\n",
       "  </thead>\n",
       "  <tbody>\n",
       "    <tr>\n",
       "      <th>0</th>\n",
       "      <td>2.0</td>\n",
       "      <td>47.603122</td>\n",
       "      <td>-122.333253</td>\n",
       "      <td>{'type': 'Point', 'coordinates': [-122.333253,...</td>\n",
       "    </tr>\n",
       "    <tr>\n",
       "      <th>1</th>\n",
       "      <td>1.0</td>\n",
       "      <td>37.692934</td>\n",
       "      <td>-121.904945</td>\n",
       "      <td>{'type': 'Point', 'coordinates': [-121.904945,...</td>\n",
       "    </tr>\n",
       "    <tr>\n",
       "      <th>2</th>\n",
       "      <td>1.0</td>\n",
       "      <td>37.692934</td>\n",
       "      <td>-121.904945</td>\n",
       "      <td>{'type': 'Point', 'coordinates': [-121.904945,...</td>\n",
       "    </tr>\n",
       "    <tr>\n",
       "      <th>3</th>\n",
       "      <td>1.0</td>\n",
       "      <td>37.764726</td>\n",
       "      <td>-122.394523</td>\n",
       "      <td>{'type': 'Point', 'coordinates': [-122.394523,...</td>\n",
       "    </tr>\n",
       "    <tr>\n",
       "      <th>4</th>\n",
       "      <td>3.0</td>\n",
       "      <td>37.416050</td>\n",
       "      <td>-122.151801</td>\n",
       "      <td>{'type': 'Point', 'coordinates': [-122.151801,...</td>\n",
       "    </tr>\n",
       "  </tbody>\n",
       "</table>\n",
       "</div>"
      ],
      "text/plain": [
       "   total_offices        lat         lng  \\\n",
       "0            2.0  47.603122 -122.333253   \n",
       "1            1.0  37.692934 -121.904945   \n",
       "2            1.0  37.692934 -121.904945   \n",
       "3            1.0  37.764726 -122.394523   \n",
       "4            3.0  37.416050 -122.151801   \n",
       "\n",
       "                                           principal  \n",
       "0  {'type': 'Point', 'coordinates': [-122.333253,...  \n",
       "1  {'type': 'Point', 'coordinates': [-121.904945,...  \n",
       "2  {'type': 'Point', 'coordinates': [-121.904945,...  \n",
       "3  {'type': 'Point', 'coordinates': [-122.394523,...  \n",
       "4  {'type': 'Point', 'coordinates': [-122.151801,...  "
      ]
     },
     "execution_count": 109,
     "metadata": {},
     "output_type": "execute_result"
    }
   ],
   "source": [
    "first_office=df[['offices']].apply(get_first, result_type='expand', axis=1)\n",
    "\n",
    "\n",
    "first_office.head()"
   ]
  },
  {
   "cell_type": "code",
   "execution_count": 103,
   "id": "ba9dd4bc",
   "metadata": {},
   "outputs": [
    {
     "name": "stderr",
     "output_type": "stream",
     "text": [
      "/var/folders/95/ms6dwls51ls1jq0t456d3r200000gn/T/ipykernel_23287/333693045.py:1: FutureWarning: The behavior of `series[i:j]` with an integer-dtype index is deprecated. In a future version, this will be treated as *label-based* indexing, consistent with e.g. `series[i]` lookups. To retain the old behavior, use `series.iloc[i:j]`. To get the future behavior, use `series.loc[i:j]`.\n",
      "  df.name[:5]\n"
     ]
    },
    {
     "data": {
      "text/plain": [
       "0     Wetpaint\n",
       "1    AdventNet\n",
       "2         Zoho\n",
       "3         Digg\n",
       "4     Facebook\n",
       "Name: name, dtype: object"
      ]
     },
     "execution_count": 103,
     "metadata": {},
     "output_type": "execute_result"
    }
   ],
   "source": [
    "df.name[:5]"
   ]
  },
  {
   "cell_type": "code",
   "execution_count": 110,
   "id": "479d9e52",
   "metadata": {},
   "outputs": [
    {
     "data": {
      "text/html": [
       "<div>\n",
       "<style scoped>\n",
       "    .dataframe tbody tr th:only-of-type {\n",
       "        vertical-align: middle;\n",
       "    }\n",
       "\n",
       "    .dataframe tbody tr th {\n",
       "        vertical-align: top;\n",
       "    }\n",
       "\n",
       "    .dataframe thead th {\n",
       "        text-align: right;\n",
       "    }\n",
       "</style>\n",
       "<table border=\"1\" class=\"dataframe\">\n",
       "  <thead>\n",
       "    <tr style=\"text-align: right;\">\n",
       "      <th></th>\n",
       "      <th>total_offices</th>\n",
       "      <th>lat</th>\n",
       "      <th>lng</th>\n",
       "      <th>principal</th>\n",
       "      <th>name</th>\n",
       "    </tr>\n",
       "  </thead>\n",
       "  <tbody>\n",
       "    <tr>\n",
       "      <th>0</th>\n",
       "      <td>2.0</td>\n",
       "      <td>47.603122</td>\n",
       "      <td>-122.333253</td>\n",
       "      <td>{'type': 'Point', 'coordinates': [-122.333253,...</td>\n",
       "      <td>Wetpaint</td>\n",
       "    </tr>\n",
       "    <tr>\n",
       "      <th>1</th>\n",
       "      <td>1.0</td>\n",
       "      <td>37.692934</td>\n",
       "      <td>-121.904945</td>\n",
       "      <td>{'type': 'Point', 'coordinates': [-121.904945,...</td>\n",
       "      <td>AdventNet</td>\n",
       "    </tr>\n",
       "    <tr>\n",
       "      <th>2</th>\n",
       "      <td>1.0</td>\n",
       "      <td>37.692934</td>\n",
       "      <td>-121.904945</td>\n",
       "      <td>{'type': 'Point', 'coordinates': [-121.904945,...</td>\n",
       "      <td>Zoho</td>\n",
       "    </tr>\n",
       "    <tr>\n",
       "      <th>3</th>\n",
       "      <td>1.0</td>\n",
       "      <td>37.764726</td>\n",
       "      <td>-122.394523</td>\n",
       "      <td>{'type': 'Point', 'coordinates': [-122.394523,...</td>\n",
       "      <td>Digg</td>\n",
       "    </tr>\n",
       "    <tr>\n",
       "      <th>4</th>\n",
       "      <td>3.0</td>\n",
       "      <td>37.416050</td>\n",
       "      <td>-122.151801</td>\n",
       "      <td>{'type': 'Point', 'coordinates': [-122.151801,...</td>\n",
       "      <td>Facebook</td>\n",
       "    </tr>\n",
       "  </tbody>\n",
       "</table>\n",
       "</div>"
      ],
      "text/plain": [
       "   total_offices        lat         lng  \\\n",
       "0            2.0  47.603122 -122.333253   \n",
       "1            1.0  37.692934 -121.904945   \n",
       "2            1.0  37.692934 -121.904945   \n",
       "3            1.0  37.764726 -122.394523   \n",
       "4            3.0  37.416050 -122.151801   \n",
       "\n",
       "                                           principal       name  \n",
       "0  {'type': 'Point', 'coordinates': [-122.333253,...   Wetpaint  \n",
       "1  {'type': 'Point', 'coordinates': [-121.904945,...  AdventNet  \n",
       "2  {'type': 'Point', 'coordinates': [-121.904945,...       Zoho  \n",
       "3  {'type': 'Point', 'coordinates': [-122.394523,...       Digg  \n",
       "4  {'type': 'Point', 'coordinates': [-122.151801,...   Facebook  "
      ]
     },
     "execution_count": 110,
     "metadata": {},
     "output_type": "execute_result"
    }
   ],
   "source": [
    "first_office['name']=df.name\n",
    "\n",
    "first_office.head()"
   ]
  },
  {
   "cell_type": "code",
   "execution_count": 115,
   "id": "06e2a013",
   "metadata": {},
   "outputs": [],
   "source": [
    "df=first_office.copy()\n",
    "\n",
    "df=df.dropna()"
   ]
  },
  {
   "cell_type": "code",
   "execution_count": 116,
   "id": "7908dfad",
   "metadata": {},
   "outputs": [],
   "source": [
    "#df.to_json('../data/oficinas.json')"
   ]
  },
  {
   "cell_type": "code",
   "execution_count": 117,
   "id": "958eb501",
   "metadata": {},
   "outputs": [
    {
     "data": {
      "text/plain": [
       "<pymongo.results.InsertManyResult at 0x139ad5af0>"
      ]
     },
     "execution_count": 117,
     "metadata": {},
     "output_type": "execute_result"
    }
   ],
   "source": [
    "db.first_office.insert_many(df.to_dict('records'))"
   ]
  },
  {
   "cell_type": "code",
   "execution_count": 118,
   "id": "00edaa2c",
   "metadata": {},
   "outputs": [
    {
     "data": {
      "text/plain": [
       "'principal_2dsphere'"
      ]
     },
     "execution_count": 118,
     "metadata": {},
     "output_type": "execute_result"
    }
   ],
   "source": [
    "db.first_office.create_index([('principal', '2dsphere')])"
   ]
  },
  {
   "cell_type": "code",
   "execution_count": 122,
   "id": "0f5f4495",
   "metadata": {},
   "outputs": [],
   "source": [
    "def find_near(array, radio=1000):\n",
    "\n",
    "    query={'principal': {'$near': {'$geometry': {'type': 'Point',\n",
    "                                                 'coordinates': array},\n",
    "\n",
    "                                  '$maxDistance': radio}}}\n",
    "    \n",
    "    return db.first_office.find(query)"
   ]
  },
  {
   "cell_type": "code",
   "execution_count": 123,
   "id": "5f12b4ea",
   "metadata": {},
   "outputs": [],
   "source": [
    "park_avenue=[-73.987308, 40.738935] "
   ]
  },
  {
   "cell_type": "code",
   "execution_count": 124,
   "id": "f92ce8fc",
   "metadata": {},
   "outputs": [
    {
     "data": {
      "text/plain": [
       "<pymongo.cursor.Cursor at 0x159866c70>"
      ]
     },
     "execution_count": 124,
     "metadata": {},
     "output_type": "execute_result"
    }
   ],
   "source": [
    "find_near(park_avenue)"
   ]
  },
  {
   "cell_type": "code",
   "execution_count": 125,
   "id": "0ffffeb3",
   "metadata": {},
   "outputs": [
    {
     "data": {
      "text/html": [
       "<div>\n",
       "<style scoped>\n",
       "    .dataframe tbody tr th:only-of-type {\n",
       "        vertical-align: middle;\n",
       "    }\n",
       "\n",
       "    .dataframe tbody tr th {\n",
       "        vertical-align: top;\n",
       "    }\n",
       "\n",
       "    .dataframe thead th {\n",
       "        text-align: right;\n",
       "    }\n",
       "</style>\n",
       "<table border=\"1\" class=\"dataframe\">\n",
       "  <thead>\n",
       "    <tr style=\"text-align: right;\">\n",
       "      <th></th>\n",
       "      <th>_id</th>\n",
       "      <th>total_offices</th>\n",
       "      <th>lat</th>\n",
       "      <th>lng</th>\n",
       "      <th>principal</th>\n",
       "      <th>name</th>\n",
       "    </tr>\n",
       "  </thead>\n",
       "  <tbody>\n",
       "    <tr>\n",
       "      <th>0</th>\n",
       "      <td>63db9ce3f40f08f7223fd5e3</td>\n",
       "      <td>1.0</td>\n",
       "      <td>40.738567</td>\n",
       "      <td>-73.987199</td>\n",
       "      <td>{'type': 'Point', 'coordinates': [-73.987199, ...</td>\n",
       "      <td>SpaBooker</td>\n",
       "    </tr>\n",
       "    <tr>\n",
       "      <th>1</th>\n",
       "      <td>63db9ce3f40f08f7223fc3bb</td>\n",
       "      <td>1.0</td>\n",
       "      <td>40.739341</td>\n",
       "      <td>-73.988357</td>\n",
       "      <td>{'type': 'Point', 'coordinates': [-73.988357, ...</td>\n",
       "      <td>HealthiNation</td>\n",
       "    </tr>\n",
       "    <tr>\n",
       "      <th>2</th>\n",
       "      <td>63db9ce3f40f08f7223fbfa3</td>\n",
       "      <td>1.0</td>\n",
       "      <td>40.737721</td>\n",
       "      <td>-73.987725</td>\n",
       "      <td>{'type': 'Point', 'coordinates': [-73.987725, ...</td>\n",
       "      <td>Special Ops Media</td>\n",
       "    </tr>\n",
       "    <tr>\n",
       "      <th>3</th>\n",
       "      <td>63db9ce3f40f08f7223fdc35</td>\n",
       "      <td>1.0</td>\n",
       "      <td>40.740154</td>\n",
       "      <td>-73.986742</td>\n",
       "      <td>{'type': 'Point', 'coordinates': [-73.9867417,...</td>\n",
       "      <td>Mashable</td>\n",
       "    </tr>\n",
       "    <tr>\n",
       "      <th>4</th>\n",
       "      <td>63db9ce3f40f08f7223fcd3a</td>\n",
       "      <td>1.0</td>\n",
       "      <td>40.740207</td>\n",
       "      <td>-73.987002</td>\n",
       "      <td>{'type': 'Point', 'coordinates': [-73.987002, ...</td>\n",
       "      <td>Return Path</td>\n",
       "    </tr>\n",
       "  </tbody>\n",
       "</table>\n",
       "</div>"
      ],
      "text/plain": [
       "                        _id  total_offices        lat        lng  \\\n",
       "0  63db9ce3f40f08f7223fd5e3            1.0  40.738567 -73.987199   \n",
       "1  63db9ce3f40f08f7223fc3bb            1.0  40.739341 -73.988357   \n",
       "2  63db9ce3f40f08f7223fbfa3            1.0  40.737721 -73.987725   \n",
       "3  63db9ce3f40f08f7223fdc35            1.0  40.740154 -73.986742   \n",
       "4  63db9ce3f40f08f7223fcd3a            1.0  40.740207 -73.987002   \n",
       "\n",
       "                                           principal               name  \n",
       "0  {'type': 'Point', 'coordinates': [-73.987199, ...          SpaBooker  \n",
       "1  {'type': 'Point', 'coordinates': [-73.988357, ...      HealthiNation  \n",
       "2  {'type': 'Point', 'coordinates': [-73.987725, ...  Special Ops Media  \n",
       "3  {'type': 'Point', 'coordinates': [-73.9867417,...           Mashable  \n",
       "4  {'type': 'Point', 'coordinates': [-73.987002, ...        Return Path  "
      ]
     },
     "execution_count": 125,
     "metadata": {},
     "output_type": "execute_result"
    }
   ],
   "source": [
    "df=pd.DataFrame(find_near(park_avenue))\n",
    "\n",
    "df.head()"
   ]
  },
  {
   "cell_type": "code",
   "execution_count": null,
   "id": "9dbd8672",
   "metadata": {},
   "outputs": [],
   "source": []
  }
 ],
 "metadata": {
  "kernelspec": {
   "display_name": "clase",
   "language": "python",
   "name": "clase"
  },
  "language_info": {
   "codemirror_mode": {
    "name": "ipython",
    "version": 3
   },
   "file_extension": ".py",
   "mimetype": "text/x-python",
   "name": "python",
   "nbconvert_exporter": "python",
   "pygments_lexer": "ipython3",
   "version": "3.9.12"
  },
  "varInspector": {
   "cols": {
    "lenName": 16,
    "lenType": 16,
    "lenVar": 40
   },
   "kernels_config": {
    "python": {
     "delete_cmd_postfix": "",
     "delete_cmd_prefix": "del ",
     "library": "var_list.py",
     "varRefreshCmd": "print(var_dic_list())"
    },
    "r": {
     "delete_cmd_postfix": ") ",
     "delete_cmd_prefix": "rm(",
     "library": "var_list.r",
     "varRefreshCmd": "cat(var_dic_list()) "
    }
   },
   "types_to_exclude": [
    "module",
    "function",
    "builtin_function_or_method",
    "instance",
    "_Feature"
   ],
   "window_display": false
  }
 },
 "nbformat": 4,
 "nbformat_minor": 5
}
