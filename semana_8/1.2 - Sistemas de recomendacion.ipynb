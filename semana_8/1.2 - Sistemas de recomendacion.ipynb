{
 "cells": [
  {
   "cell_type": "markdown",
   "id": "4cae0d53",
   "metadata": {},
   "source": [
    "# 1.2 - Sistemas de recomendación\n",
    "\n",
    "\n",
    "#### Filtro Colaborativo\n",
    "\n",
    "Técnica utilizada por algunos sistemas recomendadores, los cuales  suelen incluir conjuntos de datos muy grandes. Hay dos tipos de filtros colaborativos:\n",
    "\n",
    "+ Basados en Usuarios (User-based):\n",
    "\n",
    "Se basan en una premisa simple de similitud entre gustos, es decir, en que si una persona A tiene la misma opinión que una persona B sobre un tema, A es más probable que tenga la misma opinión que B en otro tema diferente que la opinión que tendría una persona elegida azar. \n",
    "\n",
    "Tiene ciertos inconvenientes. \n",
    "Requiere evaluaciones previas, sin algunas evaluaciones de usuarios, no se tienen pistas sobre las evaluaciones de los nuevos usuarios.\n",
    "No es una matriz densa, usualmente los usuarios dan su rating sobre algunos items y no sobre toda la base de datos, lo que puede dificultar algunos casos por falta de datos pero puede ayudar ya que no se tiene que hacer los cálculos para todas las combinaciones posibles.\n",
    "Altos costos si los perfiles de usuarios cambian, si los gustos cambian o hay ruido en los datos (ejemplo, 2 personas usan la misma cuenta en el sistema) todo el modelo del sistema debe ser recalculado.\n",
    "\n",
    "+ Basados en Items (Items-based):\n",
    "\n",
    "Buscan la similitud entre elementos, utilizan distribuciones de calificación por artículo, no por usuario, lo que puede ayudar a sobrellevar algunos de los problemas de los modelos User-based. Con más usuarios que elementos, cada elemento tiende a tener más calificaciones que cada usuario, por lo que la calificación promedio de un elemento generalmente no cambia rápidamente. Esto conduce a distribuciones de calificación más estables en el modelo, por lo que no es necesario reconstruir el modelo con tanta frecuencia. Cuando los usuarios consumen y luego califican un artículo, los elementos similares de ese elemento se seleccionan del modelo de sistema existente y se agregan a las recomendaciones del usuario."
   ]
  },
  {
   "cell_type": "markdown",
   "id": "80119efb",
   "metadata": {},
   "source": [
    "### Ejemplo Peliculas (User-based)"
   ]
  },
  {
   "cell_type": "code",
   "execution_count": null,
   "id": "0ac6e2ac",
   "metadata": {},
   "outputs": [],
   "source": [
    "import pandas as pd\n",
    "import pylab as plt\n",
    "\n",
    "%matplotlib inline"
   ]
  },
  {
   "cell_type": "code",
   "execution_count": null,
   "id": "b8e62849",
   "metadata": {},
   "outputs": [],
   "source": [
    "from scipy.spatial.distance import pdist       # calcula distancias entre puntos\n",
    "\n",
    "from scipy.spatial.distance import squareform  # convierte a una matriz cuadrada"
   ]
  },
  {
   "cell_type": "code",
   "execution_count": null,
   "id": "5ea66603",
   "metadata": {},
   "outputs": [],
   "source": [
    "ratings=pd.read_csv('../data/movie_ratings.csv').set_index('Movie')\n",
    "\n",
    "ratings.head()"
   ]
  },
  {
   "cell_type": "code",
   "execution_count": null,
   "id": "b79f4f6c",
   "metadata": {},
   "outputs": [],
   "source": [
    "def plot(m1, m2):\n",
    "    x=ratings.T[m1]     # ratings de pelis\n",
    "    y=ratings.T[m2]\n",
    "\n",
    "    n=list(ratings.columns)     # nombres de usuarios\n",
    "\n",
    "    plt.figure(figsize=(10, 5))\n",
    "\n",
    "    plt.scatter(x, y, s=0)      # scatter vacio\n",
    "\n",
    "    plt.title('Espacio para {} VS. {}'.format(m1, m2), fontsize=14)\n",
    "    plt.xlabel(m1, fontsize=14)\n",
    "    plt.ylabel(m2, fontsize=14)\n",
    "\n",
    "    for i,e in enumerate(n):\n",
    "        plt.annotate(e, (x[i], y[i]), fontsize=12)   # escribe nombres\n",
    "\n",
    "    plt.show();"
   ]
  },
  {
   "cell_type": "code",
   "execution_count": null,
   "id": "d8fb0ef0",
   "metadata": {},
   "outputs": [],
   "source": [
    "plot('Aquaman', 'Deadpool 2')"
   ]
  },
  {
   "cell_type": "code",
   "execution_count": null,
   "id": "c03d8c4d",
   "metadata": {},
   "outputs": [],
   "source": [
    "plot('Venom', 'Deadpool 2')"
   ]
  },
  {
   "cell_type": "code",
   "execution_count": null,
   "id": "504612ed",
   "metadata": {},
   "outputs": [],
   "source": [
    "plot('Bohemian Rhapsody', 'Incredibles 2')"
   ]
  },
  {
   "cell_type": "code",
   "execution_count": null,
   "id": "dd00e8c0",
   "metadata": {},
   "outputs": [],
   "source": [
    "distancias=squareform(pdist(ratings.T, 'euclidean'))    # distancia entre usuarios\n",
    "\n",
    "distancias   # pertenecen al intervalo [0, +inf)"
   ]
  },
  {
   "cell_type": "code",
   "execution_count": null,
   "id": "0cd3171b",
   "metadata": {},
   "outputs": [],
   "source": [
    "similitud = 1 / (1+distancias)\n",
    "\n",
    "similitud"
   ]
  },
  {
   "cell_type": "code",
   "execution_count": null,
   "id": "5efb66e0",
   "metadata": {},
   "outputs": [],
   "source": [
    "similitudes=pd.DataFrame(similitud, index=ratings.columns, columns=ratings.columns)\n",
    "\n",
    "similitudes  # pertenecen al intervalo (0, 1)"
   ]
  },
  {
   "cell_type": "markdown",
   "id": "4872c4bc",
   "metadata": {},
   "source": [
    "##### metricas de distancia\n",
    "\n",
    "https://docs.scipy.org/doc/scipy/reference/generated/scipy.spatial.distance.pdist.html\n",
    "\n",
    "https://docs.scipy.org/doc/scipy-0.14.0/reference/generated/scipy.spatial.distance.squareform.html\n",
    "\n",
    "https://docs.scipy.org/doc/scipy-0.14.0/reference/spatial.distance.html"
   ]
  },
  {
   "cell_type": "markdown",
   "id": "e228570d",
   "metadata": {},
   "source": [
    "**euclidea**\n",
    "\n",
    "$$d=\\sqrt{x^2 + y^2}$$\n",
    "\n",
    "$$d=\\sqrt{x_1^2 + x_2^2 + \\ldots + x_n^2}$$"
   ]
  },
  {
   "cell_type": "markdown",
   "id": "c41f49bd",
   "metadata": {},
   "source": [
    "**cityblock - manhattan**\n",
    "\n",
    "$$d=x + y$$"
   ]
  },
  {
   "cell_type": "markdown",
   "id": "2fd9151c",
   "metadata": {},
   "source": [
    "**similitud del coseno**"
   ]
  },
  {
   "cell_type": "markdown",
   "id": "47dc082a",
   "metadata": {},
   "source": [
    "**producto escalar**\n",
    "\n",
    "$$(1, 2, 3)·(2, 1, 1)= 1·2 + 2·1 + 3·1 =7$$"
   ]
  },
  {
   "cell_type": "markdown",
   "id": "bc493695",
   "metadata": {},
   "source": [
    "$$\\cos{\\theta}=\\frac{v1·v2}{|v1|·|v2|}$$\n",
    "\n",
    "donde:\n",
    "\n",
    "$|V1|=\\sqrt{x_1^2+x_2^2+x_3^2}$"
   ]
  },
  {
   "cell_type": "markdown",
   "id": "87ad686a",
   "metadata": {},
   "source": [
    "### Generar recomendaciones"
   ]
  },
  {
   "cell_type": "code",
   "execution_count": null,
   "id": "2c4e770b",
   "metadata": {},
   "outputs": [],
   "source": [
    "tom={'Aquaman': 2, \n",
    "     'Avengers: Infinity War':1, \n",
    "     'Black Panther':5,\n",
    "     'Bohemian Rhapsody':5, \n",
    "     'Deadpool 2':2,\n",
    "     'Fantastic Beasts: The Crimes of Grindelwald':3, \n",
    "     'Incredibles 2':3,\n",
    "     'Jurassic World: Fallen Kingdom':4, \n",
    "     'Mission: Impossible – Fallout':3,\n",
    "     'Venom':3}"
   ]
  },
  {
   "cell_type": "code",
   "execution_count": null,
   "id": "4834e942",
   "metadata": {},
   "outputs": [],
   "source": [
    "ratings['Tom']=pd.Series(tom)\n",
    "\n",
    "ratings"
   ]
  },
  {
   "cell_type": "code",
   "execution_count": null,
   "id": "a6d41206",
   "metadata": {},
   "outputs": [],
   "source": [
    "distancias=squareform(pdist(ratings.T, 'euclidean')) \n",
    "\n",
    "similitud=1/(1+distancias)\n",
    "\n",
    "similitudes=pd.DataFrame(similitud, index=ratings.columns, columns=ratings.columns)\n",
    "\n",
    "similitudes"
   ]
  },
  {
   "cell_type": "code",
   "execution_count": null,
   "id": "083d645f",
   "metadata": {},
   "outputs": [],
   "source": [
    "n_ratings=pd.read_csv('../data/movie_ratings2.csv').set_index('Movie')  # pelis que Tom NO ha visto\n",
    "\n",
    "n_ratings"
   ]
  },
  {
   "cell_type": "markdown",
   "id": "28a6262e",
   "metadata": {},
   "source": [
    "#### Score de similitud"
   ]
  },
  {
   "cell_type": "code",
   "execution_count": null,
   "id": "4aec498a",
   "metadata": {},
   "outputs": [],
   "source": [
    "simil_score=similitudes['Tom'].sort_values(ascending=False)[1:]\n",
    "\n",
    "simil_score"
   ]
  },
  {
   "cell_type": "code",
   "execution_count": null,
   "id": "4e3abfbb",
   "metadata": {},
   "outputs": [],
   "source": [
    "reco=n_ratings.copy()\n",
    "\n",
    "reco  # Tom No ha visto"
   ]
  },
  {
   "cell_type": "code",
   "execution_count": null,
   "id": "45cfb2d7",
   "metadata": {},
   "outputs": [],
   "source": [
    "for n,s in dict(simil_score).items():\n",
    "    reco[n]=reco[n]*s   # producto entre similitud y rating\n",
    "    \n",
    "reco['Total']=reco.sum(axis=1)\n",
    "\n",
    "reco.sort_values('Total', ascending=False)"
   ]
  },
  {
   "cell_type": "code",
   "execution_count": null,
   "id": "61ffdb1f",
   "metadata": {},
   "outputs": [],
   "source": [
    "simil_score"
   ]
  },
  {
   "cell_type": "code",
   "execution_count": null,
   "id": "e9276178",
   "metadata": {},
   "outputs": [],
   "source": [
    "n_ratings"
   ]
  },
  {
   "cell_type": "code",
   "execution_count": null,
   "id": "16577430",
   "metadata": {},
   "outputs": [],
   "source": [
    "# con otra metrica\n",
    "\n",
    "distancias=squareform(pdist(ratings.T, 'cosine')) \n",
    "\n",
    "similitud=1/(1+distancias)\n",
    "\n",
    "similitudes=pd.DataFrame(similitud, index=ratings.columns, columns=ratings.columns)\n",
    "\n",
    "simil_score=similitudes['Tom'].sort_values(ascending=False)[1:]\n",
    "\n",
    "reco=n_ratings.copy()\n",
    "\n",
    "for n,s in dict(simil_score).items():\n",
    "    reco[n]=reco[n]*s\n",
    "    \n",
    "reco['Total']=reco.sum(axis=1)\n",
    "reco.sort_values('Total', ascending=False)"
   ]
  },
  {
   "cell_type": "code",
   "execution_count": null,
   "id": "56ce6f4a",
   "metadata": {},
   "outputs": [],
   "source": [
    "distancias=squareform(pdist(ratings.T, 'cityblock')) \n",
    "\n",
    "similitud=1/(1+distancias)\n",
    "\n",
    "similitudes=pd.DataFrame(similitud, index=ratings.columns, columns=ratings.columns)\n",
    "\n",
    "simil_score=similitudes['Tom'].sort_values(ascending=False)[1:]\n",
    "\n",
    "reco=n_ratings.copy()\n",
    "\n",
    "for n,s in dict(simil_score).items():\n",
    "    reco[n]=reco[n]*s\n",
    "    \n",
    "reco['Total']=reco.sum(axis=1)\n",
    "reco.sort_values('Total', ascending=False)"
   ]
  },
  {
   "cell_type": "code",
   "execution_count": null,
   "id": "135d23b9",
   "metadata": {},
   "outputs": [],
   "source": [
    "distancias=squareform(pdist(ratings.T, 'canberra')) \n",
    "\n",
    "similitud=1/(1+distancias)\n",
    "\n",
    "similitudes=pd.DataFrame(similitud, index=ratings.columns, columns=ratings.columns)\n",
    "\n",
    "simil_score=similitudes['Tom'].sort_values(ascending=False)[1:]\n",
    "\n",
    "reco=n_ratings.copy()\n",
    "\n",
    "for n,s in dict(simil_score).items():\n",
    "    reco[n]=reco[n]*s\n",
    "    \n",
    "reco['Total']=reco.sum(axis=1)\n",
    "reco.sort_values('Total', ascending=False)"
   ]
  },
  {
   "cell_type": "code",
   "execution_count": null,
   "id": "af480146",
   "metadata": {},
   "outputs": [],
   "source": [
    "distancias=squareform(pdist(ratings.T, 'jaccard')) \n",
    "\n",
    "similitud=1/(1+distancias)\n",
    "\n",
    "similitudes=pd.DataFrame(similitud, index=ratings.columns, columns=ratings.columns)\n",
    "\n",
    "simil_score=similitudes['Tom'].sort_values(ascending=False)[1:]\n",
    "\n",
    "reco=n_ratings.copy()\n",
    "\n",
    "for n,s in dict(simil_score).items():\n",
    "    reco[n]=reco[n]*s\n",
    "    \n",
    "reco['Total']=reco.sum(axis=1)\n",
    "reco.sort_values('Total', ascending=False)"
   ]
  },
  {
   "cell_type": "code",
   "execution_count": null,
   "id": "86994b3f",
   "metadata": {},
   "outputs": [],
   "source": []
  }
 ],
 "metadata": {
  "kernelspec": {
   "display_name": "clase",
   "language": "python",
   "name": "clase"
  },
  "language_info": {
   "codemirror_mode": {
    "name": "ipython",
    "version": 3
   },
   "file_extension": ".py",
   "mimetype": "text/x-python",
   "name": "python",
   "nbconvert_exporter": "python",
   "pygments_lexer": "ipython3",
   "version": "3.9.12"
  },
  "varInspector": {
   "cols": {
    "lenName": 16,
    "lenType": 16,
    "lenVar": 40
   },
   "kernels_config": {
    "python": {
     "delete_cmd_postfix": "",
     "delete_cmd_prefix": "del ",
     "library": "var_list.py",
     "varRefreshCmd": "print(var_dic_list())"
    },
    "r": {
     "delete_cmd_postfix": ") ",
     "delete_cmd_prefix": "rm(",
     "library": "var_list.r",
     "varRefreshCmd": "cat(var_dic_list()) "
    }
   },
   "types_to_exclude": [
    "module",
    "function",
    "builtin_function_or_method",
    "instance",
    "_Feature"
   ],
   "window_display": false
  }
 },
 "nbformat": 4,
 "nbformat_minor": 5
}
