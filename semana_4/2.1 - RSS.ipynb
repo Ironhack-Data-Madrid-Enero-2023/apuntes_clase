{
 "cells": [
  {
   "cell_type": "markdown",
   "metadata": {},
   "source": [
    "# 2.1 - RSS\n",
    "\n",
    "$$$$\n",
    "\n",
    "![rss](images/rss.png)\n",
    "\n"
   ]
  },
  {
   "cell_type": "markdown",
   "metadata": {},
   "source": [
    "RSS son las siglas de **Really Simple Syndication**, un formato XML para distribuir contenido en la web. Se utiliza para difundir información actualizada frecuentemente a usuarios que se han suscrito a la fuente de contenidos. El formato permite distribuir contenidos sin necesidad de un navegador, utilizando programas llamados agregadores de noticias, diseñados para leer contenidos RSS. A pesar de eso, es posible utilizar el mismo navegador para ver los contenidos RSS. Las últimas versiones de los principales navegadores permiten leer los RSS sin necesidad de programas adicionales. RSS es parte de la familia de los formatos XML, desarrollado específicamente para todo tipo de sitios que se actualicen con frecuencia y por medio del cual se puede compartir la información y usarla en otros sitios web o programas. A esto se le conoce como redifusión web o sindicación web .\n",
    "\n",
    "\n",
    "En el archivo RSS simplemente están los datos de las novedades del sitio, como el título, fecha de publicación o la descripción. El programa que lea el RSS será encargado de darle estilo o apariencia a los datos que se incluyan en el archivo y presentarlos de una manera atractiva al usuario y de fácil lectura.\n",
    "\n",
    "Que RSS sea un formato basado en XML significa que el archivo RSS se compone por una serie de etiquetas definidas que tendrán un formato dado, y que respetará las reglas generales de XML. Este archivo normalmente es nombrado index.xml y se encuentra ubicado en la página principal.\n",
    "\n",
    "Vale aclarar que RSS no es un protocolo, dado que no contempla parámetros de ningún tipo. No es posible definir mediante una consulta un criterio de búsqueda. \n"
   ]
  },
  {
   "cell_type": "markdown",
   "metadata": {},
   "source": [
    "## Trabajando con RSS\n",
    "\n",
    "Normalmente, el feed del RSS corresponde a un archivo con la extensión .rss. Tenemos una herramienta perfecta para manejar ese tipo de feed."
   ]
  },
  {
   "cell_type": "code",
   "execution_count": null,
   "metadata": {},
   "outputs": [],
   "source": [
    "%pip install feedparser"
   ]
  },
  {
   "cell_type": "code",
   "execution_count": 1,
   "metadata": {},
   "outputs": [],
   "source": [
    "import feedparser"
   ]
  },
  {
   "cell_type": "markdown",
   "metadata": {},
   "source": [
    "### Reddit RSS\n",
    "\n",
    "Para extraer el contenido, tan solo pasamos la url del RSS al feedparser."
   ]
  },
  {
   "cell_type": "code",
   "execution_count": 2,
   "metadata": {},
   "outputs": [],
   "source": [
    "reddit=feedparser.parse('https://www.reddit.com/r/news/.rss')"
   ]
  },
  {
   "cell_type": "code",
   "execution_count": 3,
   "metadata": {},
   "outputs": [
    {
     "data": {
      "text/plain": [
       "feedparser.util.FeedParserDict"
      ]
     },
     "execution_count": 3,
     "metadata": {},
     "output_type": "execute_result"
    }
   ],
   "source": [
    "type(reddit)"
   ]
  },
  {
   "cell_type": "code",
   "execution_count": 5,
   "metadata": {},
   "outputs": [
    {
     "data": {
      "text/plain": [
       "dict_keys(['bozo', 'entries', 'feed', 'headers', 'href', 'status', 'encoding', 'version', 'namespaces'])"
      ]
     },
     "execution_count": 5,
     "metadata": {},
     "output_type": "execute_result"
    }
   ],
   "source": [
    "reddit.keys()"
   ]
  },
  {
   "cell_type": "code",
   "execution_count": 7,
   "metadata": {},
   "outputs": [
    {
     "data": {
      "text/plain": [
       "dict_keys(['tags', 'updated', 'updated_parsed', 'icon', 'id', 'guidislink', 'link', 'links', 'logo', 'subtitle', 'subtitle_detail', 'title', 'title_detail'])"
      ]
     },
     "execution_count": 7,
     "metadata": {},
     "output_type": "execute_result"
    }
   ],
   "source": [
    "reddit['feed'].keys()"
   ]
  },
  {
   "cell_type": "code",
   "execution_count": 10,
   "metadata": {},
   "outputs": [
    {
     "data": {
      "text/plain": [
       "dict_keys(['authors', 'author_detail', 'href', 'author', 'tags', 'content', 'summary', 'id', 'guidislink', 'link', 'links', 'updated', 'updated_parsed', 'published', 'published_parsed', 'title', 'title_detail'])"
      ]
     },
     "execution_count": 10,
     "metadata": {},
     "output_type": "execute_result"
    }
   ],
   "source": [
    "reddit['entries'][0].keys()"
   ]
  },
  {
   "cell_type": "code",
   "execution_count": 13,
   "metadata": {},
   "outputs": [
    {
     "data": {
      "text/plain": [
       "[{'type': 'text/html',\n",
       "  'language': None,\n",
       "  'base': 'https://www.reddit.com/r/news/.rss',\n",
       "  'value': '&#32; submitted by &#32; <a href=\"https://www.reddit.com/user/jayfeather31\"> /u/jayfeather31 </a> <br /> <span><a href=\"https://www.cnn.com/2023/02/06/investing/bank-of-america-ceo-brian-moynihan-debt-default/index.html\">[link]</a></span> &#32; <span><a href=\"https://www.reddit.com/r/news/comments/10vdrgy/bank_of_america_ceo_were_preparing_for_possible/\">[comments]</a></span>'}]"
      ]
     },
     "execution_count": 13,
     "metadata": {},
     "output_type": "execute_result"
    }
   ],
   "source": [
    "reddit['entries'][0]['content']"
   ]
  },
  {
   "cell_type": "markdown",
   "metadata": {},
   "source": [
    "### [Nasa](https://www.nasa.gov/content/nasa-rss-feeds) RSS"
   ]
  },
  {
   "cell_type": "code",
   "execution_count": 14,
   "metadata": {},
   "outputs": [],
   "source": [
    "nasa=feedparser.parse('https://www.nasa.gov/rss/dyn/mission_pages/kepler/news/kepler-newsandfeatures-RSS.rss')"
   ]
  },
  {
   "cell_type": "code",
   "execution_count": 16,
   "metadata": {},
   "outputs": [
    {
     "data": {
      "text/plain": [
       "dict_keys(['bozo', 'entries', 'feed', 'headers', 'href', 'status', 'encoding', 'version', 'namespaces'])"
      ]
     },
     "execution_count": 16,
     "metadata": {},
     "output_type": "execute_result"
    }
   ],
   "source": [
    "nasa.keys()"
   ]
  },
  {
   "cell_type": "code",
   "execution_count": 19,
   "metadata": {},
   "outputs": [
    {
     "data": {
      "text/plain": [
       "{'title': \"New Deep Learning Method Adds 301 Planets to Kepler's Total Count\",\n",
       " 'title_detail': {'type': 'text/plain',\n",
       "  'language': 'en',\n",
       "  'base': 'http://www.nasa.gov/',\n",
       "  'value': \"New Deep Learning Method Adds 301 Planets to Kepler's Total Count\"},\n",
       " 'links': [{'rel': 'alternate',\n",
       "   'type': 'text/html',\n",
       "   'href': 'http://www.nasa.gov/feature/ames/new-deep-learning-method-adds-301-planets-to-keplers-total-count'},\n",
       "  {'length': '7380534',\n",
       "   'type': 'image/gif',\n",
       "   'href': 'http://www.nasa.gov/sites/default/files/styles/1x1_cardfeed/public/thumbnails/image/exoplanet_banner_1.gif?itok=L3rCP01p',\n",
       "   'rel': 'enclosure'}],\n",
       " 'link': 'http://www.nasa.gov/feature/ames/new-deep-learning-method-adds-301-planets-to-keplers-total-count',\n",
       " 'summary': 'Scientists recently added a whopping 301 newly confirmed exoplanets to the total exoplanet tally.',\n",
       " 'summary_detail': {'type': 'text/html',\n",
       "  'language': 'en',\n",
       "  'base': 'http://www.nasa.gov/',\n",
       "  'value': 'Scientists recently added a whopping 301 newly confirmed exoplanets to the total exoplanet tally.'},\n",
       " 'id': 'http://www.nasa.gov/feature/ames/new-deep-learning-method-adds-301-planets-to-keplers-total-count',\n",
       " 'guidislink': False,\n",
       " 'published': 'Mon, 22 Nov 2021 20:36 EST',\n",
       " 'published_parsed': time.struct_time(tm_year=2021, tm_mon=11, tm_mday=23, tm_hour=1, tm_min=36, tm_sec=0, tm_wday=1, tm_yday=327, tm_isdst=0),\n",
       " 'source': {'href': 'http://www.nasa.gov/rss/dyn/mission_pages/kepler/news/kepler-newsandfeatures-RSS.rss',\n",
       "  'title': 'Kepler News and Features'}}"
      ]
     },
     "execution_count": 19,
     "metadata": {},
     "output_type": "execute_result"
    }
   ],
   "source": [
    "nasa['entries'][0]"
   ]
  },
  {
   "cell_type": "code",
   "execution_count": 26,
   "metadata": {},
   "outputs": [
    {
     "data": {
      "text/html": [
       "<img src=\"http://www.nasa.gov/sites/default/files/styles/1x1_cardfeed/public/thumbnails/image/exoplanet_banner_1.gif?itok=L3rCP01p\"/>"
      ],
      "text/plain": [
       "<IPython.core.display.Image object>"
      ]
     },
     "metadata": {},
     "output_type": "display_data"
    }
   ],
   "source": [
    "url=nasa['entries'][0]['links'][-1]['href']\n",
    "\n",
    "from IPython.display import Image\n",
    "\n",
    "display(Image(url=url))"
   ]
  },
  {
   "cell_type": "markdown",
   "metadata": {},
   "source": [
    "### [ForexLive](https://www.forexlive.com/rss) RSS"
   ]
  },
  {
   "cell_type": "code",
   "execution_count": 27,
   "metadata": {},
   "outputs": [],
   "source": [
    "crypto=feedparser.parse('https://www.forexlive.com/feed/cryptocurrency')"
   ]
  },
  {
   "cell_type": "code",
   "execution_count": 29,
   "metadata": {},
   "outputs": [
    {
     "data": {
      "text/plain": [
       "dict_keys(['bozo', 'entries', 'feed', 'headers', 'etag', 'href', 'status', 'encoding', 'version', 'namespaces'])"
      ]
     },
     "execution_count": 29,
     "metadata": {},
     "output_type": "execute_result"
    }
   ],
   "source": [
    "crypto.keys()"
   ]
  },
  {
   "cell_type": "code",
   "execution_count": 30,
   "metadata": {
    "scrolled": false
   },
   "outputs": [
    {
     "data": {
      "text/plain": [
       "{'title': \"Berkshire Hathaway's Charlie Munger says the US should ban crypto\",\n",
       " 'title_detail': {'type': 'text/plain',\n",
       "  'language': None,\n",
       "  'base': 'https://www.forexlive.com/feed/cryptocurrency',\n",
       "  'value': \"Berkshire Hathaway's Charlie Munger says the US should ban crypto\"},\n",
       " 'comments': 'https://www.forexlive.com/Cryptocurrency/berkshire-hathaways-charlie-munger-says-the-us-should-ban-crypto-20230202/#respond',\n",
       " 'published': 'Thu, 02 Feb 2023 00:57:09 GMT',\n",
       " 'published_parsed': time.struct_time(tm_year=2023, tm_mon=2, tm_mday=2, tm_hour=0, tm_min=57, tm_sec=9, tm_wday=3, tm_yday=33, tm_isdst=0),\n",
       " 'authors': [{'name': 'Eamonn Sheridan'}, {'name': 'www.forexlive.com'}],\n",
       " 'author': 'www.forexlive.com',\n",
       " 'author_detail': {'name': 'Eamonn Sheridan'},\n",
       " 'tags': [{'term': 'Cryptocurrency', 'scheme': None, 'label': None}],\n",
       " 'id': 'https://www.forexlive.com/Cryptocurrency/berkshire-hathaways-charlie-munger-says-the-us-should-ban-crypto-20230202/',\n",
       " 'guidislink': True,\n",
       " 'link': 'https://www.forexlive.com/Cryptocurrency/berkshire-hathaways-charlie-munger-says-the-us-should-ban-crypto-20230202/',\n",
       " 'links': [{'rel': 'alternate',\n",
       "   'type': 'text/html',\n",
       "   'href': 'https://www.forexlive.com/Cryptocurrency/berkshire-hathaways-charlie-munger-says-the-us-should-ban-crypto-20230202/'},\n",
       "  {'rel': 'canonical',\n",
       "   'type': 'text/html',\n",
       "   'href': 'https://www.forexlive.com/Cryptocurrency/berkshire-hathaways-charlie-munger-says-the-us-should-ban-crypto-20230202/'}],\n",
       " 'summary': '&lt;p&gt;Munger is vice chairman of Berkshire Hathaway and long-time Buffett colleague.&lt;/p&gt;&lt;p&gt;He write an op-ed in the Wall Street Journal (gated) saying crypto displays &quot;wretched excess&quot; that has continued &quot;because there is a gap in regulation&quot;. &lt;/p&gt;&lt;ul&gt;&lt;li&gt;A cryptocurrency is not a currency, not a commodity, and not a security. Instead, it’s a gambling contract with a nearly 100% edge for the house, entered into in a country where gambling contracts are traditionally regulated only by states that compete in laxity. Obviously the U.S. should now enact a new federal law that prevents this from happening.&lt;/li&gt;&lt;/ul&gt;&lt;p&gt;More here at the piece, which is, as I say, gated:&lt;/p&gt;&lt;ul&gt;&lt;li&gt;&lt;a href=&quot;https://www.wsj.com/articles/why-america-should-ban-crypto-regulation-economy-finance-china-england-trading-currency-securities-commodity-gamble-11675287477&quot; target=&quot;_blank&quot; rel=&quot;nofollow&quot;&gt;Why America Should Ban Crypto&lt;/a&gt;&lt;/li&gt;&lt;/ul&gt;&lt;p&gt;Bitcoin update, at least the punters are smiling with its recent move higher:&lt;/p&gt;\\n\\n                This article was written by Eamonn Sheridan at www.forexlive.com.',\n",
       " 'summary_detail': {'type': 'text/html',\n",
       "  'language': None,\n",
       "  'base': 'https://www.forexlive.com/feed/cryptocurrency',\n",
       "  'value': '&lt;p&gt;Munger is vice chairman of Berkshire Hathaway and long-time Buffett colleague.&lt;/p&gt;&lt;p&gt;He write an op-ed in the Wall Street Journal (gated) saying crypto displays &quot;wretched excess&quot; that has continued &quot;because there is a gap in regulation&quot;. &lt;/p&gt;&lt;ul&gt;&lt;li&gt;A cryptocurrency is not a currency, not a commodity, and not a security. Instead, it’s a gambling contract with a nearly 100% edge for the house, entered into in a country where gambling contracts are traditionally regulated only by states that compete in laxity. Obviously the U.S. should now enact a new federal law that prevents this from happening.&lt;/li&gt;&lt;/ul&gt;&lt;p&gt;More here at the piece, which is, as I say, gated:&lt;/p&gt;&lt;ul&gt;&lt;li&gt;&lt;a href=&quot;https://www.wsj.com/articles/why-america-should-ban-crypto-regulation-economy-finance-china-england-trading-currency-securities-commodity-gamble-11675287477&quot; target=&quot;_blank&quot; rel=&quot;nofollow&quot;&gt;Why America Should Ban Crypto&lt;/a&gt;&lt;/li&gt;&lt;/ul&gt;&lt;p&gt;Bitcoin update, at least the punters are smiling with its recent move higher:&lt;/p&gt;\\n\\n                This article was written by Eamonn Sheridan at www.forexlive.com.'}}"
      ]
     },
     "execution_count": 30,
     "metadata": {},
     "output_type": "execute_result"
    }
   ],
   "source": [
    "crypto['entries'][0]"
   ]
  },
  {
   "cell_type": "markdown",
   "metadata": {},
   "source": [
    "### [Unam](http://www.ssn.unam.mx) RSS\n",
    "\n",
    "A veces el RSS viene directamente en formato .xml\n",
    "\n",
    "Veremos como tratarlo."
   ]
  },
  {
   "cell_type": "code",
   "execution_count": null,
   "metadata": {},
   "outputs": [],
   "source": [
    "%pip install xmltodict"
   ]
  },
  {
   "cell_type": "code",
   "execution_count": 31,
   "metadata": {},
   "outputs": [],
   "source": [
    "import requests as req\n",
    "import xmltodict"
   ]
  },
  {
   "cell_type": "code",
   "execution_count": 32,
   "metadata": {},
   "outputs": [],
   "source": [
    "url='http://www.ssn.unam.mx/rss/ultimos-sismos.xml'"
   ]
  },
  {
   "cell_type": "code",
   "execution_count": 34,
   "metadata": {},
   "outputs": [],
   "source": [
    "data=req.get(url).text\n",
    "\n",
    "unam=xmltodict.parse(data)"
   ]
  },
  {
   "cell_type": "code",
   "execution_count": 36,
   "metadata": {},
   "outputs": [
    {
     "data": {
      "text/plain": [
       "dict_keys(['rss'])"
      ]
     },
     "execution_count": 36,
     "metadata": {},
     "output_type": "execute_result"
    }
   ],
   "source": [
    "unam.keys()"
   ]
  },
  {
   "cell_type": "code",
   "execution_count": 37,
   "metadata": {},
   "outputs": [
    {
     "data": {
      "text/plain": [
       "dict_keys(['@version', '@xmlns:geo', 'channel'])"
      ]
     },
     "execution_count": 37,
     "metadata": {},
     "output_type": "execute_result"
    }
   ],
   "source": [
    "unam['rss'].keys()"
   ]
  },
  {
   "cell_type": "code",
   "execution_count": 40,
   "metadata": {},
   "outputs": [
    {
     "data": {
      "text/plain": [
       "15"
      ]
     },
     "execution_count": 40,
     "metadata": {},
     "output_type": "execute_result"
    }
   ],
   "source": [
    "len(unam['rss']['channel']['item'])"
   ]
  },
  {
   "cell_type": "code",
   "execution_count": 41,
   "metadata": {},
   "outputs": [
    {
     "data": {
      "text/plain": [
       "{'title': '3.3, 23 km al SURESTE de  OMETEPEC, GRO',\n",
       " 'description': '<p>Fecha:2023-02-06 17:00:53 (Hora de M&eacute;xico)<br/>Lat/Lon: 16.6/-98.21<br/>Profundidad: 12.7 km </p>',\n",
       " 'link': 'http://www2.ssn.unam.mx:8080/jsp/localizacion-de-sismo.jsp?latitud=16.6&longitud=-98.21&prf=12.7 km&ma=3.3&fecha=2023-02-06&hora=17:00:53&loc=23 km al SURESTE de  OMETEPEC, GRO &evento=1',\n",
       " 'geo:lat': '16.6',\n",
       " 'geo:long': '-98.21'}"
      ]
     },
     "execution_count": 41,
     "metadata": {},
     "output_type": "execute_result"
    }
   ],
   "source": [
    "unam['rss']['channel']['item'][0]"
   ]
  },
  {
   "cell_type": "markdown",
   "metadata": {},
   "source": [
    "También podemos pasar los datos a un dataframe:"
   ]
  },
  {
   "cell_type": "code",
   "execution_count": 42,
   "metadata": {},
   "outputs": [],
   "source": [
    "import pandas as pd"
   ]
  },
  {
   "cell_type": "code",
   "execution_count": 43,
   "metadata": {},
   "outputs": [
    {
     "data": {
      "text/html": [
       "<div>\n",
       "<style scoped>\n",
       "    .dataframe tbody tr th:only-of-type {\n",
       "        vertical-align: middle;\n",
       "    }\n",
       "\n",
       "    .dataframe tbody tr th {\n",
       "        vertical-align: top;\n",
       "    }\n",
       "\n",
       "    .dataframe thead th {\n",
       "        text-align: right;\n",
       "    }\n",
       "</style>\n",
       "<table border=\"1\" class=\"dataframe\">\n",
       "  <thead>\n",
       "    <tr style=\"text-align: right;\">\n",
       "      <th></th>\n",
       "      <th>title</th>\n",
       "      <th>description</th>\n",
       "      <th>link</th>\n",
       "      <th>geo:lat</th>\n",
       "      <th>geo:long</th>\n",
       "    </tr>\n",
       "  </thead>\n",
       "  <tbody>\n",
       "    <tr>\n",
       "      <th>0</th>\n",
       "      <td>3.3, 23 km al SURESTE de  OMETEPEC, GRO</td>\n",
       "      <td>&lt;p&gt;Fecha:2023-02-06 17:00:53 (Hora de M&amp;eacute...</td>\n",
       "      <td>http://www2.ssn.unam.mx:8080/jsp/localizacion-...</td>\n",
       "      <td>16.6</td>\n",
       "      <td>-98.21</td>\n",
       "    </tr>\n",
       "    <tr>\n",
       "      <th>1</th>\n",
       "      <td>3.0, 27 km al NOROESTE de  COQUIMATLAN, COL</td>\n",
       "      <td>&lt;p&gt;Fecha:2023-02-06 15:50:34 (Hora de M&amp;eacute...</td>\n",
       "      <td>http://www2.ssn.unam.mx:8080/jsp/localizacion-...</td>\n",
       "      <td>19.39</td>\n",
       "      <td>-103.96</td>\n",
       "    </tr>\n",
       "    <tr>\n",
       "      <th>2</th>\n",
       "      <td>3.5, 29 km al SURESTE de  TLACOLULA, OAX</td>\n",
       "      <td>&lt;p&gt;Fecha:2023-02-06 15:42:45 (Hora de M&amp;eacute...</td>\n",
       "      <td>http://www2.ssn.unam.mx:8080/jsp/localizacion-...</td>\n",
       "      <td>16.71</td>\n",
       "      <td>-96.37</td>\n",
       "    </tr>\n",
       "    <tr>\n",
       "      <th>3</th>\n",
       "      <td>3.5, 22 km al SURESTE de  SAN MARCOS, GRO</td>\n",
       "      <td>&lt;p&gt;Fecha:2023-02-06 15:33:25 (Hora de M&amp;eacute...</td>\n",
       "      <td>http://www2.ssn.unam.mx:8080/jsp/localizacion-...</td>\n",
       "      <td>16.63</td>\n",
       "      <td>-99.27</td>\n",
       "    </tr>\n",
       "    <tr>\n",
       "      <th>4</th>\n",
       "      <td>3.4, 78 km al SUR de  COALCOMAN, MICH</td>\n",
       "      <td>&lt;p&gt;Fecha:2023-02-06 15:20:33 (Hora de M&amp;eacute...</td>\n",
       "      <td>http://www2.ssn.unam.mx:8080/jsp/localizacion-...</td>\n",
       "      <td>18.08</td>\n",
       "      <td>-103.28</td>\n",
       "    </tr>\n",
       "    <tr>\n",
       "      <th>5</th>\n",
       "      <td>3.5, 11 km al OESTE de  JUCHITAN DE ZARAGOZA, OAX</td>\n",
       "      <td>&lt;p&gt;Fecha:2023-02-06 15:14:58 (Hora de M&amp;eacute...</td>\n",
       "      <td>http://www2.ssn.unam.mx:8080/jsp/localizacion-...</td>\n",
       "      <td>16.45</td>\n",
       "      <td>-95.12</td>\n",
       "    </tr>\n",
       "    <tr>\n",
       "      <th>6</th>\n",
       "      <td>3.5, 31 km al SURESTE de  EL GRULLO, JAL</td>\n",
       "      <td>&lt;p&gt;Fecha:2023-02-06 15:13:20 (Hora de M&amp;eacute...</td>\n",
       "      <td>http://www2.ssn.unam.mx:8080/jsp/localizacion-...</td>\n",
       "      <td>19.69</td>\n",
       "      <td>-103.95</td>\n",
       "    </tr>\n",
       "    <tr>\n",
       "      <th>7</th>\n",
       "      <td>3.6, 12 km al OESTE de  JUCHITAN DE ZARAGOZA, OAX</td>\n",
       "      <td>&lt;p&gt;Fecha:2023-02-06 15:11:52 (Hora de M&amp;eacute...</td>\n",
       "      <td>http://www2.ssn.unam.mx:8080/jsp/localizacion-...</td>\n",
       "      <td>16.44</td>\n",
       "      <td>-95.13</td>\n",
       "    </tr>\n",
       "    <tr>\n",
       "      <th>8</th>\n",
       "      <td>3.6, 32 km al SUR de  SALINA CRUZ, OAX</td>\n",
       "      <td>&lt;p&gt;Fecha:2023-02-06 15:10:46 (Hora de M&amp;eacute...</td>\n",
       "      <td>http://www2.ssn.unam.mx:8080/jsp/localizacion-...</td>\n",
       "      <td>15.9</td>\n",
       "      <td>-95.25</td>\n",
       "    </tr>\n",
       "    <tr>\n",
       "      <th>9</th>\n",
       "      <td>3.6, 94 km al SUROESTE de  COALCOMAN, MICH</td>\n",
       "      <td>&lt;p&gt;Fecha:2023-02-06 14:57:10 (Hora de M&amp;eacute...</td>\n",
       "      <td>http://www2.ssn.unam.mx:8080/jsp/localizacion-...</td>\n",
       "      <td>17.96</td>\n",
       "      <td>-103.4</td>\n",
       "    </tr>\n",
       "    <tr>\n",
       "      <th>10</th>\n",
       "      <td>3.7, 34 km al SUROESTE de  OMETEPEC, GRO</td>\n",
       "      <td>&lt;p&gt;Fecha:2023-02-06 14:50:26 (Hora de M&amp;eacute...</td>\n",
       "      <td>http://www2.ssn.unam.mx:8080/jsp/localizacion-...</td>\n",
       "      <td>16.57</td>\n",
       "      <td>-98.7</td>\n",
       "    </tr>\n",
       "    <tr>\n",
       "      <th>11</th>\n",
       "      <td>3.5, 23 km al NOROESTE de  PINOTEPA NACIONAL, OAX</td>\n",
       "      <td>&lt;p&gt;Fecha:2023-02-06 14:15:04 (Hora de M&amp;eacute...</td>\n",
       "      <td>http://www2.ssn.unam.mx:8080/jsp/localizacion-...</td>\n",
       "      <td>16.51</td>\n",
       "      <td>-98.18</td>\n",
       "    </tr>\n",
       "    <tr>\n",
       "      <th>12</th>\n",
       "      <td>3.2, 18 km al SUROESTE de  OMETEPEC, GRO</td>\n",
       "      <td>&lt;p&gt;Fecha:2023-02-06 14:09:54 (Hora de M&amp;eacute...</td>\n",
       "      <td>http://www2.ssn.unam.mx:8080/jsp/localizacion-...</td>\n",
       "      <td>16.54</td>\n",
       "      <td>-98.49</td>\n",
       "    </tr>\n",
       "    <tr>\n",
       "      <th>13</th>\n",
       "      <td>3.2, 34 km al SUR de  TECALITLAN, JAL</td>\n",
       "      <td>&lt;p&gt;Fecha:2023-02-06 14:07:50 (Hora de M&amp;eacute...</td>\n",
       "      <td>http://www2.ssn.unam.mx:8080/jsp/localizacion-...</td>\n",
       "      <td>19.16</td>\n",
       "      <td>-103.29</td>\n",
       "    </tr>\n",
       "    <tr>\n",
       "      <th>14</th>\n",
       "      <td>3.8, 128 km al SUROESTE de  HUIXTLA, CHIS</td>\n",
       "      <td>&lt;p&gt;Fecha:2023-02-06 13:50:16 (Hora de M&amp;eacute...</td>\n",
       "      <td>http://www2.ssn.unam.mx:8080/jsp/localizacion-...</td>\n",
       "      <td>14.33</td>\n",
       "      <td>-93.32</td>\n",
       "    </tr>\n",
       "  </tbody>\n",
       "</table>\n",
       "</div>"
      ],
      "text/plain": [
       "                                                title  \\\n",
       "0             3.3, 23 km al SURESTE de  OMETEPEC, GRO   \n",
       "1         3.0, 27 km al NOROESTE de  COQUIMATLAN, COL   \n",
       "2            3.5, 29 km al SURESTE de  TLACOLULA, OAX   \n",
       "3           3.5, 22 km al SURESTE de  SAN MARCOS, GRO   \n",
       "4               3.4, 78 km al SUR de  COALCOMAN, MICH   \n",
       "5   3.5, 11 km al OESTE de  JUCHITAN DE ZARAGOZA, OAX   \n",
       "6            3.5, 31 km al SURESTE de  EL GRULLO, JAL   \n",
       "7   3.6, 12 km al OESTE de  JUCHITAN DE ZARAGOZA, OAX   \n",
       "8              3.6, 32 km al SUR de  SALINA CRUZ, OAX   \n",
       "9          3.6, 94 km al SUROESTE de  COALCOMAN, MICH   \n",
       "10           3.7, 34 km al SUROESTE de  OMETEPEC, GRO   \n",
       "11  3.5, 23 km al NOROESTE de  PINOTEPA NACIONAL, OAX   \n",
       "12           3.2, 18 km al SUROESTE de  OMETEPEC, GRO   \n",
       "13              3.2, 34 km al SUR de  TECALITLAN, JAL   \n",
       "14          3.8, 128 km al SUROESTE de  HUIXTLA, CHIS   \n",
       "\n",
       "                                          description  \\\n",
       "0   <p>Fecha:2023-02-06 17:00:53 (Hora de M&eacute...   \n",
       "1   <p>Fecha:2023-02-06 15:50:34 (Hora de M&eacute...   \n",
       "2   <p>Fecha:2023-02-06 15:42:45 (Hora de M&eacute...   \n",
       "3   <p>Fecha:2023-02-06 15:33:25 (Hora de M&eacute...   \n",
       "4   <p>Fecha:2023-02-06 15:20:33 (Hora de M&eacute...   \n",
       "5   <p>Fecha:2023-02-06 15:14:58 (Hora de M&eacute...   \n",
       "6   <p>Fecha:2023-02-06 15:13:20 (Hora de M&eacute...   \n",
       "7   <p>Fecha:2023-02-06 15:11:52 (Hora de M&eacute...   \n",
       "8   <p>Fecha:2023-02-06 15:10:46 (Hora de M&eacute...   \n",
       "9   <p>Fecha:2023-02-06 14:57:10 (Hora de M&eacute...   \n",
       "10  <p>Fecha:2023-02-06 14:50:26 (Hora de M&eacute...   \n",
       "11  <p>Fecha:2023-02-06 14:15:04 (Hora de M&eacute...   \n",
       "12  <p>Fecha:2023-02-06 14:09:54 (Hora de M&eacute...   \n",
       "13  <p>Fecha:2023-02-06 14:07:50 (Hora de M&eacute...   \n",
       "14  <p>Fecha:2023-02-06 13:50:16 (Hora de M&eacute...   \n",
       "\n",
       "                                                 link geo:lat geo:long  \n",
       "0   http://www2.ssn.unam.mx:8080/jsp/localizacion-...    16.6   -98.21  \n",
       "1   http://www2.ssn.unam.mx:8080/jsp/localizacion-...   19.39  -103.96  \n",
       "2   http://www2.ssn.unam.mx:8080/jsp/localizacion-...   16.71   -96.37  \n",
       "3   http://www2.ssn.unam.mx:8080/jsp/localizacion-...   16.63   -99.27  \n",
       "4   http://www2.ssn.unam.mx:8080/jsp/localizacion-...   18.08  -103.28  \n",
       "5   http://www2.ssn.unam.mx:8080/jsp/localizacion-...   16.45   -95.12  \n",
       "6   http://www2.ssn.unam.mx:8080/jsp/localizacion-...   19.69  -103.95  \n",
       "7   http://www2.ssn.unam.mx:8080/jsp/localizacion-...   16.44   -95.13  \n",
       "8   http://www2.ssn.unam.mx:8080/jsp/localizacion-...    15.9   -95.25  \n",
       "9   http://www2.ssn.unam.mx:8080/jsp/localizacion-...   17.96   -103.4  \n",
       "10  http://www2.ssn.unam.mx:8080/jsp/localizacion-...   16.57    -98.7  \n",
       "11  http://www2.ssn.unam.mx:8080/jsp/localizacion-...   16.51   -98.18  \n",
       "12  http://www2.ssn.unam.mx:8080/jsp/localizacion-...   16.54   -98.49  \n",
       "13  http://www2.ssn.unam.mx:8080/jsp/localizacion-...   19.16  -103.29  \n",
       "14  http://www2.ssn.unam.mx:8080/jsp/localizacion-...   14.33   -93.32  "
      ]
     },
     "execution_count": 43,
     "metadata": {},
     "output_type": "execute_result"
    }
   ],
   "source": [
    "pd.DataFrame(unam['rss']['channel']['item'])"
   ]
  },
  {
   "cell_type": "markdown",
   "metadata": {},
   "source": [
    "Como vemos, los datos no están organizados como nos gustaría. Procedemos a un ejemplo de transformación de los datos.\n",
    "\n"
   ]
  },
  {
   "cell_type": "markdown",
   "metadata": {},
   "source": [
    "**Ejemplo Extraer-Transformar de manera funcional:**"
   ]
  },
  {
   "cell_type": "code",
   "execution_count": 44,
   "metadata": {},
   "outputs": [],
   "source": [
    "# funcion para extraer el dictio del xml\n",
    "\n",
    "\n",
    "def get_xml():\n",
    "    \n",
    "    url='http://www.ssn.unam.mx/rss/ultimos-sismos.xml'\n",
    "    \n",
    "    data=req.get(url).text\n",
    "\n",
    "    unam=xmltodict.parse(data)\n",
    "    \n",
    "    return unam"
   ]
  },
  {
   "cell_type": "code",
   "execution_count": 53,
   "metadata": {},
   "outputs": [],
   "source": [
    "# limpiar\n",
    "\n",
    "def get_clean_data():\n",
    "\n",
    "    dictio=get_xml()\n",
    "\n",
    "    res=[]\n",
    "\n",
    "    for item in dictio['rss']['channel']['item']:\n",
    "\n",
    "        link=item['link']\n",
    "\n",
    "        raw_data = link.split('?')[1].split('&')[:-1]\n",
    "\n",
    "        data = [e.split('=') for e in raw_data]\n",
    "\n",
    "        data = {k:v for k,v in data}\n",
    "\n",
    "        res.append(data)\n",
    "\n",
    "    return res"
   ]
  },
  {
   "cell_type": "code",
   "execution_count": 54,
   "metadata": {},
   "outputs": [],
   "source": [
    "sismo=pd.DataFrame(get_clean_data())"
   ]
  },
  {
   "cell_type": "code",
   "execution_count": 55,
   "metadata": {},
   "outputs": [
    {
     "data": {
      "text/html": [
       "<div>\n",
       "<style scoped>\n",
       "    .dataframe tbody tr th:only-of-type {\n",
       "        vertical-align: middle;\n",
       "    }\n",
       "\n",
       "    .dataframe tbody tr th {\n",
       "        vertical-align: top;\n",
       "    }\n",
       "\n",
       "    .dataframe thead th {\n",
       "        text-align: right;\n",
       "    }\n",
       "</style>\n",
       "<table border=\"1\" class=\"dataframe\">\n",
       "  <thead>\n",
       "    <tr style=\"text-align: right;\">\n",
       "      <th></th>\n",
       "      <th>latitud</th>\n",
       "      <th>longitud</th>\n",
       "      <th>prf</th>\n",
       "      <th>ma</th>\n",
       "      <th>fecha</th>\n",
       "      <th>hora</th>\n",
       "      <th>loc</th>\n",
       "    </tr>\n",
       "  </thead>\n",
       "  <tbody>\n",
       "    <tr>\n",
       "      <th>0</th>\n",
       "      <td>16.6</td>\n",
       "      <td>-98.21</td>\n",
       "      <td>12.7 km</td>\n",
       "      <td>3.3</td>\n",
       "      <td>2023-02-06</td>\n",
       "      <td>17:00:53</td>\n",
       "      <td>23 km al SURESTE de  OMETEPEC, GRO</td>\n",
       "    </tr>\n",
       "    <tr>\n",
       "      <th>1</th>\n",
       "      <td>19.39</td>\n",
       "      <td>-103.96</td>\n",
       "      <td>20.4 km</td>\n",
       "      <td>3.0</td>\n",
       "      <td>2023-02-06</td>\n",
       "      <td>15:50:34</td>\n",
       "      <td>27 km al NOROESTE de  COQUIMATLAN, COL</td>\n",
       "    </tr>\n",
       "    <tr>\n",
       "      <th>2</th>\n",
       "      <td>16.71</td>\n",
       "      <td>-96.37</td>\n",
       "      <td>51.2 km</td>\n",
       "      <td>3.5</td>\n",
       "      <td>2023-02-06</td>\n",
       "      <td>15:42:45</td>\n",
       "      <td>29 km al SURESTE de  TLACOLULA, OAX</td>\n",
       "    </tr>\n",
       "    <tr>\n",
       "      <th>3</th>\n",
       "      <td>16.63</td>\n",
       "      <td>-99.27</td>\n",
       "      <td>5.4 km</td>\n",
       "      <td>3.5</td>\n",
       "      <td>2023-02-06</td>\n",
       "      <td>15:33:25</td>\n",
       "      <td>22 km al SURESTE de  SAN MARCOS, GRO</td>\n",
       "    </tr>\n",
       "    <tr>\n",
       "      <th>4</th>\n",
       "      <td>18.08</td>\n",
       "      <td>-103.28</td>\n",
       "      <td>4.8 km</td>\n",
       "      <td>3.4</td>\n",
       "      <td>2023-02-06</td>\n",
       "      <td>15:20:33</td>\n",
       "      <td>78 km al SUR de  COALCOMAN, MICH</td>\n",
       "    </tr>\n",
       "    <tr>\n",
       "      <th>5</th>\n",
       "      <td>16.45</td>\n",
       "      <td>-95.12</td>\n",
       "      <td>7.0 km</td>\n",
       "      <td>3.5</td>\n",
       "      <td>2023-02-06</td>\n",
       "      <td>15:14:58</td>\n",
       "      <td>11 km al OESTE de  JUCHITAN DE ZARAGOZA, OAX</td>\n",
       "    </tr>\n",
       "    <tr>\n",
       "      <th>6</th>\n",
       "      <td>19.69</td>\n",
       "      <td>-103.95</td>\n",
       "      <td>4.7 km</td>\n",
       "      <td>3.5</td>\n",
       "      <td>2023-02-06</td>\n",
       "      <td>15:13:20</td>\n",
       "      <td>31 km al SURESTE de  EL GRULLO, JAL</td>\n",
       "    </tr>\n",
       "    <tr>\n",
       "      <th>7</th>\n",
       "      <td>16.44</td>\n",
       "      <td>-95.13</td>\n",
       "      <td>6.6 km</td>\n",
       "      <td>3.6</td>\n",
       "      <td>2023-02-06</td>\n",
       "      <td>15:11:52</td>\n",
       "      <td>12 km al OESTE de  JUCHITAN DE ZARAGOZA, OAX</td>\n",
       "    </tr>\n",
       "    <tr>\n",
       "      <th>8</th>\n",
       "      <td>15.9</td>\n",
       "      <td>-95.25</td>\n",
       "      <td>9.3 km</td>\n",
       "      <td>3.6</td>\n",
       "      <td>2023-02-06</td>\n",
       "      <td>15:10:46</td>\n",
       "      <td>32 km al SUR de  SALINA CRUZ, OAX</td>\n",
       "    </tr>\n",
       "    <tr>\n",
       "      <th>9</th>\n",
       "      <td>17.96</td>\n",
       "      <td>-103.4</td>\n",
       "      <td>25.6 km</td>\n",
       "      <td>3.6</td>\n",
       "      <td>2023-02-06</td>\n",
       "      <td>14:57:10</td>\n",
       "      <td>94 km al SUROESTE de  COALCOMAN, MICH</td>\n",
       "    </tr>\n",
       "    <tr>\n",
       "      <th>10</th>\n",
       "      <td>16.57</td>\n",
       "      <td>-98.7</td>\n",
       "      <td>11.0 km</td>\n",
       "      <td>3.7</td>\n",
       "      <td>2023-02-06</td>\n",
       "      <td>14:50:26</td>\n",
       "      <td>34 km al SUROESTE de  OMETEPEC, GRO</td>\n",
       "    </tr>\n",
       "    <tr>\n",
       "      <th>11</th>\n",
       "      <td>16.51</td>\n",
       "      <td>-98.18</td>\n",
       "      <td>30.5 km</td>\n",
       "      <td>3.5</td>\n",
       "      <td>2023-02-06</td>\n",
       "      <td>14:15:04</td>\n",
       "      <td>23 km al NOROESTE de  PINOTEPA NACIONAL, OAX</td>\n",
       "    </tr>\n",
       "    <tr>\n",
       "      <th>12</th>\n",
       "      <td>16.54</td>\n",
       "      <td>-98.49</td>\n",
       "      <td>6.7 km</td>\n",
       "      <td>3.2</td>\n",
       "      <td>2023-02-06</td>\n",
       "      <td>14:09:54</td>\n",
       "      <td>18 km al SUROESTE de  OMETEPEC, GRO</td>\n",
       "    </tr>\n",
       "    <tr>\n",
       "      <th>13</th>\n",
       "      <td>19.16</td>\n",
       "      <td>-103.29</td>\n",
       "      <td>38.1 km</td>\n",
       "      <td>3.2</td>\n",
       "      <td>2023-02-06</td>\n",
       "      <td>14:07:50</td>\n",
       "      <td>34 km al SUR de  TECALITLAN, JAL</td>\n",
       "    </tr>\n",
       "    <tr>\n",
       "      <th>14</th>\n",
       "      <td>14.33</td>\n",
       "      <td>-93.32</td>\n",
       "      <td>4.0 km</td>\n",
       "      <td>3.8</td>\n",
       "      <td>2023-02-06</td>\n",
       "      <td>13:50:16</td>\n",
       "      <td>128 km al SUROESTE de  HUIXTLA, CHIS</td>\n",
       "    </tr>\n",
       "  </tbody>\n",
       "</table>\n",
       "</div>"
      ],
      "text/plain": [
       "   latitud longitud      prf   ma       fecha      hora  \\\n",
       "0     16.6   -98.21  12.7 km  3.3  2023-02-06  17:00:53   \n",
       "1    19.39  -103.96  20.4 km  3.0  2023-02-06  15:50:34   \n",
       "2    16.71   -96.37  51.2 km  3.5  2023-02-06  15:42:45   \n",
       "3    16.63   -99.27   5.4 km  3.5  2023-02-06  15:33:25   \n",
       "4    18.08  -103.28   4.8 km  3.4  2023-02-06  15:20:33   \n",
       "5    16.45   -95.12   7.0 km  3.5  2023-02-06  15:14:58   \n",
       "6    19.69  -103.95   4.7 km  3.5  2023-02-06  15:13:20   \n",
       "7    16.44   -95.13   6.6 km  3.6  2023-02-06  15:11:52   \n",
       "8     15.9   -95.25   9.3 km  3.6  2023-02-06  15:10:46   \n",
       "9    17.96   -103.4  25.6 km  3.6  2023-02-06  14:57:10   \n",
       "10   16.57    -98.7  11.0 km  3.7  2023-02-06  14:50:26   \n",
       "11   16.51   -98.18  30.5 km  3.5  2023-02-06  14:15:04   \n",
       "12   16.54   -98.49   6.7 km  3.2  2023-02-06  14:09:54   \n",
       "13   19.16  -103.29  38.1 km  3.2  2023-02-06  14:07:50   \n",
       "14   14.33   -93.32   4.0 km  3.8  2023-02-06  13:50:16   \n",
       "\n",
       "                                              loc  \n",
       "0             23 km al SURESTE de  OMETEPEC, GRO   \n",
       "1         27 km al NOROESTE de  COQUIMATLAN, COL   \n",
       "2            29 km al SURESTE de  TLACOLULA, OAX   \n",
       "3           22 km al SURESTE de  SAN MARCOS, GRO   \n",
       "4               78 km al SUR de  COALCOMAN, MICH   \n",
       "5   11 km al OESTE de  JUCHITAN DE ZARAGOZA, OAX   \n",
       "6            31 km al SURESTE de  EL GRULLO, JAL   \n",
       "7   12 km al OESTE de  JUCHITAN DE ZARAGOZA, OAX   \n",
       "8              32 km al SUR de  SALINA CRUZ, OAX   \n",
       "9          94 km al SUROESTE de  COALCOMAN, MICH   \n",
       "10           34 km al SUROESTE de  OMETEPEC, GRO   \n",
       "11  23 km al NOROESTE de  PINOTEPA NACIONAL, OAX   \n",
       "12           18 km al SUROESTE de  OMETEPEC, GRO   \n",
       "13              34 km al SUR de  TECALITLAN, JAL   \n",
       "14          128 km al SUROESTE de  HUIXTLA, CHIS   "
      ]
     },
     "execution_count": 55,
     "metadata": {},
     "output_type": "execute_result"
    }
   ],
   "source": [
    "sismo"
   ]
  },
  {
   "cell_type": "code",
   "execution_count": 56,
   "metadata": {},
   "outputs": [
    {
     "name": "stdout",
     "output_type": "stream",
     "text": [
      "<class 'pandas.core.frame.DataFrame'>\n",
      "RangeIndex: 15 entries, 0 to 14\n",
      "Data columns (total 7 columns):\n",
      " #   Column    Non-Null Count  Dtype \n",
      "---  ------    --------------  ----- \n",
      " 0   latitud   15 non-null     object\n",
      " 1   longitud  15 non-null     object\n",
      " 2   prf       15 non-null     object\n",
      " 3   ma        15 non-null     object\n",
      " 4   fecha     15 non-null     object\n",
      " 5   hora      15 non-null     object\n",
      " 6   loc       15 non-null     object\n",
      "dtypes: object(7)\n",
      "memory usage: 968.0+ bytes\n"
     ]
    }
   ],
   "source": [
    "sismo.info()"
   ]
  },
  {
   "cell_type": "code",
   "execution_count": null,
   "metadata": {
    "scrolled": false
   },
   "outputs": [],
   "source": []
  },
  {
   "cell_type": "code",
   "execution_count": null,
   "metadata": {},
   "outputs": [],
   "source": []
  }
 ],
 "metadata": {
  "kernelspec": {
   "display_name": "clase",
   "language": "python",
   "name": "clase"
  },
  "language_info": {
   "codemirror_mode": {
    "name": "ipython",
    "version": 3
   },
   "file_extension": ".py",
   "mimetype": "text/x-python",
   "name": "python",
   "nbconvert_exporter": "python",
   "pygments_lexer": "ipython3",
   "version": "3.9.12"
  }
 },
 "nbformat": 4,
 "nbformat_minor": 4
}
