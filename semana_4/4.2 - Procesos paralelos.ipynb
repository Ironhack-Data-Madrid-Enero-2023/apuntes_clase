{
 "cells": [
  {
   "cell_type": "markdown",
   "metadata": {},
   "source": [
    "# 4.2 - Procesos paralelos\n",
    "\n",
    "\n",
    "![parallel](images/parallel.png)\n",
    "\n",
    "$$$$\n",
    "\n",
    "### Multiprocessing\n",
    "\n",
    "Veamos en primer lugar [multiprocessing](https://docs.python.org/es/3.9/library/multiprocessing.html). Es una librería de Python que nos permite manejar hilos y procesos. La diferencia entre hilo y proceso es que un hilo ocurre dentro del espacio de memoria de un programa y un proceso es una copia completa del programa, por esta razón, los hilos son rápidos de crear y destruir además de que consumen poca memoria y los procesos son lentos de crear y destruir además de que requieren clonar el espacio de memoria del programa en otro lugar de la RAM, y esto es lento. Ejemplos de esto serían, subrutinas que recogen mensajes de un puerto de comunicaciones y los usan para actuar sobre emails almacenados en un servidor, desde el punto de vista del servidor, el cliente de correo sólo necesita usar el servidor durante un corto plazo de tiempo, porque envía un mensaje al servidor donde le indica lo que el usuario desea hacer, saber si hay mensajes nuevos, borrar un correo, moverlo... El servidor abre un hilo para atender a ese usuario y el hilo sólo vive mientras dure la conexión del usuario, una vez el usuario ha terminado el cliente de correo desconecta hasta nueva acción. Este proceso que he descrito es rápido, ocurre en milisegundos y generalmente se resuelve con hilos porque es más ligero para el sistema operativo y su vida media es especialmente corta, además de que el sistema podrá aceptar ciento o miles de conexiones por segundo y será ligero, rápido y eficiente en esta tarea.\n",
    "\n",
    "La tendencia actual entre los desarrolladores es hacer una aplicaciones que sean rápidas en un sólo hilo y luego escalar a tantas instancias como sea necesario para cubrir nuestros objetivos de aprovechamiento, estos servidores pueden atender en un sólo proceso a miles o decena de miles de conexiones.\n",
    "\n",
    "Si queremos realizar un programa que aproveche las diferentes CPUs y pueda realizar múltiples tareas a la vez tenemos muchos mecanismos para llevar esta tarea a cabo. Dependiendo del uso que se quiera dar probablemente queramos usar hilos o procesos, es aquí donde querremos escribir nuestro código con hilos o procesos."
   ]
  },
  {
   "cell_type": "markdown",
   "metadata": {},
   "source": [
    "**Hola Mundo**"
   ]
  },
  {
   "cell_type": "code",
   "execution_count": null,
   "metadata": {},
   "outputs": [],
   "source": [
    "import warnings\n",
    "warnings.filterwarnings('ignore')"
   ]
  },
  {
   "cell_type": "code",
   "execution_count": null,
   "metadata": {},
   "outputs": [],
   "source": [
    "def cuadrado(x):\n",
    "    return x**2"
   ]
  },
  {
   "cell_type": "code",
   "execution_count": null,
   "metadata": {},
   "outputs": [],
   "source": [
    "data = [i for i in range(100000000)]"
   ]
  },
  {
   "cell_type": "code",
   "execution_count": null,
   "metadata": {},
   "outputs": [],
   "source": [
    "%%time\n",
    "\n",
    "seq=[cuadrado(x) for x in data]\n",
    "\n",
    "seq[:5]"
   ]
  },
  {
   "cell_type": "code",
   "execution_count": null,
   "metadata": {
    "scrolled": false
   },
   "outputs": [],
   "source": [
    "%%time\n",
    "\n",
    "map(cuadrado, data)"
   ]
  },
  {
   "cell_type": "code",
   "execution_count": null,
   "metadata": {},
   "outputs": [],
   "source": [
    "%%time\n",
    "\n",
    "seq=list(map(cuadrado, data))\n",
    "seq[:5]"
   ]
  },
  {
   "cell_type": "code",
   "execution_count": null,
   "metadata": {},
   "outputs": [],
   "source": [
    "import multiprocessing as mp"
   ]
  },
  {
   "cell_type": "code",
   "execution_count": null,
   "metadata": {},
   "outputs": [],
   "source": [
    "# movida del Mac M1\n",
    "\n",
    "mp.get_start_method()"
   ]
  },
  {
   "cell_type": "code",
   "execution_count": null,
   "metadata": {},
   "outputs": [],
   "source": [
    "# movida del mac M1, para otros no hace falta\n",
    "\n",
    "from multiprocessing import get_context"
   ]
  },
  {
   "cell_type": "code",
   "execution_count": null,
   "metadata": {},
   "outputs": [],
   "source": [
    "mp.cpu_count()   # nº de nucleos"
   ]
  },
  {
   "cell_type": "code",
   "execution_count": null,
   "metadata": {},
   "outputs": [],
   "source": [
    "%%time\n",
    "\n",
    "#pool = mp.Pool(mp.cpu_count())                 # usar todos los nucleos\n",
    "pool = get_context('fork').Pool(mp.cpu_count()) # para el M1\n",
    "\n",
    "res=pool.map(cuadrado, data)\n",
    "pool.close()\n",
    "\n",
    "res[:5]"
   ]
  },
  {
   "cell_type": "markdown",
   "metadata": {},
   "source": [
    "**multiprocessing asíncrono**\n",
    "\n",
    "`map` consume su iterable convirtiendo el iterable en una lista, dividiéndolo en fragmentos y enviando esos fragmentos a los procesos de trabajo en el Pool. Dividir el iterable en fragmentos funciona mejor que pasar cada elemento en el iterable entre procesos un elemento a la vez, especialmente si el iterable es grande. Sin embargo, convertir el iterable en una lista para dividirlo puede tener un costo de memoria muy alto, ya que la lista completa deberá mantenerse en la memoria.\n",
    "\n",
    "`imap`/`map_async` no convierte el iterable que le da en una lista, ni lo divide en trozos. Itera sobre el elemento de uno en uno y los envia a un proceso de trabajo distinto. Esto significa que no se toma el golpe de memoria de convertir todo el iterable en una lista, pero también que el rendimiento es más lento para los iterables grandes, debido a la falta de fragmentación. Esto se puede mitigar aumentando el valor predeterminado de 1 en el `chunksize`. Otra gran diferencia de `imap` es que puede comenzar a recibir resultados de los trabajadores tan pronto como estén listos, en lugar de tener que esperar a que todos terminen. \n",
    "\n",
    "\n"
   ]
  },
  {
   "cell_type": "code",
   "execution_count": null,
   "metadata": {},
   "outputs": [],
   "source": [
    "%%time\n",
    "\n",
    "pool=mp.Pool(mp.cpu_count())\n",
    "pool=get_context('fork').Pool(6)  # grupo con 6 cores\n",
    "\n",
    "res=pool.map_async(cuadrado, data).get()\n",
    "pool.close()\n",
    "\n",
    "res[:5]"
   ]
  },
  {
   "cell_type": "markdown",
   "metadata": {},
   "source": [
    "```python\n",
    "%%time\n",
    "pool=mp.Pool(mp.cpu_count())   \n",
    "\n",
    "for x in pool.imap(cuadrado, datos):\n",
    "    print(x)\n",
    "    \n",
    "pool.close()\n",
    "```"
   ]
  },
  {
   "cell_type": "markdown",
   "metadata": {},
   "source": [
    "$$$$\n",
    "\n",
    "$$$$\n",
    "\n",
    "## Joblib\n",
    "\n",
    "![joblib](images/joblib.svg)\n",
    "\n",
    "$$$$\n",
    "\n",
    "$$$$\n",
    "\n",
    "\n",
    "[Joblib](https://joblib.readthedocs.io/en/latest/) es una librería de Python que también nos permite paralelizar un programa. En este caso a través de procesos, lo cuál implica, como vimos antes, cierto tiempo para construir el Pool. Lo usaremos principalmente para realizar un bucle sobre una función.\n",
    "\n",
    "Veamos el Hola Mundo."
   ]
  },
  {
   "cell_type": "markdown",
   "metadata": {},
   "source": [
    "**Hola Mundo**"
   ]
  },
  {
   "cell_type": "code",
   "execution_count": null,
   "metadata": {},
   "outputs": [],
   "source": [
    "%pip install joblib"
   ]
  },
  {
   "cell_type": "code",
   "execution_count": 1,
   "metadata": {},
   "outputs": [],
   "source": [
    "from joblib import Parallel, delayed"
   ]
  },
  {
   "cell_type": "code",
   "execution_count": null,
   "metadata": {},
   "outputs": [],
   "source": [
    "%%time\n",
    "\n",
    "paralelo = Parallel(n_jobs=-1, verbose=True)\n",
    "\n",
    "# -1 en n_jobs es usa todos los nucleos\n",
    "\n",
    "lst=paralelo(delayed(cuadrado)(e) for e in data)\n",
    "\n",
    "lst[:5]"
   ]
  },
  {
   "cell_type": "markdown",
   "metadata": {},
   "source": [
    "### Ejemplo ESPN\n",
    "\n",
    "Volvamos de nuevo al ejemplo de scrapeo de la págine de ESPN. Usaremos joblib para realizar una extracción en paralelo de la información."
   ]
  },
  {
   "cell_type": "code",
   "execution_count": 2,
   "metadata": {},
   "outputs": [],
   "source": [
    "from selenium import webdriver\n",
    "from selenium.webdriver.common.by import By\n",
    "\n",
    "import time\n",
    "\n",
    "import pandas as pd\n",
    "\n",
    "from webdriver_manager.chrome import ChromeDriverManager\n",
    "\n",
    "PATH=ChromeDriverManager().install()"
   ]
  },
  {
   "cell_type": "code",
   "execution_count": 3,
   "metadata": {},
   "outputs": [
    {
     "name": "stderr",
     "output_type": "stream",
     "text": [
      "/var/folders/95/ms6dwls51ls1jq0t456d3r200000gn/T/ipykernel_24093/2848714023.py:4: DeprecationWarning: executable_path has been deprecated, please pass in a Service object\n",
      "  driver=webdriver.Chrome(PATH)\n"
     ]
    },
    {
     "data": {
      "text/plain": [
       "['https://www.espn.com/soccer/team/stats/_/id/349/afc-bournemouth',\n",
       " 'https://www.espn.com/soccer/team/stats/_/id/3802/afc-wimbledon',\n",
       " 'https://www.espn.com/soccer/team/stats/_/id/2731/accrington-stanley',\n",
       " 'https://www.espn.com/soccer/team/stats/_/id/359/arsenal',\n",
       " 'https://www.espn.com/soccer/team/stats/_/id/362/aston-villa',\n",
       " 'https://www.espn.com/soccer/team/stats/_/id/397/barnsley',\n",
       " 'https://www.espn.com/soccer/team/stats/_/id/642/barrow',\n",
       " 'https://www.espn.com/soccer/team/stats/_/id/392/birmingham-city',\n",
       " 'https://www.espn.com/soccer/team/stats/_/id/365/blackburn-rovers',\n",
       " 'https://www.espn.com/soccer/team/stats/_/id/346/blackpool',\n",
       " 'https://www.espn.com/soccer/team/stats/_/id/358/bolton-wanderers',\n",
       " 'https://www.espn.com/soccer/team/stats/_/id/387/bradford-city',\n",
       " 'https://www.espn.com/soccer/team/stats/_/id/337/brentford',\n",
       " 'https://www.espn.com/soccer/team/stats/_/id/331/brighton-hove-albion',\n",
       " 'https://www.espn.com/soccer/team/stats/_/id/333/bristol-city',\n",
       " 'https://www.espn.com/soccer/team/stats/_/id/308/bristol-rovers',\n",
       " 'https://www.espn.com/soccer/team/stats/_/id/379/burnley',\n",
       " 'https://www.espn.com/soccer/team/stats/_/id/2567/burton-albion',\n",
       " 'https://www.espn.com/soccer/team/stats/_/id/351/cambridge-united',\n",
       " 'https://www.espn.com/soccer/team/stats/_/id/347/cardiff-city',\n",
       " 'https://www.espn.com/soccer/team/stats/_/id/322/carlisle-united',\n",
       " 'https://www.espn.com/soccer/team/stats/_/id/372/charlton-athletic',\n",
       " 'https://www.espn.com/soccer/team/stats/_/id/363/chelsea',\n",
       " 'https://www.espn.com/soccer/team/stats/_/id/320/cheltenham-town',\n",
       " 'https://www.espn.com/soccer/team/stats/_/id/339/colchester-united',\n",
       " 'https://www.espn.com/soccer/team/stats/_/id/388/coventry-city',\n",
       " 'https://www.espn.com/soccer/team/stats/_/id/2594/crawley-town',\n",
       " 'https://www.espn.com/soccer/team/stats/_/id/396/crewe-alexandra',\n",
       " 'https://www.espn.com/soccer/team/stats/_/id/384/crystal-palace',\n",
       " 'https://www.espn.com/soccer/team/stats/_/id/374/derby-county',\n",
       " 'https://www.espn.com/soccer/team/stats/_/id/279/doncaster-rovers',\n",
       " 'https://www.espn.com/soccer/team/stats/_/id/368/everton',\n",
       " 'https://www.espn.com/soccer/team/stats/_/id/324/exeter-city',\n",
       " 'https://www.espn.com/soccer/team/stats/_/id/3891/fleetwood-town',\n",
       " 'https://www.espn.com/soccer/team/stats/_/id/282/forest-green-rovers',\n",
       " 'https://www.espn.com/soccer/team/stats/_/id/370/fulham',\n",
       " 'https://www.espn.com/soccer/team/stats/_/id/389/gillingham',\n",
       " 'https://www.espn.com/soccer/team/stats/_/id/386/grimsby-town',\n",
       " 'https://www.espn.com/soccer/team/stats/_/id/19262/harrogate-town',\n",
       " 'https://www.espn.com/soccer/team/stats/_/id/323/hartlepool-united',\n",
       " 'https://www.espn.com/soccer/team/stats/_/id/335/huddersfield-town',\n",
       " 'https://www.espn.com/soccer/team/stats/_/id/306/hull-city',\n",
       " 'https://www.espn.com/soccer/team/stats/_/id/373/ipswich-town',\n",
       " 'https://www.espn.com/soccer/team/stats/_/id/357/leeds-united',\n",
       " 'https://www.espn.com/soccer/team/stats/_/id/375/leicester-city',\n",
       " 'https://www.espn.com/soccer/team/stats/_/id/309/leyton-orient',\n",
       " 'https://www.espn.com/soccer/team/stats/_/id/314/lincoln-city',\n",
       " 'https://www.espn.com/soccer/team/stats/_/id/364/liverpool',\n",
       " 'https://www.espn.com/soccer/team/stats/_/id/301/luton-town',\n",
       " 'https://www.espn.com/soccer/team/stats/_/id/382/manchester-city',\n",
       " 'https://www.espn.com/soccer/team/stats/_/id/360/manchester-united',\n",
       " 'https://www.espn.com/soccer/team/stats/_/id/304/mansfield-town',\n",
       " 'https://www.espn.com/soccer/team/stats/_/id/369/middlesbrough',\n",
       " 'https://www.espn.com/soccer/team/stats/_/id/391/millwall',\n",
       " 'https://www.espn.com/soccer/team/stats/_/id/390/milton-keynes-dons',\n",
       " 'https://www.espn.com/soccer/team/stats/_/id/278/morecambe',\n",
       " 'https://www.espn.com/soccer/team/stats/_/id/361/newcastle-united',\n",
       " 'https://www.espn.com/soccer/team/stats/_/id/635/newport-county',\n",
       " 'https://www.espn.com/soccer/team/stats/_/id/353/northampton-town',\n",
       " 'https://www.espn.com/soccer/team/stats/_/id/381/norwich-city',\n",
       " 'https://www.espn.com/soccer/team/stats/_/id/393/nottingham-forest',\n",
       " 'https://www.espn.com/soccer/team/stats/_/id/311/oxford-united',\n",
       " 'https://www.espn.com/soccer/team/stats/_/id/342/peterborough-united',\n",
       " 'https://www.espn.com/soccer/team/stats/_/id/307/plymouth-argyle',\n",
       " 'https://www.espn.com/soccer/team/stats/_/id/348/port-vale',\n",
       " 'https://www.espn.com/soccer/team/stats/_/id/385/portsmouth',\n",
       " 'https://www.espn.com/soccer/team/stats/_/id/394/preston-north-end',\n",
       " 'https://www.espn.com/soccer/team/stats/_/id/334/queens-park-rangers',\n",
       " 'https://www.espn.com/soccer/team/stats/_/id/338/reading',\n",
       " 'https://www.espn.com/soccer/team/stats/_/id/303/rochdale',\n",
       " 'https://www.espn.com/soccer/team/stats/_/id/402/rotherham-united',\n",
       " 'https://www.espn.com/soccer/team/stats/_/id/4703/salford-city',\n",
       " 'https://www.espn.com/soccer/team/stats/_/id/398/sheffield-united',\n",
       " 'https://www.espn.com/soccer/team/stats/_/id/399/sheffield-wednesday',\n",
       " 'https://www.espn.com/soccer/team/stats/_/id/302/shrewsbury-town',\n",
       " 'https://www.espn.com/soccer/team/stats/_/id/376/southampton',\n",
       " 'https://www.espn.com/soccer/team/stats/_/id/285/stevenage',\n",
       " 'https://www.espn.com/soccer/team/stats/_/id/400/stockport-county',\n",
       " 'https://www.espn.com/soccer/team/stats/_/id/336/stoke-city',\n",
       " 'https://www.espn.com/soccer/team/stats/_/id/366/sunderland',\n",
       " 'https://www.espn.com/soccer/team/stats/_/id/3231/sutton-united',\n",
       " 'https://www.espn.com/soccer/team/stats/_/id/318/swansea-city',\n",
       " 'https://www.espn.com/soccer/team/stats/_/id/341/swindon-town',\n",
       " 'https://www.espn.com/soccer/team/stats/_/id/367/tottenham-hotspur',\n",
       " 'https://www.espn.com/soccer/team/stats/_/id/345/tranmere-rovers',\n",
       " 'https://www.espn.com/soccer/team/stats/_/id/401/walsall',\n",
       " 'https://www.espn.com/soccer/team/stats/_/id/395/watford',\n",
       " 'https://www.espn.com/soccer/team/stats/_/id/383/west-bromwich-albion',\n",
       " 'https://www.espn.com/soccer/team/stats/_/id/371/west-ham-united',\n",
       " 'https://www.espn.com/soccer/team/stats/_/id/350/wigan-athletic',\n",
       " 'https://www.espn.com/soccer/team/stats/_/id/380/wolverhampton-wanderers',\n",
       " 'https://www.espn.com/soccer/team/stats/_/id/344/wycombe-wanderers']"
      ]
     },
     "execution_count": 3,
     "metadata": {},
     "output_type": "execute_result"
    }
   ],
   "source": [
    "url='https://www.espn.com/soccer/competitions'\n",
    "\n",
    "\n",
    "driver=webdriver.Chrome(PATH)\n",
    "driver.get(url)\n",
    "    \n",
    "time.sleep(2)\n",
    "\n",
    "aceptar=driver.find_element(By.XPATH, '//*[@id=\"onetrust-accept-btn-handler\"]')\n",
    "aceptar.click()\n",
    "\n",
    "time.sleep(4)\n",
    "\n",
    "equipos=driver.find_element(By.CSS_SELECTOR, '#fittPageContainer > div.page-container.cf > div > div.layout__column.layout__column--1 > div > div:nth-child(3) > div:nth-child(1) > div > div:nth-child(5) > div > section > div > div > span:nth-child(2) > a')\n",
    "equipos.click()\n",
    "\n",
    "\n",
    "time.sleep(2)\n",
    "\n",
    "equipos_stats_urls=driver.find_elements(By.CSS_SELECTOR, 'a.AnchorLink')\n",
    "\n",
    "equipos_stats_urls=[e.get_attribute('href') for e in equipos_stats_urls \n",
    "                    if 'team/stats' in e.get_attribute('href')]\n",
    "\n",
    "\n",
    "equipos_stats_urls\n"
   ]
  },
  {
   "cell_type": "code",
   "execution_count": 4,
   "metadata": {},
   "outputs": [],
   "source": [
    "driver.quit()"
   ]
  },
  {
   "cell_type": "code",
   "execution_count": 5,
   "metadata": {},
   "outputs": [],
   "source": [
    "def extraer(url):\n",
    "\n",
    "    # inicia el driver\n",
    "    driver=webdriver.Chrome(PATH)\n",
    "    driver.get(url)\n",
    "\n",
    "    time.sleep(2)\n",
    "\n",
    "    # acepta cookies\n",
    "    aceptar=driver.find_element(By.XPATH, '//*[@id=\"onetrust-accept-btn-handler\"]')\n",
    "    aceptar.click()\n",
    "\n",
    "    time.sleep(2)\n",
    "    \n",
    "    # disciplina\n",
    "    dis=driver.find_element(By.XPATH, '//*[@id=\"fittPageContainer\"]/div[2]/div[5]/div/div[1]/section/div/div[2]/nav/ul/li[2]/a')\n",
    "    dis.click()\n",
    "\n",
    "    time.sleep(2)\n",
    "    \n",
    "    tabla=driver.find_element(By.TAG_NAME, 'tbody')\n",
    "\n",
    "    filas=tabla.find_elements(By.TAG_NAME, 'tr')\n",
    "\n",
    "\n",
    "    data=[]\n",
    "\n",
    "    for f in filas:\n",
    "\n",
    "        elementos=f.find_elements(By.TAG_NAME, 'td') \n",
    "\n",
    "        tmp=[]\n",
    "\n",
    "        for e in elementos:\n",
    "\n",
    "            tmp.append(e.text)\n",
    "            \n",
    "        tmp.append(url.split('/')[-1])  # nombre del equipo\n",
    "        data.append(tmp)\n",
    "        \n",
    "\n",
    "    cabeceras=driver.find_element(By.TAG_NAME, 'thead')\n",
    "\n",
    "    cabeceras=[c.text for c in cabeceras.find_elements(By.TAG_NAME, 'th')]+['TEAM']\n",
    "    \n",
    "    \n",
    "    driver.quit()\n",
    "    \n",
    "    return pd.DataFrame(data, columns=cabeceras)"
   ]
  },
  {
   "cell_type": "code",
   "execution_count": 12,
   "metadata": {
    "scrolled": true
   },
   "outputs": [],
   "source": [
    "lst_df = Parallel(n_jobs=6, verbose=True)(delayed(extraer)(x) for x in equipos_stats_urls)"
   ]
  },
  {
   "cell_type": "code",
   "execution_count": 23,
   "metadata": {},
   "outputs": [
    {
     "data": {
      "text/html": [
       "<div>\n",
       "<style scoped>\n",
       "    .dataframe tbody tr th:only-of-type {\n",
       "        vertical-align: middle;\n",
       "    }\n",
       "\n",
       "    .dataframe tbody tr th {\n",
       "        vertical-align: top;\n",
       "    }\n",
       "\n",
       "    .dataframe thead th {\n",
       "        text-align: right;\n",
       "    }\n",
       "</style>\n",
       "<table border=\"1\" class=\"dataframe\">\n",
       "  <thead>\n",
       "    <tr style=\"text-align: right;\">\n",
       "      <th></th>\n",
       "      <th>RK</th>\n",
       "      <th>NAME</th>\n",
       "      <th>P</th>\n",
       "      <th>YC</th>\n",
       "      <th>RC</th>\n",
       "      <th>PTS</th>\n",
       "      <th>TEAM</th>\n",
       "    </tr>\n",
       "  </thead>\n",
       "  <tbody>\n",
       "    <tr>\n",
       "      <th>0</th>\n",
       "      <td>1</td>\n",
       "      <td>Adam Smith</td>\n",
       "      <td>20</td>\n",
       "      <td>6</td>\n",
       "      <td>0</td>\n",
       "      <td>6</td>\n",
       "      <td>afc-bournemouth</td>\n",
       "    </tr>\n",
       "    <tr>\n",
       "      <th>1</th>\n",
       "      <td>2</td>\n",
       "      <td>Chris Mepham</td>\n",
       "      <td>17</td>\n",
       "      <td>5</td>\n",
       "      <td>0</td>\n",
       "      <td>5</td>\n",
       "      <td>afc-bournemouth</td>\n",
       "    </tr>\n",
       "    <tr>\n",
       "      <th>2</th>\n",
       "      <td>3</td>\n",
       "      <td>Jefferson Lerma</td>\n",
       "      <td>21</td>\n",
       "      <td>3</td>\n",
       "      <td>0</td>\n",
       "      <td>3</td>\n",
       "      <td>afc-bournemouth</td>\n",
       "    </tr>\n",
       "    <tr>\n",
       "      <th>3</th>\n",
       "      <td></td>\n",
       "      <td>Neto</td>\n",
       "      <td>11</td>\n",
       "      <td>3</td>\n",
       "      <td>0</td>\n",
       "      <td>3</td>\n",
       "      <td>afc-bournemouth</td>\n",
       "    </tr>\n",
       "    <tr>\n",
       "      <th>4</th>\n",
       "      <td>5</td>\n",
       "      <td>Lewis Cook</td>\n",
       "      <td>19</td>\n",
       "      <td>2</td>\n",
       "      <td>0</td>\n",
       "      <td>2</td>\n",
       "      <td>afc-bournemouth</td>\n",
       "    </tr>\n",
       "  </tbody>\n",
       "</table>\n",
       "</div>"
      ],
      "text/plain": [
       "  RK             NAME   P YC RC PTS             TEAM\n",
       "0  1       Adam Smith  20  6  0   6  afc-bournemouth\n",
       "1  2     Chris Mepham  17  5  0   5  afc-bournemouth\n",
       "2  3  Jefferson Lerma  21  3  0   3  afc-bournemouth\n",
       "3                Neto  11  3  0   3  afc-bournemouth\n",
       "4  5       Lewis Cook  19  2  0   2  afc-bournemouth"
      ]
     },
     "execution_count": 23,
     "metadata": {},
     "output_type": "execute_result"
    }
   ],
   "source": [
    "df = pd.concat(lst_df[:90])\n",
    "\n",
    "df.head()"
   ]
  },
  {
   "cell_type": "code",
   "execution_count": 24,
   "metadata": {},
   "outputs": [
    {
     "data": {
      "text/plain": [
       "(1963, 7)"
      ]
     },
     "execution_count": 24,
     "metadata": {},
     "output_type": "execute_result"
    }
   ],
   "source": [
    "df.shape"
   ]
  },
  {
   "cell_type": "code",
   "execution_count": 26,
   "metadata": {},
   "outputs": [
    {
     "data": {
      "text/plain": [
       "hartlepool-united    25\n",
       "stevenage            25\n",
       "coventry-city        25\n",
       "reading              25\n",
       "brentford            25\n",
       "Name: TEAM, dtype: int64"
      ]
     },
     "execution_count": 26,
     "metadata": {},
     "output_type": "execute_result"
    }
   ],
   "source": [
    "df.TEAM.value_counts().head()"
   ]
  },
  {
   "cell_type": "markdown",
   "metadata": {},
   "source": [
    "**Tip:** https://pypi.org/project/tqdm/"
   ]
  },
  {
   "cell_type": "markdown",
   "metadata": {},
   "source": [
    "**Para barras de progreso**"
   ]
  },
  {
   "cell_type": "code",
   "execution_count": null,
   "metadata": {},
   "outputs": [],
   "source": [
    "%pip install tqdm"
   ]
  },
  {
   "cell_type": "code",
   "execution_count": 27,
   "metadata": {},
   "outputs": [],
   "source": [
    "from tqdm.notebook import tqdm    # from tqdm import tqdm   # para .py"
   ]
  },
  {
   "cell_type": "code",
   "execution_count": 28,
   "metadata": {},
   "outputs": [
    {
     "name": "stdout",
     "output_type": "stream",
     "text": [
      "1\n",
      "529\n",
      "2025\n",
      "4225\n",
      "45941284\n",
      "76667536\n",
      "1024\n",
      "2025\n",
      "4489\n",
      "7921\n",
      "9801\n",
      "99800100\n"
     ]
    }
   ],
   "source": [
    "lst=[1, 23, 45, 65, 6778, 8756, 32, 45, 67, 89, 99, 9990]\n",
    "\n",
    "for e in lst:\n",
    "    print(e**2)"
   ]
  },
  {
   "cell_type": "code",
   "execution_count": 29,
   "metadata": {
    "scrolled": false
   },
   "outputs": [
    {
     "data": {
      "application/vnd.jupyter.widget-view+json": {
       "model_id": "1197af76d9c440689d07b6d20f8a6c3e",
       "version_major": 2,
       "version_minor": 0
      },
      "text/plain": [
       "  0%|          | 0/12 [00:00<?, ?it/s]"
      ]
     },
     "metadata": {},
     "output_type": "display_data"
    },
    {
     "name": "stdout",
     "output_type": "stream",
     "text": [
      "1\n",
      "529\n",
      "2025\n",
      "4225\n",
      "45941284\n",
      "76667536\n",
      "1024\n",
      "2025\n",
      "4489\n",
      "7921\n",
      "9801\n",
      "99800100\n"
     ]
    }
   ],
   "source": [
    "for e in tqdm(lst):\n",
    "    print(e**2)"
   ]
  },
  {
   "cell_type": "code",
   "execution_count": 30,
   "metadata": {},
   "outputs": [
    {
     "data": {
      "application/vnd.jupyter.widget-view+json": {
       "model_id": "fcbb9f73b8a44714977b584642b6150c",
       "version_major": 2,
       "version_minor": 0
      },
      "text/plain": [
       "  0%|          | 0/1000000 [00:00<?, ?it/s]"
      ]
     },
     "metadata": {},
     "output_type": "display_data"
    },
    {
     "name": "stdout",
     "output_type": "stream",
     "text": [
      "CPU times: user 2.2 s, sys: 140 ms, total: 2.34 s\n",
      "Wall time: 2.65 s\n"
     ]
    },
    {
     "data": {
      "text/plain": [
       "[0.0, 1.0, 2.0, 3.0, 4.0, 5.0, 6.0, 7.0, 8.0, 9.0]"
      ]
     },
     "execution_count": 30,
     "metadata": {},
     "output_type": "execute_result"
    }
   ],
   "source": [
    "%%time\n",
    "\n",
    "funcion=lambda x: x**0.5   # raiz cuadrada\n",
    "\n",
    "lst=Parallel(n_jobs=6, verbose=False)(delayed(funcion)(i**2) for i in tqdm(range(1000000)))\n",
    "\n",
    "lst[:10]"
   ]
  },
  {
   "cell_type": "code",
   "execution_count": null,
   "metadata": {},
   "outputs": [],
   "source": []
  }
 ],
 "metadata": {
  "kernelspec": {
   "display_name": "clase",
   "language": "python",
   "name": "clase"
  },
  "language_info": {
   "codemirror_mode": {
    "name": "ipython",
    "version": 3
   },
   "file_extension": ".py",
   "mimetype": "text/x-python",
   "name": "python",
   "nbconvert_exporter": "python",
   "pygments_lexer": "ipython3",
   "version": "3.9.12"
  },
  "varInspector": {
   "cols": {
    "lenName": 16,
    "lenType": 16,
    "lenVar": 40
   },
   "kernels_config": {
    "python": {
     "delete_cmd_postfix": "",
     "delete_cmd_prefix": "del ",
     "library": "var_list.py",
     "varRefreshCmd": "print(var_dic_list())"
    },
    "r": {
     "delete_cmd_postfix": ") ",
     "delete_cmd_prefix": "rm(",
     "library": "var_list.r",
     "varRefreshCmd": "cat(var_dic_list()) "
    }
   },
   "types_to_exclude": [
    "module",
    "function",
    "builtin_function_or_method",
    "instance",
    "_Feature"
   ],
   "window_display": false
  }
 },
 "nbformat": 4,
 "nbformat_minor": 4
}
