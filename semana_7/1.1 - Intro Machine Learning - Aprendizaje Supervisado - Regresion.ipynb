{
 "cells": [
  {
   "cell_type": "markdown",
   "id": "33a935da",
   "metadata": {},
   "source": [
    "# 1.1 - Intro Machine Learning - Aprendizaje Supervisado - Regresion\n",
    "\n",
    "![venn_ml](images/venn_ml.png)\n",
    "\n",
    "![ext_sklearn](images/ext_sklearn.jpeg)\n",
    "\n",
    "![sklearn](images/sklearn.png)"
   ]
  },
  {
   "cell_type": "markdown",
   "id": "d2da47a5",
   "metadata": {},
   "source": [
    "### WorkFlow\n",
    "\n",
    "\n",
    "1. [Obtener datos](#1.-Obtener-Datos)\n",
    "2. [Definir objetivo](#2.-Definir-Objetivo)\n",
    "3. [Limpieza de datos (unidades, outliers, one-hot, etc..)(**)](#3.-Limpieza-de-Datos)\n",
    "4. [Definir modelo (regresión, clasificación, ...)](#4.-Modelo)\n",
    "5. [Entrenar (hiperparámetros, validación, ...) (**)](#5.-Entrenamiento)\n",
    "6. [Predecir (testear)](#6.-Predicción)\n",
    "7. [Evaluación](#7.-Evaluación)\n",
    "8. [Si hay mucho error volver a (**)](#WorkFlow)\n",
    "9. [Super-Bonus H2O](#8.-H2O)"
   ]
  },
  {
   "cell_type": "code",
   "execution_count": null,
   "id": "4b3cd2d7",
   "metadata": {},
   "outputs": [],
   "source": [
    "import warnings\n",
    "warnings.filterwarnings('ignore')\n",
    "\n",
    "import pandas as pd\n",
    "import numpy as np\n",
    "\n",
    "import pylab as plt\n",
    "import seaborn as sns\n",
    "\n",
    "%matplotlib inline"
   ]
  },
  {
   "cell_type": "markdown",
   "id": "3ffe1dcf",
   "metadata": {},
   "source": [
    "### 1. Obtener Datos\n",
    "\n",
    "**explicacion:**\n",
    "    \n",
    "+ carat:\tpeso del diamante (quilates)\n",
    "\n",
    "+ cut:\tcalidad del corte (Fair, Ideal, Good, Very Good, Premium)\n",
    "\n",
    "+ color: color (D (mejor) a J (peor))\n",
    "\n",
    "+ clarity: claridad (I1 (peor), SI2, SI1, VS2, VS1, VVS2, VVS1, IF (mejor)) \n",
    "\n",
    "+ table: ancho del corte superior del diamante\n",
    "\n",
    "+ x: largo en mm\n",
    "\n",
    "+ y: ancho en mm\n",
    "\n",
    "+ z: alto en mm\n",
    "\n",
    "+ depth:\t2*z/(x+y)\n",
    "\n",
    "+ price:\tprecio en dolares USA\n",
    "\n",
    "\n",
    "![dia](images/dia.jpg)"
   ]
  },
  {
   "cell_type": "code",
   "execution_count": null,
   "id": "5f0c3d83",
   "metadata": {},
   "outputs": [],
   "source": [
    "df=pd.read_csv('../data/diamonds.csv')\n",
    "\n",
    "df.head()"
   ]
  },
  {
   "cell_type": "code",
   "execution_count": null,
   "id": "fa73dbf6",
   "metadata": {},
   "outputs": [],
   "source": [
    "df.info()"
   ]
  },
  {
   "cell_type": "markdown",
   "id": "5f179f21",
   "metadata": {},
   "source": [
    "### 2. Definir Objetivo\n",
    "\n",
    "\n",
    "```El objetivo del ejercicio consiste en predecir el precio de los diamantes basándonos en datos como el peso, el color, el corte o la claridad.```"
   ]
  },
  {
   "cell_type": "markdown",
   "id": "e624ac71",
   "metadata": {},
   "source": [
    "### 3. Limpieza de Datos\n",
    "\n",
    "El proceso de limpieza es el habitual:\n",
    "\n",
    "+ Valores nulos\n",
    "+ Datos inconsistentes \n",
    "+ Datos duplicados...\n",
    "\n",
    "Todo esto implica realizar también un **EDA**. Además de eso, es necesario arreglar los datos, proceso llamado `data wrangling`. Este proceso consiste en preparar los datos de manera adecuada para que el modelo de machine learning \"entienda\" los datos de manera óptima. Por ejemplo, los datos de corte, color y claridad son datos categóricos que están en formato string, habrá que cambiar estos datos para alimentar al modelo, las máquinas solo entienden de números 🤣.\n",
    "\n",
    "Este proceso no es solo necesario sino fundamental. **Todo está en los datos.**"
   ]
  },
  {
   "cell_type": "code",
   "execution_count": null,
   "id": "fccb5196",
   "metadata": {},
   "outputs": [],
   "source": [
    "df.info(memory_usage='deep')"
   ]
  },
  {
   "cell_type": "code",
   "execution_count": null,
   "id": "5f37f37e",
   "metadata": {},
   "outputs": [],
   "source": [
    "df.describe(include='all').T"
   ]
  },
  {
   "cell_type": "code",
   "execution_count": null,
   "id": "7bff434e",
   "metadata": {},
   "outputs": [],
   "source": [
    "# buscando colinealidad\n",
    "\n",
    "plt.figure(figsize=(15, 10))\n",
    "\n",
    "sns.set(style='white')\n",
    "\n",
    "mask=np.triu(np.ones_like(df.corr(), dtype=bool))\n",
    "\n",
    "cmap=sns.diverging_palette(0, 10, as_cmap=True)\n",
    "\n",
    "\n",
    "sns.heatmap(df.corr(),\n",
    "           mask=mask,\n",
    "          cmap=cmap,\n",
    "          center=0,\n",
    "          square=True,\n",
    "          annot=True,\n",
    "          linewidths=0.5,\n",
    "          cbar_kws={'shrink': 0.5});"
   ]
  },
  {
   "cell_type": "code",
   "execution_count": null,
   "id": "99ac65f4",
   "metadata": {},
   "outputs": [],
   "source": [
    "df['vol'] = df.x * df.y * df.z\n",
    "\n",
    "df.head()"
   ]
  },
  {
   "cell_type": "code",
   "execution_count": null,
   "id": "85da2a1a",
   "metadata": {},
   "outputs": [],
   "source": [
    "# buscando colinealidad\n",
    "\n",
    "plt.figure(figsize=(15, 10))\n",
    "\n",
    "sns.set(style='white')\n",
    "\n",
    "mask=np.triu(np.ones_like(df.corr(), dtype=bool))\n",
    "\n",
    "cmap=sns.diverging_palette(0, 10, as_cmap=True)\n",
    "\n",
    "\n",
    "sns.heatmap(df.corr(),\n",
    "           mask=mask,\n",
    "          cmap=cmap,\n",
    "          center=0,\n",
    "          square=True,\n",
    "          annot=True,\n",
    "          linewidths=0.5,\n",
    "          cbar_kws={'shrink': 0.5});"
   ]
  },
  {
   "cell_type": "code",
   "execution_count": null,
   "id": "293dede3",
   "metadata": {
    "scrolled": false
   },
   "outputs": [],
   "source": [
    "# scatter matrix\n",
    "\n",
    "pd.plotting.scatter_matrix(df, figsize=(15, 10), alpha=0.2);"
   ]
  },
  {
   "cell_type": "code",
   "execution_count": null,
   "id": "d1a72545",
   "metadata": {},
   "outputs": [],
   "source": [
    "plt.figure(figsize=(15,10))\n",
    "\n",
    "plt.scatter(df.carat, df.price)\n",
    "\n",
    "plt.ylabel('price')\n",
    "plt.xlabel('carat');"
   ]
  },
  {
   "cell_type": "markdown",
   "id": "8c2c5d29",
   "metadata": {},
   "source": [
    "## Reflexión : ¿Cómo podemos asegurarnos de que de verdad son diamantes?\n",
    "\n",
    "1 carat = 0.2 gr de diamante.\n",
    "\n",
    "Densidad del diamante es 3.4 - 3.5 gr/cm3"
   ]
  },
  {
   "cell_type": "code",
   "execution_count": null,
   "id": "0261e79f",
   "metadata": {},
   "outputs": [],
   "source": [
    "df.head()"
   ]
  },
  {
   "cell_type": "code",
   "execution_count": null,
   "id": "a088af91",
   "metadata": {},
   "outputs": [],
   "source": [
    "df2=df.copy()\n",
    "\n",
    "df2['gr'] = 0.2 * df2.carat\n",
    "\n",
    "df2['vol'] = df2.x * df2.y * df2.z / 1000 / 2.5\n",
    "\n",
    "df2['density'] = df2.gr / df2.vol\n",
    "\n",
    "df2.head()"
   ]
  },
  {
   "cell_type": "code",
   "execution_count": null,
   "id": "e9d20348",
   "metadata": {},
   "outputs": [],
   "source": [
    "df2.describe().T"
   ]
  },
  {
   "cell_type": "code",
   "execution_count": null,
   "id": "b6183c56",
   "metadata": {},
   "outputs": [],
   "source": [
    "df2[df2.density > 3.7].shape"
   ]
  },
  {
   "cell_type": "code",
   "execution_count": null,
   "id": "3021590e",
   "metadata": {},
   "outputs": [],
   "source": [
    "df2[df2.density < 3.02].shape"
   ]
  },
  {
   "cell_type": "markdown",
   "id": "643b626e",
   "metadata": {},
   "source": [
    "## Separación de datos.\n",
    "\n",
    "![X_y_tts](images/X_y_tts.png)\n",
    "\n",
    "Antes de transformar definitivamente nada, vamos a separar los datos en X e y. y será la columna objetivo, es decir, el precio. La columna objetivo nunca se toca, nunca se transforma en ningún sentido. X serán el resto de columnas, la características con las que realizaremos nuestras predicciones.\n",
    "\n",
    "**0 arreglar datos**"
   ]
  },
  {
   "cell_type": "code",
   "execution_count": null,
   "id": "5f95b0b9",
   "metadata": {},
   "outputs": [],
   "source": [
    "X = df.drop('price', axis=1)\n",
    "\n",
    "y = df.price"
   ]
  },
  {
   "cell_type": "code",
   "execution_count": null,
   "id": "b5bd4cf4",
   "metadata": {},
   "outputs": [],
   "source": [
    "#%pip install scikit-learn"
   ]
  },
  {
   "cell_type": "code",
   "execution_count": null,
   "id": "e2d79b3c",
   "metadata": {},
   "outputs": [],
   "source": [
    "# normalizacion, Normal(0, 1)\n",
    "\n",
    "from sklearn.preprocessing import StandardScaler"
   ]
  },
  {
   "cell_type": "code",
   "execution_count": null,
   "id": "2b6e184f",
   "metadata": {},
   "outputs": [],
   "source": [
    "X[['depth', 'table', 'x', 'y', 'z']] = StandardScaler().fit_transform(X[['depth', 'table', 'x', 'y', 'z']])\n",
    "\n",
    "X.head()"
   ]
  },
  {
   "cell_type": "markdown",
   "id": "ec7fad63",
   "metadata": {},
   "source": [
    "**transformando categoricas de varias maneras**"
   ]
  },
  {
   "cell_type": "code",
   "execution_count": null,
   "id": "ca4404a3",
   "metadata": {},
   "outputs": [],
   "source": [
    "# one-hot encoding , variables dummies (esto funciona muy bien en regresion)\n",
    "\n",
    "X = pd.get_dummies(X, columns=['cut'], drop_first=True)\n",
    "\n",
    "X.head()"
   ]
  },
  {
   "cell_type": "code",
   "execution_count": null,
   "id": "207e7744",
   "metadata": {},
   "outputs": [],
   "source": [
    "# label encoder , ordinal encoder\n",
    "\n",
    "from sklearn.preprocessing import LabelEncoder, OrdinalEncoder\n",
    "\n",
    "X.clarity = LabelEncoder().fit_transform(X.clarity)\n",
    "\n",
    "X.head()"
   ]
  },
  {
   "cell_type": "code",
   "execution_count": null,
   "id": "95ac083c",
   "metadata": {},
   "outputs": [],
   "source": [
    "df.groupby('color').mean().price"
   ]
  },
  {
   "cell_type": "code",
   "execution_count": null,
   "id": "84bd5567",
   "metadata": {},
   "outputs": [],
   "source": [
    "df.color.unique()"
   ]
  },
  {
   "cell_type": "code",
   "execution_count": null,
   "id": "d7c701a3",
   "metadata": {},
   "outputs": [],
   "source": [
    "# label encoder custom \n",
    "# aqui entra el conocimiento experto\n",
    "\n",
    "\n",
    "color = {'J': 1 , 'I': 2, 'H': 5, 'G': 15, 'F': 25, 'E': 45, 'D': 85}\n",
    "\n",
    "X.color=X.color.apply(lambda x: color[x])\n",
    "\n",
    "X.head()"
   ]
  },
  {
   "cell_type": "code",
   "execution_count": null,
   "id": "2feb9eef",
   "metadata": {},
   "outputs": [],
   "source": [
    "X.info()"
   ]
  },
  {
   "cell_type": "code",
   "execution_count": null,
   "id": "ca8de3ec",
   "metadata": {},
   "outputs": [],
   "source": [
    "X.head()"
   ]
  },
  {
   "cell_type": "markdown",
   "id": "419e0b1e",
   "metadata": {},
   "source": [
    "**1 train test split**"
   ]
  },
  {
   "cell_type": "code",
   "execution_count": null,
   "id": "77d0c55d",
   "metadata": {},
   "outputs": [],
   "source": [
    "X.shape, y.shape"
   ]
  },
  {
   "cell_type": "code",
   "execution_count": null,
   "id": "3c7a0bf1",
   "metadata": {},
   "outputs": [],
   "source": [
    "# train_test_split\n",
    "\n",
    "from sklearn.model_selection import train_test_split as tts  # el alias es cosa mia\n",
    "\n",
    "X_train, X_test, y_train, y_test  = tts(X, y, train_size=0.8, test_size=0.2, random_state=42)\n",
    "\n",
    "X_train.shape, X_test.shape, y_train.shape, y_test.shape"
   ]
  },
  {
   "cell_type": "markdown",
   "id": "0aecf27a",
   "metadata": {},
   "source": [
    "Ahora ya podemos alimentar el modelo predictivo. Probaremos distintos modelos."
   ]
  },
  {
   "cell_type": "markdown",
   "id": "89f27d01",
   "metadata": {},
   "source": [
    "### 4. Modelo\n",
    "\n",
    "Añadir LazyModel"
   ]
  },
  {
   "cell_type": "markdown",
   "id": "1bb8766a",
   "metadata": {},
   "source": [
    "**Regresión Lineal**"
   ]
  },
  {
   "cell_type": "code",
   "execution_count": null,
   "id": "70cdbf0f",
   "metadata": {},
   "outputs": [],
   "source": [
    "from sklearn.linear_model import LinearRegression as LinReg   # alias es mio\n",
    "\n",
    "from sklearn.linear_model import Lasso        # regularizacion L1\n",
    "from sklearn.linear_model import Ridge        # regularizacion L2\n",
    "from sklearn.linear_model import ElasticNet   # regularizacion L1+L2\n",
    "\n",
    "\n",
    "# se inician los modelos\n",
    "\n",
    "linreg=LinReg()\n",
    "lasso=Lasso()\n",
    "ridge=Ridge()\n",
    "elastic=ElasticNet()"
   ]
  },
  {
   "cell_type": "code",
   "execution_count": null,
   "id": "54a4a531",
   "metadata": {},
   "outputs": [],
   "source": [
    "linreg"
   ]
  },
  {
   "cell_type": "markdown",
   "id": "11fb7523",
   "metadata": {},
   "source": [
    "**SVR**"
   ]
  },
  {
   "cell_type": "code",
   "execution_count": null,
   "id": "0166018c",
   "metadata": {},
   "outputs": [],
   "source": [
    "from sklearn.svm import SVR  # support vector regressor\n",
    "\n",
    "svr=SVR()"
   ]
  },
  {
   "cell_type": "markdown",
   "id": "01fa2021",
   "metadata": {},
   "source": [
    "**Random Forest**"
   ]
  },
  {
   "cell_type": "code",
   "execution_count": null,
   "id": "aeca6bc9",
   "metadata": {},
   "outputs": [],
   "source": [
    "from sklearn.ensemble import RandomForestRegressor as RFR  \n",
    "\n",
    "from sklearn.tree import ExtraTreeRegressor as ETR\n",
    "\n",
    "rfr=RFR()\n",
    "\n",
    "etr=ETR()"
   ]
  },
  {
   "cell_type": "markdown",
   "id": "5469146f",
   "metadata": {},
   "source": [
    "**Boosting**"
   ]
  },
  {
   "cell_type": "code",
   "execution_count": null,
   "id": "ded965ea",
   "metadata": {},
   "outputs": [],
   "source": [
    "#%pip install xgboost\n",
    "\n",
    "#%pip install catboost\n",
    "\n",
    "#%pip install lightgbm\n",
    "#conda install lightgbm"
   ]
  },
  {
   "cell_type": "code",
   "execution_count": null,
   "id": "040a3bb0",
   "metadata": {},
   "outputs": [],
   "source": [
    "from sklearn.ensemble import GradientBoostingRegressor as GBR\n",
    "\n",
    "from xgboost import XGBRegressor as XGBR\n",
    "\n",
    "from catboost import CatBoostRegressor as CTR\n",
    "\n",
    "from lightgbm import LGBMRegressor as LGBMR\n",
    "\n",
    "\n",
    "gbr=GBR()\n",
    "xgbr=XGBR()\n",
    "ctr=CTR()\n",
    "lgbmr=LGBMR()"
   ]
  },
  {
   "cell_type": "code",
   "execution_count": null,
   "id": "5e7fd90c",
   "metadata": {},
   "outputs": [],
   "source": [
    "#lazy\n",
    "#%pip install lazypredict"
   ]
  },
  {
   "cell_type": "code",
   "execution_count": null,
   "id": "8ebfe190",
   "metadata": {},
   "outputs": [],
   "source": [
    "from lazypredict.Supervised import LazyRegressor \n",
    "\n",
    "lazy=LazyRegressor()\n",
    "\n",
    "lazy"
   ]
  },
  {
   "cell_type": "markdown",
   "id": "ea5ab075",
   "metadata": {},
   "source": [
    "### 5. Entrenamiento"
   ]
  },
  {
   "cell_type": "code",
   "execution_count": null,
   "id": "bf05cd5d",
   "metadata": {},
   "outputs": [],
   "source": [
    "# regresiones lineales\n",
    "\n",
    "linreg.fit(X_train, y_train)\n",
    "lasso.fit(X_train, y_train)\n",
    "ridge.fit(X_train, y_train)\n",
    "elastic.fit(X_train, y_train)\n"
   ]
  },
  {
   "cell_type": "code",
   "execution_count": null,
   "id": "922affad",
   "metadata": {},
   "outputs": [],
   "source": [
    "lasso.intercept_"
   ]
  },
  {
   "cell_type": "code",
   "execution_count": null,
   "id": "b86c0a23",
   "metadata": {},
   "outputs": [],
   "source": [
    "lasso.coef_"
   ]
  },
  {
   "cell_type": "code",
   "execution_count": null,
   "id": "ac102db9",
   "metadata": {},
   "outputs": [],
   "source": [
    "X.columns"
   ]
  },
  {
   "cell_type": "code",
   "execution_count": null,
   "id": "28057c24",
   "metadata": {},
   "outputs": [],
   "source": [
    "dict(zip(X.columns, lasso.coef_))"
   ]
  },
  {
   "cell_type": "code",
   "execution_count": null,
   "id": "ade3ae22",
   "metadata": {},
   "outputs": [],
   "source": [
    "# svr\n",
    "\n",
    "svr.fit(X_train, y_train)"
   ]
  },
  {
   "cell_type": "code",
   "execution_count": null,
   "id": "84652166",
   "metadata": {},
   "outputs": [],
   "source": [
    "# rfr y etr\n",
    "\n",
    "rfr.fit(X_train, y_train)\n",
    "etr.fit(X_train, y_train)"
   ]
  },
  {
   "cell_type": "code",
   "execution_count": null,
   "id": "3c2d0884",
   "metadata": {},
   "outputs": [],
   "source": [
    "# boosting\n",
    "\n",
    "gbr.fit(X_train, y_train)"
   ]
  },
  {
   "cell_type": "code",
   "execution_count": null,
   "id": "acecd310",
   "metadata": {},
   "outputs": [],
   "source": [
    "xgbr.fit(X_train, y_train)"
   ]
  },
  {
   "cell_type": "code",
   "execution_count": null,
   "id": "2593d14e",
   "metadata": {},
   "outputs": [],
   "source": [
    "ctr.fit(X_train, y_train, verbose=0)"
   ]
  },
  {
   "cell_type": "code",
   "execution_count": null,
   "id": "16dac536",
   "metadata": {},
   "outputs": [],
   "source": [
    "lgbmr.fit(X_train, y_train)"
   ]
  },
  {
   "cell_type": "code",
   "execution_count": null,
   "id": "4b87e9c3",
   "metadata": {},
   "outputs": [],
   "source": [
    "# el vago este\n",
    "\n",
    "lazy.fit(X_train, X_test, y_train, y_test)"
   ]
  },
  {
   "cell_type": "code",
   "execution_count": null,
   "id": "d52b0125",
   "metadata": {},
   "outputs": [],
   "source": [
    "#help(lazy)"
   ]
  },
  {
   "cell_type": "code",
   "execution_count": null,
   "id": "fa31c89f",
   "metadata": {},
   "outputs": [],
   "source": [
    "# entrenamiento a cuchillo\n",
    "\n",
    "modelos=[linreg, lasso, ridge, xgbr]\n",
    "\n",
    "for m in modelos:\n",
    "    m.fit(X_train, y_train)"
   ]
  },
  {
   "cell_type": "markdown",
   "id": "1946d0f8",
   "metadata": {},
   "source": [
    "### 6. Predicción"
   ]
  },
  {
   "cell_type": "code",
   "execution_count": null,
   "id": "b7c2ce1d",
   "metadata": {},
   "outputs": [],
   "source": [
    "X_test.head()"
   ]
  },
  {
   "cell_type": "code",
   "execution_count": null,
   "id": "e2edb001",
   "metadata": {},
   "outputs": [],
   "source": [
    "linreg.predict(X_test)[:10]"
   ]
  },
  {
   "cell_type": "code",
   "execution_count": null,
   "id": "deadbb0e",
   "metadata": {},
   "outputs": [],
   "source": [
    "lasso.predict(X_test)[:10]"
   ]
  },
  {
   "cell_type": "code",
   "execution_count": null,
   "id": "49029ba2",
   "metadata": {},
   "outputs": [],
   "source": [
    "ridge.predict(X_test)[:10]"
   ]
  },
  {
   "cell_type": "code",
   "execution_count": null,
   "id": "aeccd1bd",
   "metadata": {},
   "outputs": [],
   "source": [
    "elastic.predict(X_test)[:10]"
   ]
  },
  {
   "cell_type": "code",
   "execution_count": null,
   "id": "797f2e06",
   "metadata": {},
   "outputs": [],
   "source": [
    "# svr\n",
    "\n",
    "svr.predict(X_test)[:10]"
   ]
  },
  {
   "cell_type": "code",
   "execution_count": null,
   "id": "fe90921a",
   "metadata": {},
   "outputs": [],
   "source": [
    "# rfr\n",
    "\n",
    "rfr.predict(X_test)[:10]"
   ]
  },
  {
   "cell_type": "code",
   "execution_count": null,
   "id": "20b98b0e",
   "metadata": {},
   "outputs": [],
   "source": [
    "# etr\n",
    "\n",
    "etr.predict(X_test)[:10]"
   ]
  },
  {
   "cell_type": "code",
   "execution_count": null,
   "id": "f68f5192",
   "metadata": {},
   "outputs": [],
   "source": [
    "# boosting\n",
    "\n",
    "gbr.predict(X_test)[:10]"
   ]
  },
  {
   "cell_type": "code",
   "execution_count": null,
   "id": "6baa3727",
   "metadata": {},
   "outputs": [],
   "source": [
    "xgbr.predict(X_test)[:10]"
   ]
  },
  {
   "cell_type": "code",
   "execution_count": null,
   "id": "4e7b9a5c",
   "metadata": {},
   "outputs": [],
   "source": [
    "ctr.predict(X_test)[:10]"
   ]
  },
  {
   "cell_type": "code",
   "execution_count": null,
   "id": "5696decc",
   "metadata": {},
   "outputs": [],
   "source": [
    "lgbmr.predict(X_test)[:10]"
   ]
  },
  {
   "cell_type": "markdown",
   "id": "72484006",
   "metadata": {},
   "source": [
    "### 7. Evaluación"
   ]
  },
  {
   "cell_type": "code",
   "execution_count": null,
   "id": "ca72eada",
   "metadata": {},
   "outputs": [],
   "source": [
    "y_test.head()"
   ]
  },
  {
   "cell_type": "code",
   "execution_count": null,
   "id": "5ecf18fb",
   "metadata": {},
   "outputs": [],
   "source": [
    "from sklearn.metrics import mean_squared_error as mse  # error cuadratico medio"
   ]
  },
  {
   "cell_type": "code",
   "execution_count": null,
   "id": "9963c949",
   "metadata": {},
   "outputs": [],
   "source": [
    "# regresion lineal\n",
    "\n",
    "y_pred = linreg.predict(X_test)\n",
    "\n",
    "mse(y_test, y_pred, squared=False)   # RMSE squared=False por la raiz cuadrada"
   ]
  },
  {
   "cell_type": "code",
   "execution_count": null,
   "id": "7ed44b02",
   "metadata": {},
   "outputs": [],
   "source": [
    "# lasso\n",
    "\n",
    "y_pred=lasso.predict(X_test)\n",
    "\n",
    "mse(y_test, y_pred, squared=False) "
   ]
  },
  {
   "cell_type": "code",
   "execution_count": null,
   "id": "29c462d7",
   "metadata": {},
   "outputs": [],
   "source": [
    "# ridge\n",
    "\n",
    "y_pred=ridge.predict(X_test)\n",
    "\n",
    "mse(y_test, y_pred, squared=False)"
   ]
  },
  {
   "cell_type": "code",
   "execution_count": null,
   "id": "39465764",
   "metadata": {},
   "outputs": [],
   "source": [
    "# elastic\n",
    "\n",
    "y_pred=elastic.predict(X_test)\n",
    "\n",
    "mse(y_test, y_pred, squared=False)"
   ]
  },
  {
   "cell_type": "code",
   "execution_count": null,
   "id": "685449f0",
   "metadata": {},
   "outputs": [],
   "source": [
    "# etr\n",
    "\n",
    "y_pred=etr.predict(X_test)\n",
    "\n",
    "mse(y_test, y_pred, squared=False)  # RMSE"
   ]
  },
  {
   "cell_type": "code",
   "execution_count": null,
   "id": "3abe4ec6",
   "metadata": {},
   "outputs": [],
   "source": [
    "# rfr\n",
    "\n",
    "y_pred=rfr.predict(X_test)\n",
    "\n",
    "mse(y_test, y_pred, squared=False)  # RMSE"
   ]
  },
  {
   "cell_type": "code",
   "execution_count": null,
   "id": "03ad3a8d",
   "metadata": {},
   "outputs": [],
   "source": [
    "# svr\n",
    "\n",
    "y_pred=svr.predict(X_test)\n",
    "\n",
    "mse(y_test, y_pred, squared=False)  # RMSE"
   ]
  },
  {
   "cell_type": "code",
   "execution_count": null,
   "id": "292334da",
   "metadata": {},
   "outputs": [],
   "source": [
    "# boosting\n",
    "\n",
    "y_pred=xgbr.predict(X_test)\n",
    "\n",
    "mse(y_test, y_pred, squared=False)  # RMSE"
   ]
  },
  {
   "cell_type": "code",
   "execution_count": null,
   "id": "23e2e92e",
   "metadata": {},
   "outputs": [],
   "source": [
    "y_pred=ctr.predict(X_test)\n",
    "\n",
    "mse(y_test, y_pred, squared=False)  # RMSE"
   ]
  },
  {
   "cell_type": "code",
   "execution_count": null,
   "id": "ab702b2c",
   "metadata": {},
   "outputs": [],
   "source": [
    "y_pred=lgbmr.predict(X_test)\n",
    "\n",
    "mse(y_test, y_pred, squared=False)  # RMSE"
   ]
  },
  {
   "cell_type": "code",
   "execution_count": null,
   "id": "b4e0a9d9",
   "metadata": {},
   "outputs": [],
   "source": [
    "y_test.min(), y_test.mean(), y_test.max()"
   ]
  },
  {
   "cell_type": "markdown",
   "id": "e57dc142",
   "metadata": {},
   "source": [
    "### 8. H2O\n",
    "\n",
    "https://www.cienciadedatos.net/documentos/py04_machine_learning_con_h2o_y_python\n"
   ]
  },
  {
   "cell_type": "code",
   "execution_count": null,
   "id": "fb1205c7",
   "metadata": {},
   "outputs": [],
   "source": [
    "%pip install h2o"
   ]
  },
  {
   "cell_type": "code",
   "execution_count": null,
   "id": "80b9279e",
   "metadata": {},
   "outputs": [],
   "source": [
    "import h2o\n",
    "\n",
    "from h2o.automl import H2OAutoML"
   ]
  },
  {
   "cell_type": "code",
   "execution_count": null,
   "id": "301ce814",
   "metadata": {},
   "outputs": [],
   "source": [
    "# obtener datos\n",
    "\n",
    "train=pd.read_csv('../data/diamonds_train.csv')\n",
    "test=pd.read_csv('../data/diamonds_test.csv')\n",
    "\n",
    "train.head()"
   ]
  },
  {
   "cell_type": "code",
   "execution_count": null,
   "id": "ddccb8a0",
   "metadata": {},
   "outputs": [],
   "source": [
    "test.head()"
   ]
  },
  {
   "cell_type": "code",
   "execution_count": null,
   "id": "f9ba1067",
   "metadata": {},
   "outputs": [],
   "source": [
    "# inicializamos el modelo h2o\n",
    "\n",
    "h2o.init()"
   ]
  },
  {
   "cell_type": "code",
   "execution_count": null,
   "id": "fc6003fe",
   "metadata": {},
   "outputs": [],
   "source": [
    "# parsear datos para h20\n",
    "\n",
    "h2train=h2o.H2OFrame(train)\n",
    "h2test=h2o.H2OFrame(test)"
   ]
  },
  {
   "cell_type": "code",
   "execution_count": null,
   "id": "cc4a92c2",
   "metadata": {},
   "outputs": [],
   "source": [
    "h2train.columns"
   ]
  },
  {
   "cell_type": "code",
   "execution_count": null,
   "id": "7ad89add",
   "metadata": {},
   "outputs": [],
   "source": [
    "X=[c for c in h2train.columns if c!='price']\n",
    "\n",
    "y='price'"
   ]
  },
  {
   "cell_type": "code",
   "execution_count": null,
   "id": "4ca34f1e",
   "metadata": {},
   "outputs": [],
   "source": [
    "# inicia auto-machine-learning\n",
    "\n",
    "automl=H2OAutoML(max_models=20,\n",
    "                 seed=42,   # random_state\n",
    "                 max_runtime_secs=300,\n",
    "                 sort_metric='RMSE')"
   ]
  },
  {
   "cell_type": "code",
   "execution_count": null,
   "id": "1a24bbfc",
   "metadata": {
    "scrolled": false
   },
   "outputs": [],
   "source": [
    "# entrena\n",
    "\n",
    "automl.train(x=X,\n",
    "             y=y,\n",
    "             training_frame=h2train)"
   ]
  },
  {
   "cell_type": "code",
   "execution_count": null,
   "id": "98bd97d2",
   "metadata": {
    "scrolled": false
   },
   "outputs": [],
   "source": [
    "print('[INFO] Leader board:')\n",
    "\n",
    "leader_board=automl.leaderboard\n",
    "\n",
    "leader_board.head()"
   ]
  },
  {
   "cell_type": "code",
   "execution_count": null,
   "id": "108f7547",
   "metadata": {},
   "outputs": [],
   "source": [
    "# prediciones del lider\n",
    "\n",
    "y_pred=automl.leader.predict(h2test)"
   ]
  },
  {
   "cell_type": "code",
   "execution_count": null,
   "id": "3a54618a",
   "metadata": {},
   "outputs": [],
   "source": [
    "y_pred[:10]"
   ]
  },
  {
   "cell_type": "code",
   "execution_count": null,
   "id": "36d77b98",
   "metadata": {},
   "outputs": [],
   "source": []
  }
 ],
 "metadata": {
  "kernelspec": {
   "display_name": "clase",
   "language": "python",
   "name": "clase"
  },
  "language_info": {
   "codemirror_mode": {
    "name": "ipython",
    "version": 3
   },
   "file_extension": ".py",
   "mimetype": "text/x-python",
   "name": "python",
   "nbconvert_exporter": "python",
   "pygments_lexer": "ipython3",
   "version": "3.9.12"
  }
 },
 "nbformat": 4,
 "nbformat_minor": 5
}
