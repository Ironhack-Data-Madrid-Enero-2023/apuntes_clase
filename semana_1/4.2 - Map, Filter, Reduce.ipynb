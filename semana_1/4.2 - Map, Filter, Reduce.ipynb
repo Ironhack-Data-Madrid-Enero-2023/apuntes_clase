{
 "cells": [
  {
   "cell_type": "markdown",
   "metadata": {},
   "source": [
    "# 4.2 - Map, Filter, Reduce\n",
    "\n",
    "Estas tres funciones nos permiten realizar procesos con iterables de una manera más eficiente. Todas ellas reciben como argumentos de entrada un iterable y una función que realiza una acción sobre el iterable. A menudo, la función que se pasa a `map()`, `reduce()` o `filter()` solamente se utiliza una vez, de ahí que el uso de funciones `lambda` sea muy habitual en su uso."
   ]
  },
  {
   "cell_type": "markdown",
   "metadata": {},
   "source": [
    "### Map (Mathematical application)\n",
    "\n",
    "El `map()` itera sobre todos los elementos de un iterable aplicando una función a cada uno de ellos. Su sintaxis es:\n",
    "\n",
    "```python\n",
    "map(funcion, iterable)\n",
    "```\n",
    "\n",
    "La función `map()` devuelve un iterable con el mismo número de elementos que el que se le pasa como entrada, aplica una función matemática a cada uno de los elementos"
   ]
  },
  {
   "cell_type": "code",
   "execution_count": 1,
   "metadata": {},
   "outputs": [],
   "source": [
    "def suma_10(x):\n",
    "    \"\"\"\n",
    "    Esta tiene que recibir solo un elemento de entrada,\n",
    "    Para el map, pensad en esta funcion solo para un elemento.\n",
    "    \n",
    "    \"\"\"\n",
    "    return x+10"
   ]
  },
  {
   "cell_type": "code",
   "execution_count": 2,
   "metadata": {},
   "outputs": [
    {
     "data": {
      "text/plain": [
       "[0, 1, 2, 3, 4]"
      ]
     },
     "execution_count": 2,
     "metadata": {},
     "output_type": "execute_result"
    }
   ],
   "source": [
    "lst = [i for i in range(1000)]\n",
    "\n",
    "lst[:5]"
   ]
  },
  {
   "cell_type": "code",
   "execution_count": 13,
   "metadata": {
    "scrolled": true
   },
   "outputs": [
    {
     "name": "stdout",
     "output_type": "stream",
     "text": [
      "CPU times: user 298 µs, sys: 1 µs, total: 299 µs\n",
      "Wall time: 303 µs\n"
     ]
    },
    {
     "data": {
      "text/plain": [
       "[10, 11, 12, 13, 14]"
      ]
     },
     "execution_count": 13,
     "metadata": {},
     "output_type": "execute_result"
    }
   ],
   "source": [
    "%%time\n",
    "\n",
    "res=[]\n",
    "\n",
    "for e in lst:\n",
    "    res.append(suma_10(e))\n",
    "    \n",
    "\n",
    "res[:5]"
   ]
  },
  {
   "cell_type": "code",
   "execution_count": 14,
   "metadata": {},
   "outputs": [
    {
     "name": "stdout",
     "output_type": "stream",
     "text": [
      "CPU times: user 193 µs, sys: 1 µs, total: 194 µs\n",
      "Wall time: 197 µs\n"
     ]
    },
    {
     "data": {
      "text/plain": [
       "[10, 11, 12, 13, 14]"
      ]
     },
     "execution_count": 14,
     "metadata": {},
     "output_type": "execute_result"
    }
   ],
   "source": [
    "%%time\n",
    "\n",
    "res=[suma_10(e) for e in lst]\n",
    "\n",
    "res[:5]"
   ]
  },
  {
   "cell_type": "code",
   "execution_count": 17,
   "metadata": {},
   "outputs": [
    {
     "name": "stdout",
     "output_type": "stream",
     "text": [
      "CPU times: user 3 µs, sys: 1 µs, total: 4 µs\n",
      "Wall time: 6.91 µs\n"
     ]
    },
    {
     "data": {
      "text/plain": [
       "<map at 0x1041970a0>"
      ]
     },
     "execution_count": 17,
     "metadata": {},
     "output_type": "execute_result"
    }
   ],
   "source": [
    "%%time\n",
    "\n",
    "# map(funcion, lista)\n",
    "\n",
    "map(suma_10, lst)"
   ]
  },
  {
   "cell_type": "code",
   "execution_count": 5,
   "metadata": {},
   "outputs": [
    {
     "name": "stdout",
     "output_type": "stream",
     "text": [
      "CPU times: user 78 µs, sys: 14 µs, total: 92 µs\n",
      "Wall time: 94.9 µs\n"
     ]
    }
   ],
   "source": [
    "%%time\n",
    "\n",
    "A=list(map(suma_10, lst))"
   ]
  },
  {
   "cell_type": "code",
   "execution_count": 7,
   "metadata": {},
   "outputs": [
    {
     "name": "stdout",
     "output_type": "stream",
     "text": [
      "10\n",
      "11\n",
      "12\n",
      "13\n",
      "14\n",
      "15\n",
      "16\n",
      "17\n",
      "18\n",
      "19\n",
      "CPU times: user 65 µs, sys: 8 µs, total: 73 µs\n",
      "Wall time: 70.1 µs\n"
     ]
    }
   ],
   "source": [
    "%%time \n",
    "\n",
    "# %% mide el tiempo de ejecucion de la casilla completa\n",
    "\n",
    "for e in map(suma_10, lst[:10]):  # el map es un iterable\n",
    "    print(e)"
   ]
  },
  {
   "cell_type": "code",
   "execution_count": 9,
   "metadata": {},
   "outputs": [
    {
     "name": "stdout",
     "output_type": "stream",
     "text": [
      "19\n",
      "CPU times: user 58 µs, sys: 15 µs, total: 73 µs\n",
      "Wall time: 69.9 µs\n"
     ]
    }
   ],
   "source": [
    "%time print(e)   # % mide el tiempo de ejecucion de la lineaç de codigo"
   ]
  },
  {
   "cell_type": "code",
   "execution_count": 16,
   "metadata": {},
   "outputs": [
    {
     "name": "stdout",
     "output_type": "stream",
     "text": [
      "CPU times: user 4 µs, sys: 1 µs, total: 5 µs\n",
      "Wall time: 6.91 µs\n"
     ]
    },
    {
     "data": {
      "text/plain": [
       "<map at 0x104197310>"
      ]
     },
     "execution_count": 16,
     "metadata": {},
     "output_type": "execute_result"
    }
   ],
   "source": [
    "%%time\n",
    "\n",
    "map(lambda x: x+10, lst)"
   ]
  },
  {
   "cell_type": "code",
   "execution_count": 18,
   "metadata": {},
   "outputs": [
    {
     "data": {
      "text/plain": [
       "map"
      ]
     },
     "execution_count": 18,
     "metadata": {},
     "output_type": "execute_result"
    }
   ],
   "source": [
    "var_map = map(lambda x: x+10, lst)\n",
    "\n",
    "type(var_map)"
   ]
  },
  {
   "cell_type": "code",
   "execution_count": 21,
   "metadata": {},
   "outputs": [
    {
     "data": {
      "text/plain": [
       "[]"
      ]
     },
     "execution_count": 21,
     "metadata": {},
     "output_type": "execute_result"
    }
   ],
   "source": [
    "list(var_map)[:5]"
   ]
  },
  {
   "cell_type": "markdown",
   "metadata": {},
   "source": [
    "### Filter\n",
    "\n",
    "Como el nombre sugiere la función `filter()` sirve para filtrar un iterable.Su sintaxis es:\n",
    "\n",
    "```python\n",
    "filter(funcion, iterable)\n",
    "```\n",
    "\n",
    "La función filter devuelve un iterable, pero su longitud no tiene por qué coincidir con la del iterable de entrada, después de todo es un filtro. La función de entrada del filter tiene la particularidad de devolver valores booleanos según cierta condición, de ésta manera es como se gestiona el filtrado de elementos."
   ]
  },
  {
   "cell_type": "code",
   "execution_count": 22,
   "metadata": {},
   "outputs": [],
   "source": [
    "def buscar_par(n):\n",
    "    \n",
    "    if n%2==0:\n",
    "        return True\n",
    "    else:\n",
    "        return False"
   ]
  },
  {
   "cell_type": "code",
   "execution_count": 23,
   "metadata": {},
   "outputs": [
    {
     "data": {
      "text/plain": [
       "[0, 1, 2, 3, 4]"
      ]
     },
     "execution_count": 23,
     "metadata": {},
     "output_type": "execute_result"
    }
   ],
   "source": [
    "lst[:5]"
   ]
  },
  {
   "cell_type": "code",
   "execution_count": 30,
   "metadata": {},
   "outputs": [
    {
     "data": {
      "text/plain": [
       "<filter at 0x1046b3a60>"
      ]
     },
     "execution_count": 30,
     "metadata": {},
     "output_type": "execute_result"
    }
   ],
   "source": [
    "filter(buscar_par, lst)"
   ]
  },
  {
   "cell_type": "code",
   "execution_count": 26,
   "metadata": {},
   "outputs": [
    {
     "data": {
      "text/plain": [
       "[0, 2, 4, 6, 8, 10, 12, 14, 16, 18]"
      ]
     },
     "execution_count": 26,
     "metadata": {},
     "output_type": "execute_result"
    }
   ],
   "source": [
    "list(filter(buscar_par, lst))[:10]"
   ]
  },
  {
   "cell_type": "code",
   "execution_count": 32,
   "metadata": {},
   "outputs": [
    {
     "name": "stdout",
     "output_type": "stream",
     "text": [
      "CPU times: user 188 µs, sys: 0 ns, total: 188 µs\n",
      "Wall time: 192 µs\n"
     ]
    },
    {
     "data": {
      "text/plain": [
       "[0, 2, 4, 6, 8]"
      ]
     },
     "execution_count": 32,
     "metadata": {},
     "output_type": "execute_result"
    }
   ],
   "source": [
    "%%time\n",
    "\n",
    "res=[]\n",
    "\n",
    "for n in lst:\n",
    "    \n",
    "    if n%2==0:\n",
    "        res.append(n)\n",
    "    else:\n",
    "        pass\n",
    "\n",
    "res[:5]"
   ]
  },
  {
   "cell_type": "code",
   "execution_count": 33,
   "metadata": {},
   "outputs": [
    {
     "name": "stdout",
     "output_type": "stream",
     "text": [
      "CPU times: user 4 µs, sys: 1 µs, total: 5 µs\n",
      "Wall time: 6.91 µs\n"
     ]
    },
    {
     "data": {
      "text/plain": [
       "<filter at 0x106a3c9d0>"
      ]
     },
     "execution_count": 33,
     "metadata": {},
     "output_type": "execute_result"
    }
   ],
   "source": [
    "%%time\n",
    "\n",
    "filter(buscar_par, lst)"
   ]
  },
  {
   "cell_type": "code",
   "execution_count": 34,
   "metadata": {},
   "outputs": [],
   "source": [
    "def buscar_impar(n):\n",
    "    return n%2"
   ]
  },
  {
   "cell_type": "code",
   "execution_count": 36,
   "metadata": {},
   "outputs": [
    {
     "data": {
      "text/plain": [
       "0"
      ]
     },
     "execution_count": 36,
     "metadata": {},
     "output_type": "execute_result"
    }
   ],
   "source": [
    "buscar_impar(8)"
   ]
  },
  {
   "cell_type": "code",
   "execution_count": 38,
   "metadata": {},
   "outputs": [
    {
     "name": "stdout",
     "output_type": "stream",
     "text": [
      "CPU times: user 3 µs, sys: 1 µs, total: 4 µs\n",
      "Wall time: 6.91 µs\n"
     ]
    },
    {
     "data": {
      "text/plain": [
       "<filter at 0x106a3ce20>"
      ]
     },
     "execution_count": 38,
     "metadata": {},
     "output_type": "execute_result"
    }
   ],
   "source": [
    "%%time\n",
    "\n",
    "filter(buscar_impar, lst)"
   ]
  },
  {
   "cell_type": "code",
   "execution_count": 39,
   "metadata": {},
   "outputs": [
    {
     "data": {
      "text/plain": [
       "<filter at 0x106a3c970>"
      ]
     },
     "execution_count": 39,
     "metadata": {},
     "output_type": "execute_result"
    }
   ],
   "source": [
    "filter(lambda x: x%2, lst)"
   ]
  },
  {
   "cell_type": "markdown",
   "metadata": {},
   "source": [
    "**Multifiltro**"
   ]
  },
  {
   "cell_type": "code",
   "execution_count": 40,
   "metadata": {},
   "outputs": [],
   "source": [
    "# formato json\n",
    "\n",
    "hoteles=[\n",
    "    {'name':'Ritz', 'hasPool':True, 'stars':5},\n",
    "    {'name':'Pension Lola', 'hasPool':True, 'stars':2},\n",
    "    {'name':'Roma Norte', 'hasPool':False, 'stars':3},\n",
    "    {'name':'Palace', 'hasPool':True, 'stars':4},\n",
    "]"
   ]
  },
  {
   "cell_type": "code",
   "execution_count": 50,
   "metadata": {},
   "outputs": [
    {
     "data": {
      "text/plain": [
       "'Palace'"
      ]
     },
     "execution_count": 50,
     "metadata": {},
     "output_type": "execute_result"
    }
   ],
   "source": [
    "dictio = {'name':'Palace', 'hasPool':True, 'stars':4}\n",
    "\n",
    "dictio.get('name', 0)"
   ]
  },
  {
   "cell_type": "code",
   "execution_count": 42,
   "metadata": {},
   "outputs": [
    {
     "data": {
      "text/plain": [
       "[{'name': 'Pension Lola', 'hasPool': True, 'stars': 2}]"
      ]
     },
     "execution_count": 42,
     "metadata": {},
     "output_type": "execute_result"
    }
   ],
   "source": [
    "# menos de 3 estrellas\n",
    "\n",
    "list(filter(lambda x: x['stars']<3, hoteles))"
   ]
  },
  {
   "cell_type": "code",
   "execution_count": 53,
   "metadata": {},
   "outputs": [
    {
     "data": {
      "text/plain": [
       "[{'name': 'Ritz', 'hasPool': True, 'stars': 5},\n",
       " {'name': 'Pension Lola', 'hasPool': True, 'stars': 2},\n",
       " {'name': 'Roma Norte', 'hasPool': False, 'stars': 3},\n",
       " {'name': 'Palace', 'hasPool': True, 'stars': 4}]"
      ]
     },
     "execution_count": 53,
     "metadata": {},
     "output_type": "execute_result"
    }
   ],
   "source": [
    "# menos de 3 estrellas\n",
    "\n",
    "list(filter(lambda x: x.get('starsd', 0)<3, hoteles))[0]['name']"
   ]
  },
  {
   "cell_type": "code",
   "execution_count": null,
   "metadata": {},
   "outputs": [],
   "source": [
    "# No tiene piscina\n",
    "\n",
    "list(filter(lambda x: x['stars']<3, hoteles))"
   ]
  },
  {
   "cell_type": "code",
   "execution_count": 54,
   "metadata": {},
   "outputs": [
    {
     "data": {
      "text/plain": [
       "[{'name': 'Ritz', 'hasPool': True, 'stars': 5},\n",
       " {'name': 'Palace', 'hasPool': True, 'stars': 4}]"
      ]
     },
     "execution_count": 54,
     "metadata": {},
     "output_type": "execute_result"
    }
   ],
   "source": [
    "list(filter(lambda x: x['stars']>=4 and x['hasPool']==True, hoteles))"
   ]
  },
  {
   "cell_type": "markdown",
   "metadata": {},
   "source": [
    "### Reduce\n",
    "\n",
    "El `reduce()` funciona de manera diferente que el `map()` o el `filter()`. No devuelve un iterable resultante de la aplicación de una función, sino que devuelve un solo elemento reducido, procesado. La manera de hacerlo es acumulando los resultados, empezando por el primer elemento del iterable y recorriéndolo (el valor inicial se puede cambiar).\n",
    "\n",
    "\n",
    "![reduce](images/reduce.png)"
   ]
  },
  {
   "cell_type": "code",
   "execution_count": 55,
   "metadata": {},
   "outputs": [],
   "source": [
    "from functools import reduce"
   ]
  },
  {
   "cell_type": "code",
   "execution_count": 56,
   "metadata": {},
   "outputs": [],
   "source": [
    "def sumar(a, b):\n",
    "    print(a, b)\n",
    "    return a+b"
   ]
  },
  {
   "cell_type": "code",
   "execution_count": 57,
   "metadata": {},
   "outputs": [
    {
     "data": {
      "text/plain": [
       "[0, 1, 2, 3, 4, 5, 6, 7, 8, 9]"
      ]
     },
     "execution_count": 57,
     "metadata": {},
     "output_type": "execute_result"
    }
   ],
   "source": [
    "lst[:10]"
   ]
  },
  {
   "cell_type": "code",
   "execution_count": 58,
   "metadata": {},
   "outputs": [
    {
     "name": "stdout",
     "output_type": "stream",
     "text": [
      "0 1\n",
      "1 2\n",
      "3 3\n",
      "6 4\n",
      "10 5\n",
      "15 6\n",
      "21 7\n",
      "28 8\n",
      "36 9\n"
     ]
    },
    {
     "data": {
      "text/plain": [
       "45"
      ]
     },
     "execution_count": 58,
     "metadata": {},
     "output_type": "execute_result"
    }
   ],
   "source": [
    "reduce(sumar, lst[:10])   # sum(lst)"
   ]
  },
  {
   "cell_type": "code",
   "execution_count": 59,
   "metadata": {},
   "outputs": [
    {
     "data": {
      "text/plain": [
       "45"
      ]
     },
     "execution_count": 59,
     "metadata": {},
     "output_type": "execute_result"
    }
   ],
   "source": [
    "sum(lst[:10])"
   ]
  },
  {
   "cell_type": "code",
   "execution_count": 60,
   "metadata": {},
   "outputs": [],
   "source": [
    "def producto(a, b):\n",
    "    return a*b"
   ]
  },
  {
   "cell_type": "code",
   "execution_count": 61,
   "metadata": {},
   "outputs": [
    {
     "data": {
      "text/plain": [
       "3628800"
      ]
     },
     "execution_count": 61,
     "metadata": {},
     "output_type": "execute_result"
    }
   ],
   "source": [
    "reduce(producto, lst[1:11])"
   ]
  },
  {
   "cell_type": "code",
   "execution_count": 62,
   "metadata": {},
   "outputs": [
    {
     "data": {
      "text/plain": [
       "3628800"
      ]
     },
     "execution_count": 62,
     "metadata": {},
     "output_type": "execute_result"
    }
   ],
   "source": [
    "reduce(lambda a, b: a*b, lst[1:11])"
   ]
  },
  {
   "cell_type": "markdown",
   "metadata": {},
   "source": [
    "### Resumen \n",
    "\n",
    "`map,filter,reduce` son funciones que reciben otra función como argumento de entrada y un iterable.\n",
    "\n",
    "- Map: Devuelve un iterable con el mismo número de elementos que el iterable de entrada.\n",
    "- Filter: Devuelve un iterable, no necesariamente igual en longitud que el original.\n",
    "- Reduce: Devuelve un solo elemento (aunque puede ser una lista).\n",
    "\n",
    "\n",
    "**Resumen gráfico:**\n",
    "![map_reduce_filter](images/map_reduce_filter.png)"
   ]
  }
 ],
 "metadata": {
  "kernelspec": {
   "display_name": "clase",
   "language": "python",
   "name": "clase"
  },
  "language_info": {
   "codemirror_mode": {
    "name": "ipython",
    "version": 3
   },
   "file_extension": ".py",
   "mimetype": "text/x-python",
   "name": "python",
   "nbconvert_exporter": "python",
   "pygments_lexer": "ipython3",
   "version": "3.9.12"
  }
 },
 "nbformat": 4,
 "nbformat_minor": 4
}
