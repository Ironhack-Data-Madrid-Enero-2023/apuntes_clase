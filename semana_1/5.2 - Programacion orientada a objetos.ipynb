{
 "cells": [
  {
   "cell_type": "markdown",
   "metadata": {},
   "source": [
    "# 5.2 - Programacion orientada a objetos\n",
    "\n",
    "![oop](images/oop.png)\n",
    "\n",
    "La programación orientada a objetos tiene otra filosofía diferente que la programación funcional. En realidad python es orientado a objetos, cada vez que se declara una variable como una lista o una string, se esta llamando a esa clase. Para verlo tan solo hace falta escribir ` help`"
   ]
  },
  {
   "cell_type": "code",
   "execution_count": 1,
   "metadata": {
    "scrolled": true
   },
   "outputs": [],
   "source": [
    "#help(str)"
   ]
  },
  {
   "cell_type": "code",
   "execution_count": 2,
   "metadata": {},
   "outputs": [],
   "source": [
    "#help(list)"
   ]
  },
  {
   "cell_type": "markdown",
   "metadata": {},
   "source": [
    "Se devuelve una descripción de ambas clases.\n",
    "\n",
    "El mayor cambio en el paradigma es que ahora los datos no son inmutables, como eran en la programación funcional, datos y funciones están encapsulados en un objeto (la clase). Cada llamada a la clase (instancia) es un objeto nuevo.\n",
    "\n",
    "![objetos](images/objetos.png)"
   ]
  },
  {
   "cell_type": "markdown",
   "metadata": {},
   "source": [
    "### Nomenclatura\n",
    "- Objeto (Object)\n",
    "    - también instancia (instance)\n",
    "    - es una entidad individual\n",
    "- Atributos (Attributes)\n",
    "    - características dadas al objeto\n",
    "    - usualmente se refiere a los datos\n",
    "- Métodos (Methods)\n",
    "    - son las funciones que pertenecen a cada objeto\n",
    "- Clase (Class)\n",
    "    - también conocido como tipo (type)\n",
    "    - es el molde, el esquema, la forma genérica para crear objetos (instancias) con la mismas características\n",
    "    \n",
    "**En python, a los atributos se accede con la sintaxis objeto.atributo y a los métodos con objeto.metodo().**"
   ]
  },
  {
   "cell_type": "code",
   "execution_count": 3,
   "metadata": {},
   "outputs": [],
   "source": [
    "# primero funcional\n",
    "\n",
    "# datos\n",
    "\n",
    "mando={'color': 'blanco',\n",
    "       'dimensiones': [10, 5, 2],\n",
    "       'inalambrico': True,\n",
    "       'recargable': True,\n",
    "       'botones': ['POWER', 'UP', 'DOWN'],\n",
    "       'baterias': [{'tipo': 'AAA', 'carga': 40},\n",
    "                    {'tipo': 'AAA', 'carga': 60}]}"
   ]
  },
  {
   "cell_type": "code",
   "execution_count": 4,
   "metadata": {},
   "outputs": [
    {
     "data": {
      "text/plain": [
       "40"
      ]
     },
     "execution_count": 4,
     "metadata": {},
     "output_type": "execute_result"
    }
   ],
   "source": [
    "mando['baterias'][0]['carga']"
   ]
  },
  {
   "cell_type": "code",
   "execution_count": 5,
   "metadata": {},
   "outputs": [],
   "source": [
    "def funciona(m):\n",
    "    \n",
    "    if len(m['baterias'])!=2: return False\n",
    "    \n",
    "    for b in m['baterias']:\n",
    "        if b['carga']==0:\n",
    "            return False\n",
    "        \n",
    "    return True"
   ]
  },
  {
   "cell_type": "code",
   "execution_count": 6,
   "metadata": {},
   "outputs": [],
   "source": [
    "def encender(m):\n",
    "    \n",
    "    if funciona(m):\n",
    "        for btn in m['botones']:\n",
    "            if btn=='POWER':\n",
    "                return True\n",
    "    return False"
   ]
  },
  {
   "cell_type": "code",
   "execution_count": 7,
   "metadata": {},
   "outputs": [],
   "source": [
    "def recargar(m):\n",
    "    \n",
    "    if m['recargable']:\n",
    "        for b in m['baterias']:\n",
    "            b['carga']=100       # sobreescribo  el dato\n",
    "            \n",
    "    return m"
   ]
  },
  {
   "cell_type": "code",
   "execution_count": 8,
   "metadata": {},
   "outputs": [
    {
     "data": {
      "text/plain": [
       "{'color': 'blanco',\n",
       " 'dimensiones': [10, 5, 2],\n",
       " 'inalambrico': True,\n",
       " 'recargable': True,\n",
       " 'botones': ['POWER', 'UP', 'DOWN'],\n",
       " 'baterias': [{'tipo': 'AAA', 'carga': 40}, {'tipo': 'AAA', 'carga': 60}]}"
      ]
     },
     "execution_count": 8,
     "metadata": {},
     "output_type": "execute_result"
    }
   ],
   "source": [
    "mando"
   ]
  },
  {
   "cell_type": "code",
   "execution_count": 9,
   "metadata": {},
   "outputs": [
    {
     "data": {
      "text/plain": [
       "{'color': 'blanco',\n",
       " 'dimensiones': [10, 5, 2],\n",
       " 'inalambrico': True,\n",
       " 'recargable': True,\n",
       " 'botones': ['POWER', 'UP', 'DOWN'],\n",
       " 'baterias': [{'tipo': 'AAA', 'carga': 100}, {'tipo': 'AAA', 'carga': 100}]}"
      ]
     },
     "execution_count": 9,
     "metadata": {},
     "output_type": "execute_result"
    }
   ],
   "source": [
    "recargar(mando)"
   ]
  },
  {
   "cell_type": "code",
   "execution_count": 10,
   "metadata": {},
   "outputs": [
    {
     "data": {
      "text/plain": [
       "{'color': 'blanco',\n",
       " 'dimensiones': [10, 5, 2],\n",
       " 'inalambrico': True,\n",
       " 'recargable': True,\n",
       " 'botones': ['POWER', 'UP', 'DOWN'],\n",
       " 'baterias': [{'tipo': 'AAA', 'carga': 100}, {'tipo': 'AAA', 'carga': 100}]}"
      ]
     },
     "execution_count": 10,
     "metadata": {},
     "output_type": "execute_result"
    }
   ],
   "source": [
    "mando"
   ]
  },
  {
   "cell_type": "code",
   "execution_count": 11,
   "metadata": {},
   "outputs": [
    {
     "data": {
      "text/plain": [
       "dict"
      ]
     },
     "execution_count": 11,
     "metadata": {},
     "output_type": "execute_result"
    }
   ],
   "source": [
    "type(mando)"
   ]
  },
  {
   "cell_type": "code",
   "execution_count": 12,
   "metadata": {},
   "outputs": [
    {
     "data": {
      "text/plain": [
       "True"
      ]
     },
     "execution_count": 12,
     "metadata": {},
     "output_type": "execute_result"
    }
   ],
   "source": [
    "funciona(mando)"
   ]
  },
  {
   "cell_type": "code",
   "execution_count": 13,
   "metadata": {},
   "outputs": [
    {
     "data": {
      "text/plain": [
       "True"
      ]
     },
     "execution_count": 13,
     "metadata": {},
     "output_type": "execute_result"
    }
   ],
   "source": [
    "encender(mando)"
   ]
  },
  {
   "cell_type": "code",
   "execution_count": 14,
   "metadata": {},
   "outputs": [],
   "source": [
    "# ahora como objeto (esto es el molde, la clase)\n",
    "\n",
    "\n",
    "class Mando:\n",
    "    \n",
    "    # metodo constructor, donde estan los atributos\n",
    "    def __init__(self, color, dimensiones, con_pilas=True):\n",
    "        \n",
    "        # atributos\n",
    "        self.color=color\n",
    "        self.dimensiones=dimensiones\n",
    "        \n",
    "        self.recargable=True\n",
    "        self.botones=['POWER', 'UP', 'DOWN']\n",
    "        self.inalambrico=True\n",
    "        \n",
    "        if con_pilas:\n",
    "            self.baterias=[{'tipo': 'AAA', 'carga': 40}, \n",
    "                           {'tipo': 'AAA', 'carga': 60}]\n",
    "        else:\n",
    "            self.baterias=[]\n",
    "            \n",
    "    def funciona(self):\n",
    "    \n",
    "        if len(self.baterias)!=2: return False\n",
    "\n",
    "        for b in self.baterias:\n",
    "            if b['carga']==0:\n",
    "                return False\n",
    "\n",
    "        return True     \n",
    "    \n",
    "    \n",
    "    def recargar(self):\n",
    "    \n",
    "        if self.recargable:\n",
    "            for b in self.baterias:\n",
    "                b['carga']=100       # sobreescribo  el dato\n",
    "\n",
    "    \n",
    "    def encender(self):\n",
    "    \n",
    "        if self.funciona():\n",
    "            for btn in self.botones:\n",
    "                if btn=='POWER':\n",
    "                    return True\n",
    "        return False\n",
    "    \n",
    "    \n",
    "    def pon_pila(self, carga=0):\n",
    "        self.baterias.append({'tipo':'AAA', 'carga': carga})\n",
    "        \n",
    "        "
   ]
  },
  {
   "cell_type": "code",
   "execution_count": 15,
   "metadata": {},
   "outputs": [
    {
     "name": "stdout",
     "output_type": "stream",
     "text": [
      "Help on class Mando in module __main__:\n",
      "\n",
      "class Mando(builtins.object)\n",
      " |  Mando(color, dimensiones, con_pilas=True)\n",
      " |  \n",
      " |  Methods defined here:\n",
      " |  \n",
      " |  __init__(self, color, dimensiones, con_pilas=True)\n",
      " |      Initialize self.  See help(type(self)) for accurate signature.\n",
      " |  \n",
      " |  encender(self)\n",
      " |  \n",
      " |  funciona(self)\n",
      " |  \n",
      " |  pon_pila(self, carga=0)\n",
      " |  \n",
      " |  recargar(self)\n",
      " |  \n",
      " |  ----------------------------------------------------------------------\n",
      " |  Data descriptors defined here:\n",
      " |  \n",
      " |  __dict__\n",
      " |      dictionary for instance variables (if defined)\n",
      " |  \n",
      " |  __weakref__\n",
      " |      list of weak references to the object (if defined)\n",
      "\n"
     ]
    }
   ],
   "source": [
    "help(Mando)"
   ]
  },
  {
   "cell_type": "code",
   "execution_count": 16,
   "metadata": {},
   "outputs": [
    {
     "name": "stdout",
     "output_type": "stream",
     "text": [
      "<__main__.Mando object at 0x105c152e0>\n"
     ]
    }
   ],
   "source": [
    "m1=Mando('blanco', [10, 5, 2])   # aqui los args del meto constructor\n",
    "\n",
    "print(m1)"
   ]
  },
  {
   "cell_type": "code",
   "execution_count": 17,
   "metadata": {},
   "outputs": [
    {
     "data": {
      "text/plain": [
       "__main__.Mando"
      ]
     },
     "execution_count": 17,
     "metadata": {},
     "output_type": "execute_result"
    }
   ],
   "source": [
    "type(m1)"
   ]
  },
  {
   "cell_type": "code",
   "execution_count": 18,
   "metadata": {},
   "outputs": [
    {
     "data": {
      "text/plain": [
       "'blanco'"
      ]
     },
     "execution_count": 18,
     "metadata": {},
     "output_type": "execute_result"
    }
   ],
   "source": [
    "# acceso a los atributos\n",
    "\n",
    "m1.color"
   ]
  },
  {
   "cell_type": "code",
   "execution_count": 19,
   "metadata": {},
   "outputs": [
    {
     "data": {
      "text/plain": [
       "[10, 5, 2]"
      ]
     },
     "execution_count": 19,
     "metadata": {},
     "output_type": "execute_result"
    }
   ],
   "source": [
    "m1.dimensiones"
   ]
  },
  {
   "cell_type": "code",
   "execution_count": 20,
   "metadata": {},
   "outputs": [
    {
     "data": {
      "text/plain": [
       "['POWER', 'UP', 'DOWN']"
      ]
     },
     "execution_count": 20,
     "metadata": {},
     "output_type": "execute_result"
    }
   ],
   "source": [
    "m1.botones"
   ]
  },
  {
   "cell_type": "code",
   "execution_count": 21,
   "metadata": {},
   "outputs": [],
   "source": [
    "m1.botones = ['a', 'v', 'p', 'o', 'y']"
   ]
  },
  {
   "cell_type": "code",
   "execution_count": 22,
   "metadata": {},
   "outputs": [
    {
     "data": {
      "text/plain": [
       "['a', 'v', 'p', 'o', 'y']"
      ]
     },
     "execution_count": 22,
     "metadata": {},
     "output_type": "execute_result"
    }
   ],
   "source": [
    "m1.botones"
   ]
  },
  {
   "cell_type": "code",
   "execution_count": 23,
   "metadata": {},
   "outputs": [],
   "source": [
    "m2=Mando('negro', [30, 8, 5])"
   ]
  },
  {
   "cell_type": "code",
   "execution_count": 24,
   "metadata": {},
   "outputs": [
    {
     "data": {
      "text/plain": [
       "'negro'"
      ]
     },
     "execution_count": 24,
     "metadata": {},
     "output_type": "execute_result"
    }
   ],
   "source": [
    "m2.color"
   ]
  },
  {
   "cell_type": "code",
   "execution_count": 25,
   "metadata": {},
   "outputs": [
    {
     "data": {
      "text/plain": [
       "True"
      ]
     },
     "execution_count": 25,
     "metadata": {},
     "output_type": "execute_result"
    }
   ],
   "source": [
    "m1.funciona()"
   ]
  },
  {
   "cell_type": "code",
   "execution_count": 26,
   "metadata": {},
   "outputs": [
    {
     "data": {
      "text/plain": [
       "[{'tipo': 'AAA', 'carga': 40}, {'tipo': 'AAA', 'carga': 60}]"
      ]
     },
     "execution_count": 26,
     "metadata": {},
     "output_type": "execute_result"
    }
   ],
   "source": [
    "m1.baterias"
   ]
  },
  {
   "cell_type": "code",
   "execution_count": 27,
   "metadata": {},
   "outputs": [],
   "source": [
    "m1.recargar()"
   ]
  },
  {
   "cell_type": "code",
   "execution_count": 28,
   "metadata": {},
   "outputs": [
    {
     "data": {
      "text/plain": [
       "[{'tipo': 'AAA', 'carga': 100}, {'tipo': 'AAA', 'carga': 100}]"
      ]
     },
     "execution_count": 28,
     "metadata": {},
     "output_type": "execute_result"
    }
   ],
   "source": [
    "m1.baterias"
   ]
  },
  {
   "cell_type": "code",
   "execution_count": 29,
   "metadata": {},
   "outputs": [],
   "source": [
    "m3=Mando('rojo', [5, 3, 2], con_pilas=False)"
   ]
  },
  {
   "cell_type": "code",
   "execution_count": 30,
   "metadata": {},
   "outputs": [
    {
     "data": {
      "text/plain": [
       "[]"
      ]
     },
     "execution_count": 30,
     "metadata": {},
     "output_type": "execute_result"
    }
   ],
   "source": [
    "m3.baterias"
   ]
  },
  {
   "cell_type": "code",
   "execution_count": 31,
   "metadata": {},
   "outputs": [
    {
     "data": {
      "text/plain": [
       "[{'tipo': 'AAA', 'carga': 100}]"
      ]
     },
     "execution_count": 31,
     "metadata": {},
     "output_type": "execute_result"
    }
   ],
   "source": [
    "m3.pon_pila(carga=100)\n",
    "\n",
    "m3.baterias"
   ]
  },
  {
   "cell_type": "code",
   "execution_count": 32,
   "metadata": {},
   "outputs": [
    {
     "data": {
      "text/plain": [
       "[{'tipo': 'AAA', 'carga': 100}, {'tipo': 'AAA', 'carga': 50}]"
      ]
     },
     "execution_count": 32,
     "metadata": {},
     "output_type": "execute_result"
    }
   ],
   "source": [
    "m3.pon_pila(50)\n",
    "\n",
    "m3.baterias"
   ]
  },
  {
   "cell_type": "code",
   "execution_count": 33,
   "metadata": {},
   "outputs": [
    {
     "data": {
      "text/plain": [
       "[{'tipo': 'AAA', 'carga': 100}, {'tipo': 'AAA', 'carga': 100}]"
      ]
     },
     "execution_count": 33,
     "metadata": {},
     "output_type": "execute_result"
    }
   ],
   "source": [
    "m3.recargar()\n",
    "\n",
    "m3.baterias"
   ]
  },
  {
   "cell_type": "markdown",
   "metadata": {},
   "source": [
    "### Herencia (Inheritance)\n",
    "\n",
    "Imaginemos que dos clases diferentes comparten algunas características."
   ]
  },
  {
   "cell_type": "code",
   "execution_count": 34,
   "metadata": {},
   "outputs": [],
   "source": [
    "class Animal:    # clase madre/padre\n",
    "    \n",
    "    def __init__(self, nombre='', sonido=''):\n",
    "        \n",
    "        self.nombre=nombre\n",
    "        self.sonido=sonido\n",
    "        \n",
    "    def decir_nombre(self):\n",
    "        print(f'Mi nombre es {self.nombre}')"
   ]
  },
  {
   "cell_type": "code",
   "execution_count": 35,
   "metadata": {},
   "outputs": [],
   "source": [
    "class Perro(Animal):   # clase hija, () hereda\n",
    "    \n",
    "    def __init__(self, nombre='Inu', raza='akita'):\n",
    "        \n",
    "        Animal.__init__(self, nombre+'🐶', 'ladrar')\n",
    "        \n",
    "        self.raza=raza"
   ]
  },
  {
   "cell_type": "code",
   "execution_count": 36,
   "metadata": {},
   "outputs": [],
   "source": [
    "a1=Animal('Garfield 🦁')\n",
    "\n",
    "a2=Perro()\n",
    "\n",
    "a3=Perro('Bob', 'pastor aleman')"
   ]
  },
  {
   "cell_type": "code",
   "execution_count": 37,
   "metadata": {},
   "outputs": [
    {
     "name": "stdout",
     "output_type": "stream",
     "text": [
      "Mi nombre es Garfield 🦁\n"
     ]
    }
   ],
   "source": [
    "a1.decir_nombre()"
   ]
  },
  {
   "cell_type": "code",
   "execution_count": 38,
   "metadata": {},
   "outputs": [
    {
     "name": "stdout",
     "output_type": "stream",
     "text": [
      "Mi nombre es Inu🐶\n"
     ]
    }
   ],
   "source": [
    "a2.decir_nombre()"
   ]
  },
  {
   "cell_type": "code",
   "execution_count": 39,
   "metadata": {},
   "outputs": [
    {
     "name": "stdout",
     "output_type": "stream",
     "text": [
      "Mi nombre es Bob🐶\n"
     ]
    }
   ],
   "source": [
    "a3.decir_nombre()"
   ]
  },
  {
   "cell_type": "code",
   "execution_count": 40,
   "metadata": {},
   "outputs": [
    {
     "data": {
      "text/plain": [
       "'Garfield 🦁'"
      ]
     },
     "execution_count": 40,
     "metadata": {},
     "output_type": "execute_result"
    }
   ],
   "source": [
    "a1.nombre"
   ]
  },
  {
   "cell_type": "code",
   "execution_count": 41,
   "metadata": {},
   "outputs": [
    {
     "data": {
      "text/plain": [
       "'Inu🐶'"
      ]
     },
     "execution_count": 41,
     "metadata": {},
     "output_type": "execute_result"
    }
   ],
   "source": [
    "a2.nombre"
   ]
  },
  {
   "cell_type": "code",
   "execution_count": 42,
   "metadata": {},
   "outputs": [
    {
     "data": {
      "text/plain": [
       "'ladrar'"
      ]
     },
     "execution_count": 42,
     "metadata": {},
     "output_type": "execute_result"
    }
   ],
   "source": [
    "a3.sonido"
   ]
  },
  {
   "cell_type": "code",
   "execution_count": 43,
   "metadata": {},
   "outputs": [
    {
     "name": "stdout",
     "output_type": "stream",
     "text": [
      "Help on Perro in module __main__ object:\n",
      "\n",
      "class Perro(Animal)\n",
      " |  Perro(nombre='Inu', raza='akita')\n",
      " |  \n",
      " |  Method resolution order:\n",
      " |      Perro\n",
      " |      Animal\n",
      " |      builtins.object\n",
      " |  \n",
      " |  Methods defined here:\n",
      " |  \n",
      " |  __init__(self, nombre='Inu', raza='akita')\n",
      " |      Initialize self.  See help(type(self)) for accurate signature.\n",
      " |  \n",
      " |  ----------------------------------------------------------------------\n",
      " |  Methods inherited from Animal:\n",
      " |  \n",
      " |  decir_nombre(self)\n",
      " |  \n",
      " |  ----------------------------------------------------------------------\n",
      " |  Data descriptors inherited from Animal:\n",
      " |  \n",
      " |  __dict__\n",
      " |      dictionary for instance variables (if defined)\n",
      " |  \n",
      " |  __weakref__\n",
      " |      list of weak references to the object (if defined)\n",
      "\n"
     ]
    }
   ],
   "source": [
    "help(a3)"
   ]
  },
  {
   "cell_type": "code",
   "execution_count": 44,
   "metadata": {},
   "outputs": [],
   "source": [
    "a3.sonido='maulla'"
   ]
  },
  {
   "cell_type": "code",
   "execution_count": 45,
   "metadata": {},
   "outputs": [
    {
     "data": {
      "text/plain": [
       "'maulla'"
      ]
     },
     "execution_count": 45,
     "metadata": {},
     "output_type": "execute_result"
    }
   ],
   "source": [
    "a3.sonido"
   ]
  },
  {
   "cell_type": "code",
   "execution_count": 46,
   "metadata": {},
   "outputs": [],
   "source": [
    "class Pastor(Perro):\n",
    "    \n",
    "    def __init__(self, nombre='Rex', raza='pastor'):\n",
    "        \n",
    "        Perro.__init__(self, nombre, 'ladrar')\n",
    "        \n",
    "        self.raza=raza"
   ]
  },
  {
   "cell_type": "code",
   "execution_count": 47,
   "metadata": {},
   "outputs": [],
   "source": [
    "a4=Pastor()"
   ]
  },
  {
   "cell_type": "code",
   "execution_count": 48,
   "metadata": {},
   "outputs": [
    {
     "data": {
      "text/plain": [
       "'Rex🐶'"
      ]
     },
     "execution_count": 48,
     "metadata": {},
     "output_type": "execute_result"
    }
   ],
   "source": [
    "a4.nombre"
   ]
  },
  {
   "cell_type": "code",
   "execution_count": 49,
   "metadata": {},
   "outputs": [
    {
     "name": "stdout",
     "output_type": "stream",
     "text": [
      "Help on Pastor in module __main__ object:\n",
      "\n",
      "class Pastor(Perro)\n",
      " |  Pastor(nombre='Rex', raza='pastor')\n",
      " |  \n",
      " |  Method resolution order:\n",
      " |      Pastor\n",
      " |      Perro\n",
      " |      Animal\n",
      " |      builtins.object\n",
      " |  \n",
      " |  Methods defined here:\n",
      " |  \n",
      " |  __init__(self, nombre='Rex', raza='pastor')\n",
      " |      Initialize self.  See help(type(self)) for accurate signature.\n",
      " |  \n",
      " |  ----------------------------------------------------------------------\n",
      " |  Methods inherited from Animal:\n",
      " |  \n",
      " |  decir_nombre(self)\n",
      " |  \n",
      " |  ----------------------------------------------------------------------\n",
      " |  Data descriptors inherited from Animal:\n",
      " |  \n",
      " |  __dict__\n",
      " |      dictionary for instance variables (if defined)\n",
      " |  \n",
      " |  __weakref__\n",
      " |      list of weak references to the object (if defined)\n",
      "\n"
     ]
    }
   ],
   "source": [
    "help(a4)"
   ]
  },
  {
   "cell_type": "markdown",
   "metadata": {},
   "source": [
    "## Métodos dunder\n",
    "#### métodos  __especiales__  \n",
    "\n",
    "- Se les llama `dunders` por la doble barra que tienen(double underscores) \n",
    "- También se les llama método mágicos (magic methods)\n",
    "- Conecta funciones con comportamientos y operadores externos\n",
    "\n",
    "Una pequeña lista:\n",
    "\n",
    "- `__repr__` : Representación oficial de una string (cuando se imprime el objeto)\n",
    "- `__str__` : Conversion a string y print\n",
    "- `__len__` : Cuando se pasa `len` a un iterable\n",
    "\n",
    "\n",
    "#### Operadores de comparación\n",
    "- `__eq__` : ==\n",
    "- `__ne__` : !=\n",
    "- `__lt__` : <\n",
    "- `__le__` : <=\n",
    "- `__gt__` : >\n",
    "- `__ge__` : >=\n",
    "\n",
    "\n",
    "#### Operadores\n",
    "- `__add__` : +\n",
    "- `__mul__` : *\n",
    "- `__truediv__` : /\n",
    "- `__sub__` : - \n",
    "\n",
    "**Más [información](https://docs.python.org/3/library/operator.html).**"
   ]
  },
  {
   "cell_type": "code",
   "execution_count": 50,
   "metadata": {},
   "outputs": [],
   "source": [
    "class Cat:\n",
    "    \n",
    "    def __eq__(self, x):\n",
    "        return True"
   ]
  },
  {
   "cell_type": "code",
   "execution_count": 51,
   "metadata": {},
   "outputs": [],
   "source": [
    "gato=Cat()"
   ]
  },
  {
   "cell_type": "code",
   "execution_count": 52,
   "metadata": {},
   "outputs": [
    {
     "name": "stdout",
     "output_type": "stream",
     "text": [
      "Help on Cat in module __main__ object:\n",
      "\n",
      "class Cat(builtins.object)\n",
      " |  Methods defined here:\n",
      " |  \n",
      " |  __eq__(self, x)\n",
      " |      Return self==value.\n",
      " |  \n",
      " |  ----------------------------------------------------------------------\n",
      " |  Data descriptors defined here:\n",
      " |  \n",
      " |  __dict__\n",
      " |      dictionary for instance variables (if defined)\n",
      " |  \n",
      " |  __weakref__\n",
      " |      list of weak references to the object (if defined)\n",
      " |  \n",
      " |  ----------------------------------------------------------------------\n",
      " |  Data and other attributes defined here:\n",
      " |  \n",
      " |  __hash__ = None\n",
      "\n"
     ]
    }
   ],
   "source": [
    "help(gato)"
   ]
  },
  {
   "cell_type": "code",
   "execution_count": 53,
   "metadata": {},
   "outputs": [
    {
     "data": {
      "text/plain": [
       "True"
      ]
     },
     "execution_count": 53,
     "metadata": {},
     "output_type": "execute_result"
    }
   ],
   "source": [
    "gato==True"
   ]
  },
  {
   "cell_type": "code",
   "execution_count": 54,
   "metadata": {},
   "outputs": [
    {
     "data": {
      "text/plain": [
       "True"
      ]
     },
     "execution_count": 54,
     "metadata": {},
     "output_type": "execute_result"
    }
   ],
   "source": [
    "gato==False"
   ]
  },
  {
   "cell_type": "code",
   "execution_count": 55,
   "metadata": {},
   "outputs": [
    {
     "data": {
      "text/plain": [
       "True"
      ]
     },
     "execution_count": 55,
     "metadata": {},
     "output_type": "execute_result"
    }
   ],
   "source": [
    "gato==9"
   ]
  },
  {
   "cell_type": "code",
   "execution_count": 56,
   "metadata": {},
   "outputs": [
    {
     "data": {
      "text/plain": [
       "True"
      ]
     },
     "execution_count": 56,
     "metadata": {},
     "output_type": "execute_result"
    }
   ],
   "source": [
    "gato=='gato'"
   ]
  },
  {
   "cell_type": "code",
   "execution_count": 57,
   "metadata": {},
   "outputs": [
    {
     "data": {
      "text/plain": [
       "False"
      ]
     },
     "execution_count": 57,
     "metadata": {},
     "output_type": "execute_result"
    }
   ],
   "source": [
    "2==7"
   ]
  },
  {
   "cell_type": "code",
   "execution_count": 58,
   "metadata": {},
   "outputs": [
    {
     "data": {
      "text/plain": [
       "True"
      ]
     },
     "execution_count": 58,
     "metadata": {},
     "output_type": "execute_result"
    }
   ],
   "source": [
    "gato.__eq__('hola')"
   ]
  },
  {
   "cell_type": "code",
   "execution_count": 59,
   "metadata": {},
   "outputs": [],
   "source": [
    "#print=9"
   ]
  },
  {
   "cell_type": "code",
   "execution_count": 60,
   "metadata": {},
   "outputs": [],
   "source": [
    "#print"
   ]
  },
  {
   "cell_type": "code",
   "execution_count": 61,
   "metadata": {},
   "outputs": [
    {
     "ename": "SyntaxError",
     "evalue": "invalid syntax (60159017.py, line 1)",
     "output_type": "error",
     "traceback": [
      "\u001b[0;36m  Cell \u001b[0;32mIn[61], line 1\u001b[0;36m\u001b[0m\n\u001b[0;31m    lambda = 90\u001b[0m\n\u001b[0m           ^\u001b[0m\n\u001b[0;31mSyntaxError\u001b[0m\u001b[0;31m:\u001b[0m invalid syntax\n"
     ]
    }
   ],
   "source": [
    "lambda = 90"
   ]
  },
  {
   "cell_type": "code",
   "execution_count": 62,
   "metadata": {},
   "outputs": [
    {
     "ename": "SyntaxError",
     "evalue": "invalid syntax (3724669921.py, line 1)",
     "output_type": "error",
     "traceback": [
      "\u001b[0;36m  Cell \u001b[0;32mIn[62], line 1\u001b[0;36m\u001b[0m\n\u001b[0;31m    def = 90\u001b[0m\n\u001b[0m        ^\u001b[0m\n\u001b[0;31mSyntaxError\u001b[0m\u001b[0;31m:\u001b[0m invalid syntax\n"
     ]
    }
   ],
   "source": [
    "def = 90"
   ]
  },
  {
   "cell_type": "markdown",
   "metadata": {},
   "source": [
    "**Otro ejemplo**"
   ]
  },
  {
   "cell_type": "code",
   "execution_count": 63,
   "metadata": {},
   "outputs": [],
   "source": [
    "class Usuario:\n",
    "    \n",
    "    def __init__(self, nombre, password, edad):\n",
    "        \n",
    "        self.nombre=nombre\n",
    "        self.password=password\n",
    "        self.edad=edad\n",
    "        \n",
    "    def __eq__(self, otro_usuario):\n",
    "        # igualdad\n",
    "        return self.nombre==otro_usuario.nombre and self.password==otro_usuario.password\n",
    "    \n",
    "    def __lt__(self, otro_usuario):\n",
    "        # menor que..\n",
    "        return self.edad < otro_usuario.edad\n",
    "    \n",
    "    def __gt__(self, otro_usuario):\n",
    "        # mayor que..\n",
    "        return self.edad > otro_usuario.edad\n",
    "    \n",
    "    def __str__(self):\n",
    "        # lo que sale en el print del objeto\n",
    "        return f'Nombre: {self.nombre}. Edad: {self.edad}'"
   ]
  },
  {
   "cell_type": "code",
   "execution_count": 64,
   "metadata": {},
   "outputs": [],
   "source": [
    "usuario_1=Usuario('Pepe', '1234', 30)\n",
    "\n",
    "usuario_2=Usuario('Juana', '1234', 24)\n",
    "\n",
    "usuario_3=Usuario('Pepe', '1234', 30)"
   ]
  },
  {
   "cell_type": "code",
   "execution_count": 65,
   "metadata": {},
   "outputs": [
    {
     "data": {
      "text/plain": [
       "False"
      ]
     },
     "execution_count": 65,
     "metadata": {},
     "output_type": "execute_result"
    }
   ],
   "source": [
    "usuario_1 == usuario_2"
   ]
  },
  {
   "cell_type": "code",
   "execution_count": 66,
   "metadata": {},
   "outputs": [
    {
     "data": {
      "text/plain": [
       "True"
      ]
     },
     "execution_count": 66,
     "metadata": {},
     "output_type": "execute_result"
    }
   ],
   "source": [
    "usuario_1 > usuario_2"
   ]
  },
  {
   "cell_type": "code",
   "execution_count": 67,
   "metadata": {},
   "outputs": [
    {
     "data": {
      "text/plain": [
       "False"
      ]
     },
     "execution_count": 67,
     "metadata": {},
     "output_type": "execute_result"
    }
   ],
   "source": [
    "usuario_1 < usuario_2"
   ]
  },
  {
   "cell_type": "code",
   "execution_count": 68,
   "metadata": {},
   "outputs": [
    {
     "data": {
      "text/plain": [
       "True"
      ]
     },
     "execution_count": 68,
     "metadata": {},
     "output_type": "execute_result"
    }
   ],
   "source": [
    "usuario_1 == usuario_3"
   ]
  },
  {
   "cell_type": "code",
   "execution_count": 69,
   "metadata": {},
   "outputs": [
    {
     "data": {
      "text/plain": [
       "<__main__.Usuario at 0x1057d56a0>"
      ]
     },
     "execution_count": 69,
     "metadata": {},
     "output_type": "execute_result"
    }
   ],
   "source": [
    "usuario_1"
   ]
  },
  {
   "cell_type": "code",
   "execution_count": 70,
   "metadata": {},
   "outputs": [
    {
     "name": "stdout",
     "output_type": "stream",
     "text": [
      "Nombre: Pepe. Edad: 30\n"
     ]
    }
   ],
   "source": [
    "print(usuario_1)"
   ]
  },
  {
   "cell_type": "code",
   "execution_count": null,
   "metadata": {},
   "outputs": [],
   "source": []
  },
  {
   "cell_type": "code",
   "execution_count": null,
   "metadata": {},
   "outputs": [],
   "source": []
  }
 ],
 "metadata": {
  "finalized": {
   "timestamp": 1654248923945,
   "trusted": true
  },
  "kernelspec": {
   "display_name": "clase",
   "language": "python",
   "name": "clase"
  },
  "language_info": {
   "codemirror_mode": {
    "name": "ipython",
    "version": 3
   },
   "file_extension": ".py",
   "mimetype": "text/x-python",
   "name": "python",
   "nbconvert_exporter": "python",
   "pygments_lexer": "ipython3",
   "version": "3.9.12"
  },
  "varInspector": {
   "cols": {
    "lenName": 16,
    "lenType": 16,
    "lenVar": 40
   },
   "kernels_config": {
    "python": {
     "delete_cmd_postfix": "",
     "delete_cmd_prefix": "del ",
     "library": "var_list.py",
     "varRefreshCmd": "print(var_dic_list())"
    },
    "r": {
     "delete_cmd_postfix": ") ",
     "delete_cmd_prefix": "rm(",
     "library": "var_list.r",
     "varRefreshCmd": "cat(var_dic_list()) "
    }
   },
   "types_to_exclude": [
    "module",
    "function",
    "builtin_function_or_method",
    "instance",
    "_Feature"
   ],
   "window_display": false
  }
 },
 "nbformat": 4,
 "nbformat_minor": 4
}
