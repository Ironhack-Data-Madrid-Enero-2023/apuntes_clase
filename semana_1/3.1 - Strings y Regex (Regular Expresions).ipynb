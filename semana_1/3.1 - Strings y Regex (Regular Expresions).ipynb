{
 "cells": [
  {
   "cell_type": "markdown",
   "metadata": {},
   "source": [
    "# 3.1 - Strings y Regex (Regular Expresions)"
   ]
  },
  {
   "cell_type": "markdown",
   "metadata": {},
   "source": [
    "### Métodos de strings\n",
    "\n",
    "![strings](images/strings.jpg)"
   ]
  },
  {
   "cell_type": "code",
   "execution_count": 1,
   "metadata": {},
   "outputs": [
    {
     "data": {
      "text/plain": [
       "['hola', 'estamos', 'en', 'clase', 'de', 'data.', 'hasta', 'luego']"
      ]
     },
     "execution_count": 1,
     "metadata": {},
     "output_type": "execute_result"
    }
   ],
   "source": [
    "lst=['hola', 'estamos', 'en', 'clase', 'de', 'data.', 'hasta', 'luego']\n",
    "\n",
    "lst"
   ]
  },
  {
   "cell_type": "code",
   "execution_count": 3,
   "metadata": {},
   "outputs": [
    {
     "data": {
      "text/plain": [
       "'hola🦾estamos🦾en🦾clase🦾de🦾data.🦾hasta🦾luego'"
      ]
     },
     "execution_count": 3,
     "metadata": {},
     "output_type": "execute_result"
    }
   ],
   "source": [
    "'🦾'.join(lst)"
   ]
  },
  {
   "cell_type": "code",
   "execution_count": 4,
   "metadata": {},
   "outputs": [
    {
     "data": {
      "text/plain": [
       "'hola+estamos+en+clase+de+data.+hasta+luego'"
      ]
     },
     "execution_count": 4,
     "metadata": {},
     "output_type": "execute_result"
    }
   ],
   "source": [
    "'+'.join(lst)"
   ]
  },
  {
   "cell_type": "code",
   "execution_count": 6,
   "metadata": {},
   "outputs": [
    {
     "data": {
      "text/plain": [
       "'hola estamos en clase de data. hasta luego'"
      ]
     },
     "execution_count": 6,
     "metadata": {},
     "output_type": "execute_result"
    }
   ],
   "source": [
    "texto=' '.join(lst)\n",
    "\n",
    "texto"
   ]
  },
  {
   "cell_type": "code",
   "execution_count": 8,
   "metadata": {},
   "outputs": [
    {
     "data": {
      "text/plain": [
       "['hola', 'estamos', 'en', 'clase', 'de', 'data.', 'hasta', 'luego']"
      ]
     },
     "execution_count": 8,
     "metadata": {},
     "output_type": "execute_result"
    }
   ],
   "source": [
    "texto.split()"
   ]
  },
  {
   "cell_type": "code",
   "execution_count": 10,
   "metadata": {},
   "outputs": [
    {
     "data": {
      "text/plain": [
       "['h', 'la estam', 's en clase de data. hasta lueg', '']"
      ]
     },
     "execution_count": 10,
     "metadata": {},
     "output_type": "execute_result"
    }
   ],
   "source": [
    "texto.split('o')"
   ]
  },
  {
   "cell_type": "code",
   "execution_count": 12,
   "metadata": {},
   "outputs": [
    {
     "data": {
      "text/plain": [
       "'a'"
      ]
     },
     "execution_count": 12,
     "metadata": {},
     "output_type": "execute_result"
    }
   ],
   "source": [
    "texto[3]"
   ]
  },
  {
   "cell_type": "code",
   "execution_count": 13,
   "metadata": {},
   "outputs": [
    {
     "data": {
      "text/plain": [
       "42"
      ]
     },
     "execution_count": 13,
     "metadata": {},
     "output_type": "execute_result"
    }
   ],
   "source": [
    "len(texto)"
   ]
  },
  {
   "cell_type": "code",
   "execution_count": 15,
   "metadata": {},
   "outputs": [
    {
     "data": {
      "text/plain": [
       "'leasnleea.a'"
      ]
     },
     "execution_count": 15,
     "metadata": {},
     "output_type": "execute_result"
    }
   ],
   "source": [
    "texto[2:35:3]   # slicing"
   ]
  },
  {
   "cell_type": "code",
   "execution_count": 16,
   "metadata": {},
   "outputs": [
    {
     "data": {
      "text/plain": [
       "'ogeul atsah .atad ed esalc ne somatse aloh'"
      ]
     },
     "execution_count": 16,
     "metadata": {},
     "output_type": "execute_result"
    }
   ],
   "source": [
    "texto[::-1]"
   ]
  },
  {
   "cell_type": "code",
   "execution_count": 17,
   "metadata": {},
   "outputs": [
    {
     "ename": "TypeError",
     "evalue": "'str' object does not support item assignment",
     "output_type": "error",
     "traceback": [
      "\u001b[0;31m---------------------------------------------------------------------------\u001b[0m",
      "\u001b[0;31mTypeError\u001b[0m                                 Traceback (most recent call last)",
      "Cell \u001b[0;32mIn[17], line 1\u001b[0m\n\u001b[0;32m----> 1\u001b[0m \u001b[43mtexto\u001b[49m\u001b[43m[\u001b[49m\u001b[38;5;241;43m0\u001b[39;49m\u001b[43m]\u001b[49m\u001b[38;5;241m=\u001b[39m\u001b[38;5;124m'\u001b[39m\u001b[38;5;124mH\u001b[39m\u001b[38;5;124m'\u001b[39m\n\u001b[1;32m      3\u001b[0m texto\n",
      "\u001b[0;31mTypeError\u001b[0m: 'str' object does not support item assignment"
     ]
    }
   ],
   "source": [
    "texto[0]='H'\n",
    "\n",
    "texto"
   ]
  },
  {
   "cell_type": "code",
   "execution_count": 31,
   "metadata": {},
   "outputs": [],
   "source": [
    "#help(str)"
   ]
  },
  {
   "cell_type": "code",
   "execution_count": 19,
   "metadata": {},
   "outputs": [
    {
     "data": {
      "text/plain": [
       "'Hola estamos en clase de data. hasta luego'"
      ]
     },
     "execution_count": 19,
     "metadata": {},
     "output_type": "execute_result"
    }
   ],
   "source": [
    "texto.capitalize()   # la primera en mayuscula"
   ]
  },
  {
   "cell_type": "code",
   "execution_count": 20,
   "metadata": {},
   "outputs": [
    {
     "data": {
      "text/plain": [
       "True"
      ]
     },
     "execution_count": 20,
     "metadata": {},
     "output_type": "execute_result"
    }
   ],
   "source": [
    "texto.endswith('go')"
   ]
  },
  {
   "cell_type": "code",
   "execution_count": 21,
   "metadata": {},
   "outputs": [
    {
     "data": {
      "text/plain": [
       "False"
      ]
     },
     "execution_count": 21,
     "metadata": {},
     "output_type": "execute_result"
    }
   ],
   "source": [
    "texto.startswith('go')"
   ]
  },
  {
   "cell_type": "code",
   "execution_count": 26,
   "metadata": {},
   "outputs": [
    {
     "data": {
      "text/plain": [
       "False"
      ]
     },
     "execution_count": 26,
     "metadata": {},
     "output_type": "execute_result"
    }
   ],
   "source": [
    "'45.90'.isdecimal()"
   ]
  },
  {
   "cell_type": "code",
   "execution_count": 28,
   "metadata": {},
   "outputs": [
    {
     "data": {
      "text/plain": [
       "'HOLA ESTAMOS EN CLASE DE DATA. HASTA LUEGO'"
      ]
     },
     "execution_count": 28,
     "metadata": {},
     "output_type": "execute_result"
    }
   ],
   "source": [
    "texto.upper()"
   ]
  },
  {
   "cell_type": "code",
   "execution_count": 30,
   "metadata": {
    "scrolled": false
   },
   "outputs": [
    {
     "data": {
      "text/plain": [
       "'hola estamos en clase de data. hasta luego'"
      ]
     },
     "execution_count": 30,
     "metadata": {},
     "output_type": "execute_result"
    }
   ],
   "source": [
    "texto.upper().lower()"
   ]
  },
  {
   "cell_type": "code",
   "execution_count": 32,
   "metadata": {},
   "outputs": [
    {
     "data": {
      "text/plain": [
       "'       espacios a saco, a cuchillo....😄          '"
      ]
     },
     "execution_count": 32,
     "metadata": {},
     "output_type": "execute_result"
    }
   ],
   "source": [
    "txt = '       espacios a saco, a cuchillo....😄          '\n",
    "\n",
    "\n",
    "txt"
   ]
  },
  {
   "cell_type": "code",
   "execution_count": 34,
   "metadata": {},
   "outputs": [
    {
     "data": {
      "text/plain": [
       "'cios a saco, a cuchillo....😄          '"
      ]
     },
     "execution_count": 34,
     "metadata": {},
     "output_type": "execute_result"
    }
   ],
   "source": [
    "txt.lstrip('       espa')   # quita por la izq"
   ]
  },
  {
   "cell_type": "code",
   "execution_count": 35,
   "metadata": {},
   "outputs": [
    {
     "data": {
      "text/plain": [
       "'       espacios a saco, a cuchillo....😄'"
      ]
     },
     "execution_count": 35,
     "metadata": {},
     "output_type": "execute_result"
    }
   ],
   "source": [
    "txt.rstrip()  # por la derecha"
   ]
  },
  {
   "cell_type": "code",
   "execution_count": 39,
   "metadata": {},
   "outputs": [
    {
     "data": {
      "text/plain": [
       "'espacios a saco, a cuchillo....😄          '"
      ]
     },
     "execution_count": 39,
     "metadata": {},
     "output_type": "execute_result"
    }
   ],
   "source": [
    "txt[7:]"
   ]
  },
  {
   "cell_type": "code",
   "execution_count": 40,
   "metadata": {},
   "outputs": [
    {
     "data": {
      "text/plain": [
       "'espacios a saco, a cuchillo....😄'"
      ]
     },
     "execution_count": 40,
     "metadata": {},
     "output_type": "execute_result"
    }
   ],
   "source": [
    "txt.strip()   # pñor defecto es el espacio"
   ]
  },
  {
   "cell_type": "code",
   "execution_count": 41,
   "metadata": {},
   "outputs": [
    {
     "data": {
      "text/plain": [
       "'espaciosasaco,acuchillo....😄'"
      ]
     },
     "execution_count": 41,
     "metadata": {},
     "output_type": "execute_result"
    }
   ],
   "source": [
    "txt.replace(' ', '')    # 1º lo que hay, 2º lo que quiero"
   ]
  },
  {
   "cell_type": "code",
   "execution_count": 44,
   "metadata": {},
   "outputs": [
    {
     "data": {
      "text/plain": [
       "'espaciosasaco,acuchillo....😄'"
      ]
     },
     "execution_count": 44,
     "metadata": {},
     "output_type": "execute_result"
    }
   ],
   "source": [
    "txt = txt.replace(' ', '')\n",
    "\n",
    "txt"
   ]
  },
  {
   "cell_type": "code",
   "execution_count": 42,
   "metadata": {},
   "outputs": [
    {
     "name": "stdout",
     "output_type": "stream",
     "text": [
      "8\n"
     ]
    }
   ],
   "source": [
    "'''\n",
    "\n",
    "es un comentario\n",
    "\n",
    "'''\n",
    "\n",
    "print(8)"
   ]
  },
  {
   "cell_type": "code",
   "execution_count": 45,
   "metadata": {},
   "outputs": [],
   "source": [
    "var = '''\n",
    "\n",
    "NO es un comentario\n",
    "\n",
    "'''"
   ]
  },
  {
   "cell_type": "code",
   "execution_count": 47,
   "metadata": {},
   "outputs": [
    {
     "data": {
      "text/plain": [
       "'NO es un comentario'"
      ]
     },
     "execution_count": 47,
     "metadata": {},
     "output_type": "execute_result"
    }
   ],
   "source": [
    "var.replace('\\n', '')"
   ]
  },
  {
   "cell_type": "code",
   "execution_count": 49,
   "metadata": {},
   "outputs": [
    {
     "data": {
      "text/plain": [
       "23"
      ]
     },
     "execution_count": 49,
     "metadata": {},
     "output_type": "execute_result"
    }
   ],
   "source": [
    "len(var)"
   ]
  },
  {
   "cell_type": "code",
   "execution_count": 51,
   "metadata": {},
   "outputs": [
    {
     "data": {
      "text/plain": [
       "42"
      ]
     },
     "execution_count": 51,
     "metadata": {},
     "output_type": "execute_result"
    }
   ],
   "source": [
    "len(texto)"
   ]
  },
  {
   "cell_type": "code",
   "execution_count": 58,
   "metadata": {},
   "outputs": [
    {
     "name": "stdout",
     "output_type": "stream",
     "text": [
      "La letra es \" h \" 4 89 32\n",
      "La letra es \" o \" 4 89 32\n",
      "La letra es \" l \" 4 89 32\n",
      "La letra es \" a \" 4 89 32\n",
      "La letra es \"   \" 4 89 32\n",
      "La letra es \" e \" 4 89 32\n",
      "La letra es \" s \" 4 89 32\n",
      "La letra es \" t \" 4 89 32\n",
      "La letra es \" a \" 4 89 32\n",
      "La letra es \" m \" 4 89 32\n",
      "La letra es \" o \" 4 89 32\n",
      "La letra es \" s \" 4 89 32\n",
      "La letra es \"   \" 4 89 32\n",
      "La letra es \" e \" 4 89 32\n",
      "La letra es \" n \" 4 89 32\n",
      "La letra es \"   \" 4 89 32\n",
      "La letra es \" c \" 4 89 32\n",
      "La letra es \" l \" 4 89 32\n",
      "La letra es \" a \" 4 89 32\n",
      "La letra es \" s \" 4 89 32\n",
      "La letra es \" e \" 4 89 32\n",
      "La letra es \"   \" 4 89 32\n",
      "La letra es \" d \" 4 89 32\n",
      "La letra es \" e \" 4 89 32\n",
      "La letra es \"   \" 4 89 32\n",
      "La letra es \" d \" 4 89 32\n",
      "La letra es \" a \" 4 89 32\n",
      "La letra es \" t \" 4 89 32\n",
      "La letra es \" a \" 4 89 32\n",
      "La letra es \" . \" 4 89 32\n",
      "La letra es \"   \" 4 89 32\n",
      "La letra es \" h \" 4 89 32\n",
      "La letra es \" a \" 4 89 32\n",
      "La letra es \" s \" 4 89 32\n",
      "La letra es \" t \" 4 89 32\n",
      "La letra es \" a \" 4 89 32\n",
      "La letra es \"   \" 4 89 32\n",
      "La letra es \" l \" 4 89 32\n",
      "La letra es \" u \" 4 89 32\n",
      "La letra es \" e \" 4 89 32\n",
      "La letra es \" g \" 4 89 32\n",
      "La letra es \" o \" 4 89 32\n"
     ]
    }
   ],
   "source": [
    "for letra in texto:\n",
    "    #print(f'La letra es \"{letra}\"')\n",
    "    print('La letra es \"', letra, '\"', 4, 89, 32)"
   ]
  },
  {
   "cell_type": "code",
   "execution_count": 61,
   "metadata": {},
   "outputs": [],
   "source": [
    "var = '''\n",
    "\n",
    "+ Hola, que tal?.\n",
    "\n",
    "\n",
    "+ Bien, y tu?\n",
    "\n",
    "\n",
    "'''"
   ]
  },
  {
   "cell_type": "code",
   "execution_count": 63,
   "metadata": {},
   "outputs": [
    {
     "data": {
      "text/plain": [
       "['', '', '+ Hola, que tal?.', '', '', '+ Bien, y tu?', '', '', '']"
      ]
     },
     "execution_count": 63,
     "metadata": {},
     "output_type": "execute_result"
    }
   ],
   "source": [
    "var.split('\\n')"
   ]
  },
  {
   "cell_type": "code",
   "execution_count": 65,
   "metadata": {},
   "outputs": [
    {
     "data": {
      "text/plain": [
       "['+ Hola, que tal?.', '+ Bien, y tu?']"
      ]
     },
     "execution_count": 65,
     "metadata": {},
     "output_type": "execute_result"
    }
   ],
   "source": [
    "[e for e in var.split('\\n') if e!='']"
   ]
  },
  {
   "cell_type": "code",
   "execution_count": 66,
   "metadata": {},
   "outputs": [
    {
     "data": {
      "text/plain": [
       "True"
      ]
     },
     "execution_count": 66,
     "metadata": {},
     "output_type": "execute_result"
    }
   ],
   "source": [
    "'o' in texto"
   ]
  },
  {
   "cell_type": "code",
   "execution_count": 68,
   "metadata": {},
   "outputs": [
    {
     "name": "stdout",
     "output_type": "stream",
     "text": [
      "hasta luegui\n"
     ]
    }
   ],
   "source": [
    "if 'HOLA' in texto:\n",
    "    print('Como va?')\n",
    "    \n",
    "else:\n",
    "    print('hasta luegui')"
   ]
  },
  {
   "cell_type": "markdown",
   "metadata": {},
   "source": [
    "## Regex en python  🐍\n",
    "\n",
    "![regex](images/regex.jpg)"
   ]
  },
  {
   "cell_type": "markdown",
   "metadata": {},
   "source": [
    "**¿Qué es Regex?**\n",
    "\n",
    "https://regex101.com/\n",
    "\n",
    "Regex son cadenas de caracteres basadas en reglas sintácticas que permiten describir secuencias de caracteres. Así, forman parte de los lenguajes regulares, los cuales son un subgrupo de los lenguajes formales, de gran importancia para la tecnología de la información y, especialmente, para el desarrollo de software.\n",
    "\n",
    "Se buscan patrones en strings tales como:\n",
    "\n",
    "- emails\n",
    "- números de teléfono\n",
    "- números de tarjetas de crédito\n",
    "- IDs\n",
    "- fechas\n",
    "- cualquier tipo de dato que tenga un patrón definido"
   ]
  },
  {
   "cell_type": "markdown",
   "metadata": {},
   "source": [
    "Usaremos varios métodos con dos propósitos principales:\n",
    "\n",
    "- Para encontrar el patrón:\n",
    "    + search\n",
    "    + match\n",
    "    + findall\n",
    "\n",
    "\n",
    "- Para trabajar con patrones:\n",
    "    + sub\n",
    "    + split"
   ]
  },
  {
   "cell_type": "markdown",
   "metadata": {},
   "source": [
    "**Sintaxis básica de regex:**\n",
    "\n",
    "##### selección\n",
    "- `.`  : cualquier caracter excepto salto de línea\n",
    "- `\\d` : dígitos (0-9)\n",
    "- `\\D` : NO dígitos, cualquier cosa salvo un número\n",
    "- `\\w` : alfanumérico (a-z, A-Z, 0-9)\n",
    "- `\\W` : NO alfanumérico (., '¡)\n",
    "- `\\s` : espacio en blanco\n",
    "- `\\S` : cualquier cosa que NO sea un espacio en blanco\n",
    "\n",
    "##### según posición\n",
    "- `\\b` : límite de la string\n",
    "- `\\B` : NO limíte, dentro de la string\n",
    "- `^`  : principio de la string\n",
    "- `$`  : fin de la string\n",
    "\n",
    "##### según cantidad\n",
    "- `*`       : 0 o más\n",
    "- `+`       : 1 o más\n",
    "- `?`       : 0 o 1, haya o no haya\n",
    "- `{3}`     : exactamente 3, número exacto de caracteres\n",
    "- `{3,4}`   : rango de caracteres, {mínimo, máximo}\n",
    "\n",
    "##### corchetes y grupos\n",
    "- `[]`      : busca grupo de caracteres en el corchete\n",
    "- `[^ ]`    : busca grupo de caracteres que NO estén en el corchete\n",
    "- `|`       : o lógico (e.g: a|c significa el caracter a o el b)\n",
    "- `( )`     : grupo"
   ]
  },
  {
   "cell_type": "code",
   "execution_count": 69,
   "metadata": {},
   "outputs": [
    {
     "name": "stdout",
     "output_type": "stream",
     "text": [
      "\u001b[31m1.1 - Bash.ipynb\u001b[m\u001b[m\r\n",
      "\u001b[31m1.2 - Git.ipynb\u001b[m\u001b[m\r\n",
      "\u001b[31m1.3 - Entornos virtuales.ipynb\u001b[m\u001b[m\r\n",
      "\u001b[31m2.1 - Intro Python.ipynb\u001b[m\u001b[m\r\n",
      "\u001b[31m3.1 - Strings y Regex (Regular Expresions).ipynb\u001b[m\u001b[m\r\n",
      "\u001b[31m3.2 - Funciones, generadores.ipynb\u001b[m\u001b[m\r\n",
      "\u001b[1m\u001b[36mimages\u001b[m\u001b[m\r\n",
      "\u001b[1m\u001b[36msrc\u001b[m\u001b[m\r\n"
     ]
    }
   ],
   "source": [
    "!ls"
   ]
  },
  {
   "cell_type": "code",
   "execution_count": 70,
   "metadata": {},
   "outputs": [
    {
     "name": "stdout",
     "output_type": "stream",
     "text": [
      "Requirement already satisfied: regex in /opt/homebrew/Caskroom/miniconda/base/envs/clase/lib/python3.9/site-packages (2022.10.31)\n",
      "\u001b[33mWARNING: Error parsing requirements for pyarrow: [Errno 21] Is a directory: '/opt/homebrew/Caskroom/miniconda/base/envs/clase/lib/python3.9/site-packages/pyarrow-10.0.1.dist-info/METADATA'\u001b[0m\u001b[33m\n",
      "\u001b[0mNote: you may need to restart the kernel to use updated packages.\n"
     ]
    }
   ],
   "source": [
    "%pip install regex"
   ]
  },
  {
   "cell_type": "code",
   "execution_count": 71,
   "metadata": {},
   "outputs": [],
   "source": [
    "import re"
   ]
  },
  {
   "cell_type": "code",
   "execution_count": 72,
   "metadata": {},
   "outputs": [],
   "source": [
    "texto='''Hola     Ironhack, buscamos a nuestro nuevo    analista  12  345  0.987986  😎  \n",
    "    \n",
    "    lista de contactos: \n",
    "    \n",
    "    hola@gmail.com, yo_rod_aqui@ifgsttdb.es, ih@iron.ih, yo.r.a@gmail.com\n",
    "    \n",
    "    +34666123890, 1563-454-222\n",
    "    \n",
    "    ean : 0983458721346\n",
    "\n",
    "'''"
   ]
  },
  {
   "cell_type": "code",
   "execution_count": 73,
   "metadata": {},
   "outputs": [
    {
     "data": {
      "text/plain": [
       "'Hola     Ironhack, buscamos a nuestro nuevo    analista  12  345  0.987986  😎  \\n    \\n    lista de contactos: \\n    \\n    hola@gmail.com, yo_rod_aqui@ifgsttdb.es, ih@iron.ih, yo.r.a@gmail.com\\n    \\n    +34666123890, 1563-454-222\\n    \\n    ean : 0983458721346\\n\\n'"
      ]
     },
     "execution_count": 73,
     "metadata": {},
     "output_type": "execute_result"
    }
   ],
   "source": [
    "texto"
   ]
  },
  {
   "cell_type": "markdown",
   "metadata": {},
   "source": [
    "#### Métodos:\n",
    "\n",
    "**re.search()**: Busca a través de la string el patrón dado, cualquier parte de la string\n",
    "\n",
    "- **argumentos de entrada:** patrón (regex) + string\n",
    "- **devuelve:** un objeto (span=rango de índices dentro de la str, match=elemento)"
   ]
  },
  {
   "cell_type": "code",
   "execution_count": 74,
   "metadata": {},
   "outputs": [
    {
     "data": {
      "text/plain": [
       "<re.Match object; span=(57, 59), match='12'>"
      ]
     },
     "execution_count": 74,
     "metadata": {},
     "output_type": "execute_result"
    }
   ],
   "source": [
    "patron = '\\d+'    # numerico, 1 o mas caracteres\n",
    "\n",
    "re.search(patron, texto)"
   ]
  },
  {
   "cell_type": "code",
   "execution_count": 75,
   "metadata": {},
   "outputs": [
    {
     "data": {
      "text/plain": [
       "<re.Match object; span=(4, 9), match='     '>"
      ]
     },
     "execution_count": 75,
     "metadata": {},
     "output_type": "execute_result"
    }
   ],
   "source": [
    "patron = '\\W+'    # NO alfanumerico, 1 o mas caracteres\n",
    "\n",
    "re.search(patron, texto)"
   ]
  },
  {
   "cell_type": "markdown",
   "metadata": {},
   "source": [
    "**re.match():** Busca el patrón al inicio de la string\n",
    "\n",
    "- **argumentos de entrada:** patrón (regex) + string\n",
    "- **devuelve:** un objeto (span=rango de índices dentro de la str, match=elemento)"
   ]
  },
  {
   "cell_type": "code",
   "execution_count": 77,
   "metadata": {},
   "outputs": [
    {
     "data": {
      "text/plain": [
       "<re.Match object; span=(0, 4), match='Hola'>"
      ]
     },
     "execution_count": 77,
     "metadata": {},
     "output_type": "execute_result"
    }
   ],
   "source": [
    "re.match('\\w+', texto)"
   ]
  },
  {
   "cell_type": "code",
   "execution_count": 78,
   "metadata": {},
   "outputs": [
    {
     "name": "stdout",
     "output_type": "stream",
     "text": [
      "Correcto, dentro de string\n"
     ]
    }
   ],
   "source": [
    "if re.match('\\w+', texto):\n",
    "    \n",
    "    print('Correcto, dentro de string')\n",
    "    \n",
    "else:\n",
    "    print('El patron que buscas no esta aqui')"
   ]
  },
  {
   "cell_type": "markdown",
   "metadata": {},
   "source": [
    "**re.findall()**: Encuentra todas las coincidencias del patrón.\n",
    "\n",
    "- **argumentos de entrada:** patrón (regex) + string\n",
    "- **devuelve:** una lista de los elementos encontrados"
   ]
  },
  {
   "cell_type": "code",
   "execution_count": 79,
   "metadata": {},
   "outputs": [
    {
     "data": {
      "text/plain": [
       "'Hola     Ironhack, buscamos a nuestro nuevo    analista  12  345  0.987986  😎  \\n    \\n    lista de contactos: \\n    \\n    hola@gmail.com, yo_rod_aqui@ifgsttdb.es, ih@iron.ih, yo.r.a@gmail.com\\n    \\n    +34666123890, 1563-454-222\\n    \\n    ean : 0983458721346\\n\\n'"
      ]
     },
     "execution_count": 79,
     "metadata": {},
     "output_type": "execute_result"
    }
   ],
   "source": [
    "texto"
   ]
  },
  {
   "cell_type": "code",
   "execution_count": 87,
   "metadata": {},
   "outputs": [
    {
     "data": {
      "text/plain": [
       "['hola@gmail.com', 'yo_rod_aqui@ifgsttdb.es', 'ih@iron.ih', 'yo.r.a@gmail.com']"
      ]
     },
     "execution_count": 87,
     "metadata": {},
     "output_type": "execute_result"
    }
   ],
   "source": [
    "patron = r'[\\w\\.]+@\\w+\\.\\w+'\n",
    "\n",
    "re.findall(patron, texto)"
   ]
  },
  {
   "cell_type": "code",
   "execution_count": 88,
   "metadata": {},
   "outputs": [
    {
     "data": {
      "text/plain": [
       "['_', 'a', 'h', 'b', 'i', 'v', 'e', '6']"
      ]
     },
     "execution_count": 88,
     "metadata": {},
     "output_type": "execute_result"
    }
   ],
   "source": [
    "re.findall('\\w', '_ahbive6,    ...')"
   ]
  },
  {
   "cell_type": "markdown",
   "metadata": {},
   "source": [
    "**re.sub()**: Replaces one or many matches with a string\n",
    "\n",
    "- **argumentos de entrada:** patrón (regex) + cadena a modificar + string original\n",
    "- **devuelve:** una string modificada"
   ]
  },
  {
   "cell_type": "code",
   "execution_count": 89,
   "metadata": {},
   "outputs": [
    {
     "data": {
      "text/plain": [
       "'Hola     Ironhack, buscamos a nuestro nuevo    analista  12  345  0.987986  😎  \\n    \\n    lista de contactos: \\n    \\n    , , , \\n    \\n    +34666123890, 1563-454-222\\n    \\n    ean : 0983458721346\\n\\n'"
      ]
     },
     "execution_count": 89,
     "metadata": {},
     "output_type": "execute_result"
    }
   ],
   "source": [
    "re.sub(patron, '', texto)   # patron, lo que quiero, texto"
   ]
  },
  {
   "cell_type": "code",
   "execution_count": 90,
   "metadata": {},
   "outputs": [
    {
     "data": {
      "text/plain": [
       "'Hola     Ironhack, buscamos a nuestro nuevo    analista  12  345  0.987986  😎  \\n    \\n    lista de contactos: \\n    \\n    😻, 😻, 😻, 😻\\n    \\n    +34666123890, 1563-454-222\\n    \\n    ean : 0983458721346\\n\\n'"
      ]
     },
     "execution_count": 90,
     "metadata": {},
     "output_type": "execute_result"
    }
   ],
   "source": [
    "re.sub(patron, '😻', texto)"
   ]
  },
  {
   "cell_type": "code",
   "execution_count": 91,
   "metadata": {},
   "outputs": [
    {
     "data": {
      "text/plain": [
       "'Hola     Ironhack, buscamos a nuestro nuevo    analista  😻😻  😻😻😻  😻.😻😻😻😻😻😻  😎  \\n    \\n    lista de contactos: \\n    \\n    hola@gmail.com, yo_rod_aqui@ifgsttdb.es, ih@iron.ih, yo.r.a@gmail.com\\n    \\n    +😻😻😻😻😻😻😻😻😻😻😻, 😻😻😻😻-😻😻😻-😻😻😻\\n    \\n    ean : 😻😻😻😻😻😻😻😻😻😻😻😻😻\\n\\n'"
      ]
     },
     "execution_count": 91,
     "metadata": {},
     "output_type": "execute_result"
    }
   ],
   "source": [
    "re.sub('\\d', '😻', texto)"
   ]
  },
  {
   "cell_type": "code",
   "execution_count": 92,
   "metadata": {},
   "outputs": [
    {
     "data": {
      "text/plain": [
       "'Hola     Ironhack, buscamos a nuestro nuevo    analista  😻  😻  😻.😻  😎  \\n    \\n    lista de contactos: \\n    \\n    hola@gmail.com, yo_rod_aqui@ifgsttdb.es, ih@iron.ih, yo.r.a@gmail.com\\n    \\n    +😻, 😻-😻-😻\\n    \\n    ean : 😻\\n\\n'"
      ]
     },
     "execution_count": 92,
     "metadata": {},
     "output_type": "execute_result"
    }
   ],
   "source": [
    "re.sub('\\d+', '😻', texto)"
   ]
  },
  {
   "cell_type": "markdown",
   "metadata": {},
   "source": [
    "**re.split()**: Similar al split de las strings, corta la string por el patrón dado y devuelva una lista.\n",
    "\n",
    "- **argumentos de entrada:** patrón (regex) + string\n",
    "- **devuelve:** una lista"
   ]
  },
  {
   "cell_type": "code",
   "execution_count": 93,
   "metadata": {},
   "outputs": [
    {
     "data": {
      "text/plain": [
       "['Hola     Ironhack, buscamos a nuestro nuevo    analista  12  345  0.987986  😎  ',\n",
       " '    ',\n",
       " '    lista de contactos: ',\n",
       " '    ',\n",
       " '    hola@gmail.com, yo_rod_aqui@ifgsttdb.es, ih@iron.ih, yo.r.a@gmail.com',\n",
       " '    ',\n",
       " '    +34666123890, 1563-454-222',\n",
       " '    ',\n",
       " '    ean : 0983458721346',\n",
       " '',\n",
       " '']"
      ]
     },
     "execution_count": 93,
     "metadata": {},
     "output_type": "execute_result"
    }
   ],
   "source": [
    "re.split('\\n', texto)"
   ]
  },
  {
   "cell_type": "code",
   "execution_count": 94,
   "metadata": {},
   "outputs": [
    {
     "data": {
      "text/plain": [
       "['Hola     Ironhack, buscamos a nuestro nuevo    analista  ',\n",
       " '',\n",
       " '  ',\n",
       " '',\n",
       " '',\n",
       " '  ',\n",
       " '.',\n",
       " '',\n",
       " '',\n",
       " '',\n",
       " '',\n",
       " '',\n",
       " '  😎  \\n    \\n    lista de contactos: \\n    \\n    hola@gmail.com, yo_rod_aqui@ifgsttdb.es, ih@iron.ih, yo.r.a@gmail.com\\n    \\n    +',\n",
       " '',\n",
       " '',\n",
       " '',\n",
       " '',\n",
       " '',\n",
       " '',\n",
       " '',\n",
       " '',\n",
       " '',\n",
       " '',\n",
       " ', ',\n",
       " '',\n",
       " '',\n",
       " '',\n",
       " '-',\n",
       " '',\n",
       " '',\n",
       " '-',\n",
       " '',\n",
       " '',\n",
       " '\\n    \\n    ean : ',\n",
       " '',\n",
       " '',\n",
       " '',\n",
       " '',\n",
       " '',\n",
       " '',\n",
       " '',\n",
       " '',\n",
       " '',\n",
       " '',\n",
       " '',\n",
       " '',\n",
       " '\\n\\n']"
      ]
     },
     "execution_count": 94,
     "metadata": {},
     "output_type": "execute_result"
    }
   ],
   "source": [
    "re.split('\\d', texto)"
   ]
  },
  {
   "cell_type": "code",
   "execution_count": 95,
   "metadata": {},
   "outputs": [
    {
     "data": {
      "text/plain": [
       "['Hola     Ironhack, buscamos a nuestro nuevo    analista  12  345  0.987986  😎  \\n    \\n    lista de contactos: \\n    \\n    ',\n",
       " ', ',\n",
       " ', ',\n",
       " ', ',\n",
       " '\\n    \\n    +34666123890, 1563-454-222\\n    \\n    ean : 0983458721346\\n\\n']"
      ]
     },
     "execution_count": 95,
     "metadata": {},
     "output_type": "execute_result"
    }
   ],
   "source": [
    "re.split(r'[\\w\\.]+@\\w+\\.\\w+', texto)   # r significa raw"
   ]
  },
  {
   "cell_type": "markdown",
   "metadata": {},
   "source": [
    "#### Hasta aquí:\n",
    "\n",
    "- Además de obtener objetos y listas se puede sustituir o romper una string a partir de un patrón\n",
    "- Se pueden usar las funciones de python, por ejemplo `re.sub()` por `replace()`, o `re.split()` por `split()`"
   ]
  },
  {
   "cell_type": "markdown",
   "metadata": {},
   "source": [
    "### Más recursos\n",
    "\n",
    "**[pratica con regex101](https://regex101.com/)**\n",
    "\n",
    "[Documentación](https://docs.python.org/3/howto/regex.html)\n",
    "\n",
    "[CHEATSHEET](https://medium.com/factory-mind/regex-tutorial-a-simple-cheatsheet-by-examples-649dc1c3f285)\n",
    "\n",
    "[Tutorial datacamp](https://www.datacamp.com/community/tutorials/python-regular-expression-tutorial)\n",
    "\n",
    "https://www.dataquest.io/blog/regular-expressions-data-scientists/\n",
    "\n",
    "https://www.kaggle.com/rtatman/fraudulent-email-corpus"
   ]
  }
 ],
 "metadata": {
  "kernelspec": {
   "display_name": "clase",
   "language": "python",
   "name": "clase"
  },
  "language_info": {
   "codemirror_mode": {
    "name": "ipython",
    "version": 3
   },
   "file_extension": ".py",
   "mimetype": "text/x-python",
   "name": "python",
   "nbconvert_exporter": "python",
   "pygments_lexer": "ipython3",
   "version": "3.9.12"
  }
 },
 "nbformat": 4,
 "nbformat_minor": 4
}
