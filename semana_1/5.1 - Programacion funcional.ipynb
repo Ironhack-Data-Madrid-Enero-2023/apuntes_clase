{
 "cells": [
  {
   "cell_type": "markdown",
   "metadata": {},
   "source": [
    "# 5.1 - Programación funcional"
   ]
  },
  {
   "cell_type": "markdown",
   "metadata": {},
   "source": [
    "### Filosofía de la programación funcional\n",
    "\n",
    "- Abstracción: una función podría funcionar como una caja negra, donde nosotros no comprendemos su funcionamiento interno, pero somos capaces de usarla y trabajar con su resultado.\n",
    "\n",
    "- Modularización: las funciones tienen un objetivo específico, realizan una acción, para luego poder construir un proceso completo con varias funciones, varios pasos dentro del mismo. \n",
    "\n",
    "- Reusabilidad: las funciones pueden ser utilizadas cuantas veces sea necesario, son módulos independientes.\n",
    "\n",
    "\n",
    "En la programación funcional se hace la distinción entre datos y comportamiento, esto quiere decir que los programas tienen dos partes separadas, las acciones y los datos, funciones que se ejecutan con o sobre los datos. Esto hace que los datos sean inmutables en la programación funcional, a no ser que sean sobreescrito a propósito."
   ]
  },
  {
   "cell_type": "code",
   "execution_count": 1,
   "metadata": {},
   "outputs": [],
   "source": [
    "data=[122.56, 543.90, 654.54, 678.56]"
   ]
  },
  {
   "cell_type": "code",
   "execution_count": 2,
   "metadata": {},
   "outputs": [],
   "source": [
    "def sumar(a, b):\n",
    "    return a+b"
   ]
  },
  {
   "cell_type": "code",
   "execution_count": 3,
   "metadata": {},
   "outputs": [],
   "source": [
    "def restar(a, b):\n",
    "    return a-b"
   ]
  },
  {
   "cell_type": "code",
   "execution_count": 4,
   "metadata": {},
   "outputs": [],
   "source": [
    "def multi(a, b):\n",
    "    return a*b"
   ]
  },
  {
   "cell_type": "code",
   "execution_count": 5,
   "metadata": {},
   "outputs": [],
   "source": [
    "def divi(a, b):\n",
    "    return a/b"
   ]
  },
  {
   "cell_type": "code",
   "execution_count": 6,
   "metadata": {},
   "outputs": [],
   "source": [
    "def factura(precio):    # constrtuir una factura\n",
    "    \n",
    "    precio=sumar(precio, 1.2)  # gastos fijos\n",
    "    \n",
    "    precio=divi(precio, 3)  # 2 socios y yo\n",
    "    \n",
    "    tax=multi(precio, 0.21)  # IVA\n",
    "    \n",
    "    ret=multi(precio, 0.18)    # IRPF\n",
    "    \n",
    "    precio=sumar(precio, tax)\n",
    "    \n",
    "    precio=sumar(precio, ret)\n",
    "    \n",
    "    return {'precio': precio, 'tax': tax, 'ret': ret}"
   ]
  },
  {
   "cell_type": "code",
   "execution_count": 7,
   "metadata": {},
   "outputs": [
    {
     "name": "stdout",
     "output_type": "stream",
     "text": [
      "{'precio': 57.34213333333334, 'tax': 8.6632, 'ret': 7.4256}\n",
      "{'precio': 252.56300000000005, 'tax': 38.157000000000004, 'ret': 32.706}\n",
      "{'precio': 303.82620000000003, 'tax': 45.9018, 'ret': 39.3444}\n",
      "{'precio': 314.95546666666667, 'tax': 47.5832, 'ret': 40.7856}\n"
     ]
    }
   ],
   "source": [
    "for e in data:\n",
    "    print(factura(e))"
   ]
  },
  {
   "cell_type": "code",
   "execution_count": 8,
   "metadata": {},
   "outputs": [
    {
     "data": {
      "text/plain": [
       "[122.56, 543.9, 654.54, 678.56]"
      ]
     },
     "execution_count": 8,
     "metadata": {},
     "output_type": "execute_result"
    }
   ],
   "source": [
    "data"
   ]
  },
  {
   "cell_type": "markdown",
   "metadata": {},
   "source": [
    "### Recursión \n",
    "- Cuando una función se llama a si misma\n",
    "- Permite continuar un bucle hasta que complete cierto proceso\n",
    "- **Cuidado** con la recursión infinita"
   ]
  },
  {
   "cell_type": "markdown",
   "metadata": {},
   "source": [
    "##### Función de Ackermann\n",
    "\n",
    "Debido a su definición, profundamente recursiva, la función de Ackermann se utiliza con frecuencia para comparar compiladores en cuanto a su habilidad para optimizar la recursión. [ver wikipedia](https://es.wikipedia.org/wiki/Funci%C3%B3n_de_Ackermann)\n",
    "\n",
    "\n",
    "$$\n",
    "   \\begin{equation}\n",
    "     \\label{eq:ackermann}\n",
    "     A(m,n) = \\left\\{\n",
    "\t       \\begin{array}{}\n",
    "\t\t n + 1   & \\mathrm{si\\ } m = 0 \\\\\n",
    "\t\t A(m-1,1)  & \\mathrm{si\\ } m \\gt 0 ; n = 0 \\\\\n",
    "\t\t A(m-1,A(m,n-1))  & \\mathrm{si\\ }  m \\gt 0 ; n \\gt 0\n",
    "\t       \\end{array}\n",
    "\t     \\right.\n",
    "   \\end{equation}$$"
   ]
  },
  {
   "cell_type": "code",
   "execution_count": 9,
   "metadata": {},
   "outputs": [],
   "source": [
    "def ackermann(m, n):\n",
    "    \n",
    "    if m==0:\n",
    "        return n+1\n",
    "    \n",
    "    elif m>0 and n==0:\n",
    "        return ackermann(m-1, 1)\n",
    "    \n",
    "    elif m>0 and n>0:\n",
    "        return ackermann(m-1, ackermann(m, n-1))"
   ]
  },
  {
   "cell_type": "code",
   "execution_count": 10,
   "metadata": {},
   "outputs": [
    {
     "data": {
      "text/plain": [
       "6"
      ]
     },
     "execution_count": 10,
     "metadata": {},
     "output_type": "execute_result"
    }
   ],
   "source": [
    "ackermann(0, 5)"
   ]
  },
  {
   "cell_type": "code",
   "execution_count": 11,
   "metadata": {},
   "outputs": [
    {
     "data": {
      "text/plain": [
       "(2, 2)"
      ]
     },
     "execution_count": 11,
     "metadata": {},
     "output_type": "execute_result"
    }
   ],
   "source": [
    "ackermann(1, 0), ackermann(0, 1)"
   ]
  },
  {
   "cell_type": "code",
   "execution_count": 12,
   "metadata": {},
   "outputs": [
    {
     "data": {
      "text/plain": [
       "3"
      ]
     },
     "execution_count": 12,
     "metadata": {},
     "output_type": "execute_result"
    }
   ],
   "source": [
    "ackermann(1, 1)"
   ]
  },
  {
   "cell_type": "markdown",
   "metadata": {},
   "source": [
    "### Decoradores\n",
    "\n",
    "Los decoradores pueden definirse como patrones de diseño funcional. Permiten a una función tomar otra función como argumento para devolver una tercera función. De esta manera se obtienen funciones dinámicas sin tener que cambiar constantemente su código.\n",
    "\n",
    "Un decorador es como un envoltorio con el cual envolvemos una función.\n"
   ]
  },
  {
   "cell_type": "code",
   "execution_count": 13,
   "metadata": {},
   "outputs": [],
   "source": [
    "def debug(fn):\n",
    "    \n",
    "    def wrap(*args, **kwargs):\n",
    "        \n",
    "        print('Args: ----', args)\n",
    "        print('Kwargs: ----', kwargs)\n",
    "        print('Return: ----', fn(*args, **kwargs))\n",
    "        \n",
    "        return fn(*args, **kwargs)\n",
    "    \n",
    "    return wrap"
   ]
  },
  {
   "cell_type": "code",
   "execution_count": 14,
   "metadata": {},
   "outputs": [
    {
     "name": "stdout",
     "output_type": "stream",
     "text": [
      "Args: ---- (3, 5)\n",
      "Kwargs: ---- {}\n",
      "Return: ---- 8\n"
     ]
    },
    {
     "data": {
      "text/plain": [
       "8"
      ]
     },
     "execution_count": 14,
     "metadata": {},
     "output_type": "execute_result"
    }
   ],
   "source": [
    "@debug      # decorador\n",
    "def sumar(a, b):\n",
    "    return a+b\n",
    "\n",
    "\n",
    "sumar(3, 5)"
   ]
  },
  {
   "cell_type": "code",
   "execution_count": 15,
   "metadata": {},
   "outputs": [
    {
     "name": "stdout",
     "output_type": "stream",
     "text": [
      "Args: ---- (9, 4)\n",
      "Kwargs: ---- {'c': 90, 'd': False}\n",
      "90 False\n",
      "Return: ---- 36\n",
      "90 False\n"
     ]
    },
    {
     "data": {
      "text/plain": [
       "36"
      ]
     },
     "execution_count": 15,
     "metadata": {},
     "output_type": "execute_result"
    }
   ],
   "source": [
    "@debug\n",
    "def multi(a, b, c=0, d=True):\n",
    "    print(c, d)\n",
    "    return a*b\n",
    "\n",
    "multi(9, 4, **{'c': 90, 'd': False})"
   ]
  },
  {
   "cell_type": "code",
   "execution_count": 16,
   "metadata": {},
   "outputs": [
    {
     "name": "stdout",
     "output_type": "stream",
     "text": [
      "Args: ---- (9, 5)\n",
      "Kwargs: ---- {}\n",
      "Return: ---- 14\n"
     ]
    },
    {
     "data": {
      "text/plain": [
       "14"
      ]
     },
     "execution_count": 16,
     "metadata": {},
     "output_type": "execute_result"
    }
   ],
   "source": [
    "sumar(9, 5)"
   ]
  },
  {
   "cell_type": "code",
   "execution_count": 17,
   "metadata": {},
   "outputs": [
    {
     "name": "stdout",
     "output_type": "stream",
     "text": [
      "Args: ---- (3, 4)\n",
      "Kwargs: ---- {}\n",
      "Return: ---- 7\n"
     ]
    },
    {
     "data": {
      "text/plain": [
       "<function __main__.debug.<locals>.wrap(*args, **kwargs)>"
      ]
     },
     "execution_count": 17,
     "metadata": {},
     "output_type": "execute_result"
    }
   ],
   "source": [
    "debug(sumar(3, 4))"
   ]
  },
  {
   "cell_type": "markdown",
   "metadata": {},
   "source": [
    "### Scripting (code pipeline)\n",
    "\n",
    "Se trabaja con archivos externos al actual, realizando importanciones sobre nuestro código."
   ]
  },
  {
   "cell_type": "code",
   "execution_count": 18,
   "metadata": {},
   "outputs": [],
   "source": [
    "from funciones import restar"
   ]
  },
  {
   "cell_type": "code",
   "execution_count": 19,
   "metadata": {},
   "outputs": [
    {
     "name": "stdout",
     "output_type": "stream",
     "text": [
      "Help on function restar in module funciones:\n",
      "\n",
      "restar(a, b)\n",
      "    Hola, estoy en el archivo de python\n",
      "\n"
     ]
    }
   ],
   "source": [
    "help(restar)"
   ]
  },
  {
   "cell_type": "code",
   "execution_count": 20,
   "metadata": {},
   "outputs": [],
   "source": [
    "from src.funciones import sumar"
   ]
  },
  {
   "cell_type": "code",
   "execution_count": 21,
   "metadata": {},
   "outputs": [
    {
     "name": "stdout",
     "output_type": "stream",
     "text": [
      "Help on function sumar in module src.funciones:\n",
      "\n",
      "sumar(a, b)\n",
      "    Funcion para sumar\n",
      "\n"
     ]
    }
   ],
   "source": [
    "help(sumar)"
   ]
  },
  {
   "cell_type": "code",
   "execution_count": 22,
   "metadata": {},
   "outputs": [],
   "source": [
    "import src.funciones as func"
   ]
  },
  {
   "cell_type": "code",
   "execution_count": 23,
   "metadata": {},
   "outputs": [
    {
     "name": "stdout",
     "output_type": "stream",
     "text": [
      "Help on module src.funciones in src:\n",
      "\n",
      "NAME\n",
      "    src.funciones\n",
      "\n",
      "FUNCTIONS\n",
      "    dividir(a, b)\n",
      "    \n",
      "    multiplicar(a, b)\n",
      "    \n",
      "    restar(a, b)\n",
      "    \n",
      "    sumar(a, b)\n",
      "        Funcion para sumar\n",
      "\n",
      "FILE\n",
      "    /Users/iudh/apuntes_clase/semana_1/src/funciones.py\n",
      "\n",
      "\n"
     ]
    }
   ],
   "source": [
    "help(func)"
   ]
  },
  {
   "cell_type": "code",
   "execution_count": 24,
   "metadata": {},
   "outputs": [
    {
     "data": {
      "text/plain": [
       "72"
      ]
     },
     "execution_count": 24,
     "metadata": {},
     "output_type": "execute_result"
    }
   ],
   "source": [
    "func.multiplicar(8, 9)"
   ]
  },
  {
   "cell_type": "code",
   "execution_count": 25,
   "metadata": {},
   "outputs": [
    {
     "data": {
      "text/plain": [
       "4"
      ]
     },
     "execution_count": 25,
     "metadata": {},
     "output_type": "execute_result"
    }
   ],
   "source": [
    "func.restar(8, 4)"
   ]
  },
  {
   "cell_type": "code",
   "execution_count": 26,
   "metadata": {},
   "outputs": [],
   "source": [
    "from src.funciones import *"
   ]
  },
  {
   "cell_type": "code",
   "execution_count": 27,
   "metadata": {},
   "outputs": [
    {
     "data": {
      "text/plain": [
       "<function src.funciones.sumar(a, b)>"
      ]
     },
     "execution_count": 27,
     "metadata": {},
     "output_type": "execute_result"
    }
   ],
   "source": [
    "sumar"
   ]
  },
  {
   "cell_type": "code",
   "execution_count": 28,
   "metadata": {},
   "outputs": [
    {
     "data": {
      "text/plain": [
       "<function src.funciones.restar(a, b)>"
      ]
     },
     "execution_count": 28,
     "metadata": {},
     "output_type": "execute_result"
    }
   ],
   "source": [
    "restar"
   ]
  },
  {
   "cell_type": "code",
   "execution_count": 29,
   "metadata": {},
   "outputs": [
    {
     "data": {
      "text/plain": [
       "<function src.funciones.multiplicar(a, b)>"
      ]
     },
     "execution_count": 29,
     "metadata": {},
     "output_type": "execute_result"
    }
   ],
   "source": [
    "multiplicar"
   ]
  },
  {
   "cell_type": "code",
   "execution_count": 30,
   "metadata": {},
   "outputs": [
    {
     "data": {
      "text/plain": [
       "<function src.funciones.dividir(a, b)>"
      ]
     },
     "execution_count": 30,
     "metadata": {},
     "output_type": "execute_result"
    }
   ],
   "source": [
    "dividir"
   ]
  },
  {
   "cell_type": "code",
   "execution_count": 31,
   "metadata": {},
   "outputs": [
    {
     "name": "stdout",
     "output_type": "stream",
     "text": [
      "Requirement already satisfied: import_ipynb in /opt/homebrew/Caskroom/miniconda/base/envs/clase/lib/python3.9/site-packages (0.1.4)\n",
      "Requirement already satisfied: nbformat in /opt/homebrew/Caskroom/miniconda/base/envs/clase/lib/python3.9/site-packages (from import_ipynb) (5.7.1)\n",
      "Requirement already satisfied: IPython in /opt/homebrew/Caskroom/miniconda/base/envs/clase/lib/python3.9/site-packages (from import_ipynb) (8.7.0)\n",
      "Requirement already satisfied: stack-data in /opt/homebrew/Caskroom/miniconda/base/envs/clase/lib/python3.9/site-packages (from IPython->import_ipynb) (0.6.2)\n",
      "Requirement already satisfied: decorator in /opt/homebrew/Caskroom/miniconda/base/envs/clase/lib/python3.9/site-packages (from IPython->import_ipynb) (5.1.1)\n",
      "Requirement already satisfied: backcall in /opt/homebrew/Caskroom/miniconda/base/envs/clase/lib/python3.9/site-packages (from IPython->import_ipynb) (0.2.0)\n",
      "Requirement already satisfied: pickleshare in /opt/homebrew/Caskroom/miniconda/base/envs/clase/lib/python3.9/site-packages (from IPython->import_ipynb) (0.7.5)\n",
      "Requirement already satisfied: traitlets>=5 in /opt/homebrew/Caskroom/miniconda/base/envs/clase/lib/python3.9/site-packages (from IPython->import_ipynb) (5.8.0)\n",
      "Requirement already satisfied: pygments>=2.4.0 in /opt/homebrew/Caskroom/miniconda/base/envs/clase/lib/python3.9/site-packages (from IPython->import_ipynb) (2.13.0)\n",
      "Requirement already satisfied: matplotlib-inline in /opt/homebrew/Caskroom/miniconda/base/envs/clase/lib/python3.9/site-packages (from IPython->import_ipynb) (0.1.6)\n",
      "Requirement already satisfied: appnope in /opt/homebrew/Caskroom/miniconda/base/envs/clase/lib/python3.9/site-packages (from IPython->import_ipynb) (0.1.3)\n",
      "Requirement already satisfied: pexpect>4.3 in /opt/homebrew/Caskroom/miniconda/base/envs/clase/lib/python3.9/site-packages (from IPython->import_ipynb) (4.8.0)\n",
      "Requirement already satisfied: jedi>=0.16 in /opt/homebrew/Caskroom/miniconda/base/envs/clase/lib/python3.9/site-packages (from IPython->import_ipynb) (0.18.2)\n",
      "Requirement already satisfied: prompt-toolkit<3.1.0,>=3.0.11 in /opt/homebrew/Caskroom/miniconda/base/envs/clase/lib/python3.9/site-packages (from IPython->import_ipynb) (3.0.36)\n",
      "Requirement already satisfied: jsonschema>=2.6 in /opt/homebrew/Caskroom/miniconda/base/envs/clase/lib/python3.9/site-packages (from nbformat->import_ipynb) (4.17.3)\n",
      "Requirement already satisfied: jupyter-core in /opt/homebrew/Caskroom/miniconda/base/envs/clase/lib/python3.9/site-packages (from nbformat->import_ipynb) (5.1.1)\n",
      "Requirement already satisfied: fastjsonschema in /opt/homebrew/Caskroom/miniconda/base/envs/clase/lib/python3.9/site-packages (from nbformat->import_ipynb) (2.16.2)\n",
      "Requirement already satisfied: parso<0.9.0,>=0.8.0 in /opt/homebrew/Caskroom/miniconda/base/envs/clase/lib/python3.9/site-packages (from jedi>=0.16->IPython->import_ipynb) (0.8.3)\n",
      "Requirement already satisfied: pyrsistent!=0.17.0,!=0.17.1,!=0.17.2,>=0.14.0 in /opt/homebrew/Caskroom/miniconda/base/envs/clase/lib/python3.9/site-packages (from jsonschema>=2.6->nbformat->import_ipynb) (0.19.3)\n",
      "Requirement already satisfied: attrs>=17.4.0 in /opt/homebrew/Caskroom/miniconda/base/envs/clase/lib/python3.9/site-packages (from jsonschema>=2.6->nbformat->import_ipynb) (22.2.0)\n",
      "Requirement already satisfied: ptyprocess>=0.5 in /opt/homebrew/Caskroom/miniconda/base/envs/clase/lib/python3.9/site-packages (from pexpect>4.3->IPython->import_ipynb) (0.7.0)\n",
      "Requirement already satisfied: wcwidth in /opt/homebrew/Caskroom/miniconda/base/envs/clase/lib/python3.9/site-packages (from prompt-toolkit<3.1.0,>=3.0.11->IPython->import_ipynb) (0.2.5)\n",
      "Requirement already satisfied: platformdirs>=2.5 in /opt/homebrew/Caskroom/miniconda/base/envs/clase/lib/python3.9/site-packages (from jupyter-core->nbformat->import_ipynb) (2.6.2)\n",
      "Requirement already satisfied: pure-eval in /opt/homebrew/Caskroom/miniconda/base/envs/clase/lib/python3.9/site-packages (from stack-data->IPython->import_ipynb) (0.2.2)\n",
      "Requirement already satisfied: asttokens>=2.1.0 in /opt/homebrew/Caskroom/miniconda/base/envs/clase/lib/python3.9/site-packages (from stack-data->IPython->import_ipynb) (2.2.1)\n",
      "Requirement already satisfied: executing>=1.2.0 in /opt/homebrew/Caskroom/miniconda/base/envs/clase/lib/python3.9/site-packages (from stack-data->IPython->import_ipynb) (1.2.0)\n",
      "Requirement already satisfied: six in /opt/homebrew/Caskroom/miniconda/base/envs/clase/lib/python3.9/site-packages (from asttokens>=2.1.0->stack-data->IPython->import_ipynb) (1.16.0)\n",
      "\u001b[33mWARNING: Error parsing requirements for pyarrow: [Errno 21] Is a directory: '/opt/homebrew/Caskroom/miniconda/base/envs/clase/lib/python3.9/site-packages/pyarrow-10.0.1.dist-info/METADATA'\u001b[0m\u001b[33m\n",
      "\u001b[0mNote: you may need to restart the kernel to use updated packages.\n"
     ]
    }
   ],
   "source": [
    "%pip install import_ipynb"
   ]
  },
  {
   "cell_type": "code",
   "execution_count": 32,
   "metadata": {},
   "outputs": [],
   "source": [
    "import import_ipynb"
   ]
  },
  {
   "cell_type": "code",
   "execution_count": 33,
   "metadata": {},
   "outputs": [
    {
     "name": "stdout",
     "output_type": "stream",
     "text": [
      "importing Jupyter notebook from /Users/iudh/apuntes_clase/semana_1/src/funciones_jup.ipynb\n"
     ]
    }
   ],
   "source": [
    "from src.funciones_jup import *"
   ]
  },
  {
   "cell_type": "code",
   "execution_count": 34,
   "metadata": {},
   "outputs": [
    {
     "data": {
      "text/plain": [
       "45"
      ]
     },
     "execution_count": 34,
     "metadata": {},
     "output_type": "execute_result"
    }
   ],
   "source": [
    "VAR"
   ]
  },
  {
   "cell_type": "code",
   "execution_count": 35,
   "metadata": {},
   "outputs": [
    {
     "data": {
      "text/plain": [
       "4309626544"
      ]
     },
     "execution_count": 35,
     "metadata": {},
     "output_type": "execute_result"
    }
   ],
   "source": [
    "id(VAR)"
   ]
  },
  {
   "cell_type": "code",
   "execution_count": 37,
   "metadata": {},
   "outputs": [],
   "source": [
    "VAR=50"
   ]
  },
  {
   "cell_type": "code",
   "execution_count": 38,
   "metadata": {},
   "outputs": [
    {
     "data": {
      "text/plain": [
       "50"
      ]
     },
     "execution_count": 38,
     "metadata": {},
     "output_type": "execute_result"
    }
   ],
   "source": [
    "VAR"
   ]
  },
  {
   "cell_type": "code",
   "execution_count": 39,
   "metadata": {},
   "outputs": [],
   "source": [
    "from src.funciones_jup import VAR as v"
   ]
  },
  {
   "cell_type": "code",
   "execution_count": 40,
   "metadata": {},
   "outputs": [
    {
     "data": {
      "text/plain": [
       "45"
      ]
     },
     "execution_count": 40,
     "metadata": {},
     "output_type": "execute_result"
    }
   ],
   "source": [
    "v"
   ]
  },
  {
   "cell_type": "code",
   "execution_count": 41,
   "metadata": {},
   "outputs": [
    {
     "data": {
      "text/plain": [
       "50"
      ]
     },
     "execution_count": 41,
     "metadata": {},
     "output_type": "execute_result"
    }
   ],
   "source": [
    "VAR"
   ]
  },
  {
   "cell_type": "code",
   "execution_count": 44,
   "metadata": {},
   "outputs": [],
   "source": [
    "def hola():\n",
    "    \n",
    "    return adios()"
   ]
  },
  {
   "cell_type": "code",
   "execution_count": 45,
   "metadata": {},
   "outputs": [],
   "source": [
    "def adios():\n",
    "    print('hola')\n",
    "    return 0"
   ]
  },
  {
   "cell_type": "code",
   "execution_count": 46,
   "metadata": {},
   "outputs": [
    {
     "name": "stdout",
     "output_type": "stream",
     "text": [
      "hola\n"
     ]
    },
    {
     "data": {
      "text/plain": [
       "0"
      ]
     },
     "execution_count": 46,
     "metadata": {},
     "output_type": "execute_result"
    }
   ],
   "source": [
    "hola()"
   ]
  },
  {
   "cell_type": "code",
   "execution_count": null,
   "metadata": {},
   "outputs": [],
   "source": []
  }
 ],
 "metadata": {
  "kernelspec": {
   "display_name": "clase",
   "language": "python",
   "name": "clase"
  },
  "language_info": {
   "codemirror_mode": {
    "name": "ipython",
    "version": 3
   },
   "file_extension": ".py",
   "mimetype": "text/x-python",
   "name": "python",
   "nbconvert_exporter": "python",
   "pygments_lexer": "ipython3",
   "version": "3.9.12"
  }
 },
 "nbformat": 4,
 "nbformat_minor": 4
}
